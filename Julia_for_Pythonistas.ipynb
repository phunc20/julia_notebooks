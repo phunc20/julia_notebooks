{
 "cells": [
  {
   "cell_type": "markdown",
   "metadata": {
    "colab_type": "text",
    "id": "tQ1r1bbb0yBv"
   },
   "source": [
    "# <img src=\"https://github.com/JuliaLang/julia-logo-graphics/raw/master/images/julia-logo-color.png\" height=\"100\" /> _for Pythonistas_\n",
    "\n",
    "> TL;DR: _Julia looks and feels a lot like Python, only much faster. It's dynamic, expressive, extensible, with batteries included, in particular for Data Science_.\n",
    "\n",
    "This notebook is an **introduction to Julia for Python programmers**.\n",
    "\n",
    "It will go through the most important Python features (such as functions, basic types, list comprehensions, exceptions, generators, modules, packages, and so on) and show you how to code them in Julia."
   ]
  },
  {
   "cell_type": "markdown",
   "metadata": {
    "colab_type": "text",
    "id": "f_1dr-2W5iSU"
   },
   "source": [
    "# Getting Started with Julia in Colab/Jupyter\n",
    "You can either run this notebook in Google Colab, or using Jupyter on your own machine."
   ]
  },
  {
   "cell_type": "markdown",
   "metadata": {
    "colab_type": "text",
    "id": "6ew60wXrZM0W"
   },
   "source": [
    "## Running on Google Colab\n",
    "1. Work on a copy of this notebook: _File_ > _Save a copy in Drive_ (you will need a Google account). Alternatively, you can download the notebook using _File_ > _Download .ipynb_, then upload it to [Colab](https://colab.research.google.com/).\n",
    "2. Execute the following cell (click on it and press Ctrl+Enter) to install Julia, IJulia (the Jupyter kernel for Julia) and other packages. You can update `JULIA_VERSION` and the other parameters, if you know what you're doing. Installation takes 2-3 minutes.\n",
    "3. Reload this page (press Ctrl+R, or ⌘+R, or the F5 key) and continue to the _Checking the Installation_ section.\n",
    "\n",
    "* _Note_: If your Colab Runtime gets reset (e.g., due to inactivity), repeat steps 2 and 3."
   ]
  },
  {
   "cell_type": "code",
   "execution_count": 2,
   "metadata": {},
   "outputs": [
    {
     "data": {
      "text/latex": [
       "Unrecognized magic \\texttt{\\%\\%shell}.\n",
       "\n",
       "Julia does not use the IPython \\texttt{\\%magic} syntax.   To interact with the IJulia kernel, use \\texttt{IJulia.somefunction(...)}, for example.  Julia macros, string macros, and functions can be used to accomplish most of the other functionalities of IPython magics.\n",
       "\n"
      ],
      "text/markdown": [
       "Unrecognized magic `%%shell`.\n",
       "\n",
       "Julia does not use the IPython `%magic` syntax.   To interact with the IJulia kernel, use `IJulia.somefunction(...)`, for example.  Julia macros, string macros, and functions can be used to accomplish most of the other functionalities of IPython magics.\n"
      ],
      "text/plain": [
       "  Unrecognized magic \u001b[36m%%shell\u001b[39m.\n",
       "\n",
       "  Julia does not use the IPython \u001b[36m%magic\u001b[39m syntax. To interact with the IJulia\n",
       "  kernel, use \u001b[36mIJulia.somefunction(...)\u001b[39m, for example. Julia macros, string\n",
       "  macros, and functions can be used to accomplish most of the other\n",
       "  functionalities of IPython magics."
      ]
     },
     "metadata": {},
     "output_type": "display_data"
    }
   ],
   "source": [
    "%%shell?"
   ]
  },
  {
   "cell_type": "markdown",
   "metadata": {},
   "source": [
    "**(?1)** Read and understand the following shell script.\n",
    "\n",
    "01. `%%shell`\n",
    "02. `set -e`"
   ]
  },
  {
   "cell_type": "raw",
   "metadata": {
    "colab": {
     "base_uri": "https://localhost:8080/",
     "height": 1000
    },
    "colab_type": "code",
    "id": "GIeFXS0F0zww",
    "outputId": "2a989c55-97da-41bc-ec61-d5663ca88c88"
   },
   "source": [
    "%%shell\n",
    "set -e\n",
    "\n",
    "#---------------------------------------------------#\n",
    "JULIA_VERSION=\"1.4.2\" # any version ≥ 0.7.0\n",
    "JULIA_PACKAGES=\"IJulia BenchmarkTools PyCall PyPlot\"\n",
    "JULIA_PACKAGES_IF_GPU=\"CUDA\"\n",
    "JULIA_NUM_THREADS=4\n",
    "#---------------------------------------------------#\n",
    "\n",
    "if [ -n \"$COLAB_GPU\" ] && [ -z `which julia` ]; then\n",
    "  # Install Julia\n",
    "  JULIA_VER=`cut -d '.' -f -2 <<< \"$JULIA_VERSION\"`\n",
    "  echo \"Installing Julia $JULIA_VERSION on the current Colab Runtime...\"\n",
    "  BASE_URL=\"https://julialang-s3.julialang.org/bin/linux/x64\"\n",
    "  URL=\"$BASE_URL/$JULIA_VER/julia-$JULIA_VERSION-linux-x86_64.tar.gz\"\n",
    "  wget -nv $URL -O /tmp/julia.tar.gz # -nv means \"not verbose\"\n",
    "  tar -x -f /tmp/julia.tar.gz -C /usr/local --strip-components 1\n",
    "  rm /tmp/julia.tar.gz\n",
    "\n",
    "  # Install Packages\n",
    "  if [ \"$COLAB_GPU\" = \"1\" ]; then\n",
    "      JULIA_PACKAGES=\"$JULIA_PACKAGES $JULIA_PACKAGES_IF_GPU\"\n",
    "  fi\n",
    "  for PKG in `echo $JULIA_PACKAGES`; do\n",
    "    echo \"Installing Julia package $PKG...\"\n",
    "    julia -e 'using Pkg; pkg\"add '$PKG'; precompile;\"'\n",
    "  done\n",
    "\n",
    "  # Install kernel and rename it to \"julia\"\n",
    "  echo \"Installing IJulia kernel...\"\n",
    "  julia -e 'using IJulia; IJulia.installkernel(\"julia\", env=Dict(\n",
    "      \"JULIA_NUM_THREADS\"=>\"'\"$JULIA_NUM_THREADS\"'\"))'\n",
    "  KERNEL_DIR=`julia -e \"using IJulia; print(IJulia.kerneldir())\"`\n",
    "  KERNEL_NAME=`ls -d \"$KERNEL_DIR\"/julia*`\n",
    "  mv -f $KERNEL_NAME \"$KERNEL_DIR\"/julia  \n",
    "\n",
    "  echo ''\n",
    "  echo \"Successfully installed `julia -v`!\"\n",
    "  echo \"Please reload this page (press Ctrl+R, ⌘+R, or the F5 key) then\"\n",
    "  echo \"jump to the 'Checking the Installation' section.\"\n",
    "fi"
   ]
  },
  {
   "cell_type": "raw",
   "metadata": {},
   "source": [
    "Installing Julia 1.4.2 on the current Colab Runtime...\n",
    "2020-07-02 00:00:58 URL:https://storage.googleapis.com/julialang2/bin/linux/x64/1.4/julia-1.4.2-linux-x86_64.tar.gz [99093958/99093958] -> \"/tmp/julia.tar.gz\" [1]\n",
    "Installing Julia package IJulia...\n",
    "    Cloning default registries into `~/.julia`\n",
    "    Cloning registry from \"https://github.com/JuliaRegistries/General.git\"\n",
    "      Added registry `General` to `~/.julia/registries/General`\n",
    "  Resolving package versions...\n",
    "  Installed VersionParsing ── v1.2.0\n",
    "  Installed MbedTLS_jll ───── v2.16.6+0\n",
    "  Installed SoftGlobalScope ─ v1.0.10\n",
    "  Installed ZeroMQ_jll ────── v4.3.2+4\n",
    "  Installed Parsers ───────── v1.0.6\n",
    "  Installed Conda ─────────── v1.4.1\n",
    "  Installed JSON ──────────── v0.21.0\n",
    "  Installed IJulia ────────── v1.21.2\n",
    "  Installed ZMQ ───────────── v1.2.1\n",
    "  Installed MbedTLS ───────── v1.0.2\n",
    "Downloading artifact: MbedTLS\n",
    "######################################################################## 100.0%\n",
    "Downloading artifact: ZeroMQ\n",
    "######################################################################## 100.0%\n",
    "   Updating `~/.julia/environments/v1.4/Project.toml`\n",
    "  [7073ff75] + IJulia v1.21.2\n",
    "   Updating `~/.julia/environments/v1.4/Manifest.toml`\n",
    "  [8f4d0f93] + Conda v1.4.1\n",
    "  [7073ff75] + IJulia v1.21.2\n",
    "  [682c06a0] + JSON v0.21.0\n",
    "  [739be429] + MbedTLS v1.0.2\n",
    "  [c8ffd9c3] + MbedTLS_jll v2.16.6+0\n",
    "  [69de0a69] + Parsers v1.0.6\n",
    "  [b85f4697] + SoftGlobalScope v1.0.10\n",
    "  [81def892] + VersionParsing v1.2.0\n",
    "  [c2297ded] + ZMQ v1.2.1\n",
    "  [8f1865be] + ZeroMQ_jll v4.3.2+4\n",
    "  [2a0f44e3] + Base64 \n",
    "  [ade2ca70] + Dates \n",
    "  [8ba89e20] + Distributed \n",
    "  [7b1f6079] + FileWatching \n",
    "  [b77e0a4c] + InteractiveUtils \n",
    "  [76f85450] + LibGit2 \n",
    "  [8f399da3] + Libdl \n",
    "  [56ddb016] + Logging \n",
    "  [d6f4376e] + Markdown \n",
    "  [a63ad114] + Mmap \n",
    "  [44cfe95a] + Pkg \n",
    "  [de0858da] + Printf \n",
    "  [3fa0cd96] + REPL \n",
    "  [9a3f8284] + Random \n",
    "  [ea8e919c] + SHA \n",
    "  [9e88b42a] + Serialization \n",
    "  [6462fe0b] + Sockets \n",
    "  [8dfed614] + Test \n",
    "  [cf7118a7] + UUIDs \n",
    "  [4ec0a83e] + Unicode \n",
    "   Building Conda ─→ `~/.julia/packages/Conda/3rPhK/deps/build.log`\n",
    "   Building IJulia → `~/.julia/packages/IJulia/DrVMH/deps/build.log`\n",
    "Precompiling project...\n",
    "Installing Julia package BenchmarkTools...\n",
    "   Updating registry at `~/.julia/registries/General`\n",
    "   Updating git-repo `https://github.com/JuliaRegistries/General.git`\n",
    "  Resolving package versions...\n",
    "  Installed BenchmarkTools ─ v0.5.0\n",
    "   Updating `~/.julia/environments/v1.4/Project.toml`\n",
    "  [6e4b80f9] + BenchmarkTools v0.5.0\n",
    "   Updating `~/.julia/environments/v1.4/Manifest.toml`\n",
    "  [6e4b80f9] + BenchmarkTools v0.5.0\n",
    "  [37e2e46d] + LinearAlgebra \n",
    "  [2f01184e] + SparseArrays \n",
    "  [10745b16] + Statistics \n",
    "Precompiling project...\n",
    "Installing Julia package PyCall...\n",
    "   Updating registry at `~/.julia/registries/General`\n",
    "   Updating git-repo `https://github.com/JuliaRegistries/General.git`\n",
    "  Resolving package versions...\n",
    "  Installed MacroTools ─ v0.5.5\n",
    "  Installed PyCall ───── v1.91.4\n",
    "   Updating `~/.julia/environments/v1.4/Project.toml`\n",
    "  [438e738f] + PyCall v1.91.4\n",
    "   Updating `~/.julia/environments/v1.4/Manifest.toml`\n",
    "  [1914dd2f] + MacroTools v0.5.5\n",
    "  [438e738f] + PyCall v1.91.4\n",
    "   Building PyCall → `~/.julia/packages/PyCall/zqDXB/deps/build.log`\n",
    "Precompiling project...\n",
    "Installing Julia package PyPlot...\n",
    "   Updating registry at `~/.julia/registries/General`\n",
    "   Updating git-repo `https://github.com/JuliaRegistries/General.git`\n",
    "  Resolving package versions...\n",
    "  Installed Reexport ────────── v0.2.0\n",
    "  Installed LaTeXStrings ────── v1.1.0\n",
    "  Installed PyPlot ──────────── v2.9.0\n",
    "  Installed FixedPointNumbers ─ v0.8.1\n",
    "  Installed ColorTypes ──────── v0.10.5\n",
    "  Installed Colors ──────────── v0.12.3\n",
    "   Updating `~/.julia/environments/v1.4/Project.toml`\n",
    "  [d330b81b] + PyPlot v2.9.0\n",
    "   Updating `~/.julia/environments/v1.4/Manifest.toml`\n",
    "  [3da002f7] + ColorTypes v0.10.5\n",
    "  [5ae59095] + Colors v0.12.3\n",
    "  [53c48c17] + FixedPointNumbers v0.8.1\n",
    "  [b964fa9f] + LaTeXStrings v1.1.0\n",
    "  [d330b81b] + PyPlot v2.9.0\n",
    "  [189a3867] + Reexport v0.2.0\n",
    "Precompiling project...\n",
    "Installing Julia package CUDA...\n",
    "   Updating registry at `~/.julia/registries/General`\n",
    "   Updating git-repo `https://github.com/JuliaRegistries/General.git`\n",
    "  Resolving package versions...\n",
    "  Installed NNPACK_jll ───────── v2018.6.22+0\n",
    "  Installed Adapt ────────────── v2.0.2\n",
    "  Installed TimerOutputs ─────── v0.5.6\n",
    "  Installed GPUCompiler ──────── v0.4.1\n",
    "  Installed BinaryProvider ───── v0.5.10\n",
    "  Installed OrderedCollections ─ v1.2.0\n",
    "  Installed DataStructures ───── v0.17.19\n",
    "  Installed CUDA ─────────────── v1.0.2\n",
    "  Installed ExprTools ────────── v0.1.1\n",
    "  Installed Requires ─────────── v1.0.1\n",
    "  Installed CEnum ────────────── v0.4.1\n",
    "  Installed AbstractFFTs ─────── v0.5.0\n",
    "  Installed NNlib ────────────── v0.7.0\n",
    "  Installed GPUArrays ────────── v4.0.0\n",
    "  Installed LLVM ─────────────── v1.7.0\n",
    "Downloading artifact: NNPACK\n",
    "######################################################################## 100.0%\n",
    "   Updating `~/.julia/environments/v1.4/Project.toml`\n",
    "  [052768ef] + CUDA v1.0.2\n",
    "   Updating `~/.julia/environments/v1.4/Manifest.toml`\n",
    "  [621f4979] + AbstractFFTs v0.5.0\n",
    "  [79e6a3ab] + Adapt v2.0.2\n",
    "  [b99e7846] + BinaryProvider v0.5.10\n",
    "  [fa961155] + CEnum v0.4.1\n",
    "  [052768ef] + CUDA v1.0.2\n",
    "  [864edb3b] + DataStructures v0.17.19\n",
    "  [e2ba6199] + ExprTools v0.1.1\n",
    "  [0c68f7d7] + GPUArrays v4.0.0\n",
    "  [61eb1bfa] + GPUCompiler v0.4.1\n",
    "  [929cbde3] + LLVM v1.7.0\n",
    "  [a6bfbf70] + NNPACK_jll v2018.6.22+0\n",
    "  [872c559c] + NNlib v0.7.0\n",
    "  [bac558e1] + OrderedCollections v1.2.0\n",
    "  [ae029012] + Requires v1.0.1\n",
    "  [a759f4b9] + TimerOutputs v0.5.6\n",
    "Precompiling project...\n",
    "Installing IJulia kernel...\n",
    "[ Info: Installing julia kernelspec in /root/.local/share/jupyter/kernels/julia-1.4\n",
    "\n",
    "Successfully installed julia version 1.4.2!\n",
    "Please reload this page (press Ctrl+R, ⌘+R, or the F5 key) then\n",
    "jump to the 'Checking the Installation' section."
   ]
  },
  {
   "cell_type": "markdown",
   "metadata": {
    "colab_type": "text",
    "id": "2ZvetMlVYKXY"
   },
   "source": [
    "## Running This Notebook Locally\n",
    "If you prefer to run this notebook on your machine instead of Google Colab:\n",
    "\n",
    "* Download this notebook (File > Download .ipynb)\n",
    "* Install [Julia](https://julialang.org/downloads/)\n",
    "* Run the following command in a terminal to install `IJulia` (the Jupyter kernel for Julia), and a few packages we will use:\n",
    "```bash\n",
    "julia -e 'using Pkg\n",
    "            pkg\"add IJulia; precompile;\"\n",
    "            pkg\"add BenchmarkTools; precompile;\"\n",
    "            pkg\"add PyCall; precompile;\"\n",
    "            pkg\"add PyPlot; precompile;\"'\n",
    "```\n",
    "\n",
    "* Next, go to the directory containing this notebook:\n",
    "\n",
    "    ```julia\n",
    "cd /path/to/notebook/directory\n",
    "```\n",
    "\n",
    "* Start Jupyter Notebook:\n",
    "\n",
    "    ```bash\n",
    "julia -e 'using IJulia; IJulia.notebook()'\n",
    "```\n",
    "\n",
    "    Or replace `notebook()` with `jupyterlab()` if you prefer JupyterLab.\n",
    "\n",
    "    If you do not already have [Jupyter](https://jupyter.org/install) installed, IJulia will propose to install it. If you agree, it will automatically install a private Miniconda (just for Julia), and install Jupyter and Python inside it.\n",
    "\n",
    "* Lastly, open this notebook and skip directly to the next section."
   ]
  },
  {
   "cell_type": "markdown",
   "metadata": {
    "colab_type": "text",
    "id": "-OS3Ac017T1i"
   },
   "source": [
    "## Checking the Installation\n",
    "The `versioninfo()` function should print your Julia version and some other info about the system (if you ever ask for help or file an issue about Julia, you should always provide this information)."
   ]
  },
  {
   "cell_type": "code",
   "execution_count": 3,
   "metadata": {
    "colab": {
     "base_uri": "https://localhost:8080/",
     "height": 187
    },
    "colab_type": "code",
    "id": "EEzvvzCl1i0F",
    "outputId": "2ee483c8-0392-48c9-fec9-d25fe9ba7e94"
   },
   "outputs": [
    {
     "name": "stdout",
     "output_type": "stream",
     "text": [
      "Julia Version 1.5.2\n",
      "Commit 539f3ce943 (2020-09-23 23:17 UTC)\n",
      "Platform Info:\n",
      "  OS: Linux (x86_64-pc-linux-gnu)\n",
      "  CPU: Intel(R) Core(TM)2 Duo CPU     P8600  @ 2.40GHz\n",
      "  WORD_SIZE: 64\n",
      "  LIBM: libopenlibm\n",
      "  LLVM: libLLVM-9.0.1 (ORCJIT, penryn)\n"
     ]
    }
   ],
   "source": [
    "# my thinkpad X200\n",
    "versioninfo()"
   ]
  },
  {
   "cell_type": "markdown",
   "metadata": {},
   "source": [
    "Output on Aurelien Geron's computer."
   ]
  },
  {
   "cell_type": "raw",
   "metadata": {},
   "source": [
    "Julia Version 1.4.2\n",
    "Commit 44fa15b150* (2020-05-23 18:35 UTC)\n",
    "Platform Info:\n",
    "  OS: Linux (x86_64-pc-linux-gnu)\n",
    "  CPU: Intel(R) Xeon(R) CPU @ 2.20GHz\n",
    "  WORD_SIZE: 64\n",
    "  LIBM: libopenlibm\n",
    "  LLVM: libLLVM-8.0.1 (ORCJIT, broadwell)\n",
    "Environment:\n",
    "  JULIA_NUM_THREADS = 4"
   ]
  },
  {
   "cell_type": "markdown",
   "metadata": {
    "colab_type": "text",
    "id": "GnSoOX6btmkh"
   },
   "source": [
    "# Getting Help\n",
    "To get help on any module, function, variable, or just about anything else, just type `?` followed by what you're interested in. For example:"
   ]
  },
  {
   "cell_type": "code",
   "execution_count": 4,
   "metadata": {
    "colab": {
     "base_uri": "https://localhost:8080/",
     "height": 120
    },
    "colab_type": "code",
    "id": "-4FMkizktjB5",
    "outputId": "f40e8fd9-b3e0-4f85-ce88-ea67cf6ee572"
   },
   "outputs": [
    {
     "name": "stdout",
     "output_type": "stream",
     "text": [
      "search: \u001b[0m\u001b[1mv\u001b[22m\u001b[0m\u001b[1me\u001b[22m\u001b[0m\u001b[1mr\u001b[22m\u001b[0m\u001b[1ms\u001b[22m\u001b[0m\u001b[1mi\u001b[22m\u001b[0m\u001b[1mo\u001b[22m\u001b[0m\u001b[1mn\u001b[22m\u001b[0m\u001b[1mi\u001b[22m\u001b[0m\u001b[1mn\u001b[22m\u001b[0m\u001b[1mf\u001b[22m\u001b[0m\u001b[1mo\u001b[22m\n",
      "\n"
     ]
    },
    {
     "data": {
      "text/latex": [
       "\\begin{verbatim}\n",
       "versioninfo(io::IO=stdout; verbose::Bool=false)\n",
       "\\end{verbatim}\n",
       "Print information about the version of Julia in use. The output is controlled with boolean keyword arguments:\n",
       "\n",
       "\\begin{itemize}\n",
       "\\item \\texttt{verbose}: print all additional information\n",
       "\n",
       "\\end{itemize}\n"
      ],
      "text/markdown": [
       "```\n",
       "versioninfo(io::IO=stdout; verbose::Bool=false)\n",
       "```\n",
       "\n",
       "Print information about the version of Julia in use. The output is controlled with boolean keyword arguments:\n",
       "\n",
       "  * `verbose`: print all additional information\n"
      ],
      "text/plain": [
       "\u001b[36m  versioninfo(io::IO=stdout; verbose::Bool=false)\u001b[39m\n",
       "\n",
       "  Print information about the version of Julia in use. The output is\n",
       "  controlled with boolean keyword arguments:\n",
       "\n",
       "    •    \u001b[36mverbose\u001b[39m: print all additional information"
      ]
     },
     "execution_count": 4,
     "metadata": {},
     "output_type": "execute_result"
    }
   ],
   "source": [
    "?versioninfo"
   ]
  },
  {
   "cell_type": "markdown",
   "metadata": {
    "colab_type": "text",
    "id": "iAZabyzVEKlX"
   },
   "source": [
    "This (i.e. the question mark `?` followed by a keyword) works in interactive mode only: in Jupyter, Colab and in the Julia shell (called the REPL)."
   ]
  },
  {
   "cell_type": "markdown",
   "metadata": {},
   "source": [
    "**(?2)** Try some of the things listed in the table below, especially those with which you are\n",
    "not familiar with."
   ]
  },
  {
   "cell_type": "markdown",
   "metadata": {
    "colab_type": "text",
    "id": "QvXUXo-XUt3h"
   },
   "source": [
    "Here are a few more ways to get help and inspect objects in interactive mode:\n",
    "\n",
    "|Julia|Python\n",
    "|-----|------\n",
    "|`?obj` | `help(obj)`\n",
    "|`dump(obj)` | `print(repr(obj))`\n",
    "|`names(FooModule)` | `dir(foo_module)`\n",
    "|`methodswith(SomeType)` | `dir(SomeType)`\n",
    "|`@which func` | `func.__module__`\n",
    "|`apropos(\"bar\")` | Search for `\"bar\"` in docstrings of all installed packages\n",
    "|`typeof(obj)` | `type(obj)`\n",
    "|`obj isa SomeType`<br />or<br />`isa(obj, SomeType)` | `isinstance(obj, SomeType)`\n",
    "\n",
    "If you ever ask for help or file an issue about Julia, you should generally provide the output of `versioninfo()`.\n",
    "\n",
    "And of course, you can also learn and get help here:\n",
    "\n",
    "* Learning: https://julialang.org/learning/\n",
    "* Documentation: https://docs.julialang.org/\n",
    "* Questions & Discussions:\n",
    "  * https://discourse.julialang.org/\n",
    "  * http://julialang.slack.com/\n",
    "  * https://stackoverflow.com/questions/tagged/julia"
   ]
  },
  {
   "cell_type": "markdown",
   "metadata": {
    "colab_type": "text",
    "id": "TB3UQ7RQZZtP"
   },
   "source": [
    "# A First Look at Julia\n",
    "This section will give you an idea of what Julia looks like and what some of its major qualities are: it's expressive, dynamic, flexible, and most of all, super fast."
   ]
  },
  {
   "cell_type": "markdown",
   "metadata": {
    "colab_type": "text",
    "id": "tBKp4lciICdi"
   },
   "source": [
    "## Estimating π\n",
    "Let's write our first function. It will estimate π using the equation:\n",
    "$π = 4 \\times \\left(1 - \\dfrac{1}{3} + \\dfrac{1}{5} - \\dfrac{1}{7} + \\dfrac{1}{9}-\\dfrac{1}{11}+\\dots\\right)$\n",
    "\n",
    "There are much better ways to estimate π, but this one is easy to implement."
   ]
  },
  {
   "cell_type": "code",
   "execution_count": 3,
   "metadata": {
    "colab": {
     "base_uri": "https://localhost:8080/",
     "height": 51
    },
    "colab_type": "code",
    "id": "EPRfV4_XI2Rk",
    "outputId": "f1a3ceaa-c8f2-4636-d5db-03079bc4d1d9"
   },
   "outputs": [
    {
     "name": "stdout",
     "output_type": "stream",
     "text": [
      "π ≈ 3.141592663589326\n",
      "Error is 9.999532757376528e-9\n"
     ]
    }
   ],
   "source": [
    "function estimate_pi(n)\n",
    "    s = 1.0\n",
    "    for i in 1:n\n",
    "        s += (isodd(i) ? -1 : 1) / (2i + 1)\n",
    "    end\n",
    "    4s\n",
    "end\n",
    "\n",
    "p = estimate_pi(100_000_000)\n",
    "println(\"π ≈ $p\")\n",
    "println(\"Error is $(p - π)\")"
   ]
  },
  {
   "cell_type": "markdown",
   "metadata": {
    "colab_type": "text",
    "id": "5SGZnQB3cug3"
   },
   "source": [
    "**Note**: syntax highlighting for Julia does not work (yet?) on Colab, but it does in Jupyter."
   ]
  },
  {
   "cell_type": "markdown",
   "metadata": {
    "colab_type": "text",
    "id": "iYJZNTLCLdU3"
   },
   "source": [
    "Compare this with the equivalent Python 3 code:"
   ]
  },
  {
   "cell_type": "markdown",
   "metadata": {
    "colab_type": "text",
    "id": "F98h-og4KHHn"
   },
   "source": [
    "```python\n",
    "# PYTHON\n",
    "import math\n",
    "\n",
    "def estimate_pi(n):\n",
    "    s = 1.0\n",
    "    for i in range(1, n + 1):\n",
    "        s += (-1 if i % 2 else 1) / (2 * i + 1)\n",
    "    return 4 * s\n",
    "\n",
    "p = estimate_pi(100_000_000)\n",
    "print(f\"π ≈ {p}\") # f-strings are available in Python 3.6+\n",
    "print(f\"Error is {p - math.pi}\")\n",
    "```"
   ]
  },
  {
   "cell_type": "markdown",
   "metadata": {
    "colab_type": "text",
    "id": "zZl4GRE0LuEc"
   },
   "source": [
    "Pretty similar, right? But notice the small differences:\n",
    "\n",
    "|Julia|Python\n",
    "|-----|------\n",
    "|`function` | `def`\n",
    "|`for i in X`<br />&nbsp;&nbsp;&nbsp;&nbsp;`...`<br />`end` | `for i in X:`<br />&nbsp;&nbsp;&nbsp;&nbsp;`...`\n",
    "|`1:n` | `range(1, n+1)`\n",
    "|`cond ? a : b` | `a if cond else b`\n",
    "|`2i + 1` | `2 * i + 1`\n",
    "|`4s` | `return 4 * s`\n",
    "|`println(a, b)` | `print(a, b, sep=\"\")`\n",
    "|`print(a, b)` | `print(a, b, sep=\"\", end=\"\")`\n",
    "|`\"$p\"` | `f\"{p}\"`\n",
    "|`\"$(p - π)\"` | `f\"{p - math.pi}\"`\n",
    "\n",
    "This example shows that:\n",
    "* Julia can be just as concise and readable as Python.\n",
    "* Indentation in Julia is _not_ meaningful like it is in Python. Instead, blocks end with `end`.\n",
    "* Many math features are built in Julia and need no imports.\n",
    "* There's some mathy syntactic sugar, such as `2i` (but you can write `2 * i` if you prefer).\n",
    "* In Julia, the `return` keyword is optional at the end of a function. The result of the last expression is returned (`4s` in this example).\n",
    "* Julia loves Unicode and does not hesitate to use Unicode characters like `π`. However, there are generally plain-ASCII equivalents (e.g., `π == pi`)."
   ]
  },
  {
   "cell_type": "markdown",
   "metadata": {
    "colab_type": "text",
    "id": "C81648ZjKljL"
   },
   "source": [
    "## Typing Unicode Characters"
   ]
  },
  {
   "cell_type": "markdown",
   "metadata": {
    "colab_type": "text",
    "id": "ceBdy_lFKoFz"
   },
   "source": [
    "Typing Unicode characters is easy: for latex symbols like π, just type `\\pi<tab>`. For emojis like 😃, type `\\:smiley:<tab>`.\n",
    "\n",
    "This works in the REPL, in Jupyter, but unfortunately not in Colab (yet?). As a workaround, you can run the following code to print the character you want, then copy/paste it:"
   ]
  },
  {
   "cell_type": "code",
   "execution_count": 4,
   "metadata": {
    "colab": {
     "base_uri": "https://localhost:8080/",
     "height": 34
    },
    "colab_type": "code",
    "id": "6nvl3qveKHld",
    "outputId": "93d80d65-b0d2-4191-a06e-a029dc2b8f1f"
   },
   "outputs": [
    {
     "data": {
      "text/plain": [
       "\"π\""
      ]
     },
     "execution_count": 4,
     "metadata": {
      "tags": []
     },
     "output_type": "execute_result"
    }
   ],
   "source": [
    "using REPL.REPLCompletions: latex_symbols, emoji_symbols\n",
    "\n",
    "latex_symbols[\"\\\\pi\"]"
   ]
  },
  {
   "cell_type": "code",
   "execution_count": 5,
   "metadata": {
    "colab": {
     "base_uri": "https://localhost:8080/",
     "height": 34
    },
    "colab_type": "code",
    "id": "RUHi_sDKLGL5",
    "outputId": "6232f286-0900-47de-f88b-ecab8600580e"
   },
   "outputs": [
    {
     "data": {
      "text/plain": [
       "\"😃\""
      ]
     },
     "execution_count": 5,
     "metadata": {
      "tags": []
     },
     "output_type": "execute_result"
    }
   ],
   "source": [
    "emoji_symbols[\"\\\\:smiley:\"]"
   ]
  },
  {
   "cell_type": "markdown",
   "metadata": {
    "colab_type": "text",
    "id": "9at61Y3LLJWX"
   },
   "source": [
    "In Julia, `using Foo.Bar: a, b` corresponds to running `from foo.bar import a, b` in Python.\n",
    "\n",
    "|Julia|Python\n",
    "|-----|------\n",
    "|`using Foo` | `from foo import *; import foo`\n",
    "|`using Foo.Bar` | `from foo.bar import *; from foo import bar`\n",
    "|`using Foo.Bar: a, b` | `from foo.bar import a, b`\n",
    "|`using Foo: Bar` | `from foo import bar`\n",
    "\n",
    "More on this later."
   ]
  },
  {
   "cell_type": "markdown",
   "metadata": {
    "colab_type": "text",
    "id": "0CnQq32IaDGD"
   },
   "source": [
    "## Running Python code in Julia\n",
    "Julia lets you easily run Python code using the `PyCall` module. We installed it earlier, so we just need to import it:"
   ]
  },
  {
   "cell_type": "code",
   "execution_count": 6,
   "metadata": {
    "colab": {},
    "colab_type": "code",
    "id": "SHCsfibyaBRk"
   },
   "outputs": [],
   "source": [
    "using PyCall"
   ]
  },
  {
   "cell_type": "markdown",
   "metadata": {
    "colab_type": "text",
    "id": "x7Qk9ht-d8Vo"
   },
   "source": [
    "Now that we have imported `PyCall`, we can use the `pyimport()` function to import a Python module directly in Julia! For example, let's check which Python version we are using:"
   ]
  },
  {
   "cell_type": "code",
   "execution_count": 7,
   "metadata": {
    "colab": {
     "base_uri": "https://localhost:8080/",
     "height": 34
    },
    "colab_type": "code",
    "id": "LlB4nMZVeZmY",
    "outputId": "eb50b3f9-aa5d-445d-a30c-c68939b628b2"
   },
   "outputs": [
    {
     "data": {
      "text/plain": [
       "\"3.6.9 (default, Apr 18 2020, 01:56:04) \\n[GCC 8.4.0]\""
      ]
     },
     "execution_count": 7,
     "metadata": {
      "tags": []
     },
     "output_type": "execute_result"
    }
   ],
   "source": [
    "sys = pyimport(\"sys\")\n",
    "sys.version"
   ]
  },
  {
   "cell_type": "markdown",
   "metadata": {
    "colab_type": "text",
    "id": "YwM2lGhmjIAA"
   },
   "source": [
    "In fact, let's run the Python code we discussed earlier (this will take about 15 seconds to run, because Python is so slow...):"
   ]
  },
  {
   "cell_type": "code",
   "execution_count": 8,
   "metadata": {
    "colab": {},
    "colab_type": "code",
    "id": "MrhaObEaJ_sB"
   },
   "outputs": [],
   "source": [
    "py\"\"\"\n",
    "import math\n",
    " \n",
    "def estimate_pi(n):\n",
    "    s = 1.0\n",
    "    for i in range(1, n + 1):\n",
    "        s += (-1 if i % 2 else 1) / (2 * i + 1)\n",
    "    return 4 * s\n",
    " \n",
    "p = estimate_pi(100_000_000)\n",
    "print(f\"π ≈ {p}\") # f-strings are available in Python 3.6+\n",
    "print(f\"Error is {p - math.pi}\")\n",
    "\"\"\"\n"
   ]
  },
  {
   "cell_type": "markdown",
   "metadata": {
    "colab_type": "text",
    "id": "PHemaGjSja7O"
   },
   "source": [
    "As you can see, running arbitrary Python code is as simple as using py-strings (`py\"...\"`). Note that py-strings are not part of the Julia language itself: they are defined by the `PyCall` module (we will see how this works later).\n",
    "\n",
    "Unfortunately, Python's `print()` function writes to the standard output, which is not captured by Colab, so we can't see the output of this code. That's okay, we can look at the value of `p`:"
   ]
  },
  {
   "cell_type": "code",
   "execution_count": 9,
   "metadata": {
    "colab": {
     "base_uri": "https://localhost:8080/",
     "height": 34
    },
    "colab_type": "code",
    "id": "5z_QlxhJLRJ5",
    "outputId": "46618073-986a-4772-d79f-3a1ed0a5ecdd"
   },
   "outputs": [
    {
     "data": {
      "text/plain": [
       "3.141592663589326"
      ]
     },
     "execution_count": 9,
     "metadata": {
      "tags": []
     },
     "output_type": "execute_result"
    }
   ],
   "source": [
    "py\"p\""
   ]
  },
  {
   "cell_type": "markdown",
   "metadata": {
    "colab_type": "text",
    "id": "jBx7UcHtkMa-"
   },
   "source": [
    "Let's compare this to the value we calculated above using Julia:"
   ]
  },
  {
   "cell_type": "code",
   "execution_count": 10,
   "metadata": {
    "colab": {
     "base_uri": "https://localhost:8080/",
     "height": 34
    },
    "colab_type": "code",
    "id": "sKNlJjjSkIo0",
    "outputId": "ecefa6dd-d4b7-4c18-c620-03c8330bdee9"
   },
   "outputs": [
    {
     "data": {
      "text/plain": [
       "0.0"
      ]
     },
     "execution_count": 10,
     "metadata": {
      "tags": []
     },
     "output_type": "execute_result"
    }
   ],
   "source": [
    "py\"p\" - p"
   ]
  },
  {
   "cell_type": "markdown",
   "metadata": {
    "colab_type": "text",
    "id": "AOzbgPMMksUb"
   },
   "source": [
    "Perfect, they are exactly equal!\n",
    "\n",
    "As you can see, it's very easy to mix Julia and Python code. So if there's a module you really love in Python, you can keep using it as long as you want! For example, let's use NumPy:"
   ]
  },
  {
   "cell_type": "code",
   "execution_count": 11,
   "metadata": {
    "colab": {
     "base_uri": "https://localhost:8080/",
     "height": 68
    },
    "colab_type": "code",
    "id": "uXSDig4XrKyS",
    "outputId": "89bfeda2-0967-4135-f91f-0f7ffef85185"
   },
   "outputs": [
    {
     "data": {
      "text/plain": [
       "2×3 Array{Float64,2}:\n",
       " 0.326131  0.337986  0.475167\n",
       " 0.537621  0.912136  0.792325"
      ]
     },
     "execution_count": 11,
     "metadata": {
      "tags": []
     },
     "output_type": "execute_result"
    }
   ],
   "source": [
    "np = pyimport(\"numpy\")\n",
    "a = np.random.rand(2, 3)"
   ]
  },
  {
   "cell_type": "markdown",
   "metadata": {
    "colab_type": "text",
    "id": "zPMwgIaeyRBh"
   },
   "source": [
    "Notice that `PyCall` automatically converts some Python types to Julia types, including NumPy arrays. That's really quite convenient! Note that Julia supports multi-dimensional arrays (analog to NumPy arrays) out of the box. `Array{Float64, 2}` means that it's a 2-dimensional array of 64-bit floats.\n",
    "\n",
    "`PyCall` also converts Julia arrays to NumPy arrays when needed:"
   ]
  },
  {
   "cell_type": "code",
   "execution_count": 12,
   "metadata": {
    "colab": {
     "base_uri": "https://localhost:8080/",
     "height": 68
    },
    "colab_type": "code",
    "id": "aWAC4wxqrxCb",
    "outputId": "0beae75b-5662-46ab-e6bb-536385cf2673"
   },
   "outputs": [
    {
     "data": {
      "text/plain": [
       "2×3 Array{Float64,2}:\n",
       " 1.3856   1.40212  1.60828\n",
       " 1.71193  2.48963  2.20852"
      ]
     },
     "execution_count": 12,
     "metadata": {
      "tags": []
     },
     "output_type": "execute_result"
    }
   ],
   "source": [
    "exp_a = np.exp(a)"
   ]
  },
  {
   "cell_type": "markdown",
   "metadata": {
    "colab_type": "text",
    "id": "gy8gZ8pp3Z0n"
   },
   "source": [
    "If you want to use some Julia variable in a py-string, for example `exp_a`, you can do so by writing `$exp_a` like this:"
   ]
  },
  {
   "cell_type": "code",
   "execution_count": 13,
   "metadata": {
    "colab": {
     "base_uri": "https://localhost:8080/",
     "height": 68
    },
    "colab_type": "code",
    "id": "dxQ25HpJ3oPA",
    "outputId": "d070c2f6-79e4-4038-d57e-258ae9e4df31"
   },
   "outputs": [
    {
     "data": {
      "text/plain": [
       "2×3 Array{Float64,2}:\n",
       " 0.326131  0.337986  0.475167\n",
       " 0.537621  0.912136  0.792325"
      ]
     },
     "execution_count": 13,
     "metadata": {
      "tags": []
     },
     "output_type": "execute_result"
    }
   ],
   "source": [
    "py\"\"\"\n",
    "import numpy as np\n",
    "\n",
    "result = np.log($exp_a)\n",
    "\"\"\"\n",
    "\n",
    "py\"result\""
   ]
  },
  {
   "cell_type": "markdown",
   "metadata": {
    "colab_type": "text",
    "id": "jtxk8kebxFdM"
   },
   "source": [
    "If you want to keep using Matplotlib, it's best to use the `PyPlot` module (which we installed earlier), rather than trying to use `pyimport(\"matplotlib\")`, as `PyPlot` provides a more straightforward interface with Julia, and it plays nicely with Jupyter and Colab:"
   ]
  },
  {
   "cell_type": "code",
   "execution_count": 14,
   "metadata": {
    "colab": {
     "base_uri": "https://localhost:8080/",
     "height": 452
    },
    "colab_type": "code",
    "id": "gyHkEL7ExPg2",
    "outputId": "287dd216-9def-4d88-c2e0-51feff07cc8c"
   },
   "outputs": [
    {
     "data": {
      "image/png": "[encoded data removed]",
      "text/plain": [
       "Figure(PyObject <Figure size 640x480 with 1 Axes>)"
      ]
     },
     "metadata": {
      "tags": []
     },
     "output_type": "display_data"
    }
   ],
   "source": [
    "using PyPlot\n",
    "\n",
    "x = range(-5π, 5π, length=100)\n",
    "plt.plot(x, sin.(x) ./ x) # we'll discuss this syntax in the next section\n",
    "plt.title(\"sin(x) / x\")\n",
    "plt.grid(\"True\")\n",
    "plt.show()"
   ]
  },
  {
   "cell_type": "markdown",
   "metadata": {
    "colab_type": "text",
    "id": "b42BIiqN6JM_"
   },
   "source": [
    "That said, Julia has its own plotting libraries, such as the `Plots` library, which you may want to check out."
   ]
  },
  {
   "cell_type": "markdown",
   "metadata": {
    "colab_type": "text",
    "id": "FGStdgNK9IG1"
   },
   "source": [
    "As you can see, Julia's `range()` function acts much like NumPy's `linspace()` function, when you use the `length` argument. However, it acts like Python's `range()` function when you use the `step` argument instead (except the upper bound is inclusive). Julia's `range()` function returns an object which behaves just like an array, except it doesn't actually use any RAM for its elements, it just stores the range parameters. If you want to collect all of the elements into an array, use the `collect()` function (similar to Python's `list()` function):"
   ]
  },
  {
   "cell_type": "code",
   "execution_count": 15,
   "metadata": {
    "colab": {
     "base_uri": "https://localhost:8080/",
     "height": 85
    },
    "colab_type": "code",
    "id": "h728H-f9-rC_",
    "outputId": "02824cb3-cc75-4e42-ae50-c9743464e336"
   },
   "outputs": [
    {
     "name": "stdout",
     "output_type": "stream",
     "text": [
      "[10, 30, 50, 70]\n",
      "[10, 30, 50, 70]\n",
      "[10.0, 27.5, 45.0, 62.5, 80.0]\n",
      "[10.0, 27.5, 45.0, 62.5, 80.0]\n"
     ]
    }
   ],
   "source": [
    "println(collect(range(10, 80, step=20)))\n",
    "println(collect(10:20:80)) # 10:20:80 is equivalent to the previous range\n",
    "println(collect(range(10, 80, length=5))) # similar to NumPy's linspace()\n",
    "step = (80-10)/(5-1) # 17.5\n",
    "println(collect(10:step:80)) # equivalent to the previous range"
   ]
  },
  {
   "cell_type": "markdown",
   "metadata": {
    "colab_type": "text",
    "id": "gAU4t9zl72PW"
   },
   "source": [
    "The equivalent Python code is:\n",
    "\n",
    "```python\n",
    "# PYTHON\n",
    "print(list(range(10, 80+1, 20)))\n",
    "# there's no short-hand for range() in Python\n",
    "print(np.linspace(10, 80, 5))\n",
    "step = (80-10)/(5-1) # 17.5\n",
    "print([i*step + 10 for i in range(5)])\n",
    "```"
   ]
  },
  {
   "cell_type": "markdown",
   "metadata": {
    "colab_type": "text",
    "id": "ucA1zMkw-n_U"
   },
   "source": [
    "|Julia|Python\n",
    "|-----|------\n",
    "|`np = pyimport(\"numpy\")` | `import numpy as np`\n",
    "|`using PyPlot` | `from pylab import *`\n",
    "|`1:10` | `range(1, 11)`\n",
    "|`1:2:10`<br />or<br />`range(1, 11, 2)` | `range(1, 11, 2)`\n",
    "|`1.2:0.5:10.3`<br />or<br />`range(1.2, 10.3, step=0.5)` | `np.arange(1.2, 10.3, 0.5)`\n",
    "|`range(1, 10, length=3)` | `np.linspace(1, 10, 3)`\n",
    "|`collect(1:5)`<br />or<br />`[i for i in 1:5]` | `list(range(1, 6))`<br />or<br />`[i for i in range(1, 6)]`\n",
    "\n"
   ]
  },
  {
   "cell_type": "markdown",
   "metadata": {
    "colab_type": "text",
    "id": "1iiE76xA8pwr"
   },
   "source": [
    "## Loop Fusion\n",
    "Did you notice that we wrote `sin.(x) ./ x` (not `sin(x) / x`)? This is equivalent to `[sin(i) / i for i in x]`."
   ]
  },
  {
   "cell_type": "code",
   "execution_count": 16,
   "metadata": {
    "colab": {},
    "colab_type": "code",
    "id": "kjXg63Hmd2ux"
   },
   "outputs": [],
   "source": [
    "a = sin.(x) ./ x\n",
    "b = [sin(i) / i for i in x]\n",
    "@assert a == b"
   ]
  },
  {
   "cell_type": "markdown",
   "metadata": {
    "colab_type": "text",
    "id": "wX26wG02d1KI"
   },
   "source": [
    " This is not just syntactic sugar: it's actually a very powerful Julia feature. Indeed, notice that the array only gets traversed once. Even if we chained more than two dotted operations, the array would still only get traversed once. This is called _loop fusion_.\n",
    "\n",
    "In contrast, when using NumPy arrays, `sin(x) / x` first computes a temporary array containing `sin(x)` and then it computes the final array. Two loops and two arrays instead of one. NumPy is implemented in C, and has been heavily optimized, but if you chain many operations, it still ends up being slower and using more RAM than Julia.\n",
    "\n",
    "However, all the extra dots can sometimes make the code a bit harder to read. To avoid that, you can write `@.` before an expression: every operation will be \"dotted\" automatically, like this:"
   ]
  },
  {
   "cell_type": "code",
   "execution_count": 17,
   "metadata": {
    "colab": {},
    "colab_type": "code",
    "id": "raOw65bd-Qeg"
   },
   "outputs": [],
   "source": [
    "a = @. sin(x) / x\n",
    "b = sin.(x) ./ x\n",
    "@assert a == b"
   ]
  },
  {
   "cell_type": "markdown",
   "metadata": {
    "colab_type": "text",
    "id": "6ys5cFYaogb2"
   },
   "source": [
    "**Note**: Julia's `@assert` statement starts with an `@` sign, just like `@.`, which means that they are macros. In Julia, macros are very powerful metaprogramming tools: a macro is evaluated at parse time, and it can inspect the expression that follows it and then transform it, or even replace it. In practice, you will often _use_ macros, but you will rarely _define_ your own. I'll come back to macros later."
   ]
  },
  {
   "cell_type": "markdown",
   "metadata": {
    "colab_type": "text",
    "id": "MQ1U3aAwk5iD"
   },
   "source": [
    "## Julia is fast!\n",
    "Let's compare the Julia and Python implementations of the `estimate_pi()` function:"
   ]
  },
  {
   "cell_type": "code",
   "execution_count": 18,
   "metadata": {
    "colab": {
     "base_uri": "https://localhost:8080/",
     "height": 34
    },
    "colab_type": "code",
    "id": "pXQbFKYgk9gG",
    "outputId": "b521e868-9777-400c-c4cf-38630d39a6f2"
   },
   "outputs": [
    {
     "name": "stdout",
     "output_type": "stream",
     "text": [
      "  0.140922 seconds\n"
     ]
    }
   ],
   "source": [
    "@time estimate_pi(100_000_000);"
   ]
  },
  {
   "cell_type": "markdown",
   "metadata": {
    "colab_type": "text",
    "id": "2B7Vu5lepqOW"
   },
   "source": [
    "To get a more precise benchmark, it's preferable to use the `BenchmarkTools` module. Just like Python's `timeit` module, it provides tools to benchmark code by running it multiple times. This provides a better estimate of how long each call takes:"
   ]
  },
  {
   "cell_type": "code",
   "execution_count": 19,
   "metadata": {
    "colab": {
     "base_uri": "https://localhost:8080/",
     "height": 204
    },
    "colab_type": "code",
    "id": "xK4b8X_cppNQ",
    "outputId": "4ba10572-5945-4211-b85b-77c28cdc3a09"
   },
   "outputs": [
    {
     "data": {
      "text/plain": [
       "BenchmarkTools.Trial: \n",
       "  memory estimate:  0 bytes\n",
       "  allocs estimate:  0\n",
       "  --------------\n",
       "  minimum time:     133.074 ms (0.00% GC)\n",
       "  median time:      137.283 ms (0.00% GC)\n",
       "  mean time:        137.457 ms (0.00% GC)\n",
       "  maximum time:     145.218 ms (0.00% GC)\n",
       "  --------------\n",
       "  samples:          37\n",
       "  evals/sample:     1"
      ]
     },
     "execution_count": 19,
     "metadata": {
      "tags": []
     },
     "output_type": "execute_result"
    }
   ],
   "source": [
    "using BenchmarkTools\n",
    "\n",
    "@benchmark estimate_pi(100_000_000)"
   ]
  },
  {
   "cell_type": "markdown",
   "metadata": {
    "colab_type": "text",
    "id": "xHsab0EkqObG"
   },
   "source": [
    "If this output is too verbose for you, simply use `@btime` instead:"
   ]
  },
  {
   "cell_type": "code",
   "execution_count": 20,
   "metadata": {
    "colab": {
     "base_uri": "https://localhost:8080/",
     "height": 51
    },
    "colab_type": "code",
    "id": "FqbViO67qN6E",
    "outputId": "73b472ec-78ce-4b46-87e5-a1f6384e86cf"
   },
   "outputs": [
    {
     "name": "stdout",
     "output_type": "stream",
     "text": [
      "  132.646 ms (0 allocations: 0 bytes)\n"
     ]
    },
    {
     "data": {
      "text/plain": [
       "3.141592663589326"
      ]
     },
     "execution_count": 20,
     "metadata": {
      "tags": []
     },
     "output_type": "execute_result"
    }
   ],
   "source": [
    "@btime estimate_pi(100_000_000)"
   ]
  },
  {
   "cell_type": "markdown",
   "metadata": {
    "colab_type": "text",
    "id": "JOEUCAn6qghC"
   },
   "source": [
    "Now let's time the Python version. Since the call is so slow, we just run it once (it will take about 15 seconds):"
   ]
  },
  {
   "cell_type": "code",
   "execution_count": 21,
   "metadata": {
    "colab": {
     "base_uri": "https://localhost:8080/",
     "height": 34
    },
    "colab_type": "code",
    "id": "6dk8QgRL0mzd",
    "outputId": "3d064fe9-9fdf-4477-dd1c-e781cb9dfa6d"
   },
   "outputs": [
    {
     "data": {
      "text/plain": [
       "14.16427015499994"
      ]
     },
     "execution_count": 21,
     "metadata": {
      "tags": []
     },
     "output_type": "execute_result"
    }
   ],
   "source": [
    "py\"\"\"\n",
    "from timeit import timeit\n",
    "\n",
    "duration = timeit(\"estimate_pi(100_000_000)\", number=1, globals=globals())\n",
    "\"\"\"\n",
    "\n",
    "py\"duration\""
   ]
  },
  {
   "cell_type": "markdown",
   "metadata": {
    "colab_type": "text",
    "id": "Jqtx4_erlxky"
   },
   "source": [
    "It looks like Julia is close to 100 times faster than Python in this case! To be fair, `PyCall` does add some overhead, but even if you run this code in a separate Python shell, you will see that Julia crushes (pure) Python when it comes to speed."
   ]
  },
  {
   "cell_type": "markdown",
   "metadata": {
    "colab_type": "text",
    "id": "hiVDodlPmzoP"
   },
   "source": [
    "So why is Julia so much faster than Python? Well, **Julia compiles the code on the fly as it runs it**."
   ]
  },
  {
   "cell_type": "markdown",
   "metadata": {
    "colab_type": "text",
    "id": "w-HSoqJ8ts7P"
   },
   "source": [
    "Okay, let's summarize what we learned so far: Julia is a dynamic language that looks and feels a lot like Python, you can even execute Python code super easily, and pure Julia code runs much faster than pure Python code, because it is compiled on the fly. I hope this convinces you to read on!\n",
    "\n",
    "Next, let's continue to see how Python's main constructs can be implemented in Julia."
   ]
  },
  {
   "cell_type": "markdown",
   "metadata": {
    "colab_type": "text",
    "id": "n1exnPNvtsvh"
   },
   "source": [
    "# Numbers"
   ]
  },
  {
   "cell_type": "code",
   "execution_count": 22,
   "metadata": {
    "colab": {
     "base_uri": "https://localhost:8080/",
     "height": 34
    },
    "colab_type": "code",
    "id": "NKscy9dmtsk8",
    "outputId": "c2d56a0e-fe2b-4244-9886-8038a554561f"
   },
   "outputs": [
    {
     "data": {
      "text/plain": [
       "9//8"
      ]
     },
     "execution_count": 22,
     "metadata": {
      "tags": []
     },
     "output_type": "execute_result"
    }
   ],
   "source": [
    "i = 42 # 64-bit integer\n",
    "f = 3.14 # 64-bit float\n",
    "c = 3.4 + 4.5im # 128-bit complex number\n",
    "\n",
    "bi = BigInt(2)^1000 # arbitrarily long integer\n",
    "bf = BigFloat(1) / 7 # arbitrary precision\n",
    "\n",
    "r = 15//6 * 9//20 # rational number"
   ]
  },
  {
   "cell_type": "markdown",
   "metadata": {
    "colab_type": "text",
    "id": "PzLbmPApyPLc"
   },
   "source": [
    "And the equivalent Python code:\n",
    "\n",
    "```python\n",
    "# PYTHON\n",
    "i = 42\n",
    "f = 3.14\n",
    "c = 3.4 + 4.5j\n",
    "\n",
    "bi = 2**1000 # integers are seemlessly promoted to long integers\n",
    "from decimal import Decimal\n",
    "bf = Decimal(1) / 7\n",
    "\n",
    "from fractions import Fraction\n",
    "r = Fraction(15, 6) * Fraction(9, 20)\n",
    "```"
   ]
  },
  {
   "cell_type": "markdown",
   "metadata": {
    "colab_type": "text",
    "id": "obkfXw_LAZ2B"
   },
   "source": [
    "Dividing integers gives floats, like in Python:"
   ]
  },
  {
   "cell_type": "code",
   "execution_count": 23,
   "metadata": {
    "colab": {
     "base_uri": "https://localhost:8080/",
     "height": 34
    },
    "colab_type": "code",
    "id": "MQ_YTxNgAiLA",
    "outputId": "200668cf-170e-4b94-e396-04f28b2763e3"
   },
   "outputs": [
    {
     "data": {
      "text/plain": [
       "2.5"
      ]
     },
     "execution_count": 23,
     "metadata": {
      "tags": []
     },
     "output_type": "execute_result"
    }
   ],
   "source": [
    "5 / 2"
   ]
  },
  {
   "cell_type": "markdown",
   "metadata": {
    "colab_type": "text",
    "id": "lqAUqZqNAkhb"
   },
   "source": [
    "For integer division, use `÷` or `div()`:"
   ]
  },
  {
   "cell_type": "code",
   "execution_count": 24,
   "metadata": {
    "colab": {
     "base_uri": "https://localhost:8080/",
     "height": 34
    },
    "colab_type": "code",
    "id": "xPkuXvQHArxo",
    "outputId": "9b6f55ee-8156-410f-c1d9-96b23fb28257"
   },
   "outputs": [
    {
     "data": {
      "text/plain": [
       "2"
      ]
     },
     "execution_count": 24,
     "metadata": {
      "tags": []
     },
     "output_type": "execute_result"
    }
   ],
   "source": [
    "5 ÷ 2"
   ]
  },
  {
   "cell_type": "code",
   "execution_count": 25,
   "metadata": {
    "colab": {
     "base_uri": "https://localhost:8080/",
     "height": 34
    },
    "colab_type": "code",
    "id": "Bg26ib-cAtoF",
    "outputId": "57d7c812-2c11-4321-b07d-e0bb13db42eb"
   },
   "outputs": [
    {
     "data": {
      "text/plain": [
       "2"
      ]
     },
     "execution_count": 25,
     "metadata": {
      "tags": []
     },
     "output_type": "execute_result"
    }
   ],
   "source": [
    "div(5, 2)"
   ]
  },
  {
   "cell_type": "markdown",
   "metadata": {
    "colab_type": "text",
    "id": "GwsmLJ4kAvLQ"
   },
   "source": [
    "The `%` operator is the remainder, not the modulo like in Python. These differ only for negative numbers:"
   ]
  },
  {
   "cell_type": "code",
   "execution_count": 26,
   "metadata": {
    "colab": {
     "base_uri": "https://localhost:8080/",
     "height": 34
    },
    "colab_type": "code",
    "id": "BqYAfPWBA5UZ",
    "outputId": "e31c0b26-8a63-429a-dd76-2f858dcc8aa8"
   },
   "outputs": [
    {
     "data": {
      "text/plain": [
       "7"
      ]
     },
     "execution_count": 26,
     "metadata": {
      "tags": []
     },
     "output_type": "execute_result"
    }
   ],
   "source": [
    "57 % 10"
   ]
  },
  {
   "cell_type": "code",
   "execution_count": 27,
   "metadata": {
    "colab": {
     "base_uri": "https://localhost:8080/",
     "height": 34
    },
    "colab_type": "code",
    "id": "i_0nKGW0A8TZ",
    "outputId": "b0304f83-ea7d-4c4b-ff8b-724fd44fbb25"
   },
   "outputs": [
    {
     "data": {
      "text/plain": [
       "-7"
      ]
     },
     "execution_count": 27,
     "metadata": {
      "tags": []
     },
     "output_type": "execute_result"
    }
   ],
   "source": [
    "(-57) % 10"
   ]
  },
  {
   "cell_type": "markdown",
   "metadata": {
    "colab_type": "text",
    "id": "5euGtSBl95e_"
   },
   "source": [
    "|Julia|Python\n",
    "|-----|------\n",
    "|`3.4 + 4.5im` | `3.4 + 4.5j`\n",
    "|`BigInt(2)^1000` | `2**1000`\n",
    "|`BigFloat(3.14)` | `from decimal import Decimal`<br />`Decimal(3.14)`\n",
    "|`9//8` | `from fractions import Fraction`<br />`Fraction(9, 8)`\n",
    "|`5/2 == 2.5` | `5/2 == 2.5`\n",
    "|`5÷2 == 2`<br />or<br />`div(5, 2)` | `5//2 == 2`\n",
    "|`57%10 == 7` | `57%10 == 7`\n",
    "|`(-57)%10 == -7` | `(-57)%10 == 3`\n"
   ]
  },
  {
   "cell_type": "markdown",
   "metadata": {
    "colab_type": "text",
    "id": "koGxWy1D1nd2"
   },
   "source": [
    "# Strings\n",
    "Julia strings use double quotes `\"` or triple quotes `\"\"\"`, but not single quotes `'`:"
   ]
  },
  {
   "cell_type": "code",
   "execution_count": 28,
   "metadata": {
    "colab": {
     "base_uri": "https://localhost:8080/",
     "height": 34
    },
    "colab_type": "code",
    "id": "cAJ5W9PstsbQ",
    "outputId": "5ab7b606-a752-4056-a569-4f8d6c47d527"
   },
   "outputs": [
    {
     "name": "stdout",
     "output_type": "stream",
     "text": [
      "ångström\n"
     ]
    }
   ],
   "source": [
    "s = \"ångström\" # Julia strings are UTF-8 encoded by default\n",
    "println(s)"
   ]
  },
  {
   "cell_type": "code",
   "execution_count": 29,
   "metadata": {
    "colab": {
     "base_uri": "https://localhost:8080/",
     "height": 136
    },
    "colab_type": "code",
    "id": "_7bPa-W7c3dZ",
    "outputId": "e8d63396-c27f-4371-cb2f-c97630ea37d9"
   },
   "outputs": [
    {
     "name": "stdout",
     "output_type": "stream",
     "text": [
      "Julia strings\n",
      "     can span\n",
      "     several lines\n",
      "\n",
      "\n",
      "     and they support the \"usual\" escapes like\n",
      "     A, 家, and 😊!\n"
     ]
    }
   ],
   "source": [
    "s = \"Julia strings\n",
    "     can span\n",
    "     several lines\\n\\n\n",
    "     and they support the \\\"usual\\\" escapes like\n",
    "     \\x41, \\u5bb6, and \\U0001f60a!\"\n",
    "println(s)"
   ]
  },
  {
   "cell_type": "markdown",
   "metadata": {
    "colab_type": "text",
    "id": "Sr6f6JBzfsc_"
   },
   "source": [
    "Use `repeat()` instead of `*` to repeat a string, and use `*` instead of `+` for concatenation:"
   ]
  },
  {
   "cell_type": "code",
   "execution_count": 30,
   "metadata": {
    "colab": {
     "base_uri": "https://localhost:8080/",
     "height": 34
    },
    "colab_type": "code",
    "id": "R52WXKlMc5h9",
    "outputId": "a0e54fd7-6a51-4a8f-bade-0f0ed05453e6"
   },
   "outputs": [
    {
     "name": "stdout",
     "output_type": "stream",
     "text": [
      "tick, tick, tick, tick, tick, tick, tick, tick, tick, tick, BOOM!\n"
     ]
    }
   ],
   "source": [
    "s = repeat(\"tick, \", 10) * \"BOOM!\"\n",
    "println(s)"
   ]
  },
  {
   "cell_type": "markdown",
   "metadata": {
    "colab_type": "text",
    "id": "1QvDoWolgC1v"
   },
   "source": [
    "The equivalent Python code is:\n",
    "\n",
    "```python\n",
    "# PYTHON\n",
    "s = \"tick, \" * 10 + \"BOOM!\"\n",
    "print(s)\n",
    "```"
   ]
  },
  {
   "cell_type": "markdown",
   "metadata": {
    "colab_type": "text",
    "id": "UULsUFcTgPXN"
   },
   "source": [
    "Use `join(a, s)` instead of `s.join(a)`:"
   ]
  },
  {
   "cell_type": "code",
   "execution_count": 31,
   "metadata": {
    "colab": {
     "base_uri": "https://localhost:8080/",
     "height": 34
    },
    "colab_type": "code",
    "id": "pMZNYWTxd3N2",
    "outputId": "5f2f92ea-ffa8-4921-8cc0-3dbd30e32df6"
   },
   "outputs": [
    {
     "name": "stdout",
     "output_type": "stream",
     "text": [
      "1, 2, 3, 4\n"
     ]
    }
   ],
   "source": [
    "s = join([i for i in 1:4], \", \")\n",
    "println(s)"
   ]
  },
  {
   "cell_type": "markdown",
   "metadata": {
    "colab_type": "text",
    "id": "ejbvMUySgaTn"
   },
   "source": [
    "You can also specify a string for the last join:"
   ]
  },
  {
   "cell_type": "code",
   "execution_count": 32,
   "metadata": {
    "colab": {
     "base_uri": "https://localhost:8080/",
     "height": 34
    },
    "colab_type": "code",
    "id": "wRx3SN5fdWFf",
    "outputId": "b315457d-8396-4a64-bac0-5a3d9cd62e6d"
   },
   "outputs": [
    {
     "data": {
      "text/plain": [
       "\"1, 2, 3 and 4\""
      ]
     },
     "execution_count": 32,
     "metadata": {
      "tags": []
     },
     "output_type": "execute_result"
    }
   ],
   "source": [
    "s = join([i for i in 1:4], \", \", \" and \")"
   ]
  },
  {
   "cell_type": "markdown",
   "metadata": {
    "colab_type": "text",
    "id": "GJAbtqLg6T5s"
   },
   "source": [
    "`split()` works as you might expect:"
   ]
  },
  {
   "cell_type": "code",
   "execution_count": 33,
   "metadata": {
    "colab": {
     "base_uri": "https://localhost:8080/",
     "height": 85
    },
    "colab_type": "code",
    "id": "Kqkgq7IA6FWl",
    "outputId": "b643e473-567f-4fef-af07-8adb43988c5e"
   },
   "outputs": [
    {
     "data": {
      "text/plain": [
       "3-element Array{SubString{String},1}:\n",
       " \"one\"\n",
       " \"three\"\n",
       " \"four\""
      ]
     },
     "execution_count": 33,
     "metadata": {
      "tags": []
     },
     "output_type": "execute_result"
    }
   ],
   "source": [
    "split(\"   one    three     four   \")"
   ]
  },
  {
   "cell_type": "code",
   "execution_count": 34,
   "metadata": {
    "colab": {
     "base_uri": "https://localhost:8080/",
     "height": 102
    },
    "colab_type": "code",
    "id": "3cy_kYpZ6A7U",
    "outputId": "65b74313-1a2e-4b36-fe58-024d763f9177"
   },
   "outputs": [
    {
     "data": {
      "text/plain": [
       "4-element Array{SubString{String},1}:\n",
       " \"one\"\n",
       " \"\"\n",
       " \"three\"\n",
       " \"four!\""
      ]
     },
     "execution_count": 34,
     "metadata": {
      "tags": []
     },
     "output_type": "execute_result"
    }
   ],
   "source": [
    "split(\"one,,three,four!\", \",\")"
   ]
  },
  {
   "cell_type": "code",
   "execution_count": 35,
   "metadata": {
    "colab": {
     "base_uri": "https://localhost:8080/",
     "height": 34
    },
    "colab_type": "code",
    "id": "gdI7lnQ6n7RD",
    "outputId": "6298636f-a23d-4562-fc89-bcc63a5290f2"
   },
   "outputs": [
    {
     "data": {
      "text/plain": [
       "true"
      ]
     },
     "execution_count": 35,
     "metadata": {
      "tags": []
     },
     "output_type": "execute_result"
    }
   ],
   "source": [
    "occursin(\"sip\", \"Mississippi\")"
   ]
  },
  {
   "cell_type": "code",
   "execution_count": 36,
   "metadata": {
    "colab": {
     "base_uri": "https://localhost:8080/",
     "height": 34
    },
    "colab_type": "code",
    "id": "gnLjg6UpvKrL",
    "outputId": "27ddb703-0ebb-42f4-ee83-6bb791a91642"
   },
   "outputs": [
    {
     "data": {
      "text/plain": [
       "\"I like tea\""
      ]
     },
     "execution_count": 36,
     "metadata": {
      "tags": []
     },
     "output_type": "execute_result"
    }
   ],
   "source": [
    "replace(\"I like coffee\", \"coffee\" => \"tea\")"
   ]
  },
  {
   "cell_type": "markdown",
   "metadata": {
    "colab_type": "text",
    "id": "_dMkcaL4gm_n"
   },
   "source": [
    "Triple quotes work a bit like in Python, but they also remove indentation and ignore the first line feed:"
   ]
  },
  {
   "cell_type": "code",
   "execution_count": 37,
   "metadata": {
    "colab": {
     "base_uri": "https://localhost:8080/",
     "height": 170
    },
    "colab_type": "code",
    "id": "7Qc3Nn81ed3j",
    "outputId": "862384c3-eab6-45e7-9ac4-1232e44ca1da"
   },
   "outputs": [
    {
     "name": "stdout",
     "output_type": "stream",
     "text": [
      "<start>\n",
      "1. the first line feed is ignored if it immediately follows \"\"\"\n",
      "2. triple quotes let you use \"quotes\" easily\n",
      "3. indentation is ignored\n",
      "    - up to left-most character\n",
      "    - ignoring the first line (the one with \"\"\")\n",
      "4. the final line feed it n̲o̲t̲ ignored\n",
      "\n",
      "<end>\n"
     ]
    }
   ],
   "source": [
    "s = \"\"\"\n",
    "       1. the first line feed is ignored if it immediately follows \\\"\"\"\n",
    "       2. triple quotes let you use \"quotes\" easily\n",
    "       3. indentation is ignored\n",
    "           - up to left-most character\n",
    "           - ignoring the first line (the one with \\\"\"\")\n",
    "       4. the final line feed it n̲o̲t̲ ignored\n",
    "       \"\"\"\n",
    "println(\"<start>\")\n",
    "println(s)\n",
    "println(\"<end>\")"
   ]
  },
  {
   "cell_type": "markdown",
   "metadata": {
    "colab_type": "text",
    "id": "T0cx6rWpjIzc"
   },
   "source": [
    "## String Interpolation\n",
    "String interpolation uses `$variable` and `$(expression)`:"
   ]
  },
  {
   "cell_type": "code",
   "execution_count": 38,
   "metadata": {
    "colab": {
     "base_uri": "https://localhost:8080/",
     "height": 34
    },
    "colab_type": "code",
    "id": "-Nl2AlRvg2c_",
    "outputId": "87f3441e-8c54-476d-fc8a-42e5f7d12ee7"
   },
   "outputs": [
    {
     "name": "stdout",
     "output_type": "stream",
     "text": [
      "1 + 2 + 3 = 6 = 6\n"
     ]
    }
   ],
   "source": [
    "total = 1 + 2 + 3\n",
    "s = \"1 + 2 + 3 = $total = $(1 + 2 + 3)\"\n",
    "println(s)"
   ]
  },
  {
   "cell_type": "markdown",
   "metadata": {
    "colab_type": "text",
    "id": "NToitF2YjRP1"
   },
   "source": [
    "This means you must escape the `$` sign:"
   ]
  },
  {
   "cell_type": "code",
   "execution_count": 39,
   "metadata": {
    "colab": {
     "base_uri": "https://localhost:8080/",
     "height": 34
    },
    "colab_type": "code",
    "id": "AUeXBJIdjUmB",
    "outputId": "f5314342-fc33-4e88-d7ab-47dbf0da0f44"
   },
   "outputs": [
    {
     "name": "stdout",
     "output_type": "stream",
     "text": [
      "The car costs $10,000\n"
     ]
    }
   ],
   "source": [
    "s = \"The car costs \\$10,000\"\n",
    "println(s)"
   ]
  },
  {
   "cell_type": "markdown",
   "metadata": {
    "colab_type": "text",
    "id": "fk8BuKKtjhmo"
   },
   "source": [
    "## Raw Strings\n",
    "Raw strings use `raw\"...\"` instead of `r\"...\"`:"
   ]
  },
  {
   "cell_type": "code",
   "execution_count": 40,
   "metadata": {
    "colab": {
     "base_uri": "https://localhost:8080/",
     "height": 68
    },
    "colab_type": "code",
    "id": "KQ9U5Ivai86F",
    "outputId": "affa9e72-fe9f-4d9a-a1c9-e40a8e56f071"
   },
   "outputs": [
    {
     "name": "stdout",
     "output_type": "stream",
     "text": [
      "In a raw string, you only need to escape quotes \", but not\n",
      "        $ or \\. There is one exception, however: the backslash \\\n",
      "        must be escaped if it's just before quotes like \\\".\n"
     ]
    }
   ],
   "source": [
    "s = raw\"In a raw string, you only need to escape quotes \\\", but not\n",
    "        $ or \\. There is one exception, however: the backslash \\\n",
    "        must be escaped if it's just before quotes like \\\\\\\".\"\n",
    "println(s)"
   ]
  },
  {
   "cell_type": "code",
   "execution_count": 41,
   "metadata": {
    "colab": {
     "base_uri": "https://localhost:8080/",
     "height": 119
    },
    "colab_type": "code",
    "id": "0cqdV9lJkclw",
    "outputId": "5362df3e-1b58-4768-abfc-5ad63c3b1b5d"
   },
   "outputs": [
    {
     "name": "stdout",
     "output_type": "stream",
     "text": [
      "Triple quoted raw strings are possible too: $, \\, \\t, \"\n",
      "  - They handle indentation and the first line feed like regular\n",
      "    triple quoted strings.\n",
      "  - You only need to escape triple quotes like \"\"\", and the\n",
      "    backslash before quotes like \\\".\n",
      "\n"
     ]
    }
   ],
   "source": [
    "s = raw\"\"\"\n",
    "   Triple quoted raw strings are possible too: $, \\, \\t, \"\n",
    "     - They handle indentation and the first line feed like regular\n",
    "       triple quoted strings.\n",
    "     - You only need to escape triple quotes like \\\"\"\", and the\n",
    "       backslash before quotes like \\\\\".\n",
    "   \"\"\"\n",
    "println(s)"
   ]
  },
  {
   "cell_type": "markdown",
   "metadata": {
    "colab_type": "text",
    "id": "U5eOtwDalgw-"
   },
   "source": [
    "## Characters\n",
    "Single quotes are used for individual Unicode characters:"
   ]
  },
  {
   "cell_type": "code",
   "execution_count": 42,
   "metadata": {
    "colab": {
     "base_uri": "https://localhost:8080/",
     "height": 34
    },
    "colab_type": "code",
    "id": "PnNfVRZx2CsU",
    "outputId": "83715a7f-c100-45ad-a13f-9ce60458655c"
   },
   "outputs": [
    {
     "data": {
      "text/plain": [
       "'å': Unicode U+00E5 (category Ll: Letter, lowercase)"
      ]
     },
     "execution_count": 42,
     "metadata": {
      "tags": []
     },
     "output_type": "execute_result"
    }
   ],
   "source": [
    "a = 'å' # Unicode code point (single quotes)"
   ]
  },
  {
   "cell_type": "markdown",
   "metadata": {
    "colab_type": "text",
    "id": "WA5RXfz4mBcE"
   },
   "source": [
    "To be more precise:\n",
    "* A Julia \"character\" represents a single Unicode code point (sometimes called a Unicode scalar).\n",
    "* Multiple code points may be required to produce a single _grapheme_, i.e., something that readers would recognize as a single character. Such a sequence of code points is called a \"Grapheme cluster\".\n",
    "\n",
    "For example, the character `é` can be represented either using the single code point `\\u00E9`, or the grapheme cluster `e` + `\\u0301`:"
   ]
  },
  {
   "cell_type": "code",
   "execution_count": 43,
   "metadata": {
    "colab": {
     "base_uri": "https://localhost:8080/",
     "height": 34
    },
    "colab_type": "code",
    "id": "liN9OQVClokc",
    "outputId": "97452ff5-1bdf-43f9-f34a-984795f7770b"
   },
   "outputs": [
    {
     "name": "stdout",
     "output_type": "stream",
     "text": [
      "café has 4 code points\n"
     ]
    }
   ],
   "source": [
    "s = \"café\"\n",
    "println(s, \" has \", length(s), \" code points\")"
   ]
  },
  {
   "cell_type": "code",
   "execution_count": 44,
   "metadata": {
    "colab": {
     "base_uri": "https://localhost:8080/",
     "height": 34
    },
    "colab_type": "code",
    "id": "CTtCiqN1oCJa",
    "outputId": "d8827591-2d29-4557-a28b-4547429d03de"
   },
   "outputs": [
    {
     "name": "stdout",
     "output_type": "stream",
     "text": [
      "café has 5 code points\n"
     ]
    }
   ],
   "source": [
    "s = \"cafe\\u0301\"\n",
    "println(s, \" has \", length(s), \" code points\")"
   ]
  },
  {
   "cell_type": "code",
   "execution_count": 45,
   "metadata": {
    "colab": {
     "base_uri": "https://localhost:8080/",
     "height": 102
    },
    "colab_type": "code",
    "id": "MIBI7ULN2CYI",
    "outputId": "26117e0f-f2e3-4750-eb81-bcc4f2403404"
   },
   "outputs": [
    {
     "data": {
      "text/plain": [
       "'c': ASCII/Unicode U+0063 (category Ll: Letter, lowercase)"
      ]
     },
     "metadata": {
      "tags": []
     },
     "output_type": "display_data"
    },
    {
     "data": {
      "text/plain": [
       "'a': ASCII/Unicode U+0061 (category Ll: Letter, lowercase)"
      ]
     },
     "metadata": {
      "tags": []
     },
     "output_type": "display_data"
    },
    {
     "data": {
      "text/plain": [
       "'f': ASCII/Unicode U+0066 (category Ll: Letter, lowercase)"
      ]
     },
     "metadata": {
      "tags": []
     },
     "output_type": "display_data"
    },
    {
     "data": {
      "text/plain": [
       "'e': ASCII/Unicode U+0065 (category Ll: Letter, lowercase)"
      ]
     },
     "metadata": {
      "tags": []
     },
     "output_type": "display_data"
    },
    {
     "data": {
      "text/plain": [
       "'́': Unicode U+0301 (category Mn: Mark, nonspacing)"
      ]
     },
     "metadata": {
      "tags": []
     },
     "output_type": "display_data"
    }
   ],
   "source": [
    "for c in \"cafe\\u0301\"\n",
    "    display(c)\n",
    "end"
   ]
  },
  {
   "cell_type": "markdown",
   "metadata": {
    "colab_type": "text",
    "id": "Oz-6luAbobDe"
   },
   "source": [
    "Julia represents any individual character like `'é'` using 32-bits (4 bytes):"
   ]
  },
  {
   "cell_type": "code",
   "execution_count": 46,
   "metadata": {
    "colab": {
     "base_uri": "https://localhost:8080/",
     "height": 34
    },
    "colab_type": "code",
    "id": "Iu1otE7omZIy",
    "outputId": "cd1d7f54-87cf-439d-ec41-b9c0b0ddf8c5"
   },
   "outputs": [
    {
     "data": {
      "text/plain": [
       "4"
      ]
     },
     "execution_count": 46,
     "metadata": {
      "tags": []
     },
     "output_type": "execute_result"
    }
   ],
   "source": [
    "sizeof('é')"
   ]
  },
  {
   "cell_type": "markdown",
   "metadata": {
    "colab_type": "text",
    "id": "81XkzaaNmW_4"
   },
   "source": [
    "But strings are represented using the UTF-8 encoding. In this encoding, code points 0 to 127 are represented using one byte, but any code point above 127 is represented using 2 to 6 bytes:"
   ]
  },
  {
   "cell_type": "code",
   "execution_count": 47,
   "metadata": {
    "colab": {
     "base_uri": "https://localhost:8080/",
     "height": 34
    },
    "colab_type": "code",
    "id": "ZgLS0PdImraY",
    "outputId": "1f5b9f79-3a3b-4868-906a-6cd5133bb17a"
   },
   "outputs": [
    {
     "data": {
      "text/plain": [
       "1"
      ]
     },
     "execution_count": 47,
     "metadata": {
      "tags": []
     },
     "output_type": "execute_result"
    }
   ],
   "source": [
    "sizeof(\"a\")"
   ]
  },
  {
   "cell_type": "code",
   "execution_count": 48,
   "metadata": {
    "colab": {
     "base_uri": "https://localhost:8080/",
     "height": 34
    },
    "colab_type": "code",
    "id": "PSOu8j--mmzO",
    "outputId": "2b511e96-02af-432c-b41c-18266a79d9fc"
   },
   "outputs": [
    {
     "data": {
      "text/plain": [
       "2"
      ]
     },
     "execution_count": 48,
     "metadata": {
      "tags": []
     },
     "output_type": "execute_result"
    }
   ],
   "source": [
    "sizeof(\"é\")"
   ]
  },
  {
   "cell_type": "code",
   "execution_count": 49,
   "metadata": {
    "colab": {
     "base_uri": "https://localhost:8080/",
     "height": 34
    },
    "colab_type": "code",
    "id": "5UVyrhoKmw1j",
    "outputId": "d08f56ba-ce4e-43af-dc06-2cadaf208c62"
   },
   "outputs": [
    {
     "data": {
      "text/plain": [
       "3"
      ]
     },
     "execution_count": 49,
     "metadata": {
      "tags": []
     },
     "output_type": "execute_result"
    }
   ],
   "source": [
    "sizeof(\"家\")"
   ]
  },
  {
   "cell_type": "code",
   "execution_count": 50,
   "metadata": {
    "colab": {
     "base_uri": "https://localhost:8080/",
     "height": 34
    },
    "colab_type": "code",
    "id": "0HUpcANGnJYA",
    "outputId": "7fe8e19f-d99d-4013-b6c3-8c7ba4578afe"
   },
   "outputs": [
    {
     "data": {
      "text/plain": [
       "14"
      ]
     },
     "execution_count": 50,
     "metadata": {
      "tags": []
     },
     "output_type": "execute_result"
    }
   ],
   "source": [
    "sizeof(\"🏳️‍🌈\") # this is a grapheme with 4 code points of 4 + 3 + 3 + 4 bytes"
   ]
  },
  {
   "cell_type": "code",
   "execution_count": 51,
   "metadata": {
    "colab": {
     "base_uri": "https://localhost:8080/",
     "height": 102
    },
    "colab_type": "code",
    "id": "EfBbY0vHpNkG",
    "outputId": "a927770c-96fc-4428-f085-c42aad64a09c"
   },
   "outputs": [
    {
     "data": {
      "text/plain": [
       "4-element Array{Int64,1}:\n",
       " 4\n",
       " 3\n",
       " 3\n",
       " 4"
      ]
     },
     "execution_count": 51,
     "metadata": {
      "tags": []
     },
     "output_type": "execute_result"
    }
   ],
   "source": [
    "[sizeof(string(c)) for c in \"🏳️‍🌈\"]"
   ]
  },
  {
   "cell_type": "markdown",
   "metadata": {
    "colab_type": "text",
    "id": "71mBRSnKo_gU"
   },
   "source": [
    "You can iterate through graphemes instead of code points:"
   ]
  },
  {
   "cell_type": "code",
   "execution_count": 52,
   "metadata": {
    "colab": {
     "base_uri": "https://localhost:8080/",
     "height": 51
    },
    "colab_type": "code",
    "id": "hvHwnu4dnYNx",
    "outputId": "b12a48a3-0bbc-4d72-ac96-991b78a26099"
   },
   "outputs": [
    {
     "name": "stdout",
     "output_type": "stream",
     "text": [
      "é\n",
      "🏳️‍🌈\n"
     ]
    }
   ],
   "source": [
    "using Unicode\n",
    "\n",
    "for g in graphemes(\"e\\u0301🏳️‍🌈\")\n",
    "  println(g)\n",
    "end"
   ]
  },
  {
   "cell_type": "markdown",
   "metadata": {
    "colab_type": "text",
    "id": "D52gwsw7mkls"
   },
   "source": [
    "## String Indexing\n",
    "Characters in a string are indexed based on the position of their starting byte in the UTF-8 representation. For example, the character `ê` in the string `\"être\"` is located at index 1, but the character `'t'` is located at index 3, since the UTF-8 encoding of `ê` is 2 bytes long:"
   ]
  },
  {
   "cell_type": "code",
   "execution_count": 53,
   "metadata": {
    "colab": {
     "base_uri": "https://localhost:8080/",
     "height": 85
    },
    "colab_type": "code",
    "id": "wF-sqnBhobOr",
    "outputId": "feed1eb3-66e4-4a42-f749-98d426559c93"
   },
   "outputs": [
    {
     "name": "stdout",
     "output_type": "stream",
     "text": [
      "ê\n",
      "t\n",
      "r\n",
      "e\n"
     ]
    }
   ],
   "source": [
    "s = \"être\"\n",
    "println(s[1])\n",
    "println(s[3])\n",
    "println(s[4])\n",
    "println(s[5])"
   ]
  },
  {
   "cell_type": "markdown",
   "metadata": {
    "colab_type": "text",
    "id": "PTwNWMfywghC"
   },
   "source": [
    "If you try to get the character at index 2, you get an exception:\n",
    "\n"
   ]
  },
  {
   "cell_type": "code",
   "execution_count": 54,
   "metadata": {
    "colab": {
     "base_uri": "https://localhost:8080/",
     "height": 34
    },
    "colab_type": "code",
    "id": "nVTYypUmobae",
    "outputId": "36f4dd1a-3e6a-407e-ff98-f78f0b3d66d5"
   },
   "outputs": [
    {
     "data": {
      "text/plain": [
       "StringIndexError(\"être\", 2)"
      ]
     },
     "execution_count": 54,
     "metadata": {
      "tags": []
     },
     "output_type": "execute_result"
    }
   ],
   "source": [
    "try\n",
    "    s[2]\n",
    "catch ex\n",
    "    ex\n",
    "end"
   ]
  },
  {
   "cell_type": "markdown",
   "metadata": {
    "colab_type": "text",
    "id": "h27VGo9oB2HD"
   },
   "source": [
    "By the way, notice the exception-handling syntax (we'll discuss exceptions later):\n",
    "\n",
    "|Julia|Python\n",
    "|-----|------\n",
    "|`try`<br />&nbsp;&nbsp;&nbsp;&nbsp;`...`<br />`catch ex`<br />&nbsp;&nbsp;&nbsp;&nbsp;`...`<br />`end`|`try`<br />&nbsp;&nbsp;&nbsp;&nbsp;`...`<br />`except Exception as ex`<br />&nbsp;&nbsp;&nbsp;&nbsp;`...`<br />`end`\n",
    "\n"
   ]
  },
  {
   "cell_type": "markdown",
   "metadata": {
    "colab_type": "text",
    "id": "v519pXuAxhnO"
   },
   "source": [
    "You can get a substring easily, using valid character indices:"
   ]
  },
  {
   "cell_type": "code",
   "execution_count": 55,
   "metadata": {
    "colab": {
     "base_uri": "https://localhost:8080/",
     "height": 34
    },
    "colab_type": "code",
    "id": "fSYrcLRPxdBv",
    "outputId": "5b4bce01-d5b9-4597-82c4-ca2fc91f4d41"
   },
   "outputs": [
    {
     "data": {
      "text/plain": [
       "\"êt\""
      ]
     },
     "execution_count": 55,
     "metadata": {
      "tags": []
     },
     "output_type": "execute_result"
    }
   ],
   "source": [
    "s[1:3]"
   ]
  },
  {
   "cell_type": "markdown",
   "metadata": {
    "colab_type": "text",
    "id": "1aSg-yZExJaj"
   },
   "source": [
    "You can iterate through a string, and it will return all the code points:"
   ]
  },
  {
   "cell_type": "code",
   "execution_count": 56,
   "metadata": {
    "colab": {
     "base_uri": "https://localhost:8080/",
     "height": 85
    },
    "colab_type": "code",
    "id": "nWzSSfi3obnG",
    "outputId": "43411674-dc1a-458b-a8c1-773dcf09cf96"
   },
   "outputs": [
    {
     "name": "stdout",
     "output_type": "stream",
     "text": [
      "ê\n",
      "t\n",
      "r\n",
      "e\n"
     ]
    }
   ],
   "source": [
    "for c in s\n",
    "    println(c)\n",
    "end"
   ]
  },
  {
   "cell_type": "markdown",
   "metadata": {
    "colab_type": "text",
    "id": "P4y_oW-tx1FM"
   },
   "source": [
    "Or you can iterate through the valid character indices:"
   ]
  },
  {
   "cell_type": "code",
   "execution_count": 57,
   "metadata": {
    "colab": {
     "base_uri": "https://localhost:8080/",
     "height": 85
    },
    "colab_type": "code",
    "id": "Stdn7xZRx5HP",
    "outputId": "ce722fd5-e8ea-4600-ebf5-0e52d5d9b64b"
   },
   "outputs": [
    {
     "name": "stdout",
     "output_type": "stream",
     "text": [
      "1: ê\n",
      "3: t\n",
      "4: r\n",
      "5: e\n"
     ]
    }
   ],
   "source": [
    "for i in eachindex(s)\n",
    "    println(i, \": \", s[i])\n",
    "end"
   ]
  },
  {
   "cell_type": "markdown",
   "metadata": {
    "colab_type": "text",
    "id": "6vAcDvvgyI2O"
   },
   "source": [
    "Benefits of representing strings as UTF-8:\n",
    "* All Unicode characters are supported.\n",
    "* UTF-8 is fairly compact (at least for Latin scripts).\n",
    "* It plays nicely with C libraries which expect ASCII characters only, since ASCII characters correspond to the Unicode code points 0 to 127, which UTF-8 encodes exactly like ASCII.\n",
    "\n",
    "Drawbacks:\n",
    "* UTF-8 uses a variable number of bytes per character, which makes indexing harder.\n",
    "  * However, If the language tried to hide this by making `s[5]` search for the 5th character from the start of the string, then code like `for i in 1:length(s); s[i]; end` would be unexpectedly inefficient, since at each iteration there would be a search from the beginning of the string, leading to O(_n_<sup>2</sup>) performance instead of O(_n_)."
   ]
  },
  {
   "cell_type": "code",
   "execution_count": 58,
   "metadata": {
    "colab": {
     "base_uri": "https://localhost:8080/",
     "height": 34
    },
    "colab_type": "code",
    "id": "JhOHqjktdrBV",
    "outputId": "a88d1c63-5960-4d78-c996-2b5ef7694079"
   },
   "outputs": [
    {
     "data": {
      "text/plain": [
       "3"
      ]
     },
     "execution_count": 58,
     "metadata": {
      "tags": []
     },
     "output_type": "execute_result"
    }
   ],
   "source": [
    "findfirst(isequal('t'), \"être\")"
   ]
  },
  {
   "cell_type": "code",
   "execution_count": 59,
   "metadata": {
    "colab": {
     "base_uri": "https://localhost:8080/",
     "height": 34
    },
    "colab_type": "code",
    "id": "PUyEI4dHm-nl",
    "outputId": "238e756a-e627-4ff5-f63d-f9407b1772bd"
   },
   "outputs": [
    {
     "data": {
      "text/plain": [
       "10"
      ]
     },
     "execution_count": 59,
     "metadata": {
      "tags": []
     },
     "output_type": "execute_result"
    }
   ],
   "source": [
    "findlast(isequal('p'), \"Mississippi\")"
   ]
  },
  {
   "cell_type": "code",
   "execution_count": 60,
   "metadata": {
    "colab": {
     "base_uri": "https://localhost:8080/",
     "height": 34
    },
    "colab_type": "code",
    "id": "VA-KDam0nT9z",
    "outputId": "fd09b0b2-16fb-46a6-f345-43f1a8a5e54c"
   },
   "outputs": [
    {
     "data": {
      "text/plain": [
       "2"
      ]
     },
     "execution_count": 60,
     "metadata": {
      "tags": []
     },
     "output_type": "execute_result"
    }
   ],
   "source": [
    "findnext(isequal('i'), \"Mississippi\", 2)"
   ]
  },
  {
   "cell_type": "code",
   "execution_count": 61,
   "metadata": {
    "colab": {
     "base_uri": "https://localhost:8080/",
     "height": 34
    },
    "colab_type": "code",
    "id": "V-18_V29ny--",
    "outputId": "d5e2d249-66b8-479e-b239-43f29f0965bb"
   },
   "outputs": [
    {
     "data": {
      "text/plain": [
       "5"
      ]
     },
     "execution_count": 61,
     "metadata": {
      "tags": []
     },
     "output_type": "execute_result"
    }
   ],
   "source": [
    "findnext(isequal('i'), \"Mississippi\", 2 + 1)"
   ]
  },
  {
   "cell_type": "code",
   "execution_count": 62,
   "metadata": {
    "colab": {
     "base_uri": "https://localhost:8080/",
     "height": 34
    },
    "colab_type": "code",
    "id": "rF-0AVyCnoRa",
    "outputId": "cb857416-886b-4866-a8c8-b0135693c7ec"
   },
   "outputs": [
    {
     "data": {
      "text/plain": [
       "2"
      ]
     },
     "execution_count": 62,
     "metadata": {
      "tags": []
     },
     "output_type": "execute_result"
    }
   ],
   "source": [
    "findprev(isequal('i'), \"Mississippi\", 5 - 1)"
   ]
  },
  {
   "cell_type": "markdown",
   "metadata": {
    "colab_type": "text",
    "id": "29n4QUfloQXQ"
   },
   "source": [
    "Other useful string functions: `ncodeunits(str)`, `codeunit(str, i)`, `thisind(str, i)`, `nextind(str, i, n=1)`, `prevind(str, i, n=1)`."
   ]
  },
  {
   "cell_type": "markdown",
   "metadata": {
    "colab_type": "text",
    "id": "v93Xg1E5omZB"
   },
   "source": [
    "## Regular Expressions\n",
    "To create a regular expression in Julia, use the `r\"...\"` syntax:"
   ]
  },
  {
   "cell_type": "code",
   "execution_count": 63,
   "metadata": {
    "colab": {
     "base_uri": "https://localhost:8080/",
     "height": 34
    },
    "colab_type": "code",
    "id": "LDgR-AwboyDw",
    "outputId": "16eeaa29-5a0c-49cb-ccf8-140921fff05e"
   },
   "outputs": [
    {
     "data": {
      "text/plain": [
       "r\"c[ao]ff?(?:é|ee)\""
      ]
     },
     "execution_count": 63,
     "metadata": {
      "tags": []
     },
     "output_type": "execute_result"
    }
   ],
   "source": [
    "regex = r\"c[ao]ff?(?:é|ee)\""
   ]
  },
  {
   "cell_type": "markdown",
   "metadata": {
    "colab_type": "text",
    "id": "bKT4fMKMiKWo"
   },
   "source": [
    "The expression `r\"...\"` is equivalent to `Regex(\"...\")` except the former is evaluated at parse time, while the latter is evaluated at runtime, so unless you need to construct a Regex dynamically, you should prefer `r\"...\"`."
   ]
  },
  {
   "cell_type": "code",
   "execution_count": 64,
   "metadata": {
    "colab": {
     "base_uri": "https://localhost:8080/",
     "height": 34
    },
    "colab_type": "code",
    "id": "222akOU9ox3m",
    "outputId": "7fbf49f7-1c5e-429f-eff9-9365381b226c"
   },
   "outputs": [
    {
     "data": {
      "text/plain": [
       "true"
      ]
     },
     "execution_count": 64,
     "metadata": {
      "tags": []
     },
     "output_type": "execute_result"
    }
   ],
   "source": [
    "occursin(regex, \"A bit more coffee?\")"
   ]
  },
  {
   "cell_type": "code",
   "execution_count": 65,
   "metadata": {
    "colab": {
     "base_uri": "https://localhost:8080/",
     "height": 34
    },
    "colab_type": "code",
    "id": "QCXRSdFuoxqd",
    "outputId": "30e25aea-53db-47b2-b1f0-ae7657298311"
   },
   "outputs": [
    {
     "data": {
      "text/plain": [
       "\"coffee\""
      ]
     },
     "execution_count": 65,
     "metadata": {
      "tags": []
     },
     "output_type": "execute_result"
    }
   ],
   "source": [
    "m = match(regex, \"A bit more coffee?\")\n",
    "m.match"
   ]
  },
  {
   "cell_type": "code",
   "execution_count": 66,
   "metadata": {
    "colab": {
     "base_uri": "https://localhost:8080/",
     "height": 34
    },
    "colab_type": "code",
    "id": "lWk0C1iwtegu",
    "outputId": "686a5904-0c6a-428f-adaa-6b725b07e8c6"
   },
   "outputs": [
    {
     "data": {
      "text/plain": [
       "12"
      ]
     },
     "execution_count": 66,
     "metadata": {
      "tags": []
     },
     "output_type": "execute_result"
    }
   ],
   "source": [
    "m.offset"
   ]
  },
  {
   "cell_type": "code",
   "execution_count": 67,
   "metadata": {
    "colab": {
     "base_uri": "https://localhost:8080/",
     "height": 34
    },
    "colab_type": "code",
    "id": "Uh1uc34etiN_",
    "outputId": "c35b3cb6-193c-4910-cc14-2f9d8992f20c"
   },
   "outputs": [
    {
     "name": "stdout",
     "output_type": "stream",
     "text": [
      "I suggest coffee instead\n"
     ]
    }
   ],
   "source": [
    "m = match(regex, \"A bit more tea?\")\n",
    "isnothing(m) && println(\"I suggest coffee instead\")"
   ]
  },
  {
   "cell_type": "code",
   "execution_count": 68,
   "metadata": {
    "colab": {
     "base_uri": "https://localhost:8080/",
     "height": 51
    },
    "colab_type": "code",
    "id": "3iOYSQMy0yB3",
    "outputId": "423f65b0-a7cf-4ccc-a4b7-ef5119e99240"
   },
   "outputs": [
    {
     "name": "stdout",
     "output_type": "stream",
     "text": [
      "code: \"f(1) \"\n",
      "comment: \" nice comment\"\n"
     ]
    }
   ],
   "source": [
    "regex = r\"(.*)#(.+)\"\n",
    "line = \"f(1) # nice comment\"\n",
    "m = match(regex, line)\n",
    "code, comment = m.captures\n",
    "println(\"code: \", repr(code))\n",
    "println(\"comment: \", repr(comment))"
   ]
  },
  {
   "cell_type": "code",
   "execution_count": 69,
   "metadata": {
    "colab": {
     "base_uri": "https://localhost:8080/",
     "height": 34
    },
    "colab_type": "code",
    "id": "xeq9CVzoueaf",
    "outputId": "3906ac65-1ec8-4a1e-8b4b-ab6e14edf884"
   },
   "outputs": [
    {
     "data": {
      "text/plain": [
       "\" nice comment\""
      ]
     },
     "execution_count": 69,
     "metadata": {
      "tags": []
     },
     "output_type": "execute_result"
    }
   ],
   "source": [
    "m[2]"
   ]
  },
  {
   "cell_type": "code",
   "execution_count": 70,
   "metadata": {
    "colab": {
     "base_uri": "https://localhost:8080/",
     "height": 68
    },
    "colab_type": "code",
    "id": "iwUDm5uqtc73",
    "outputId": "be3e0e8c-6d98-4de7-f361-f7cfab8784d2"
   },
   "outputs": [
    {
     "data": {
      "text/plain": [
       "2-element Array{Int64,1}:\n",
       " 1\n",
       " 7"
      ]
     },
     "execution_count": 70,
     "metadata": {
      "tags": []
     },
     "output_type": "execute_result"
    }
   ],
   "source": [
    "m.offsets"
   ]
  },
  {
   "cell_type": "code",
   "execution_count": 71,
   "metadata": {
    "colab": {
     "base_uri": "https://localhost:8080/",
     "height": 34
    },
    "colab_type": "code",
    "id": "VnefZenKuMVM",
    "outputId": "f023adbd-1309-47f2-f7a9-6cb14ba7c8c8"
   },
   "outputs": [
    {
     "data": {
      "text/plain": [
       "\" nice comment\""
      ]
     },
     "execution_count": 71,
     "metadata": {
      "tags": []
     },
     "output_type": "execute_result"
    }
   ],
   "source": [
    "m = match(r\"(?<code>.+)#(?<comment>.+)\", line)\n",
    "m[:comment]"
   ]
  },
  {
   "cell_type": "code",
   "execution_count": 72,
   "metadata": {
    "colab": {
     "base_uri": "https://localhost:8080/",
     "height": 34
    },
    "colab_type": "code",
    "id": "HI8hBnXZwLIO",
    "outputId": "77ddcedd-60b8-41d2-e5ed-32ff5de68c9b"
   },
   "outputs": [
    {
     "data": {
      "text/plain": [
       "\"Want a little bread?\""
      ]
     },
     "execution_count": 72,
     "metadata": {
      "tags": []
     },
     "output_type": "execute_result"
    }
   ],
   "source": [
    "replace(\"Want more bread?\", r\"(?<verb>more|some)\" => s\"a little\")"
   ]
  },
  {
   "cell_type": "code",
   "execution_count": 73,
   "metadata": {
    "colab": {
     "base_uri": "https://localhost:8080/",
     "height": 34
    },
    "colab_type": "code",
    "id": "7V9msvsWuzSM",
    "outputId": "bde2fafe-9be4-4bc1-8356-4e1ff0e6f40f"
   },
   "outputs": [
    {
     "data": {
      "text/plain": [
       "\"Want more and more bread?\""
      ]
     },
     "execution_count": 73,
     "metadata": {
      "tags": []
     },
     "output_type": "execute_result"
    }
   ],
   "source": [
    "replace(\"Want more bread?\", r\"(?<verb>more|less)\" => s\"\\g<verb> and \\g<verb>\")"
   ]
  },
  {
   "cell_type": "markdown",
   "metadata": {
    "colab_type": "text",
    "id": "56GuNuTqaKaX"
   },
   "source": [
    "# Control Flow"
   ]
  },
  {
   "cell_type": "markdown",
   "metadata": {
    "colab_type": "text",
    "id": "AhlyD6rgHM-A"
   },
   "source": [
    "## `if` statement\n",
    "\n",
    "Julia's `if` statement works just like in Python, with a few differences:\n",
    "\n",
    "* Julia uses `elseif` instead of Python's `elif`.\n",
    "* Julia's logic operators are just like in C-like languages: `&&` means `and`, `||` means `or`, `!` means `not`, and so on."
   ]
  },
  {
   "cell_type": "code",
   "execution_count": 74,
   "metadata": {
    "colab": {
     "base_uri": "https://localhost:8080/",
     "height": 34
    },
    "colab_type": "code",
    "id": "R4CT1_AYLUqo",
    "outputId": "c299019a-ebd5-4ef7-b010-54c53dbb8388"
   },
   "outputs": [
    {
     "name": "stdout",
     "output_type": "stream",
     "text": [
      "One\n"
     ]
    }
   ],
   "source": [
    "a = 1\n",
    "if a == 1\n",
    "    println(\"One\")\n",
    "elseif a == 2\n",
    "    println(\"Two\")\n",
    "else\n",
    "    println(\"Other\")\n",
    "end"
   ]
  },
  {
   "cell_type": "markdown",
   "metadata": {
    "colab_type": "text",
    "id": "xjjegYr9Koo0"
   },
   "source": [
    "Julia also has `⊻` for exclusive or (you can type `\\xor<tab>` to get the ⊻ character):"
   ]
  },
  {
   "cell_type": "code",
   "execution_count": 75,
   "metadata": {
    "colab": {},
    "colab_type": "code",
    "id": "ac0uFmmXLk3n"
   },
   "outputs": [],
   "source": [
    "@assert false ⊻ false == false\n",
    "@assert false ⊻ true == true\n",
    "@assert true ⊻ false == true\n",
    "@assert true ⊻ true == false"
   ]
  },
  {
   "cell_type": "markdown",
   "metadata": {
    "colab_type": "text",
    "id": "6k6sjnOWLuFM"
   },
   "source": [
    "Oh, and notice that `true` and `false` are all lowercase, unlike Python's `True` and `False`."
   ]
  },
  {
   "cell_type": "markdown",
   "metadata": {
    "colab_type": "text",
    "id": "57j5Uo_jKq98"
   },
   "source": [
    "Since `&&` is lazy (like `and` in Python), `cond && f()` is a common shorthand for `if cond; f(); end`. Think of it as \"_cond then f()_\":"
   ]
  },
  {
   "cell_type": "code",
   "execution_count": 76,
   "metadata": {
    "colab": {
     "base_uri": "https://localhost:8080/",
     "height": 34
    },
    "colab_type": "code",
    "id": "TjRz2LF2MC17",
    "outputId": "127e2991-8b8b-4f11-872a-b902f5170b04"
   },
   "outputs": [
    {
     "name": "stdout",
     "output_type": "stream",
     "text": [
      "Two\n"
     ]
    }
   ],
   "source": [
    "a = 2\n",
    "a == 1 && println(\"One\")\n",
    "a == 2 && println(\"Two\")"
   ]
  },
  {
   "cell_type": "markdown",
   "metadata": {
    "colab_type": "text",
    "id": "PoOc99vdMB3r"
   },
   "source": [
    "Similarly, `cond || f()` is a common shorthand for `if !cond; f(); end`. Think of it as \"_cond else f()_\":"
   ]
  },
  {
   "cell_type": "code",
   "execution_count": 77,
   "metadata": {
    "colab": {
     "base_uri": "https://localhost:8080/",
     "height": 34
    },
    "colab_type": "code",
    "id": "I0vTrqXFMQAp",
    "outputId": "efe13f48-b12b-4182-c67e-321879492eb6"
   },
   "outputs": [
    {
     "name": "stdout",
     "output_type": "stream",
     "text": [
      "Not two\n"
     ]
    }
   ],
   "source": [
    "a = 1\n",
    "a == 1 || println(\"Not one\")\n",
    "a == 2 || println(\"Not two\")"
   ]
  },
  {
   "cell_type": "markdown",
   "metadata": {
    "colab_type": "text",
    "id": "KDHXuzB2tprt"
   },
   "source": [
    "All expressions return a value in Julia, including `if` statements. For example:"
   ]
  },
  {
   "cell_type": "code",
   "execution_count": 78,
   "metadata": {
    "colab": {
     "base_uri": "https://localhost:8080/",
     "height": 34
    },
    "colab_type": "code",
    "id": "XdbyrVzWtyYS",
    "outputId": "7912ea2d-b47d-44dd-bb9c-61e80f4ece12"
   },
   "outputs": [
    {
     "data": {
      "text/plain": [
       "\"one\""
      ]
     },
     "execution_count": 78,
     "metadata": {
      "tags": []
     },
     "output_type": "execute_result"
    }
   ],
   "source": [
    "a = 1\n",
    "result = if a == 1\n",
    "             \"one\"\n",
    "         else\n",
    "             \"two\"\n",
    "         end\n",
    "result"
   ]
  },
  {
   "cell_type": "markdown",
   "metadata": {
    "colab_type": "text",
    "id": "ouJGQWRluC8r"
   },
   "source": [
    "When an expression cannot return anything, it returns `nothing`:"
   ]
  },
  {
   "cell_type": "code",
   "execution_count": 79,
   "metadata": {
    "colab": {
     "base_uri": "https://localhost:8080/",
     "height": 34
    },
    "colab_type": "code",
    "id": "FXxf9pNouMUZ",
    "outputId": "e5afc641-f815-4d10-9cf9-de4d7f0d4284"
   },
   "outputs": [
    {
     "data": {
      "text/plain": [
       "true"
      ]
     },
     "execution_count": 79,
     "metadata": {
      "tags": []
     },
     "output_type": "execute_result"
    }
   ],
   "source": [
    "a = 1\n",
    "result = if a == 2\n",
    "            \"two\"\n",
    "          end\n",
    "\n",
    "isnothing(result)"
   ]
  },
  {
   "cell_type": "markdown",
   "metadata": {
    "colab_type": "text",
    "id": "82e9jcH4ukdN"
   },
   "source": [
    "`nothing` is the single instance of the type `Nothing`:"
   ]
  },
  {
   "cell_type": "code",
   "execution_count": 80,
   "metadata": {
    "colab": {
     "base_uri": "https://localhost:8080/",
     "height": 34
    },
    "colab_type": "code",
    "id": "IU57ogdWuhCi",
    "outputId": "e443167b-e17a-4da9-c06f-5c5cb4e37ade"
   },
   "outputs": [
    {
     "data": {
      "text/plain": [
       "Nothing"
      ]
     },
     "execution_count": 80,
     "metadata": {
      "tags": []
     },
     "output_type": "execute_result"
    }
   ],
   "source": [
    "typeof(nothing)"
   ]
  },
  {
   "cell_type": "markdown",
   "metadata": {
    "colab_type": "text",
    "id": "m8ghzU9PMifO"
   },
   "source": [
    "## `for` loops\n",
    "You can use `for` loops just like in Python, as we saw earlier. However, it's also possible to create nested loops on a single line:"
   ]
  },
  {
   "cell_type": "code",
   "execution_count": 81,
   "metadata": {
    "colab": {
     "base_uri": "https://localhost:8080/",
     "height": 221
    },
    "colab_type": "code",
    "id": "LZ-3HDmZM45a",
    "outputId": "42b27d57-e5c2-4f83-cc08-4c6765cb4d59"
   },
   "outputs": [
    {
     "name": "stdout",
     "output_type": "stream",
     "text": [
      "(1, 1, 1)\n",
      "(1, 1, 2)\n",
      "(1, 2, 1)\n",
      "(1, 2, 2)\n",
      "(1, 3, 1)\n",
      "(1, 3, 2)\n",
      "(2, 1, 1)\n",
      "(2, 1, 2)\n",
      "(2, 2, 1)\n",
      "(2, 2, 2)\n",
      "(2, 3, 1)\n",
      "(2, 3, 2)\n"
     ]
    }
   ],
   "source": [
    "for a in 1:2, b in 1:3, c in 1:2\n",
    "    println((a, b, c))\n",
    "end"
   ]
  },
  {
   "cell_type": "markdown",
   "metadata": {
    "colab_type": "text",
    "id": "uQRBca7fObQq"
   },
   "source": [
    "The corresponding Python code would look like this:\n",
    "\n",
    "```python\n",
    "# PYTHON\n",
    "from itertools import product\n",
    "\n",
    "for a, b, c in product(range(1, 3), range(1, 4), range(1, 3)):\n",
    "    print((a, b, c))\n",
    "```"
   ]
  },
  {
   "cell_type": "markdown",
   "metadata": {
    "colab_type": "text",
    "id": "JAeag3dfNRB3"
   },
   "source": [
    "The `continue` and `break` keywords work just like in Python. Note that in single-line nested loops, `break` will exit all loops, not just the inner loop:"
   ]
  },
  {
   "cell_type": "code",
   "execution_count": 82,
   "metadata": {
    "colab": {
     "base_uri": "https://localhost:8080/",
     "height": 136
    },
    "colab_type": "code",
    "id": "MbKmgN-jN2ZQ",
    "outputId": "696099ec-291c-4841-e7ca-4c93d37c1d03"
   },
   "outputs": [
    {
     "name": "stdout",
     "output_type": "stream",
     "text": [
      "(1, 1, 1)\n",
      "(1, 1, 2)\n",
      "(1, 2, 1)\n",
      "(1, 2, 2)\n",
      "(1, 3, 1)\n",
      "(1, 3, 2)\n",
      "(2, 1, 1)\n"
     ]
    }
   ],
   "source": [
    "for a in 1:2, b in 1:3, c in 1:2\n",
    "    println((a, b, c))\n",
    "    (a, b, c) == (2, 1, 1) && break\n",
    "end"
   ]
  },
  {
   "cell_type": "markdown",
   "metadata": {
    "colab_type": "text",
    "id": "Lf7F9I-6Ue46"
   },
   "source": [
    "Julia does not support the equivalent of Python's `for`/`else` construct. You need to write something like this:"
   ]
  },
  {
   "cell_type": "code",
   "execution_count": 83,
   "metadata": {
    "colab": {
     "base_uri": "https://localhost:8080/",
     "height": 85
    },
    "colab_type": "code",
    "id": "XltdIGVOUoVS",
    "outputId": "0930a3ba-0ab0-43ff-879b-5f1f78cd42e0"
   },
   "outputs": [
    {
     "name": "stdout",
     "output_type": "stream",
     "text": [
      "Looking at Joe\n",
      "Looking at Jane\n",
      "Looking at Wally\n"
     ]
    },
    {
     "data": {
      "text/plain": [
       "true"
      ]
     },
     "execution_count": 83,
     "metadata": {
      "tags": []
     },
     "output_type": "execute_result"
    }
   ],
   "source": [
    "found = false\n",
    "for person in [\"Joe\", \"Jane\", \"Wally\", \"Jack\", \"Julia\"] # try removing \"Wally\"\n",
    "    println(\"Looking at $person\")\n",
    "    person == \"Wally\" && (found = true; break)\n",
    "end\n",
    "found || println(\"I did not find Wally.\")"
   ]
  },
  {
   "cell_type": "markdown",
   "metadata": {
    "colab_type": "text",
    "id": "ySqtkxpxWH57"
   },
   "source": [
    "The equivalent Python code looks like this:\n",
    "\n",
    "```python\n",
    "# PYTHON\n",
    "for person in [\"Joe\", \"Jane\", \"Wally\", \"Jack\", \"Julia\"]: # try removing \"Wally\"\n",
    "    print(f\"Looking at {person}\")\n",
    "    if person == \"Wally\":\n",
    "        break\n",
    "else:\n",
    "    print(\"I did not find Wally.\")\n",
    "```"
   ]
  },
  {
   "cell_type": "markdown",
   "metadata": {
    "colab_type": "text",
    "id": "gz4fZGxOHLmI"
   },
   "source": [
    "\n",
    "\n",
    "|Julia|Python\n",
    "|-----|------\n",
    "|`if cond1`<br />&nbsp;&nbsp;&nbsp;&nbsp;`...`<br/>`elseif cond2`<br />&nbsp;&nbsp;&nbsp;&nbsp;`...`<br/>`else`<br />&nbsp;&nbsp;&nbsp;&nbsp;`...`<br/>`end` |`if cond1:`<br />&nbsp;&nbsp;&nbsp;&nbsp;`...`<br/>`elif cond2:`<br />&nbsp;&nbsp;&nbsp;&nbsp;`...`<br/>`else:`<br />&nbsp;&nbsp;&nbsp;&nbsp;`...`\n",
    "|`&&` | `and`\n",
    "|`\\|\\|` | `or`\n",
    "|`!` | `not`\n",
    "|`⊻` (type `\\xor<tab>`) | `^`\n",
    "|`true` | `True`\n",
    "|`false` | `False`\n",
    "|`cond && f()` | `if cond: f()`\n",
    "|`cond \\|\\| f()` | `if not cond: f()`\n",
    "|`for i in 1:5 ... end` | `for i in range(1, 6): ...`\n",
    "|`for i in 1:5, j in 1:6 ... end` | `from itertools import product`<br />`for i, j in product(range(1, 6), range(1, 7)):`<br />&nbsp;&nbsp;&nbsp;&nbsp;`...`\n",
    "|`while cond ... end` | `while cond: ...`\n",
    "|`continue` | `continue`\n",
    "|`break` | `break`\n"
   ]
  },
  {
   "cell_type": "markdown",
   "metadata": {
    "colab_type": "text",
    "id": "KZnBWeHcvcDE"
   },
   "source": [
    "Now lets looks at data structures, starting with tuples."
   ]
  },
  {
   "cell_type": "markdown",
   "metadata": {
    "colab_type": "text",
    "id": "ERjZUJYlnMsq"
   },
   "source": [
    "# Tuples"
   ]
  },
  {
   "cell_type": "markdown",
   "metadata": {
    "colab_type": "text",
    "id": "LnIg-YKumD8N"
   },
   "source": [
    " Julia has tuples, very much like Python. They can contain anything:"
   ]
  },
  {
   "cell_type": "code",
   "execution_count": 84,
   "metadata": {
    "colab": {
     "base_uri": "https://localhost:8080/",
     "height": 34
    },
    "colab_type": "code",
    "id": "SwtMszm6nFmD",
    "outputId": "fa830c4a-12c1-4c36-b45d-2a72d794982a"
   },
   "outputs": [
    {
     "data": {
      "text/plain": [
       "(1, \"Two\", 3, 4, 5)"
      ]
     },
     "execution_count": 84,
     "metadata": {
      "tags": []
     },
     "output_type": "execute_result"
    }
   ],
   "source": [
    "t = (1, \"Two\", 3, 4, 5)"
   ]
  },
  {
   "cell_type": "markdown",
   "metadata": {
    "colab_type": "text",
    "id": "YFGgt6ISLBQN"
   },
   "source": [
    "Let's look at one element:"
   ]
  },
  {
   "cell_type": "code",
   "execution_count": 85,
   "metadata": {
    "colab": {
     "base_uri": "https://localhost:8080/",
     "height": 34
    },
    "colab_type": "code",
    "id": "muUQX9TUnfhh",
    "outputId": "385aa90f-4110-4679-8637-2a586021eebc"
   },
   "outputs": [
    {
     "data": {
      "text/plain": [
       "1"
      ]
     },
     "execution_count": 85,
     "metadata": {
      "tags": []
     },
     "output_type": "execute_result"
    }
   ],
   "source": [
    "t[1]"
   ]
  },
  {
   "cell_type": "markdown",
   "metadata": {
    "colab_type": "text",
    "id": "kxt7Dyujpcto"
   },
   "source": [
    "Hey! Did you see that? **Julia is 1-indexed**, like Matlab and other math-oriented programming languages, not 0-indexed like Python and most programming languages. I found it easy to get used to, and in fact I quite like it, but your mileage may vary.\n",
    "\n",
    "Moreover, the indexing bounds are inclusive. In Python, to get the 1st and 2nd elements of a list or tuple, you would write `t[0:2]` (or just `t[:2]`), while in Julia you write `t[1:2]`.\n"
   ]
  },
  {
   "cell_type": "code",
   "execution_count": 86,
   "metadata": {
    "colab": {
     "base_uri": "https://localhost:8080/",
     "height": 34
    },
    "colab_type": "code",
    "id": "PSSUDRRtp77N",
    "outputId": "75b8924a-031d-4231-92dd-85f94f8d46bd"
   },
   "outputs": [
    {
     "data": {
      "text/plain": [
       "(1, \"Two\")"
      ]
     },
     "execution_count": 86,
     "metadata": {
      "tags": []
     },
     "output_type": "execute_result"
    }
   ],
   "source": [
    "t[1:2]"
   ]
  },
  {
   "cell_type": "markdown",
   "metadata": {
    "colab_type": "text",
    "id": "gUK1aCRutlul"
   },
   "source": [
    "Note that `end` represents the index of the last element in the tuple. So you must write `t[end]` instead of `t[-1]`. Similarly, you must write `t[end - 1]`, not `t[-2]`, and so on."
   ]
  },
  {
   "cell_type": "code",
   "execution_count": 87,
   "metadata": {
    "colab": {
     "base_uri": "https://localhost:8080/",
     "height": 34
    },
    "colab_type": "code",
    "id": "7YpghPgLqZmy",
    "outputId": "7d32501b-6741-4d4b-c874-a4b343bbc35e"
   },
   "outputs": [
    {
     "data": {
      "text/plain": [
       "5"
      ]
     },
     "execution_count": 87,
     "metadata": {
      "tags": []
     },
     "output_type": "execute_result"
    }
   ],
   "source": [
    "t[end]"
   ]
  },
  {
   "cell_type": "code",
   "execution_count": 88,
   "metadata": {
    "colab": {
     "base_uri": "https://localhost:8080/",
     "height": 34
    },
    "colab_type": "code",
    "id": "3rzqwS7etsyx",
    "outputId": "8672ce0c-8235-4323-8d5e-96672c2512d8"
   },
   "outputs": [
    {
     "data": {
      "text/plain": [
       "(4, 5)"
      ]
     },
     "execution_count": 88,
     "metadata": {
      "tags": []
     },
     "output_type": "execute_result"
    }
   ],
   "source": [
    "t[end - 1:end]"
   ]
  },
  {
   "cell_type": "markdown",
   "metadata": {
    "colab_type": "text",
    "id": "d950dLwB3SeA"
   },
   "source": [
    "Like in Python, tuples are immutable:"
   ]
  },
  {
   "cell_type": "code",
   "execution_count": 89,
   "metadata": {
    "colab": {
     "base_uri": "https://localhost:8080/",
     "height": 34
    },
    "colab_type": "code",
    "id": "0sLz7J2KmKMi",
    "outputId": "c2b5d196-4599-4606-f651-df3c89f83730"
   },
   "outputs": [
    {
     "data": {
      "text/plain": [
       "MethodError(setindex!, ((1, \"Two\", 3, 4, 5), 2, 2), 0x0000000000006a24)"
      ]
     },
     "execution_count": 89,
     "metadata": {
      "tags": []
     },
     "output_type": "execute_result"
    }
   ],
   "source": [
    "try\n",
    "  t[2] = 2\n",
    "catch ex\n",
    "  ex\n",
    "end"
   ]
  },
  {
   "cell_type": "markdown",
   "metadata": {
    "colab_type": "text",
    "id": "ia-7dPaYN6o3"
   },
   "source": [
    "The syntax for empty and 1-element tuples is the same as in Python:"
   ]
  },
  {
   "cell_type": "code",
   "execution_count": 90,
   "metadata": {
    "colab": {
     "base_uri": "https://localhost:8080/",
     "height": 34
    },
    "colab_type": "code",
    "id": "2iz34eBoODk6",
    "outputId": "90cc7840-0f60-435b-c68c-13ea882520f1"
   },
   "outputs": [
    {
     "data": {
      "text/plain": [
       "(42,)"
      ]
     },
     "execution_count": 90,
     "metadata": {
      "tags": []
     },
     "output_type": "execute_result"
    }
   ],
   "source": [
    "empty_tuple = ()\n",
    "one_element_tuple = (42,)"
   ]
  },
  {
   "cell_type": "markdown",
   "metadata": {
    "colab_type": "text",
    "id": "4vgV76ftmMno"
   },
   "source": [
    "You can unpack a tuple, just like in Python (it's called \"destructuring\" in Julia):"
   ]
  },
  {
   "cell_type": "code",
   "execution_count": 91,
   "metadata": {
    "colab": {
     "base_uri": "https://localhost:8080/",
     "height": 34
    },
    "colab_type": "code",
    "id": "1-RPxSCfn5Zr",
    "outputId": "393d2214-08e0-4164-bf23-5238a0133c5b"
   },
   "outputs": [
    {
     "name": "stdout",
     "output_type": "stream",
     "text": [
      "a=1, b=Two, c=3, d=4, e=5\n"
     ]
    }
   ],
   "source": [
    "a, b, c, d, e = (1, \"Two\", 3, 4, 5)\n",
    "println(\"a=$a, b=$b, c=$c, d=$d, e=$e\")"
   ]
  },
  {
   "cell_type": "markdown",
   "metadata": {
    "colab_type": "text",
    "id": "I4jsaD4Fq37B"
   },
   "source": [
    "It also works with nested tuples, just like in Python:"
   ]
  },
  {
   "cell_type": "code",
   "execution_count": 92,
   "metadata": {
    "colab": {
     "base_uri": "https://localhost:8080/",
     "height": 34
    },
    "colab_type": "code",
    "id": "s3S4SAfNq83S",
    "outputId": "eb6535c8-ac30-4b61-cd30-86e5677258f5"
   },
   "outputs": [
    {
     "name": "stdout",
     "output_type": "stream",
     "text": [
      "a=1, b=Two, c=3, d=4, e=5\n"
     ]
    }
   ],
   "source": [
    "(a, (b, c), (d, e)) = (1, (\"Two\", 3), (4, 5))\n",
    "println(\"a=$a, b=$b, c=$c, d=$d, e=$e\")"
   ]
  },
  {
   "cell_type": "markdown",
   "metadata": {
    "colab_type": "text",
    "id": "1SC6AVpIrUxa"
   },
   "source": [
    "However, consider this example:"
   ]
  },
  {
   "cell_type": "code",
   "execution_count": 93,
   "metadata": {
    "colab": {
     "base_uri": "https://localhost:8080/",
     "height": 34
    },
    "colab_type": "code",
    "id": "Wz5cl0_6rj0H",
    "outputId": "df94be65-868a-4db3-a551-1f22c3a0c3fa"
   },
   "outputs": [
    {
     "name": "stdout",
     "output_type": "stream",
     "text": [
      "a=1, b=Two, c=3\n"
     ]
    }
   ],
   "source": [
    "a, b, c = (1, \"Two\", 3, 4, 5)\n",
    "println(\"a=$a, b=$b, c=$c\")"
   ]
  },
  {
   "cell_type": "markdown",
   "metadata": {
    "colab_type": "text",
    "id": "ZdZg-xMDrnvK"
   },
   "source": [
    "In Python, this would cause a `ValueError: too many values to unpack`. In Julia, the extra values in the tuple are just ignored.\n",
    "\n",
    "If you want to capture the extra values in the variable `c`, you need to do so explicitly:"
   ]
  },
  {
   "cell_type": "code",
   "execution_count": 94,
   "metadata": {
    "colab": {
     "base_uri": "https://localhost:8080/",
     "height": 34
    },
    "colab_type": "code",
    "id": "zC8DWzkSsF1i",
    "outputId": "7f3b9279-fe25-44c7-b55c-788f18ba67da"
   },
   "outputs": [
    {
     "name": "stdout",
     "output_type": "stream",
     "text": [
      "a=1, b=Two, c=(3, 4, 5)\n"
     ]
    }
   ],
   "source": [
    "t = (1, \"Two\", 3, 4, 5)\n",
    "a, b = t[1:2]\n",
    "c = t[3:end]\n",
    "println(\"a=$a, b=$b, c=$c\")"
   ]
  },
  {
   "cell_type": "markdown",
   "metadata": {
    "colab_type": "text",
    "id": "rOKhLbritHAW"
   },
   "source": [
    "Or more concisely:"
   ]
  },
  {
   "cell_type": "code",
   "execution_count": 95,
   "metadata": {
    "colab": {
     "base_uri": "https://localhost:8080/",
     "height": 34
    },
    "colab_type": "code",
    "id": "8Pvh4LCytCiq",
    "outputId": "caa95916-dc4c-4cb6-8e0d-fc4e8eaf7384"
   },
   "outputs": [
    {
     "name": "stdout",
     "output_type": "stream",
     "text": [
      "a=1, b=Two, c=(3, 4, 5)\n"
     ]
    }
   ],
   "source": [
    "(a, b), c = t[1:2], t[3:end]\n",
    "println(\"a=$a, b=$b, c=$c\")"
   ]
  },
  {
   "cell_type": "markdown",
   "metadata": {
    "colab_type": "text",
    "id": "FbibRKc9sWI_"
   },
   "source": [
    "The corresponding Python code is:\n",
    "\n",
    "```python\n",
    "# PYTHON\n",
    "t = (1, \"Two\", 3, 4, 5)\n",
    "a, b, *c = t\n",
    "print(f\"a={a}, b={b}, c={c}\")\n",
    "```"
   ]
  },
  {
   "cell_type": "markdown",
   "metadata": {
    "colab_type": "text",
    "id": "niHEbUJk5YFn"
   },
   "source": [
    "## Named Tuples"
   ]
  },
  {
   "cell_type": "markdown",
   "metadata": {
    "colab_type": "text",
    "id": "p3yVvsXA52ct"
   },
   "source": [
    "Julia supports named tuples:"
   ]
  },
  {
   "cell_type": "code",
   "execution_count": 96,
   "metadata": {
    "colab": {
     "base_uri": "https://localhost:8080/",
     "height": 34
    },
    "colab_type": "code",
    "id": "2FJnd4K35aOZ",
    "outputId": "1cd684d7-5eb9-4e3d-e6ba-9ab1ff33c60b"
   },
   "outputs": [
    {
     "data": {
      "text/plain": [
       "(name = \"Julia\", category = \"Language\", stars = 5)"
      ]
     },
     "execution_count": 96,
     "metadata": {
      "tags": []
     },
     "output_type": "execute_result"
    }
   ],
   "source": [
    "nt = (name=\"Julia\", category=\"Language\", stars=5)"
   ]
  },
  {
   "cell_type": "code",
   "execution_count": 97,
   "metadata": {
    "colab": {
     "base_uri": "https://localhost:8080/",
     "height": 34
    },
    "colab_type": "code",
    "id": "xydPCMQZ5sPY",
    "outputId": "11d93885-5bd2-487c-d129-7ee2847ffa89"
   },
   "outputs": [
    {
     "data": {
      "text/plain": [
       "\"Julia\""
      ]
     },
     "execution_count": 97,
     "metadata": {
      "tags": []
     },
     "output_type": "execute_result"
    }
   ],
   "source": [
    "nt.name"
   ]
  },
  {
   "cell_type": "code",
   "execution_count": 98,
   "metadata": {
    "colab": {
     "base_uri": "https://localhost:8080/",
     "height": 85
    },
    "colab_type": "code",
    "id": "9MeN88AU5w4t",
    "outputId": "be30c26c-a44d-4476-c19a-98b35876165f"
   },
   "outputs": [
    {
     "name": "stdout",
     "output_type": "stream",
     "text": [
      "NamedTuple{(:name, :category, :stars),Tuple{String,String,Int64}}\n",
      "  name: String \"Julia\"\n",
      "  category: String \"Language\"\n",
      "  stars: Int64 5\n"
     ]
    }
   ],
   "source": [
    "dump(nt)"
   ]
  },
  {
   "cell_type": "markdown",
   "metadata": {
    "colab_type": "text",
    "id": "yXYEkJ0G57f2"
   },
   "source": [
    "The corresponding Python code is:\n",
    "\n",
    "```python\n",
    "# PYTHON\n",
    "from collections import namedtuple\n",
    "\n",
    "Rating = namedtuple(\"Rating\", [\"name\", \"category\", \"stars\"])\n",
    "nt = Rating(name=\"Julia\", category=\"Language\", stars=5)\n",
    "print(nt.name) # prints: Julia\n",
    "print(nt) # prints: Rating(name='Julia', category='Language', stars=5)\n",
    "```"
   ]
  },
  {
   "cell_type": "markdown",
   "metadata": {
    "colab_type": "text",
    "id": "MJFUxd06YdqY"
   },
   "source": [
    "# Structs\n",
    "Julia supports structs, which hold multiple named fields, a bit like named tuples:"
   ]
  },
  {
   "cell_type": "code",
   "execution_count": 99,
   "metadata": {
    "colab": {},
    "colab_type": "code",
    "id": "WhCs3HtJZK95"
   },
   "outputs": [],
   "source": [
    "struct Person\n",
    "    name\n",
    "    age\n",
    "end"
   ]
  },
  {
   "cell_type": "markdown",
   "metadata": {
    "colab_type": "text",
    "id": "G5oQzSt9Zx3L"
   },
   "source": [
    "Structs have a default constructor, which expects all the field values, in order:"
   ]
  },
  {
   "cell_type": "code",
   "execution_count": 100,
   "metadata": {
    "colab": {
     "base_uri": "https://localhost:8080/",
     "height": 34
    },
    "colab_type": "code",
    "id": "aXISSlv5Z8l6",
    "outputId": "b3e38275-1ecb-4fbb-f4c4-a924cf9f11fc"
   },
   "outputs": [
    {
     "data": {
      "text/plain": [
       "Person(\"Mary\", 30)"
      ]
     },
     "execution_count": 100,
     "metadata": {
      "tags": []
     },
     "output_type": "execute_result"
    }
   ],
   "source": [
    "p = Person(\"Mary\", 30)"
   ]
  },
  {
   "cell_type": "code",
   "execution_count": 101,
   "metadata": {
    "colab": {
     "base_uri": "https://localhost:8080/",
     "height": 34
    },
    "colab_type": "code",
    "id": "26v5EQ8YZ-JQ",
    "outputId": "be19536f-0c79-4928-8ad9-391de9ad81b0"
   },
   "outputs": [
    {
     "data": {
      "text/plain": [
       "30"
      ]
     },
     "execution_count": 101,
     "metadata": {
      "tags": []
     },
     "output_type": "execute_result"
    }
   ],
   "source": [
    "p.age"
   ]
  },
  {
   "cell_type": "markdown",
   "metadata": {
    "colab_type": "text",
    "id": "Tq30l3f1dHcn"
   },
   "source": [
    "You can create other constructors by creating functions with the same name as the struct:"
   ]
  },
  {
   "cell_type": "code",
   "execution_count": 102,
   "metadata": {
    "colab": {
     "base_uri": "https://localhost:8080/",
     "height": 34
    },
    "colab_type": "code",
    "id": "oS_GHuHpdPQx",
    "outputId": "7a2ef7a0-3693-4c03-e01f-e131e491b4dc"
   },
   "outputs": [
    {
     "data": {
      "text/plain": [
       "Person(\"no name\", -1)"
      ]
     },
     "execution_count": 102,
     "metadata": {
      "tags": []
     },
     "output_type": "execute_result"
    }
   ],
   "source": [
    "function Person(name)\n",
    "    Person(name, -1)\n",
    "end\n",
    "\n",
    "function Person()\n",
    "    Person(\"no name\")\n",
    "end\n",
    "\n",
    "p = Person()"
   ]
  },
  {
   "cell_type": "markdown",
   "metadata": {
    "colab_type": "text",
    "id": "MhHkPNXzeMwh"
   },
   "source": [
    "This creates two constructors: the second calls the first, which calls the default constructor. Notice that you can create multiple functions with the same name but different arguments. We will discuss this later."
   ]
  },
  {
   "cell_type": "markdown",
   "metadata": {
    "colab_type": "text",
    "id": "C_qV3JIyeial"
   },
   "source": [
    "These two constructors are called \"outer constructors\", since they are defined outside of the definition of the struct. You can also define \"inner constructors\":"
   ]
  },
  {
   "cell_type": "code",
   "execution_count": 103,
   "metadata": {
    "colab": {
     "base_uri": "https://localhost:8080/",
     "height": 34
    },
    "colab_type": "code",
    "id": "XuGp8ZJJe13y",
    "outputId": "70265526-007c-4db1-b7aa-708419254966"
   },
   "outputs": [
    {
     "data": {
      "text/plain": [
       "Person2(\"no name\", -1)"
      ]
     },
     "execution_count": 103,
     "metadata": {
      "tags": []
     },
     "output_type": "execute_result"
    }
   ],
   "source": [
    "struct Person2\n",
    "    name\n",
    "    age\n",
    "    function Person2(name)\n",
    "        new(name, -1)\n",
    "    end\n",
    "end\n",
    "\n",
    "function Person2()\n",
    "    Person2(\"no name\")\n",
    "end\n",
    "\n",
    "p = Person2()"
   ]
  },
  {
   "cell_type": "markdown",
   "metadata": {
    "colab_type": "text",
    "id": "m5qB9QHf1MMC"
   },
   "source": [
    "This time, the outer constructor calls the inner constructor, which calls the `new()` function. This `new()` function only works in inner constructors, and of course it creates an instance of the struct.\n",
    "\n",
    "When you define inner constructors, they replace the default constructor: "
   ]
  },
  {
   "cell_type": "code",
   "execution_count": 104,
   "metadata": {
    "colab": {
     "base_uri": "https://localhost:8080/",
     "height": 34
    },
    "colab_type": "code",
    "id": "_xLhbC9q2vC3",
    "outputId": "06d3d77b-c98f-41b1-a24d-852b38451c04"
   },
   "outputs": [
    {
     "data": {
      "text/plain": [
       "MethodError(Person2, (\"Bob\", 40), 0x0000000000006a29)"
      ]
     },
     "execution_count": 104,
     "metadata": {
      "tags": []
     },
     "output_type": "execute_result"
    }
   ],
   "source": [
    "try\n",
    "    Person2(\"Bob\", 40)\n",
    "catch ex\n",
    "    ex\n",
    "end"
   ]
  },
  {
   "cell_type": "markdown",
   "metadata": {
    "colab_type": "text",
    "id": "6eSrsaNi_mQ3"
   },
   "source": [
    "Structs usually have very few inner constructors (often just one), which do the heavy duty work, and the checks. Then they may have multiple outer constructors which are mostly there for convenience."
   ]
  },
  {
   "cell_type": "markdown",
   "metadata": {
    "colab_type": "text",
    "id": "HLJWvFSfaAHi"
   },
   "source": [
    "By default, structs are immutable:"
   ]
  },
  {
   "cell_type": "code",
   "execution_count": 105,
   "metadata": {
    "colab": {
     "base_uri": "https://localhost:8080/",
     "height": 34
    },
    "colab_type": "code",
    "id": "n9hhxkdvaYOY",
    "outputId": "1a90844a-fcbc-4de3-ac88-8c6a93b28cb2"
   },
   "outputs": [
    {
     "data": {
      "text/plain": [
       "ErrorException(\"setfield! immutable struct of type Person2 cannot be changed\")"
      ]
     },
     "execution_count": 105,
     "metadata": {
      "tags": []
     },
     "output_type": "execute_result"
    }
   ],
   "source": [
    "try\n",
    "    p.name = \"Someone\"\n",
    "catch ex\n",
    "    ex\n",
    "end"
   ]
  },
  {
   "cell_type": "markdown",
   "metadata": {
    "colab_type": "text",
    "id": "oqY3EFMKa1Px"
   },
   "source": [
    "However, it is possible to define a mutable struct:"
   ]
  },
  {
   "cell_type": "code",
   "execution_count": 106,
   "metadata": {
    "colab": {
     "base_uri": "https://localhost:8080/",
     "height": 34
    },
    "colab_type": "code",
    "id": "S5cNqzAma5H_",
    "outputId": "39f290b7-cf66-4d64-fdec-068cd1990d36"
   },
   "outputs": [
    {
     "data": {
      "text/plain": [
       "Person3(\"Lucy\", 80)"
      ]
     },
     "execution_count": 106,
     "metadata": {
      "tags": []
     },
     "output_type": "execute_result"
    }
   ],
   "source": [
    "mutable struct Person3\n",
    "    name\n",
    "    age\n",
    "end\n",
    "\n",
    "p = Person3(\"Lucy\", 79)\n",
    "p.age += 1\n",
    "p"
   ]
  },
  {
   "cell_type": "markdown",
   "metadata": {
    "colab_type": "text",
    "id": "XcMyQq4r7eam"
   },
   "source": [
    "Structs look a lot like Python classes, with instance variables and constructors, but where are the methods? We will discuss this later, in the \"Methods\" section."
   ]
  },
  {
   "cell_type": "markdown",
   "metadata": {
    "colab_type": "text",
    "id": "sXEjDf7jBjJi"
   },
   "source": [
    "# Arrays\n",
    "\n",
    "Let's create a small array:"
   ]
  },
  {
   "cell_type": "code",
   "execution_count": 107,
   "metadata": {
    "colab": {
     "base_uri": "https://localhost:8080/",
     "height": 102
    },
    "colab_type": "code",
    "id": "UFhriSyixCMX",
    "outputId": "4b5dfcdb-5849-47b7-b7b8-c534260f45b0"
   },
   "outputs": [
    {
     "data": {
      "text/plain": [
       "4-element Array{Int64,1}:\n",
       "  1\n",
       "  4\n",
       "  9\n",
       " 16"
      ]
     },
     "execution_count": 107,
     "metadata": {
      "tags": []
     },
     "output_type": "execute_result"
    }
   ],
   "source": [
    "a = [1, 4, 9, 16]"
   ]
  },
  {
   "cell_type": "markdown",
   "metadata": {
    "colab_type": "text",
    "id": "owVeZ9nLR2on"
   },
   "source": [
    "Indexing and assignments work as you would expect:"
   ]
  },
  {
   "cell_type": "code",
   "execution_count": 108,
   "metadata": {
    "colab": {
     "base_uri": "https://localhost:8080/",
     "height": 102
    },
    "colab_type": "code",
    "id": "yM4mNBfKR81J",
    "outputId": "86720f3d-a355-4093-a065-540e73b966e4"
   },
   "outputs": [
    {
     "data": {
      "text/plain": [
       "4-element Array{Int64,1}:\n",
       " 10\n",
       " 20\n",
       " 30\n",
       " 16"
      ]
     },
     "execution_count": 108,
     "metadata": {
      "tags": []
     },
     "output_type": "execute_result"
    }
   ],
   "source": [
    "a[1] = 10\n",
    "a[2:3] = [20, 30]\n",
    "a"
   ]
  },
  {
   "cell_type": "markdown",
   "metadata": {
    "colab_type": "text",
    "id": "bv_tPMOhxHtK"
   },
   "source": [
    "## Element Type\n",
    "Since we used only integers when creating the array, Julia inferred that the array is only meant to hold integers (NumPy arrays behave the same way). Let's try adding a string:"
   ]
  },
  {
   "cell_type": "code",
   "execution_count": 109,
   "metadata": {
    "colab": {
     "base_uri": "https://localhost:8080/",
     "height": 34
    },
    "colab_type": "code",
    "id": "XBiagA9b_YPR",
    "outputId": "44e5af4f-9f8c-47b6-db82-7855cfc2d4d0"
   },
   "outputs": [
    {
     "data": {
      "text/plain": [
       "MethodError(convert, (Int64, \"Three\"), 0x0000000000006a2a)"
      ]
     },
     "execution_count": 109,
     "metadata": {
      "tags": []
     },
     "output_type": "execute_result"
    }
   ],
   "source": [
    "try\n",
    "  a[3] = \"Three\"\n",
    "catch ex\n",
    "  ex\n",
    "end"
   ]
  },
  {
   "cell_type": "markdown",
   "metadata": {
    "colab_type": "text",
    "id": "T8EJ7y5HAgzz"
   },
   "source": [
    "Nope! We get a `MethodError` exception, telling us that Julia could not convert the string `\"Three\"` to a 64-bit integer (we will discuss exceptions later). If we want an array that can hold any type, like Python's lists can, we must prefix the array with `Any`, which is Julia's root type (like `object` in Python):"
   ]
  },
  {
   "cell_type": "code",
   "execution_count": 110,
   "metadata": {
    "colab": {
     "base_uri": "https://localhost:8080/",
     "height": 102
    },
    "colab_type": "code",
    "id": "VcsscYgVBX6Z",
    "outputId": "8a1c13e4-69fa-44d3-d8e4-108ddd7c8546"
   },
   "outputs": [
    {
     "data": {
      "text/plain": [
       "4-element Array{Any,1}:\n",
       "  1\n",
       "  4\n",
       "   \"Three\"\n",
       " 16"
      ]
     },
     "execution_count": 110,
     "metadata": {
      "tags": []
     },
     "output_type": "execute_result"
    }
   ],
   "source": [
    "a = Any[1, 4, 9, 16]\n",
    "a[3] = \"Three\"\n",
    "a"
   ]
  },
  {
   "cell_type": "markdown",
   "metadata": {
    "colab_type": "text",
    "id": "yekHWpLFPWUO"
   },
   "source": [
    "Prefixing with `Float64`, or `String` or any other type works as well:"
   ]
  },
  {
   "cell_type": "code",
   "execution_count": 111,
   "metadata": {
    "colab": {
     "base_uri": "https://localhost:8080/",
     "height": 102
    },
    "colab_type": "code",
    "id": "hR9x5VEmPfgO",
    "outputId": "d9077aa2-a385-4b94-f2a2-ec9927f9d748"
   },
   "outputs": [
    {
     "data": {
      "text/plain": [
       "4-element Array{Float64,1}:\n",
       "  1.0\n",
       "  4.0\n",
       "  9.0\n",
       " 16.0"
      ]
     },
     "execution_count": 111,
     "metadata": {
      "tags": []
     },
     "output_type": "execute_result"
    }
   ],
   "source": [
    "Float64[1, 4, 9, 16]"
   ]
  },
  {
   "cell_type": "markdown",
   "metadata": {
    "colab_type": "text",
    "id": "8-2ahduHoiRh"
   },
   "source": [
    "An empty array is automatically an `Any` array:"
   ]
  },
  {
   "cell_type": "code",
   "execution_count": 112,
   "metadata": {
    "colab": {
     "base_uri": "https://localhost:8080/",
     "height": 34
    },
    "colab_type": "code",
    "id": "eDMPVf5Oolnk",
    "outputId": "bbe3434d-aff1-4f95-fea4-1cb5b0e4d9b1"
   },
   "outputs": [
    {
     "data": {
      "text/plain": [
       "0-element Array{Any,1}"
      ]
     },
     "execution_count": 112,
     "metadata": {
      "tags": []
     },
     "output_type": "execute_result"
    }
   ],
   "source": [
    "a = []"
   ]
  },
  {
   "cell_type": "markdown",
   "metadata": {
    "colab_type": "text",
    "id": "zY4m8VX2PmXq"
   },
   "source": [
    "You can use the `eltype()` function to get an array's element type (the equivalent of NumPy arrays' `dtype`):"
   ]
  },
  {
   "cell_type": "code",
   "execution_count": 113,
   "metadata": {
    "colab": {
     "base_uri": "https://localhost:8080/",
     "height": 34
    },
    "colab_type": "code",
    "id": "zZN9rtpEPvGV",
    "outputId": "8516b935-4974-4f3b-b5a1-36805cad4c62"
   },
   "outputs": [
    {
     "data": {
      "text/plain": [
       "Int64"
      ]
     },
     "execution_count": 113,
     "metadata": {
      "tags": []
     },
     "output_type": "execute_result"
    }
   ],
   "source": [
    "eltype([1, 4, 9, 16])"
   ]
  },
  {
   "cell_type": "markdown",
   "metadata": {
    "colab_type": "text",
    "id": "RXavtfEvyx-I"
   },
   "source": [
    "If you create an array containing objects of different types, Julia will do its best to use a type that can hold all the values as precisely as possible. For example, a mix of integers and floats results in a float array:"
   ]
  },
  {
   "cell_type": "code",
   "execution_count": 114,
   "metadata": {
    "colab": {
     "base_uri": "https://localhost:8080/",
     "height": 102
    },
    "colab_type": "code",
    "id": "jovRNC9tzaWj",
    "outputId": "01205914-2591-49d9-ed77-fa0f58826cd9"
   },
   "outputs": [
    {
     "data": {
      "text/plain": [
       "4-element Array{Float64,1}:\n",
       " 1.0\n",
       " 2.0\n",
       " 3.0\n",
       " 4.0"
      ]
     },
     "execution_count": 114,
     "metadata": {
      "tags": []
     },
     "output_type": "execute_result"
    }
   ],
   "source": [
    "[1, 2, 3.0, 4.0]"
   ]
  },
  {
   "cell_type": "markdown",
   "metadata": {
    "colab_type": "text",
    "id": "Z8vqDB0U0A4p"
   },
   "source": [
    "This is similar to NumPy's behavior:\n",
    "\n",
    "```python\n",
    "# PYTHON\n",
    "np.array([1, 2, 3.0, 4.0]) # => array([1., 2., 3., 4.])\n",
    "```\n",
    "\n",
    "A mix of unrelated types results in an `Any` array:"
   ]
  },
  {
   "cell_type": "code",
   "execution_count": 115,
   "metadata": {
    "colab": {
     "base_uri": "https://localhost:8080/",
     "height": 102
    },
    "colab_type": "code",
    "id": "pgT5mGcV0Rrc",
    "outputId": "453bd503-add7-4395-9167-5035741c5044"
   },
   "outputs": [
    {
     "data": {
      "text/plain": [
       "4-element Array{Any,1}:\n",
       " 1\n",
       " 2\n",
       "  \"Three\"\n",
       " 4"
      ]
     },
     "execution_count": 115,
     "metadata": {
      "tags": []
     },
     "output_type": "execute_result"
    }
   ],
   "source": [
    "[1, 2, \"Three\", 4]"
   ]
  },
  {
   "cell_type": "markdown",
   "metadata": {
    "colab_type": "text",
    "id": "qqUknXIGB2r7"
   },
   "source": [
    "If you want to live in a world without type constraints, you can prefix all you arrays with `Any`, and you will feel like you're coding in Python. But I don't recommend it: the compiler can perform a bunch of optimizations when it knows exactly the type and size of the data the program will handle, so it will run much faster. So when you create an empty array but you know the type of the values it will contain, you might as well prefix it with that type (you don't have to, but it will speed up your program)."
   ]
  },
  {
   "cell_type": "markdown",
   "metadata": {
    "colab_type": "text",
    "id": "3oo7WzpiQB_h"
   },
   "source": [
    "## Push and Pop\n",
    "To append elements to an array, use the `push!()` function. By convention, functions whose name ends with a bang `!` may modify their arguments:"
   ]
  },
  {
   "cell_type": "code",
   "execution_count": 116,
   "metadata": {
    "colab": {
     "base_uri": "https://localhost:8080/",
     "height": 102
    },
    "colab_type": "code",
    "id": "m2vQfFEVCxII",
    "outputId": "e59e0e3f-62c1-4879-e2de-337dcc437588"
   },
   "outputs": [
    {
     "data": {
      "text/plain": [
       "4-element Array{Int64,1}:\n",
       "  1\n",
       "  4\n",
       "  9\n",
       " 16"
      ]
     },
     "execution_count": 116,
     "metadata": {
      "tags": []
     },
     "output_type": "execute_result"
    }
   ],
   "source": [
    "a = [1]\n",
    "push!(a, 4)\n",
    "push!(a, 9, 16)"
   ]
  },
  {
   "cell_type": "markdown",
   "metadata": {
    "colab_type": "text",
    "id": "2U8zIXG-cUge"
   },
   "source": [
    "This is similar to the following Python code:\n",
    "\n",
    "```python\n",
    "# PYTHON\n",
    "a = [1]\n",
    "a.append(4)\n",
    "a.extend([9, 16]) # or simply a += [9, 16]\n",
    "```"
   ]
  },
  {
   "cell_type": "markdown",
   "metadata": {
    "colab_type": "text",
    "id": "CCWoFNINU15g"
   },
   "source": [
    "And `pop!()` works like in Python:"
   ]
  },
  {
   "cell_type": "code",
   "execution_count": 117,
   "metadata": {
    "colab": {
     "base_uri": "https://localhost:8080/",
     "height": 34
    },
    "colab_type": "code",
    "id": "ie0iAIHtSXIW",
    "outputId": "abc5b804-aab9-4cff-df45-2b26c4abacec"
   },
   "outputs": [
    {
     "data": {
      "text/plain": [
       "16"
      ]
     },
     "execution_count": 117,
     "metadata": {
      "tags": []
     },
     "output_type": "execute_result"
    }
   ],
   "source": [
    "pop!(a)"
   ]
  },
  {
   "cell_type": "markdown",
   "metadata": {
    "colab_type": "text",
    "id": "0W67Y7JhVA3_"
   },
   "source": [
    "Equivalent to:\n",
    "\n",
    "```python\n",
    "# PYTHON\n",
    "a.pop()\n",
    "```"
   ]
  },
  {
   "cell_type": "markdown",
   "metadata": {
    "colab_type": "text",
    "id": "mY0L1GG_Upxz"
   },
   "source": [
    "There are many more functions you can call on an array. We will see later how to find them."
   ]
  },
  {
   "cell_type": "markdown",
   "metadata": {
    "colab_type": "text",
    "id": "4ZScNi5Rv8cM"
   },
   "source": [
    "## Multidimensional Arrays\n",
    "Importantly, Julia arrays can be multidimensional, just like NumPy arrays:"
   ]
  },
  {
   "cell_type": "code",
   "execution_count": 118,
   "metadata": {
    "colab": {
     "base_uri": "https://localhost:8080/",
     "height": 85
    },
    "colab_type": "code",
    "id": "hxfUbTc3wBob",
    "outputId": "d65ec123-2564-4a55-c2a2-d4a0214e7f15"
   },
   "outputs": [
    {
     "data": {
      "text/plain": [
       "3×4 Array{Int64,2}:\n",
       " 1   2   3   4\n",
       " 5   6   7   8\n",
       " 9  10  11  12"
      ]
     },
     "execution_count": 118,
     "metadata": {
      "tags": []
     },
     "output_type": "execute_result"
    }
   ],
   "source": [
    "M = [1   2   3   4\n",
    "     5   6   7   8\n",
    "     9  10  11  12]"
   ]
  },
  {
   "cell_type": "markdown",
   "metadata": {
    "colab_type": "text",
    "id": "sFlaq_4kwbde"
   },
   "source": [
    "Another syntax for this is:"
   ]
  },
  {
   "cell_type": "code",
   "execution_count": 119,
   "metadata": {
    "colab": {
     "base_uri": "https://localhost:8080/",
     "height": 85
    },
    "colab_type": "code",
    "id": "wetBEg8HwhWJ",
    "outputId": "4f3f5327-41b5-469f-f589-de218fba8205"
   },
   "outputs": [
    {
     "data": {
      "text/plain": [
       "3×4 Array{Int64,2}:\n",
       " 1   2   3   4\n",
       " 5   6   7   8\n",
       " 9  10  11  12"
      ]
     },
     "execution_count": 119,
     "metadata": {
      "tags": []
     },
     "output_type": "execute_result"
    }
   ],
   "source": [
    "M = [1 2 3 4; 5 6 7 8; 9 10 11 12]"
   ]
  },
  {
   "cell_type": "markdown",
   "metadata": {
    "colab_type": "text",
    "id": "atfjWzUmwIgw"
   },
   "source": [
    "You can index them much like NumPy arrays:"
   ]
  },
  {
   "cell_type": "code",
   "execution_count": 120,
   "metadata": {
    "colab": {
     "base_uri": "https://localhost:8080/",
     "height": 68
    },
    "colab_type": "code",
    "id": "GhtdjnYQwLka",
    "outputId": "a7b121bc-9fb0-4f9b-fedb-7b0ff6418dff"
   },
   "outputs": [
    {
     "data": {
      "text/plain": [
       "2×2 Array{Int64,2}:\n",
       "  7   8\n",
       " 11  12"
      ]
     },
     "execution_count": 120,
     "metadata": {
      "tags": []
     },
     "output_type": "execute_result"
    }
   ],
   "source": [
    "M[2:3, 3:4]"
   ]
  },
  {
   "cell_type": "markdown",
   "metadata": {
    "colab_type": "text",
    "id": "4frazS3zXPQT"
   },
   "source": [
    "You can transpose a matrix using the \"adjoint\" operator `'`:"
   ]
  },
  {
   "cell_type": "code",
   "execution_count": 121,
   "metadata": {
    "colab": {
     "base_uri": "https://localhost:8080/",
     "height": 102
    },
    "colab_type": "code",
    "id": "ydWdJ1eFXVbJ",
    "outputId": "a4f46f46-4c4f-4d25-a4f9-6feb8cf1ec22"
   },
   "outputs": [
    {
     "data": {
      "text/plain": [
       "4×3 LinearAlgebra.Adjoint{Int64,Array{Int64,2}}:\n",
       " 1  5   9\n",
       " 2  6  10\n",
       " 3  7  11\n",
       " 4  8  12"
      ]
     },
     "execution_count": 121,
     "metadata": {
      "tags": []
     },
     "output_type": "execute_result"
    }
   ],
   "source": [
    "M'"
   ]
  },
  {
   "cell_type": "markdown",
   "metadata": {
    "colab_type": "text",
    "id": "A032EIww_NsU"
   },
   "source": [
    "As you can see, Julia arrays are closer to NumPy arrays than to Python lists.\n"
   ]
  },
  {
   "cell_type": "markdown",
   "metadata": {
    "colab_type": "text",
    "id": "NnY2DL_YCPmZ"
   },
   "source": [
    "Arrays can be concatenated vertically using the `vcat()` function:"
   ]
  },
  {
   "cell_type": "code",
   "execution_count": 122,
   "metadata": {
    "colab": {
     "base_uri": "https://localhost:8080/",
     "height": 102
    },
    "colab_type": "code",
    "id": "pTazNcWZ_-8e",
    "outputId": "822f31a1-aa18-42a3-f6bc-51bb0460c898"
   },
   "outputs": [
    {
     "data": {
      "text/plain": [
       "4×2 Array{Int64,2}:\n",
       " 1  2\n",
       " 3  4\n",
       " 5  6\n",
       " 7  8"
      ]
     },
     "execution_count": 122,
     "metadata": {
      "tags": []
     },
     "output_type": "execute_result"
    }
   ],
   "source": [
    "M1 = [1 2\n",
    "      3 4]\n",
    "M2 = [5 6\n",
    "      7 8]\n",
    "vcat(M1, M2)"
   ]
  },
  {
   "cell_type": "markdown",
   "metadata": {
    "colab_type": "text",
    "id": "GPjPb-cCCZI5"
   },
   "source": [
    "Alternatively, you can use the `[M1; M2]` syntax:"
   ]
  },
  {
   "cell_type": "code",
   "execution_count": 123,
   "metadata": {
    "colab": {
     "base_uri": "https://localhost:8080/",
     "height": 102
    },
    "colab_type": "code",
    "id": "DOnN1wVOCp9z",
    "outputId": "95545d2e-fd1f-49b2-e337-629f1d3d1a34"
   },
   "outputs": [
    {
     "data": {
      "text/plain": [
       "4×2 Array{Int64,2}:\n",
       " 1  2\n",
       " 3  4\n",
       " 5  6\n",
       " 7  8"
      ]
     },
     "execution_count": 123,
     "metadata": {
      "tags": []
     },
     "output_type": "execute_result"
    }
   ],
   "source": [
    "[M1; M2]"
   ]
  },
  {
   "cell_type": "markdown",
   "metadata": {
    "colab_type": "text",
    "id": "wvq9sUdOCtJR"
   },
   "source": [
    "To concatenate arrays horizontally, use `hcat()`:"
   ]
  },
  {
   "cell_type": "code",
   "execution_count": 124,
   "metadata": {
    "colab": {
     "base_uri": "https://localhost:8080/",
     "height": 68
    },
    "colab_type": "code",
    "id": "Xj7s5cedCLJy",
    "outputId": "dc7d3824-4871-447f-9472-eb1f20d9481a"
   },
   "outputs": [
    {
     "data": {
      "text/plain": [
       "2×4 Array{Int64,2}:\n",
       " 1  2  5  6\n",
       " 3  4  7  8"
      ]
     },
     "execution_count": 124,
     "metadata": {
      "tags": []
     },
     "output_type": "execute_result"
    }
   ],
   "source": [
    "hcat(M1, M2)"
   ]
  },
  {
   "cell_type": "markdown",
   "metadata": {
    "colab_type": "text",
    "id": "ciffAqpeC2dX"
   },
   "source": [
    "Or you can use the `[M1 M2]` syntax:"
   ]
  },
  {
   "cell_type": "code",
   "execution_count": 125,
   "metadata": {
    "colab": {
     "base_uri": "https://localhost:8080/",
     "height": 68
    },
    "colab_type": "code",
    "id": "XxSWzDXhC08W",
    "outputId": "127d8df3-ac05-49ba-804f-68207b29b9b1"
   },
   "outputs": [
    {
     "data": {
      "text/plain": [
       "2×4 Array{Int64,2}:\n",
       " 1  2  5  6\n",
       " 3  4  7  8"
      ]
     },
     "execution_count": 125,
     "metadata": {
      "tags": []
     },
     "output_type": "execute_result"
    }
   ],
   "source": [
    "[M1 M2]"
   ]
  },
  {
   "cell_type": "markdown",
   "metadata": {
    "colab_type": "text",
    "id": "OhQoXAiyGge9"
   },
   "source": [
    "You can combine horizontal and vertical concatenation:"
   ]
  },
  {
   "cell_type": "code",
   "execution_count": 126,
   "metadata": {
    "colab": {
     "base_uri": "https://localhost:8080/",
     "height": 85
    },
    "colab_type": "code",
    "id": "ra4Xe-Cv_PKl",
    "outputId": "3aa398d9-2a83-47e0-d0bc-72cb18f18b8f"
   },
   "outputs": [
    {
     "data": {
      "text/plain": [
       "3×4 Array{Int64,2}:\n",
       " 1   2   5   6\n",
       " 3   4   7   8\n",
       " 9  10  11  12"
      ]
     },
     "execution_count": 126,
     "metadata": {
      "tags": []
     },
     "output_type": "execute_result"
    }
   ],
   "source": [
    "M3 = [9 10 11 12]\n",
    "[M1 M2; M3]"
   ]
  },
  {
   "cell_type": "markdown",
   "metadata": {
    "colab_type": "text",
    "id": "sQllnyjlIBfB"
   },
   "source": [
    "Equivalently, you can call the `hvcat()` function. The first argument specifies the number of arguments to concatenate in each block row:"
   ]
  },
  {
   "cell_type": "code",
   "execution_count": 127,
   "metadata": {
    "colab": {
     "base_uri": "https://localhost:8080/",
     "height": 85
    },
    "colab_type": "code",
    "id": "Lv63KdpLEN4N",
    "outputId": "ab2832ac-2f9d-44df-c5e8-3fb3ee7199e0"
   },
   "outputs": [
    {
     "data": {
      "text/plain": [
       "3×4 Array{Int64,2}:\n",
       " 1   2   5   6\n",
       " 3   4   7   8\n",
       " 9  10  11  12"
      ]
     },
     "execution_count": 127,
     "metadata": {
      "tags": []
     },
     "output_type": "execute_result"
    }
   ],
   "source": [
    "hvcat((2, 1), M1, M2, M3)"
   ]
  },
  {
   "cell_type": "markdown",
   "metadata": {
    "colab_type": "text",
    "id": "e40Z6cdzWM2K"
   },
   "source": [
    "`hvcat()` is useful to create a single cell matrix:"
   ]
  },
  {
   "cell_type": "code",
   "execution_count": 128,
   "metadata": {
    "colab": {
     "base_uri": "https://localhost:8080/",
     "height": 51
    },
    "colab_type": "code",
    "id": "KP-WjRlPzzSR",
    "outputId": "e7513371-3c70-4bae-bd01-0cff2320b63b"
   },
   "outputs": [
    {
     "data": {
      "text/plain": [
       "1×1 Array{Int64,2}:\n",
       " 42"
      ]
     },
     "execution_count": 128,
     "metadata": {
      "tags": []
     },
     "output_type": "execute_result"
    }
   ],
   "source": [
    "hvcat(1, 42)"
   ]
  },
  {
   "cell_type": "markdown",
   "metadata": {
    "colab_type": "text",
    "id": "4xWYHOGgzvOr"
   },
   "source": [
    " Or a column vector (i.e., an _n_×1 matrix = a matrix with a single column):"
   ]
  },
  {
   "cell_type": "code",
   "execution_count": 129,
   "metadata": {
    "colab": {
     "base_uri": "https://localhost:8080/",
     "height": 85
    },
    "colab_type": "code",
    "id": "NhVPed-TWW6b",
    "outputId": "f81f5cb6-9de9-403a-ee88-6990d663e3a7"
   },
   "outputs": [
    {
     "data": {
      "text/plain": [
       "3×1 Array{Int64,2}:\n",
       " 10\n",
       " 11\n",
       " 12"
      ]
     },
     "execution_count": 129,
     "metadata": {
      "tags": []
     },
     "output_type": "execute_result"
    }
   ],
   "source": [
    "hvcat((1, 1, 1), 10, 11, 12) # a column vector with values 10, 11, 12\n",
    "hvcat(1, 10, 11, 12) # equivalent to the previous line"
   ]
  },
  {
   "cell_type": "markdown",
   "metadata": {
    "colab_type": "text",
    "id": "pVTtq2RyWfSD"
   },
   "source": [
    "Alternatively, you can transpose a row vector (but `hvcat()` is a bit faster):"
   ]
  },
  {
   "cell_type": "code",
   "execution_count": 130,
   "metadata": {
    "colab": {
     "base_uri": "https://localhost:8080/",
     "height": 85
    },
    "colab_type": "code",
    "id": "9d8inKAGWjTr",
    "outputId": "e16a1608-988d-441f-e410-7acb7dd6f07f"
   },
   "outputs": [
    {
     "data": {
      "text/plain": [
       "3×1 LinearAlgebra.Adjoint{Int64,Array{Int64,2}}:\n",
       " 10\n",
       " 11\n",
       " 12"
      ]
     },
     "execution_count": 130,
     "metadata": {
      "tags": []
     },
     "output_type": "execute_result"
    }
   ],
   "source": [
    "[10 11 12]'"
   ]
  },
  {
   "cell_type": "markdown",
   "metadata": {
    "colab_type": "text",
    "id": "f75W5yn5OiEC"
   },
   "source": [
    "The REPL and IJulia call `display()` to print the result of the last expression in a cell (except when it is `nothing`). It is fairly verbose:"
   ]
  },
  {
   "cell_type": "code",
   "execution_count": 131,
   "metadata": {
    "colab": {
     "base_uri": "https://localhost:8080/",
     "height": 102
    },
    "colab_type": "code",
    "id": "9zTEV0mpOzm9",
    "outputId": "f3664aac-bf26-44ea-fced-66f2b83ef3d3"
   },
   "outputs": [
    {
     "data": {
      "text/plain": [
       "4-element Array{Int64,1}:\n",
       " 1\n",
       " 2\n",
       " 3\n",
       " 4"
      ]
     },
     "metadata": {
      "tags": []
     },
     "output_type": "display_data"
    }
   ],
   "source": [
    "display([1, 2, 3, 4])"
   ]
  },
  {
   "cell_type": "markdown",
   "metadata": {
    "colab_type": "text",
    "id": "gMWooHYTO7NU"
   },
   "source": [
    "The `println()` function is more concise, but be careful not to confuse vectors, column vectors and row vectors (printed with commas, semi-colons and spaces, respectively):"
   ]
  },
  {
   "cell_type": "code",
   "execution_count": 132,
   "metadata": {
    "colab": {
     "base_uri": "https://localhost:8080/",
     "height": 85
    },
    "colab_type": "code",
    "id": "Xw2He_XbPQbz",
    "outputId": "cfa0c28a-1ac9-4f56-d4c0-0288651ffe62"
   },
   "outputs": [
    {
     "name": "stdout",
     "output_type": "stream",
     "text": [
      "Vector: [1, 2, 3, 4]\n",
      "Column vector: [1; 2; 3; 4]\n",
      "Row vector: [1 2 3 4]\n",
      "Matrix: [1 2 3; 4 5 6]\n"
     ]
    }
   ],
   "source": [
    "println(\"Vector: \", [1, 2, 3, 4])\n",
    "println(\"Column vector: \", hvcat(1, 1, 2, 3, 4))\n",
    "println(\"Row vector: \", [1 2 3 4])\n",
    "println(\"Matrix: \", [1 2 3; 4 5 6])"
   ]
  },
  {
   "cell_type": "markdown",
   "metadata": {
    "colab_type": "text",
    "id": "8yjMLNP2M3Ip"
   },
   "source": [
    "Although column vectors are printed as `[1; 2; 3; 4]`, evaluating `[1; 2; 3; 4]` will give you a regular vector. That's because `[x;y]` concatenates `x` and `y` vertically, and if `x` and `y` are scalars or vectors, you just get a regular vector."
   ]
  },
  {
   "cell_type": "markdown",
   "metadata": {
    "colab_type": "text",
    "id": "bdnpqswqyrp8"
   },
   "source": [
    "|Julia|Python\n",
    "|-----|------\n",
    "|`a = [1, 2, 3]` | `a = [1, 2, 3]`<br />or<br />`import numpy as np`<br />`np.array([1, 2, 3])`\n",
    "|`a[1]` | `a[0]`\n",
    "|`a[end]` | `a[-1]`\n",
    "|`a[2:end-1]` | `a[1:-1]`\n",
    "|`push!(a, 5)` | `a.append(5)`\n",
    "|`pop!(a)` | `a.pop()`\n",
    "|`M = [1 2 3]` | `np.array([[1, 2, 3]])`\n",
    "|`M = [1 2 3]'` | `np.array([[1, 2, 3]]).T`\n",
    "|`M = hvcat(1,  1, 2, 3)` | `np.array([[1], [2], [3]])`\n",
    "|`M = [1 2 3`<br />&nbsp; &nbsp; &nbsp; &nbsp; &nbsp; &nbsp;`4 5 6]`<br />or<br />`M = [1 2 3; 4 5 6]` | `M = np.array([[1,2,3], [4,5,6]])`\n",
    "|`M[1:2, 2:3]` | `M[0:2, 1:3]`\n",
    "|`[M1; M2]` | `np.r_[M1, M2]`\n",
    "|`[M1  M2]` | `np.c_[M1, M2]`\n",
    "|`[M1 M2; M3]` | `np.r_[np.c_[M1, M2], M3]`\n"
   ]
  },
  {
   "cell_type": "markdown",
   "metadata": {
    "colab_type": "text",
    "id": "raewgAnU9YIv"
   },
   "source": [
    "## Comprehensions\n",
    "List comprehensions are available in Julia, just like in Python (they're usually just called \"comprehensions\" in Julia):"
   ]
  },
  {
   "cell_type": "code",
   "execution_count": 133,
   "metadata": {
    "colab": {
     "base_uri": "https://localhost:8080/",
     "height": 102
    },
    "colab_type": "code",
    "id": "H8B6Tk429aTV",
    "outputId": "746a5987-6f1e-4a5e-f94d-d3b0554f57b7"
   },
   "outputs": [
    {
     "data": {
      "text/plain": [
       "4-element Array{Int64,1}:\n",
       "  1\n",
       "  4\n",
       "  9\n",
       " 16"
      ]
     },
     "execution_count": 133,
     "metadata": {
      "tags": []
     },
     "output_type": "execute_result"
    }
   ],
   "source": [
    "a = [x^2 for x in 1:4]"
   ]
  },
  {
   "cell_type": "markdown",
   "metadata": {
    "colab_type": "text",
    "id": "1W4O8W3bQsIn"
   },
   "source": [
    "You can filter elements using an `if` clause, just like in Python:"
   ]
  },
  {
   "cell_type": "code",
   "execution_count": 134,
   "metadata": {
    "colab": {
     "base_uri": "https://localhost:8080/",
     "height": 85
    },
    "colab_type": "code",
    "id": "pK4bZX6LQzNF",
    "outputId": "ceba51ae-1d51-4e2f-a952-4bb4776a70f3"
   },
   "outputs": [
    {
     "data": {
      "text/plain": [
       "3-element Array{Int64,1}:\n",
       "  1\n",
       "  9\n",
       " 25"
      ]
     },
     "execution_count": 134,
     "metadata": {
      "tags": []
     },
     "output_type": "execute_result"
    }
   ],
   "source": [
    "a = [x^2 for x in 1:5 if x ∉ (2, 4)]"
   ]
  },
  {
   "cell_type": "markdown",
   "metadata": {
    "colab_type": "text",
    "id": "E6UjXo-wRpdf"
   },
   "source": [
    "* `a ∉ b` is equivalent to `!(a in b)` (or `a not in b` in Python). You can type `∉` with `\\notin<tab>`\n",
    "* `a ∈ b` is equivalent to `a in b`. You can type it with `\\in<tab>`"
   ]
  },
  {
   "cell_type": "markdown",
   "metadata": {
    "colab_type": "text",
    "id": "6R3umUN4Qq1x"
   },
   "source": [
    "In Julia, comprehensions can contain nested loops, just like in Python:"
   ]
  },
  {
   "cell_type": "code",
   "execution_count": 135,
   "metadata": {
    "colab": {
     "base_uri": "https://localhost:8080/",
     "height": 136
    },
    "colab_type": "code",
    "id": "o7-yPeiSlY96",
    "outputId": "dc8d0fe4-12f2-4490-bb40-ca614c83be0e"
   },
   "outputs": [
    {
     "data": {
      "text/plain": [
       "6-element Array{Tuple{Int64,Int64},1}:\n",
       " (1, 1)\n",
       " (2, 1)\n",
       " (2, 2)\n",
       " (3, 1)\n",
       " (3, 2)\n",
       " (3, 3)"
      ]
     },
     "execution_count": 135,
     "metadata": {
      "tags": []
     },
     "output_type": "execute_result"
    }
   ],
   "source": [
    "a = [(i,j) for i in 1:3 for j in 1:i]"
   ]
  },
  {
   "cell_type": "markdown",
   "metadata": {
    "colab_type": "text",
    "id": "tgmDLO9-ljg2"
   },
   "source": [
    "Here's the corresponding Python code:\n",
    "\n",
    "```python\n",
    "# PYTHON\n",
    "a = [(i, j) for i in range(1, 4) for j in range(1, i+1)]\n",
    "```"
   ]
  },
  {
   "cell_type": "markdown",
   "metadata": {
    "colab_type": "text",
    "id": "1d06vVpLi9pS"
   },
   "source": [
    "Julia comprehensions can also create multi-dimensional arrays (note the different syntax: there is only one `for`):"
   ]
  },
  {
   "cell_type": "code",
   "execution_count": 136,
   "metadata": {
    "colab": {
     "base_uri": "https://localhost:8080/",
     "height": 85
    },
    "colab_type": "code",
    "id": "gx9M3oLFjHsp",
    "outputId": "e930acc8-fb00-4729-8d49-bb7dabb8e079"
   },
   "outputs": [
    {
     "data": {
      "text/plain": [
       "3×5 Array{Int64,2}:\n",
       " 1  2  3   4   5\n",
       " 2  4  6   8  10\n",
       " 3  6  9  12  15"
      ]
     },
     "execution_count": 136,
     "metadata": {
      "tags": []
     },
     "output_type": "execute_result"
    }
   ],
   "source": [
    "a = [row * col for row in 1:3, col in 1:5]"
   ]
  },
  {
   "cell_type": "markdown",
   "metadata": {
    "colab_type": "text",
    "id": "8_MgIEMeg69D"
   },
   "source": [
    "# Dictionaries\n",
    "The syntax for dictionaries is a bit different than Python:"
   ]
  },
  {
   "cell_type": "code",
   "execution_count": 137,
   "metadata": {
    "colab": {
     "base_uri": "https://localhost:8080/",
     "height": 34
    },
    "colab_type": "code",
    "id": "IwBc2os7g9Yr",
    "outputId": "5a2c457a-64dc-478d-ddb6-cca8e7e36ffe"
   },
   "outputs": [
    {
     "name": "stdout",
     "output_type": "stream",
     "text": [
      "arbre\n"
     ]
    }
   ],
   "source": [
    "d = Dict(\"tree\"=>\"arbre\", \"love\"=>\"amour\", \"coffee\"=>\"café\")\n",
    "println(d[\"tree\"])"
   ]
  },
  {
   "cell_type": "code",
   "execution_count": 138,
   "metadata": {
    "colab": {
     "base_uri": "https://localhost:8080/",
     "height": 34
    },
    "colab_type": "code",
    "id": "rZoY383Qhaus",
    "outputId": "076464a0-98d3-461e-ed2f-ca2f43500957"
   },
   "outputs": [
    {
     "name": "stdout",
     "output_type": "stream",
     "text": [
      "pardon?\n"
     ]
    }
   ],
   "source": [
    "println(get(d, \"unknown\", \"pardon?\"))"
   ]
  },
  {
   "cell_type": "code",
   "execution_count": 139,
   "metadata": {
    "colab": {
     "base_uri": "https://localhost:8080/",
     "height": 85
    },
    "colab_type": "code",
    "id": "GOk28cgEjsjG",
    "outputId": "4164e02b-4fdc-4600-823a-4f2fb4d2da75"
   },
   "outputs": [
    {
     "data": {
      "text/plain": [
       "Base.KeySet for a Dict{String,String} with 3 entries. Keys:\n",
       "  \"coffee\"\n",
       "  \"tree\"\n",
       "  \"love\""
      ]
     },
     "execution_count": 139,
     "metadata": {
      "tags": []
     },
     "output_type": "execute_result"
    }
   ],
   "source": [
    "keys(d)"
   ]
  },
  {
   "cell_type": "code",
   "execution_count": 140,
   "metadata": {
    "colab": {
     "base_uri": "https://localhost:8080/",
     "height": 85
    },
    "colab_type": "code",
    "id": "xrt3-wu7j6TI",
    "outputId": "4fc614cf-bbf2-4045-909c-2b53135f8c3c"
   },
   "outputs": [
    {
     "data": {
      "text/plain": [
       "Base.ValueIterator for a Dict{String,String} with 3 entries. Values:\n",
       "  \"café\"\n",
       "  \"arbre\"\n",
       "  \"amour\""
      ]
     },
     "execution_count": 140,
     "metadata": {
      "tags": []
     },
     "output_type": "execute_result"
    }
   ],
   "source": [
    "values(d)"
   ]
  },
  {
   "cell_type": "code",
   "execution_count": 141,
   "metadata": {
    "colab": {
     "base_uri": "https://localhost:8080/",
     "height": 34
    },
    "colab_type": "code",
    "id": "J2kRT8MGj8Wo",
    "outputId": "e26ec8bf-7c1e-4c5a-ebe2-a0b523099c7a"
   },
   "outputs": [
    {
     "data": {
      "text/plain": [
       "true"
      ]
     },
     "execution_count": 141,
     "metadata": {
      "tags": []
     },
     "output_type": "execute_result"
    }
   ],
   "source": [
    "haskey(d, \"love\")"
   ]
  },
  {
   "cell_type": "code",
   "execution_count": 142,
   "metadata": {
    "colab": {
     "base_uri": "https://localhost:8080/",
     "height": 34
    },
    "colab_type": "code",
    "id": "PABOOmVSkJ6l",
    "outputId": "2611cf3a-0385-4886-9a2c-3db7a60146fe"
   },
   "outputs": [
    {
     "data": {
      "text/plain": [
       "true"
      ]
     },
     "execution_count": 142,
     "metadata": {
      "tags": []
     },
     "output_type": "execute_result"
    }
   ],
   "source": [
    "\"love\" in keys(d) # this is slower than haskey()"
   ]
  },
  {
   "cell_type": "markdown",
   "metadata": {
    "colab_type": "text",
    "id": "xfL2ZXK6hlEt"
   },
   "source": [
    "The equivalent Python code is of course:\n",
    "\n",
    "```python\n",
    "d = {\"tree\": \"arbre\", \"love\": \"amour\", \"coffee\": \"café\"}\n",
    "d[\"tree\"]\n",
    "d.get(\"unknown\", \"pardon?\")\n",
    "d.keys()\n",
    "d.values()\n",
    "\"love\" in d\n",
    "\"love\" in d.keys()\n",
    "```"
   ]
  },
  {
   "cell_type": "markdown",
   "metadata": {
    "colab_type": "text",
    "id": "8MI_Oti4h2sz"
   },
   "source": [
    "Dict comprehensions work as you would expect:"
   ]
  },
  {
   "cell_type": "code",
   "execution_count": 143,
   "metadata": {
    "colab": {
     "base_uri": "https://localhost:8080/",
     "height": 119
    },
    "colab_type": "code",
    "id": "ck21M2RIiEWw",
    "outputId": "6905a51b-b6a6-4cff-8af8-6ba80bba6320"
   },
   "outputs": [
    {
     "data": {
      "text/plain": [
       "Dict{Int64,Int64} with 5 entries:\n",
       "  4 => 16\n",
       "  2 => 4\n",
       "  3 => 9\n",
       "  5 => 25\n",
       "  1 => 1"
      ]
     },
     "execution_count": 143,
     "metadata": {
      "tags": []
     },
     "output_type": "execute_result"
    }
   ],
   "source": [
    "d = Dict(i=>i^2 for i in 1:5)"
   ]
  },
  {
   "cell_type": "markdown",
   "metadata": {
    "colab_type": "text",
    "id": "yeyP5pbQiK4-"
   },
   "source": [
    "Note that the items (aka \"pairs\" in Julia) are shuffled, since dictionaries are hash-based, like in Python (although Python sorts them by key for display).\n",
    "\n",
    "You can easily iterate through the dictionary's pairs like this:"
   ]
  },
  {
   "cell_type": "code",
   "execution_count": 144,
   "metadata": {
    "colab": {
     "base_uri": "https://localhost:8080/",
     "height": 102
    },
    "colab_type": "code",
    "id": "GJ1PcdDHiouw",
    "outputId": "1bdcb284-e27b-4495-abd1-460d3aba6ba6"
   },
   "outputs": [
    {
     "name": "stdout",
     "output_type": "stream",
     "text": [
      "4 maps to 16\n",
      "2 maps to 4\n",
      "3 maps to 9\n",
      "5 maps to 25\n",
      "1 maps to 1\n"
     ]
    }
   ],
   "source": [
    "for (k, v) in d\n",
    "    println(\"$k maps to $v\")\n",
    "end"
   ]
  },
  {
   "cell_type": "markdown",
   "metadata": {
    "colab_type": "text",
    "id": "oSjOvDGxi-DS"
   },
   "source": [
    "The equivalent code in Python is:\n",
    "\n",
    "```python\n",
    "# PYTHON\n",
    "d = {i: i**2 for i in range(1, 6)}\n",
    "for k, v in d.items():\n",
    "    print(f\"{k} maps to {v}\")\n",
    "```"
   ]
  },
  {
   "cell_type": "markdown",
   "metadata": {
    "colab_type": "text",
    "id": "b5Ea2USET5jD"
   },
   "source": [
    "And you can merge dictionaries like this:"
   ]
  },
  {
   "cell_type": "code",
   "execution_count": 145,
   "metadata": {
    "colab": {
     "base_uri": "https://localhost:8080/",
     "height": 102
    },
    "colab_type": "code",
    "id": "dkNkluLJT7zD",
    "outputId": "789b103e-6379-4562-9c4f-4412b454bdda"
   },
   "outputs": [
    {
     "data": {
      "text/plain": [
       "Dict{String,String} with 4 entries:\n",
       "  \"car\"    => \"voiture\"\n",
       "  \"coffee\" => \"café\"\n",
       "  \"tree\"   => \"arbre\"\n",
       "  \"love\"   => \"aimer\""
      ]
     },
     "execution_count": 145,
     "metadata": {
      "tags": []
     },
     "output_type": "execute_result"
    }
   ],
   "source": [
    "d1 = Dict(\"tree\"=>\"arbre\", \"love\"=>\"amour\", \"coffee\"=>\"café\")\n",
    "d2 = Dict(\"car\"=>\"voiture\", \"love\"=>\"aimer\")\n",
    "\n",
    "d = merge(d1, d2)"
   ]
  },
  {
   "cell_type": "markdown",
   "metadata": {
    "colab_type": "text",
    "id": "B1WRTtDXUSCt"
   },
   "source": [
    "Notice that the second dictionary has priority in case of conflict (it's `\"love\" => \"aimer\"`, not `\"love\" => \"amour\"`)."
   ]
  },
  {
   "cell_type": "markdown",
   "metadata": {
    "colab_type": "text",
    "id": "vpIXgc-4Umc8"
   },
   "source": [
    "In Python, this would be:\n",
    "\n",
    "```python\n",
    "# PYTHON\n",
    "d1 = {\"tree\": \"arbre\", \"love\": \"amour\", \"coffee\": \"café\"}\n",
    "d2 = {\"car\": \"voiture\", \"love\": \"aimer\"}\n",
    "d = {**d1, **d2}\n",
    "```"
   ]
  },
  {
   "cell_type": "markdown",
   "metadata": {
    "colab_type": "text",
    "id": "zu39af1MVaKB"
   },
   "source": [
    "Or if you want to update the first dictionary instead of creating a new one:"
   ]
  },
  {
   "cell_type": "code",
   "execution_count": 146,
   "metadata": {
    "colab": {
     "base_uri": "https://localhost:8080/",
     "height": 102
    },
    "colab_type": "code",
    "id": "5_kcU7WTVhIN",
    "outputId": "11ce572a-387d-4235-ca9f-8aaa2c0e1400"
   },
   "outputs": [
    {
     "data": {
      "text/plain": [
       "Dict{String,String} with 4 entries:\n",
       "  \"car\"    => \"voiture\"\n",
       "  \"coffee\" => \"café\"\n",
       "  \"tree\"   => \"arbre\"\n",
       "  \"love\"   => \"aimer\""
      ]
     },
     "execution_count": 146,
     "metadata": {
      "tags": []
     },
     "output_type": "execute_result"
    }
   ],
   "source": [
    "merge!(d1, d2)"
   ]
  },
  {
   "cell_type": "markdown",
   "metadata": {
    "colab_type": "text",
    "id": "9h_NjAmAVmBd"
   },
   "source": [
    "In Python, that's:\n",
    "\n",
    "```python\n",
    "# PYTHON\n",
    "d1.update(d2)\n",
    "```"
   ]
  },
  {
   "cell_type": "markdown",
   "metadata": {
    "colab_type": "text",
    "id": "6_-ibdMnjP8a"
   },
   "source": [
    "In Julia, each pair is an actual `Pair` object:"
   ]
  },
  {
   "cell_type": "code",
   "execution_count": 147,
   "metadata": {
    "colab": {
     "base_uri": "https://localhost:8080/",
     "height": 51
    },
    "colab_type": "code",
    "id": "a85m1lmJjVPP",
    "outputId": "4159af58-c7ee-442f-af13-81f3594490a0"
   },
   "outputs": [
    {
     "name": "stdout",
     "output_type": "stream",
     "text": [
      "Pair{String,String}\n",
      "tree maps to arbre\n"
     ]
    }
   ],
   "source": [
    "p = \"tree\" => \"arbre\"\n",
    "println(typeof(p))\n",
    "k, v = p\n",
    "println(\"$k maps to $v\")"
   ]
  },
  {
   "cell_type": "markdown",
   "metadata": {
    "colab_type": "text",
    "id": "mOCYFiB3N5s8"
   },
   "source": [
    "Note that any object for which a `hash()` method is implemented can be used as a key in a dictionary. This includes all the basic types like integers, floats, as well as string, tuples, etc. But it also includes arrays! In Julia, you have the freedom to use arrays as keys (unlike in Python), but make sure not to mutate these arrays after insertion, or else things will break! Indeed, the pairs will be stored in memory in a location that depends on the hash of the key at insertion time, so if that key changes afterwards, you won't be able to find the pair anymore:"
   ]
  },
  {
   "cell_type": "code",
   "execution_count": 148,
   "metadata": {
    "colab": {
     "base_uri": "https://localhost:8080/",
     "height": 85
    },
    "colab_type": "code",
    "id": "0bYNOLHiOgnl",
    "outputId": "af634150-9856-42f7-da19-c3cc304e5df4"
   },
   "outputs": [
    {
     "name": "stdout",
     "output_type": "stream",
     "text": [
      "The dictionary is: Dict([1, 2, 3] => \"My array\")\n",
      "Indexing works fine as long as the array is unchanged: My array\n",
      "This is the dictionary now: Dict([10, 2, 3] => \"My array\")\n"
     ]
    },
    {
     "data": {
      "text/plain": [
       "KeyError([10, 2, 3])"
      ]
     },
     "execution_count": 148,
     "metadata": {
      "tags": []
     },
     "output_type": "execute_result"
    }
   ],
   "source": [
    "a = [1, 2, 3]\n",
    "d = Dict(a => \"My array\")\n",
    "println(\"The dictionary is: $d\")\n",
    "println(\"Indexing works fine as long as the array is unchanged: \", d[a])\n",
    "a[1] = 10\n",
    "println(\"This is the dictionary now: $d\")\n",
    "try\n",
    "    println(\"Key changed, indexing is now broken: \", d[a])\n",
    "catch ex\n",
    "    ex\n",
    "end"
   ]
  },
  {
   "cell_type": "markdown",
   "metadata": {
    "colab_type": "text",
    "id": "zr26SHedQJTE"
   },
   "source": [
    "However, it's still possible to iterate through the keys, the values or the pairs:"
   ]
  },
  {
   "cell_type": "code",
   "execution_count": 149,
   "metadata": {
    "colab": {
     "base_uri": "https://localhost:8080/",
     "height": 34
    },
    "colab_type": "code",
    "id": "5e6eZEq9QUt4",
    "outputId": "7c2107c2-f6a6-45d8-a24f-012d7eb7112c"
   },
   "outputs": [
    {
     "name": "stdout",
     "output_type": "stream",
     "text": [
      "[10, 2, 3] => \"My array\"\n"
     ]
    }
   ],
   "source": [
    "for pair in d\n",
    "    println(pair)\n",
    "end"
   ]
  },
  {
   "cell_type": "markdown",
   "metadata": {
    "colab_type": "text",
    "id": "Ie9QcVsYWDFh"
   },
   "source": [
    "|Julia|Python\n",
    "|-----|------\n",
    "|`Dict(\"tree\"=>\"arbre\", \"love\"=>\"amour\")` | `{\"tree\": \"arbre\", \"love\": \"amour\"}`\n",
    "|`d[\"arbre\"]` | `d[\"arbre\"]`\n",
    "|`get(d, \"unknown\", \"default\")` | `d.get(\"unknown\", \"default\")`\n",
    "|`keys(d)` | `d.keys()`\n",
    "|`values(d)` | `d.values()`\n",
    "|`haskey(d, k)` | `k in d`\n",
    "|`Dict(i=>i^2 for i in 1:4)` | `{i: i**2 for i in 1:4}`\n",
    "|`for (k, v) in d` | `for k, v in d.items():`\n",
    "|`merge(d1, d2)` | `{**d1, **d2}`\n",
    "|`merge!(d1, d2)` | `d1.update(d2)`"
   ]
  },
  {
   "cell_type": "markdown",
   "metadata": {
    "colab_type": "text",
    "id": "rTWmi1P8jlDq"
   },
   "source": [
    "# Sets"
   ]
  },
  {
   "cell_type": "markdown",
   "metadata": {
    "colab_type": "text",
    "id": "WlTKQaxxmLde"
   },
   "source": [
    "Let's create a couple sets:"
   ]
  },
  {
   "cell_type": "code",
   "execution_count": 150,
   "metadata": {
    "colab": {
     "base_uri": "https://localhost:8080/",
     "height": 119
    },
    "colab_type": "code",
    "id": "sQ_wNw0Mjmqs",
    "outputId": "aa711bee-67ae-4423-fd54-75a0ad551d56"
   },
   "outputs": [
    {
     "data": {
      "text/plain": [
       "Set{Int64} with 5 elements:\n",
       "  7\n",
       "  2\n",
       "  3\n",
       "  11\n",
       "  5"
      ]
     },
     "execution_count": 150,
     "metadata": {
      "tags": []
     },
     "output_type": "execute_result"
    }
   ],
   "source": [
    "odd = Set([1, 3, 5, 7, 9, 11])\n",
    "prime = Set([2, 3, 5, 7, 11])"
   ]
  },
  {
   "cell_type": "markdown",
   "metadata": {
    "colab_type": "text",
    "id": "w7JZBRWbsqiL"
   },
   "source": [
    "The order of sets is not guaranteed, just like in Python."
   ]
  },
  {
   "cell_type": "markdown",
   "metadata": {
    "colab_type": "text",
    "id": "JEQ96Ljkm_0R"
   },
   "source": [
    "Use `in` or `∈` (type `\\in<tab>`) to check whether a set contains a given value:"
   ]
  },
  {
   "cell_type": "code",
   "execution_count": 151,
   "metadata": {
    "colab": {
     "base_uri": "https://localhost:8080/",
     "height": 34
    },
    "colab_type": "code",
    "id": "oRd2gpWvm9mF",
    "outputId": "30bd4e83-e5bf-405c-d626-af20e348772c"
   },
   "outputs": [
    {
     "data": {
      "text/plain": [
       "true"
      ]
     },
     "execution_count": 151,
     "metadata": {
      "tags": []
     },
     "output_type": "execute_result"
    }
   ],
   "source": [
    "5 ∈ odd"
   ]
  },
  {
   "cell_type": "code",
   "execution_count": 152,
   "metadata": {
    "colab": {
     "base_uri": "https://localhost:8080/",
     "height": 34
    },
    "colab_type": "code",
    "id": "pRQN8XNWnQgj",
    "outputId": "b63a37f8-f383-404a-efde-28ec6c4c05eb"
   },
   "outputs": [
    {
     "data": {
      "text/plain": [
       "true"
      ]
     },
     "execution_count": 152,
     "metadata": {
      "tags": []
     },
     "output_type": "execute_result"
    }
   ],
   "source": [
    "5 in odd"
   ]
  },
  {
   "cell_type": "markdown",
   "metadata": {
    "colab_type": "text",
    "id": "WyBv6ethnRw8"
   },
   "source": [
    "Both of these expressions are equivalent to:"
   ]
  },
  {
   "cell_type": "code",
   "execution_count": 153,
   "metadata": {
    "colab": {
     "base_uri": "https://localhost:8080/",
     "height": 34
    },
    "colab_type": "code",
    "id": "Twamj50pnXQE",
    "outputId": "f5c46af7-196d-4519-8e9e-f67cc2d3fe87"
   },
   "outputs": [
    {
     "data": {
      "text/plain": [
       "true"
      ]
     },
     "execution_count": 153,
     "metadata": {
      "tags": []
     },
     "output_type": "execute_result"
    }
   ],
   "source": [
    "in(5, odd)"
   ]
  },
  {
   "cell_type": "markdown",
   "metadata": {
    "colab_type": "text",
    "id": "MHQ5qnLZmPhR"
   },
   "source": [
    "Now let's get the union of these two sets:"
   ]
  },
  {
   "cell_type": "code",
   "execution_count": 154,
   "metadata": {
    "colab": {
     "base_uri": "https://localhost:8080/",
     "height": 153
    },
    "colab_type": "code",
    "id": "mfuMOXDdmGKA",
    "outputId": "d03512cb-cce4-4975-8ad3-566d0228b6bb"
   },
   "outputs": [
    {
     "data": {
      "text/plain": [
       "Set{Int64} with 7 elements:\n",
       "  7\n",
       "  9\n",
       "  2\n",
       "  3\n",
       "  11\n",
       "  5\n",
       "  1"
      ]
     },
     "execution_count": 154,
     "metadata": {
      "tags": []
     },
     "output_type": "execute_result"
    }
   ],
   "source": [
    "odd ∪ prime"
   ]
  },
  {
   "cell_type": "markdown",
   "metadata": {
    "colab_type": "text",
    "id": "xS6GLhE5mRbD"
   },
   "source": [
    "∪ is the union symbol, not a U. To type this character, type `\\cup<tab>` (it has the shape of a cup). Alternatively, you can just use the `union()` function:"
   ]
  },
  {
   "cell_type": "code",
   "execution_count": 155,
   "metadata": {
    "colab": {
     "base_uri": "https://localhost:8080/",
     "height": 153
    },
    "colab_type": "code",
    "id": "G_yju4QvmerU",
    "outputId": "e62c997d-80ef-4c7a-ebdb-86c8c8993b22"
   },
   "outputs": [
    {
     "data": {
      "text/plain": [
       "Set{Int64} with 7 elements:\n",
       "  7\n",
       "  9\n",
       "  2\n",
       "  3\n",
       "  11\n",
       "  5\n",
       "  1"
      ]
     },
     "execution_count": 155,
     "metadata": {
      "tags": []
     },
     "output_type": "execute_result"
    }
   ],
   "source": [
    "union(odd, prime)"
   ]
  },
  {
   "cell_type": "markdown",
   "metadata": {
    "colab_type": "text",
    "id": "Y8l4331img0-"
   },
   "source": [
    "Now let's get the intersection using the ∩ symbol (type `\\cap<tab>`):"
   ]
  },
  {
   "cell_type": "code",
   "execution_count": 156,
   "metadata": {
    "colab": {
     "base_uri": "https://localhost:8080/",
     "height": 102
    },
    "colab_type": "code",
    "id": "NazqlxbGmkZM",
    "outputId": "7a466361-b41c-498d-fe1f-b1e45a439eb1"
   },
   "outputs": [
    {
     "data": {
      "text/plain": [
       "Set{Int64} with 4 elements:\n",
       "  7\n",
       "  3\n",
       "  11\n",
       "  5"
      ]
     },
     "execution_count": 156,
     "metadata": {
      "tags": []
     },
     "output_type": "execute_result"
    }
   ],
   "source": [
    "odd ∩ prime"
   ]
  },
  {
   "cell_type": "markdown",
   "metadata": {
    "colab_type": "text",
    "id": "X9-MDgxWmzXl"
   },
   "source": [
    "Or use the `intersect()` function:"
   ]
  },
  {
   "cell_type": "code",
   "execution_count": 157,
   "metadata": {
    "colab": {
     "base_uri": "https://localhost:8080/",
     "height": 102
    },
    "colab_type": "code",
    "id": "zcEEMfG4m1l9",
    "outputId": "ad125fef-dd61-4edd-9962-804908593dee"
   },
   "outputs": [
    {
     "data": {
      "text/plain": [
       "Set{Int64} with 4 elements:\n",
       "  7\n",
       "  3\n",
       "  11\n",
       "  5"
      ]
     },
     "execution_count": 157,
     "metadata": {
      "tags": []
     },
     "output_type": "execute_result"
    }
   ],
   "source": [
    "intersect(odd, prime)"
   ]
  },
  {
   "cell_type": "markdown",
   "metadata": {
    "colab_type": "text",
    "id": "QSMs88owpLb2"
   },
   "source": [
    "Next, let's get the [set difference](https://en.wikipedia.org/wiki/Complement_(set_theory)#Relative_complement) and the [symetric difference](https://en.wikipedia.org/wiki/Symmetric_difference) between these two sets:"
   ]
  },
  {
   "cell_type": "code",
   "execution_count": 158,
   "metadata": {
    "colab": {
     "base_uri": "https://localhost:8080/",
     "height": 68
    },
    "colab_type": "code",
    "id": "-Tpr5_BBpQH_",
    "outputId": "acb6fdfc-9cb5-42b4-c08f-6096c9e13d52"
   },
   "outputs": [
    {
     "data": {
      "text/plain": [
       "Set{Int64} with 2 elements:\n",
       "  9\n",
       "  1"
      ]
     },
     "execution_count": 158,
     "metadata": {
      "tags": []
     },
     "output_type": "execute_result"
    }
   ],
   "source": [
    "setdiff(odd, prime) # values in odd but not in prime"
   ]
  },
  {
   "cell_type": "code",
   "execution_count": 159,
   "metadata": {
    "colab": {
     "base_uri": "https://localhost:8080/",
     "height": 85
    },
    "colab_type": "code",
    "id": "of_EQE1CpvpO",
    "outputId": "7ee809e3-46d6-4038-8b8c-b51acaddec61"
   },
   "outputs": [
    {
     "data": {
      "text/plain": [
       "Set{Int64} with 3 elements:\n",
       "  9\n",
       "  2\n",
       "  1"
      ]
     },
     "execution_count": 159,
     "metadata": {
      "tags": []
     },
     "output_type": "execute_result"
    }
   ],
   "source": [
    "symdiff(odd, prime) # values that are not in the intersection"
   ]
  },
  {
   "cell_type": "markdown",
   "metadata": {
    "colab_type": "text",
    "id": "NH_-NbzPsSQ_"
   },
   "source": [
    "Lastly, set comprehensions work just fine:"
   ]
  },
  {
   "cell_type": "code",
   "execution_count": 160,
   "metadata": {
    "colab": {
     "base_uri": "https://localhost:8080/",
     "height": 102
    },
    "colab_type": "code",
    "id": "LMIiE-0psXvs",
    "outputId": "eb8f23be-2593-4824-bca9-2c13211d1ae4"
   },
   "outputs": [
    {
     "data": {
      "text/plain": [
       "Set{Int64} with 4 elements:\n",
       "  4\n",
       "  9\n",
       "  16\n",
       "  1"
      ]
     },
     "execution_count": 160,
     "metadata": {
      "tags": []
     },
     "output_type": "execute_result"
    }
   ],
   "source": [
    "Set([i^2 for i in 1:4])"
   ]
  },
  {
   "cell_type": "markdown",
   "metadata": {
    "colab_type": "text",
    "id": "DBJ4XaVmoeUY"
   },
   "source": [
    "The equivalent Python code is:\n",
    "\n",
    "```python\n",
    "# PYTHON\n",
    "odds = {1, 3, 5, 7, 9, 11}\n",
    "primes = {2, 3, 5, 7, 11}\n",
    "5 in primes\n",
    "odds | primes # union\n",
    "odds.union(primes)\n",
    "odds & primes # intersection\n",
    "odds.intersection(primes)\n",
    "odds - primes # set difference\n",
    "odds.difference(primes)\n",
    "odds ^ primes # symmetric difference\n",
    "odds.symmetric_difference(primes)\n",
    "{i**2 for i in range(1, 5)}\n",
    "```"
   ]
  },
  {
   "cell_type": "markdown",
   "metadata": {
    "colab_type": "text",
    "id": "vm1zWNsJRcFV"
   },
   "source": [
    "Note that you can store any hashable object in a `Set` (i.e., any instance of a type for which the `hash()` method is implemented). This includes arrays, unlike in Python. Just like for dictionary keys, you can add arrays to sets, but make sure not to mutate them after insertion."
   ]
  },
  {
   "cell_type": "markdown",
   "metadata": {
    "colab_type": "text",
    "id": "nPrJ9Ih9X4ak"
   },
   "source": [
    "|Julia|Python\n",
    "|-----|------\n",
    "|`Set([1, 3, 5, 7])` | `{1, 3, 5, 7}`\n",
    "|`5 in odd` | `5 in odd`\n",
    "|`Set([i^2 for i in 1:4])` | `{i**2 for i in range(1, 5)}`\n",
    "|`odd ∪ primes` | `odd | primes`\n",
    "|`union(odd, primes)` | `odd.union(primes)`\n",
    "|`odd ∩ primes` | `odd & primes`\n",
    "|`insersect(odd, primes)` | `odd.intersection(primes)`\n",
    "|`setdiff(odd, primes)` | `odd - primes` or `odd.difference(primes)`\n",
    "|`symdiff(odd, primes)` | `odd ^ primes` or `odd.symmetric_difference(primes)`"
   ]
  },
  {
   "cell_type": "markdown",
   "metadata": {
    "colab_type": "text",
    "id": "AOfz9B7ZF__1"
   },
   "source": [
    "# Enums"
   ]
  },
  {
   "cell_type": "markdown",
   "metadata": {
    "colab_type": "text",
    "id": "RozBUdxsGgKv"
   },
   "source": [
    "To create an enum, use the `@enum` macro:"
   ]
  },
  {
   "cell_type": "code",
   "execution_count": 161,
   "metadata": {
    "colab": {},
    "colab_type": "code",
    "id": "R6HMPDyvGB_k"
   },
   "outputs": [],
   "source": [
    "@enum Fruit apple=1 banana=2 orange=3"
   ]
  },
  {
   "cell_type": "markdown",
   "metadata": {
    "colab_type": "text",
    "id": "dxFUJ9boGmkh"
   },
   "source": [
    "This creates the `Fruit` enum, with 3 possible values. It also binds the names to the values:"
   ]
  },
  {
   "cell_type": "code",
   "execution_count": 162,
   "metadata": {
    "colab": {
     "base_uri": "https://localhost:8080/",
     "height": 34
    },
    "colab_type": "code",
    "id": "czHDZ6MRGUvL",
    "outputId": "548bcd90-16bb-4588-87f4-64f3cfe7b6be"
   },
   "outputs": [
    {
     "data": {
      "text/plain": [
       "banana::Fruit = 2"
      ]
     },
     "execution_count": 162,
     "metadata": {
      "tags": []
     },
     "output_type": "execute_result"
    }
   ],
   "source": [
    "banana"
   ]
  },
  {
   "cell_type": "markdown",
   "metadata": {
    "colab_type": "text",
    "id": "7ufyorAsGvzv"
   },
   "source": [
    "Or you can get a `Fruit` instance using the value:"
   ]
  },
  {
   "cell_type": "code",
   "execution_count": 163,
   "metadata": {
    "colab": {
     "base_uri": "https://localhost:8080/",
     "height": 34
    },
    "colab_type": "code",
    "id": "NVgfYUBWGObS",
    "outputId": "aade685b-b02b-405e-e2b1-a81394d48107"
   },
   "outputs": [
    {
     "data": {
      "text/plain": [
       "banana::Fruit = 2"
      ]
     },
     "execution_count": 163,
     "metadata": {
      "tags": []
     },
     "output_type": "execute_result"
    }
   ],
   "source": [
    "Fruit(2)"
   ]
  },
  {
   "cell_type": "markdown",
   "metadata": {
    "colab_type": "text",
    "id": "ctxEepMNG_-4"
   },
   "source": [
    "And you can get all the instances of the enum easily:"
   ]
  },
  {
   "cell_type": "code",
   "execution_count": 164,
   "metadata": {
    "colab": {
     "base_uri": "https://localhost:8080/",
     "height": 34
    },
    "colab_type": "code",
    "id": "yPy9trwtGR1y",
    "outputId": "2064ba5d-2253-4fce-9c5b-208c97333245"
   },
   "outputs": [
    {
     "data": {
      "text/plain": [
       "(apple, banana, orange)"
      ]
     },
     "execution_count": 164,
     "metadata": {
      "tags": []
     },
     "output_type": "execute_result"
    }
   ],
   "source": [
    "instances(Fruit)"
   ]
  },
  {
   "cell_type": "markdown",
   "metadata": {
    "colab_type": "text",
    "id": "bBCsVIXEHD29"
   },
   "source": [
    "|Julia|Python\n",
    "|-----|------\n",
    "|`@enum Fruit apple=1 banana=2 orange=3` | `from enum import Enum`<br />`class Fruit(Enum):`<br />&nbsp;&nbsp;&nbsp;&nbsp;`APPLE = 1`<br />&nbsp;&nbsp;&nbsp;&nbsp;`BANANA = 2`<br />&nbsp;&nbsp;&nbsp;&nbsp;`ORANGE = 3`\n",
    "| `Fruit(2) === banana` | `Fruit(2) is Fruit.BANANA`\n",
    "| `instances(Fruit)` | `dir(Fruit)`\n"
   ]
  },
  {
   "cell_type": "markdown",
   "metadata": {
    "colab_type": "text",
    "id": "7OOe0m7pLj80"
   },
   "source": [
    "# Object Identity\n",
    "In the previous example, `Fruit(2)` and `banana` refer to the same object, not just two objects that happen to be equal. You can verify using the `===` operator, which is the equivalent of Python's `is` operator:"
   ]
  },
  {
   "cell_type": "code",
   "execution_count": 165,
   "metadata": {
    "colab": {
     "base_uri": "https://localhost:8080/",
     "height": 34
    },
    "colab_type": "code",
    "id": "G6cpTrQcGUP4",
    "outputId": "5a90dd02-3129-43e8-ce73-406ca4342d95"
   },
   "outputs": [
    {
     "data": {
      "text/plain": [
       "true"
      ]
     },
     "execution_count": 165,
     "metadata": {
      "tags": []
     },
     "output_type": "execute_result"
    }
   ],
   "source": [
    "banana === Fruit(2)"
   ]
  },
  {
   "cell_type": "markdown",
   "metadata": {
    "colab_type": "text",
    "id": "4QPR-8TeL5Wy"
   },
   "source": [
    "You can also check this by looking at their `objectid()`, which is the equivalent of Python's `id()` function:"
   ]
  },
  {
   "cell_type": "code",
   "execution_count": 166,
   "metadata": {
    "colab": {
     "base_uri": "https://localhost:8080/",
     "height": 34
    },
    "colab_type": "code",
    "id": "q6qYhWnyMBpf",
    "outputId": "b941b959-ce6e-405b-8fa8-026ed1bf3359"
   },
   "outputs": [
    {
     "data": {
      "text/plain": [
       "0x360d21ab82c8ee67"
      ]
     },
     "execution_count": 166,
     "metadata": {
      "tags": []
     },
     "output_type": "execute_result"
    }
   ],
   "source": [
    "objectid(banana)"
   ]
  },
  {
   "cell_type": "code",
   "execution_count": 167,
   "metadata": {
    "colab": {
     "base_uri": "https://localhost:8080/",
     "height": 34
    },
    "colab_type": "code",
    "id": "sT3hq8f_MEZN",
    "outputId": "fd1fc25c-6c2f-4948-9c41-d5eeee33b4a3"
   },
   "outputs": [
    {
     "data": {
      "text/plain": [
       "0x360d21ab82c8ee67"
      ]
     },
     "execution_count": 167,
     "metadata": {
      "tags": []
     },
     "output_type": "execute_result"
    }
   ],
   "source": [
    "objectid(Fruit(2))"
   ]
  },
  {
   "cell_type": "code",
   "execution_count": 168,
   "metadata": {
    "colab": {},
    "colab_type": "code",
    "id": "4ZrS4322MKfN"
   },
   "outputs": [],
   "source": [
    "a = [1, 2, 4]\n",
    "b = [1, 2, 4]\n",
    "@assert a == b  # a and b are equal\n",
    "@assert a !== b # but they are not the same object"
   ]
  },
  {
   "cell_type": "markdown",
   "metadata": {
    "colab_type": "text",
    "id": "K3EO6cQmMW0W"
   },
   "source": [
    "|Julia|Python\n",
    "|-----|------\n",
    "|`a === b` | `a is b`\n",
    "|`a !== b` | `a is not b`\n",
    "|`objectid(obj)` | `id(obj)`"
   ]
  },
  {
   "cell_type": "markdown",
   "metadata": {
    "colab_type": "text",
    "id": "d_ATAuXREZx9"
   },
   "source": [
    "# Other Collections\n",
    "\n",
    "For the Julia equivalent of Python's other collections, namely `defaultdict`, `deque`, `OrderedDict`, and `Counter`, check out these libraries:\n",
    "\n",
    "* https://github.com/JuliaCollections/DataStructures.jl\n",
    "* https://github.com/JuliaCollections/OrderedCollections.jl\n",
    "* https://github.com/andyferris/Dictionaries.jl"
   ]
  },
  {
   "cell_type": "markdown",
   "metadata": {
    "colab_type": "text",
    "id": "GBYBDAsF6iDC"
   },
   "source": [
    "Now let's looks at various iteration constructs."
   ]
  },
  {
   "cell_type": "markdown",
   "metadata": {
    "colab_type": "text",
    "id": "jApml2wDacs2"
   },
   "source": [
    "# Iteration Tools"
   ]
  },
  {
   "cell_type": "markdown",
   "metadata": {
    "colab_type": "text",
    "id": "AW2vVurj9E7r"
   },
   "source": [
    "## Generator Expressions\n",
    "\n",
    "Just like in Python, a generator expression resembles a list comprehension, but without the square brackets, and it returns a generator instead of a list. Here's a much shorter implementation of the `estimate_pi()` function using a generator expression:"
   ]
  },
  {
   "cell_type": "code",
   "execution_count": 169,
   "metadata": {
    "colab": {},
    "colab_type": "code",
    "id": "7pLMhQjV6z5l"
   },
   "outputs": [],
   "source": [
    "function estimate_pi2(n)\n",
    "    4 * sum((isodd(i) ? -1 : 1)/(2i+1) for i in 0:n)\n",
    "end\n",
    "\n",
    "@assert estimate_pi(100) == estimate_pi2(100)"
   ]
  },
  {
   "cell_type": "markdown",
   "metadata": {
    "colab_type": "text",
    "id": "u-WAtc-eDcp9"
   },
   "source": [
    "That's very similar to the corresponding Python code:\n",
    "\n",
    "```python\n",
    "# PYTHON\n",
    "def estimate_pi2(n):\n",
    "  return 4 * sum((-1 if i%2==1 else 1)/(2*i+1) for i in range(n+1))\n",
    "\n",
    "assert estimate_pi(100) == estimate_pi2(100)\n",
    "```"
   ]
  },
  {
   "cell_type": "markdown",
   "metadata": {
    "colab_type": "text",
    "id": "OHaPPceEKO3r"
   },
   "source": [
    "## `zip`, `enumerate`, `collect`"
   ]
  },
  {
   "cell_type": "markdown",
   "metadata": {
    "colab_type": "text",
    "id": "GBj2mvbiI9cP"
   },
   "source": [
    "The `zip()` function works much like in Python:"
   ]
  },
  {
   "cell_type": "code",
   "execution_count": 170,
   "metadata": {
    "colab": {
     "base_uri": "https://localhost:8080/",
     "height": 68
    },
    "colab_type": "code",
    "id": "-UsOasVeJCWe",
    "outputId": "73812428-29f8-4443-bb9f-c0ac43d60bc2"
   },
   "outputs": [
    {
     "name": "stdout",
     "output_type": "stream",
     "text": [
      "10: Ten\n",
      "11: Eleven\n",
      "12: Twelve\n"
     ]
    }
   ],
   "source": [
    "for (i, s) in zip(10:13, [\"Ten\", \"Eleven\", \"Twelve\"])\n",
    "    println(i, \": \", s)\n",
    "end"
   ]
  },
  {
   "cell_type": "markdown",
   "metadata": {
    "colab_type": "text",
    "id": "hu_eJ7okKolh"
   },
   "source": [
    "Notice that the parentheses in `for (i, s)` are required in Julia, as opposed to Python."
   ]
  },
  {
   "cell_type": "markdown",
   "metadata": {
    "colab_type": "text",
    "id": "3y2q4YhNJOQy"
   },
   "source": [
    "The `enumerate()` function also works like in Python, except of course it is 1-indexed:"
   ]
  },
  {
   "cell_type": "code",
   "execution_count": 171,
   "metadata": {
    "colab": {
     "base_uri": "https://localhost:8080/",
     "height": 68
    },
    "colab_type": "code",
    "id": "bCTejeu0Ji_8",
    "outputId": "c6c1ebf6-22ff-441b-d9a0-10b60ffe5dc2"
   },
   "outputs": [
    {
     "name": "stdout",
     "output_type": "stream",
     "text": [
      "1: One\n",
      "2: Two\n",
      "3: Three\n"
     ]
    }
   ],
   "source": [
    "for (i, s) in enumerate([\"One\", \"Two\", \"Three\"])\n",
    "    println(i, \": \", s)\n",
    "end"
   ]
  },
  {
   "cell_type": "markdown",
   "metadata": {
    "colab_type": "text",
    "id": "vs4_UjWnJy20"
   },
   "source": [
    "To pull the values of a generator into an array, use `collect()`:"
   ]
  },
  {
   "cell_type": "code",
   "execution_count": 172,
   "metadata": {
    "colab": {
     "base_uri": "https://localhost:8080/",
     "height": 119
    },
    "colab_type": "code",
    "id": "42T1NJKhKD1w",
    "outputId": "2d853d90-90f0-4e4a-aaba-9d3f4e2133e8"
   },
   "outputs": [
    {
     "data": {
      "text/plain": [
       "5-element Array{Int64,1}:\n",
       " 1\n",
       " 2\n",
       " 3\n",
       " 4\n",
       " 5"
      ]
     },
     "execution_count": 172,
     "metadata": {
      "tags": []
     },
     "output_type": "execute_result"
    }
   ],
   "source": [
    "collect(1:5)"
   ]
  },
  {
   "cell_type": "markdown",
   "metadata": {
    "colab_type": "text",
    "id": "MQMx3bjkKFpk"
   },
   "source": [
    "A shorter syntax for that is:"
   ]
  },
  {
   "cell_type": "code",
   "execution_count": 173,
   "metadata": {
    "colab": {
     "base_uri": "https://localhost:8080/",
     "height": 119
    },
    "colab_type": "code",
    "id": "2IEoo_TvKIDm",
    "outputId": "d2703258-5891-40eb-f0dd-9fa685079602"
   },
   "outputs": [
    {
     "data": {
      "text/plain": [
       "5-element Array{Int64,1}:\n",
       " 1\n",
       " 2\n",
       " 3\n",
       " 4\n",
       " 5"
      ]
     },
     "execution_count": 173,
     "metadata": {
      "tags": []
     },
     "output_type": "execute_result"
    }
   ],
   "source": [
    "[1:5;]"
   ]
  },
  {
   "cell_type": "markdown",
   "metadata": {
    "colab_type": "text",
    "id": "gbub1jhlKc0V"
   },
   "source": [
    "The equivalent Python code is:\n",
    "\n",
    "```python\n",
    "# PYTHON\n",
    "list(range(1, 6))\n",
    "```"
   ]
  },
  {
   "cell_type": "markdown",
   "metadata": {
    "colab_type": "text",
    "id": "CumclAQ4TTpq"
   },
   "source": [
    "## Generators\n",
    "In Python, you can easily write a generator function to create an object that will behave like an iterator. For example, let's create a generator for the Fibonacci sequence (where each number is the sum of the two previous numbers):\n",
    "\n",
    "```python\n",
    "def fibonacci(n):\n",
    "    a, b = 1, 1\n",
    "    for i in range(n):\n",
    "      yield a\n",
    "      a, b = b, a + b\n",
    "\n",
    "for f in fibonacci(10):\n",
    "    print(f)\n",
    "```\n"
   ]
  },
  {
   "cell_type": "markdown",
   "metadata": {
    "colab_type": "text",
    "id": "bfjsba6gFcMS"
   },
   "source": [
    "This is also quite easy in Julia:"
   ]
  },
  {
   "cell_type": "code",
   "execution_count": 174,
   "metadata": {
    "colab": {
     "base_uri": "https://localhost:8080/",
     "height": 187
    },
    "colab_type": "code",
    "id": "cQZ0cowPUC8x",
    "outputId": "9cdb577c-23ce-4c58-894d-642e9ddc5f33"
   },
   "outputs": [
    {
     "name": "stdout",
     "output_type": "stream",
     "text": [
      "1\n",
      "1\n",
      "2\n",
      "3\n",
      "5\n",
      "8\n",
      "13\n",
      "21\n",
      "34\n",
      "55\n"
     ]
    }
   ],
   "source": [
    "function fibonacci(n)\n",
    "    Channel() do ch\n",
    "        a, b = 1, 1\n",
    "        for i in 1:n\n",
    "            put!(ch, a)\n",
    "            a, b = b, a + b\n",
    "        end\n",
    "    end\n",
    "end\n",
    "\n",
    "for f in fibonacci(10)\n",
    "    println(f)\n",
    "end"
   ]
  },
  {
   "cell_type": "markdown",
   "metadata": {
    "colab_type": "text",
    "id": "VWkUE9FRFfQI"
   },
   "source": [
    "The `Channel` type is part of the API for tasks and coroutines. We'll discuss these later."
   ]
  },
  {
   "cell_type": "markdown",
   "metadata": {
    "colab_type": "text",
    "id": "lisTUktNlbQt"
   },
   "source": [
    "Now let's take a closer look at functions."
   ]
  },
  {
   "cell_type": "markdown",
   "metadata": {
    "colab_type": "text",
    "id": "jKpjTHMbao6r"
   },
   "source": [
    "# Functions"
   ]
  },
  {
   "cell_type": "markdown",
   "metadata": {
    "colab_type": "text",
    "id": "k-IIQF4vP7w9"
   },
   "source": [
    "## Arguments\n",
    "Julia functions supports positional arguments and default values:"
   ]
  },
  {
   "cell_type": "code",
   "execution_count": 175,
   "metadata": {
    "colab": {
     "base_uri": "https://localhost:8080/",
     "height": 34
    },
    "colab_type": "code",
    "id": "BnVg7UKNQQ4M",
    "outputId": "d67de002-08f7-494b-d9d3-0673fdda524d"
   },
   "outputs": [
    {
     "name": "stdout",
     "output_type": "stream",
     "text": [
      "x=10, y=20, width=30, height=4\n"
     ]
    }
   ],
   "source": [
    "function draw_face(x, y, width=3, height=4)\n",
    "    println(\"x=$x, y=$y, width=$width, height=$height\")\n",
    "end\n",
    "\n",
    "draw_face(10, 20, 30)"
   ]
  },
  {
   "cell_type": "markdown",
   "metadata": {
    "colab_type": "text",
    "id": "AmKSe9fYRMxb"
   },
   "source": [
    "However, unlike in Python, positional arguments must not be named when the function is called:"
   ]
  },
  {
   "cell_type": "code",
   "execution_count": 176,
   "metadata": {
    "colab": {
     "base_uri": "https://localhost:8080/",
     "height": 34
    },
    "colab_type": "code",
    "id": "fB1flNxMRAo4",
    "outputId": "f21970ce-232b-47ed-cfb5-6528728ca6ef"
   },
   "outputs": [
    {
     "data": {
      "text/plain": [
       "MethodError(var\"#draw_face##kw\"(), ((width = 30,), draw_face, 10, 20), 0x0000000000006a3e)"
      ]
     },
     "execution_count": 176,
     "metadata": {
      "tags": []
     },
     "output_type": "execute_result"
    }
   ],
   "source": [
    "try\n",
    "    draw_face(10, 20, width=30)\n",
    "catch ex\n",
    "    ex\n",
    "end"
   ]
  },
  {
   "cell_type": "markdown",
   "metadata": {
    "colab_type": "text",
    "id": "yBQOd8H6RUJs"
   },
   "source": [
    "Julia also supports a variable number of arguments (called \"varargs\") using the syntax `arg...`, which is the equivalent of Python's `*arg`:"
   ]
  },
  {
   "cell_type": "code",
   "execution_count": 177,
   "metadata": {
    "colab": {
     "base_uri": "https://localhost:8080/",
     "height": 34
    },
    "colab_type": "code",
    "id": "OS1U6AxeRYyb",
    "outputId": "67b7a86f-2498-487e-c204-944a0d7dfab0"
   },
   "outputs": [
    {
     "name": "stdout",
     "output_type": "stream",
     "text": [
      "target_dir=/tmp, paths=(\"a.txt\", \"b.txt\")\n"
     ]
    }
   ],
   "source": [
    "function copy_files(target_dir, paths...)\n",
    "    println(\"target_dir=$target_dir, paths=$paths\")\n",
    "end\n",
    "\n",
    "copy_files(\"/tmp\", \"a.txt\", \"b.txt\")"
   ]
  },
  {
   "cell_type": "markdown",
   "metadata": {
    "colab_type": "text",
    "id": "x8lJsP6wQujj"
   },
   "source": [
    "Keyword arguments are supported, after a semicolon `;`:"
   ]
  },
  {
   "cell_type": "code",
   "execution_count": 178,
   "metadata": {
    "colab": {
     "base_uri": "https://localhost:8080/",
     "height": 34
    },
    "colab_type": "code",
    "id": "R4XDHjftQwel",
    "outputId": "e975114d-f9c5-47d5-945d-5208563209ce"
   },
   "outputs": [
    {
     "name": "stdout",
     "output_type": "stream",
     "text": [
      "paths=(\"a.txt\", \"b.txt\"), confirm=false, /tmp\n"
     ]
    }
   ],
   "source": [
    "function copy_files2(paths...; confirm=false, target_dir)\n",
    "    println(\"paths=$paths, confirm=$confirm, $target_dir\")\n",
    "end\n",
    "\n",
    "copy_files2(\"a.txt\", \"b.txt\"; target_dir=\"/tmp\")"
   ]
  },
  {
   "cell_type": "markdown",
   "metadata": {
    "colab_type": "text",
    "id": "katU7ZypHZdc"
   },
   "source": [
    "Notes:\n",
    "* `target_dir` has no default value, so it is a required argument.\n",
    "* The order of the keyword arguments does not matter."
   ]
  },
  {
   "cell_type": "markdown",
   "metadata": {
    "colab_type": "text",
    "id": "c24CyL7PGE35"
   },
   "source": [
    "You can have another vararg in the keyword section. It corresponds to Python's `**kwargs`:"
   ]
  },
  {
   "cell_type": "code",
   "execution_count": 179,
   "metadata": {
    "colab": {
     "base_uri": "https://localhost:8080/",
     "height": 51
    },
    "colab_type": "code",
    "id": "m-u29GPoGP8l",
    "outputId": "e88ae578-c1bc-44bd-bdb6-6dddae845621"
   },
   "outputs": [
    {
     "name": "stdout",
     "output_type": "stream",
     "text": [
      "paths=(\"a.txt\", \"b.txt\"), confirm=false, /tmp\n",
      "verbose=true\n"
     ]
    }
   ],
   "source": [
    "function copy_files3(paths...; confirm=false, target_dir, options...)\n",
    "    println(\"paths=$paths, confirm=$confirm, $target_dir\")\n",
    "    verbose = options[:verbose]\n",
    "    println(\"verbose=$verbose\")\n",
    "end\n",
    "\n",
    "copy_files3(\"a.txt\", \"b.txt\"; target_dir=\"/tmp\", verbose=true, timeout=60)"
   ]
  },
  {
   "cell_type": "markdown",
   "metadata": {
    "colab_type": "text",
    "id": "UpbuZ0RYGsC2"
   },
   "source": [
    "The `options` vararg acts like a dictionary (we will discuss dictionaries later). The keys are **symbols**, e.g., `:verbose`. Symbols are like strings, less flexible but faster. They are typically used as keys or identifiers.\n",
    "\n",
    "|Julia|Python (3.8+ if `/` is used)\n",
    "|-----|------\n",
    "| `function foo(a, b=2, c=3)`<br />&nbsp;&nbsp;&nbsp;&nbsp;`...`<br />`end`<br /><br />`foo(1, 2) # positional only` | `def foo(a, b=2, c=3, /):`<br />&nbsp;&nbsp;&nbsp;&nbsp;`...`<br /><br />`foo(1, 2) # pos only because of /`\n",
    "| `function foo(;a=1, b, c=3)`<br />&nbsp;&nbsp;&nbsp;&nbsp;`...`<br />`end`<br /><br />`foo(c=30, b=2) # keyword only` | `def foo(*, a=1, b, c=3):`<br />&nbsp;&nbsp;&nbsp;&nbsp;`...`<br /><br />`foo(c=30, b=2) # kw only because of *`\n",
    "| `function foo(a, b=2; c=3, d)`<br />&nbsp;&nbsp;&nbsp;&nbsp;`...`<br />`end`<br /><br />`foo(1; d=4) # pos only; then keyword only` | `def foo(a, b=2, /, *, c=3, d):`<br />&nbsp;&nbsp;&nbsp;&nbsp;`...`<br /><br />`foo(1, d=4) # pos only then kw only`\n",
    "| `function foo(a, b=2, c...)`<br />&nbsp;&nbsp;&nbsp;&nbsp;`...`<br />`end`<br /><br />`foo(1, 2, 3, 4) # positional only` | `def foo(a, b=2, /, *c):`<br />&nbsp;&nbsp;&nbsp;&nbsp;`...`<br /><br />`foo(1, 2, 3, 4) # positional only`\n",
    "| `function foo(a, b=1, c...; d=1, e, f...)`<br />&nbsp;&nbsp;&nbsp;&nbsp;`...`<br />`end`<br /><br />`foo(1, 2, 3, 4, e=5, x=10, y=20)`<br /> | `def foo(a, b=1, /, *c, d=1, e, **f):`<br />&nbsp;&nbsp;&nbsp;&nbsp;`...`<br /><br />`foo(1, 2, 3, 4, e=5, x=10, y=20)`\n"
   ]
  },
  {
   "cell_type": "markdown",
   "metadata": {
    "colab_type": "text",
    "id": "JQsdtaYXDoNm"
   },
   "source": [
    "## Concise Functions\n",
    "\n",
    "In Julia, the following definition:"
   ]
  },
  {
   "cell_type": "code",
   "execution_count": 180,
   "metadata": {
    "colab": {
     "base_uri": "https://localhost:8080/",
     "height": 34
    },
    "colab_type": "code",
    "id": "PnB4hMDIkd_4",
    "outputId": "82921ec2-4bf4-4565-c811-bb6d72f7b02a"
   },
   "outputs": [
    {
     "data": {
      "text/plain": [
       "square (generic function with 1 method)"
      ]
     },
     "execution_count": 180,
     "metadata": {
      "tags": []
     },
     "output_type": "execute_result"
    }
   ],
   "source": [
    "square(x) = x^2"
   ]
  },
  {
   "cell_type": "markdown",
   "metadata": {
    "colab_type": "text",
    "id": "iXKsRqZUkk9O"
   },
   "source": [
    "is equivalent to:"
   ]
  },
  {
   "cell_type": "code",
   "execution_count": 181,
   "metadata": {
    "colab": {
     "base_uri": "https://localhost:8080/",
     "height": 34
    },
    "colab_type": "code",
    "id": "iaDlQ7Mzkong",
    "outputId": "8342d9fe-ad7f-4fae-bf76-f8196e229e79"
   },
   "outputs": [
    {
     "data": {
      "text/plain": [
       "square (generic function with 1 method)"
      ]
     },
     "execution_count": 181,
     "metadata": {
      "tags": []
     },
     "output_type": "execute_result"
    }
   ],
   "source": [
    "function square(x)\n",
    "    x^2\n",
    "end"
   ]
  },
  {
   "cell_type": "markdown",
   "metadata": {
    "colab_type": "text",
    "id": "Fjt5CFRfktfK"
   },
   "source": [
    "For example, here's a shorter way to define the `estimate_pi()` function in Julia:"
   ]
  },
  {
   "cell_type": "code",
   "execution_count": 182,
   "metadata": {
    "colab": {
     "base_uri": "https://localhost:8080/",
     "height": 34
    },
    "colab_type": "code",
    "id": "1_D5M-EFDymm",
    "outputId": "a8ff42f8-8093-4aa9-efd0-6766a3ca1d73"
   },
   "outputs": [
    {
     "data": {
      "text/plain": [
       "estimate_pi3 (generic function with 1 method)"
      ]
     },
     "execution_count": 182,
     "metadata": {
      "tags": []
     },
     "output_type": "execute_result"
    }
   ],
   "source": [
    "estimate_pi3(n) = 4 * sum((isodd(i) ? -1 : 1)/(2i+1) for i in 0:n)"
   ]
  },
  {
   "cell_type": "markdown",
   "metadata": {
    "colab_type": "text",
    "id": "ZGDMqjmBls35"
   },
   "source": [
    "To define a function on one line in Python, you need to use a `lambda` (but this is generally frowned upon, since the resulting function's name is `\"<lambda>\"`):\n",
    "\n",
    "```python\n",
    "# PYTHON\n",
    "square = lambda x: x**2\n",
    "assert square.__name__ == \"<lambda>\"\n",
    "```"
   ]
  },
  {
   "cell_type": "markdown",
   "metadata": {
    "colab_type": "text",
    "id": "pyLBXz8llVhu"
   },
   "source": [
    "This leads us to anonymous functions."
   ]
  },
  {
   "cell_type": "markdown",
   "metadata": {
    "colab_type": "text",
    "id": "UV29B5anEAFF"
   },
   "source": [
    "## Anonymous Functions\n",
    "Just like in Python, you can define anonymous functions:"
   ]
  },
  {
   "cell_type": "code",
   "execution_count": 183,
   "metadata": {
    "colab": {
     "base_uri": "https://localhost:8080/",
     "height": 102
    },
    "colab_type": "code",
    "id": "VAH0e6BjEJB2",
    "outputId": "289caecc-cdf7-4680-d5c4-f409a758b410"
   },
   "outputs": [
    {
     "data": {
      "text/plain": [
       "4-element Array{Int64,1}:\n",
       "  1\n",
       "  4\n",
       "  9\n",
       " 16"
      ]
     },
     "execution_count": 183,
     "metadata": {
      "tags": []
     },
     "output_type": "execute_result"
    }
   ],
   "source": [
    "map(x -> x^2, 1:4)"
   ]
  },
  {
   "cell_type": "markdown",
   "metadata": {
    "colab_type": "text",
    "id": "RLy4-8trawqM"
   },
   "source": [
    "Here is the equivalent Python code:\n",
    "\n",
    "```python\n",
    "list(map(lambda x: x**2, range(1, 5)))\n",
    "```\n",
    "\n",
    "Notes:\n",
    "* `map()` returns an array in Julia, instead of an iterator like in Python.\n",
    "* You could use a comprehension instead: `[x^2 for x in 1:4]`."
   ]
  },
  {
   "cell_type": "markdown",
   "metadata": {
    "colab_type": "text",
    "id": "7RcghJ-EEUjz"
   },
   "source": [
    "\n",
    "|Julia|Python\n",
    "|-----|------\n",
    "|`x -> x^2` | `lambda x: x**2`\n",
    "|`(x,y) -> x + y` | `lambda x,y: x + y `\n",
    "|`() -> println(\"yes\")` | `lambda: print(\"yes\")`\n"
   ]
  },
  {
   "cell_type": "markdown",
   "metadata": {
    "colab_type": "text",
    "id": "jSYEdqYvF6XH"
   },
   "source": [
    "In Python, lambda functions must be simple expressions. They cannot contain multiple statements. In Julia, they can be as long as you want. Indeed, you can create a multi-statement block using the syntax `(stmt_1; stmt_2; ...; stmt_n)`. The return value is the output of the last statement. For example:"
   ]
  },
  {
   "cell_type": "code",
   "execution_count": 184,
   "metadata": {
    "colab": {
     "base_uri": "https://localhost:8080/",
     "height": 170
    },
    "colab_type": "code",
    "id": "SnuJMFymEbPp",
    "outputId": "68dfd87e-df57-487e-d7bd-05c31957261d"
   },
   "outputs": [
    {
     "name": "stdout",
     "output_type": "stream",
     "text": [
      "Number 1\n",
      "Number 2\n",
      "Number 3\n",
      "Number 4\n"
     ]
    },
    {
     "data": {
      "text/plain": [
       "4-element Array{Int64,1}:\n",
       "  1\n",
       "  4\n",
       "  9\n",
       " 16"
      ]
     },
     "execution_count": 184,
     "metadata": {
      "tags": []
     },
     "output_type": "execute_result"
    }
   ],
   "source": [
    "map(x -> (println(\"Number $x\"); x^2), 1:4)"
   ]
  },
  {
   "cell_type": "markdown",
   "metadata": {
    "colab_type": "text",
    "id": "k1ztQt-VGz7p"
   },
   "source": [
    "This syntax can span multiple lines:"
   ]
  },
  {
   "cell_type": "code",
   "execution_count": 185,
   "metadata": {
    "colab": {
     "base_uri": "https://localhost:8080/",
     "height": 170
    },
    "colab_type": "code",
    "id": "H-XL-nysG67t",
    "outputId": "08670eb2-1d50-49c3-ec55-a68e54ca697d"
   },
   "outputs": [
    {
     "name": "stdout",
     "output_type": "stream",
     "text": [
      "Number 1\n",
      "Number 2\n",
      "Number 3\n",
      "Number 4\n"
     ]
    },
    {
     "data": {
      "text/plain": [
       "4-element Array{Int64,1}:\n",
       "  1\n",
       "  4\n",
       "  9\n",
       " 16"
      ]
     },
     "execution_count": 185,
     "metadata": {
      "tags": []
     },
     "output_type": "execute_result"
    }
   ],
   "source": [
    "map(x -> (\n",
    "  println(\"Number $x\");\n",
    "  x^2), 1:4)"
   ]
  },
  {
   "cell_type": "markdown",
   "metadata": {
    "colab_type": "text",
    "id": "YZUU9OLdHEUX"
   },
   "source": [
    "But in this case, it's probably clearer to use the `begin ... end` syntax instead:"
   ]
  },
  {
   "cell_type": "code",
   "execution_count": 186,
   "metadata": {
    "colab": {
     "base_uri": "https://localhost:8080/",
     "height": 170
    },
    "colab_type": "code",
    "id": "t3LUgpigHJ3Z",
    "outputId": "35e01573-bbcb-4ed0-b755-1d026a7a9f7f"
   },
   "outputs": [
    {
     "name": "stdout",
     "output_type": "stream",
     "text": [
      "Number 1\n",
      "Number 2\n",
      "Number 3\n",
      "Number 4\n"
     ]
    },
    {
     "data": {
      "text/plain": [
       "4-element Array{Int64,1}:\n",
       "  1\n",
       "  4\n",
       "  9\n",
       " 16"
      ]
     },
     "execution_count": 186,
     "metadata": {
      "tags": []
     },
     "output_type": "execute_result"
    }
   ],
   "source": [
    "map(x -> begin\n",
    "        println(\"Number $x\")\n",
    "        x^2\n",
    "    end, 1:4)"
   ]
  },
  {
   "cell_type": "markdown",
   "metadata": {
    "colab_type": "text",
    "id": "FQ5nX-AHIYUr"
   },
   "source": [
    "Notice that this syntax allows you to drop the semicolons `;` at the end of each line in the block.\n",
    "\n",
    "Yet another way to define an anonymous function is using the `function (args) ... end` syntax:"
   ]
  },
  {
   "cell_type": "code",
   "execution_count": 187,
   "metadata": {
    "colab": {
     "base_uri": "https://localhost:8080/",
     "height": 170
    },
    "colab_type": "code",
    "id": "vKAR1ucxIQzF",
    "outputId": "c6079a41-efe3-437d-fb99-51f1a605e205"
   },
   "outputs": [
    {
     "name": "stdout",
     "output_type": "stream",
     "text": [
      "Number 1\n",
      "Number 2\n",
      "Number 3\n",
      "Number 4\n"
     ]
    },
    {
     "data": {
      "text/plain": [
       "4-element Array{Int64,1}:\n",
       "  1\n",
       "  4\n",
       "  9\n",
       " 16"
      ]
     },
     "execution_count": 187,
     "metadata": {
      "tags": []
     },
     "output_type": "execute_result"
    }
   ],
   "source": [
    "map(function (x)\n",
    "        println(\"Number $x\")\n",
    "        x^2\n",
    "    end, 1:4)"
   ]
  },
  {
   "cell_type": "markdown",
   "metadata": {
    "colab_type": "text",
    "id": "SGBwAWJ7HQ78"
   },
   "source": [
    "Lastly, if you're passing the anonymous function as the first argument to a function (as is the case in this example), it's usually much preferable to define the anonymous function immediately after the function call, using the `do` syntax, like this:"
   ]
  },
  {
   "cell_type": "code",
   "execution_count": 188,
   "metadata": {
    "colab": {
     "base_uri": "https://localhost:8080/",
     "height": 170
    },
    "colab_type": "code",
    "id": "G60xP30UHW5F",
    "outputId": "2cae809c-a27b-4c6f-a384-b4dc4fea2539"
   },
   "outputs": [
    {
     "name": "stdout",
     "output_type": "stream",
     "text": [
      "Number 1\n",
      "Number 2\n",
      "Number 3\n",
      "Number 4\n"
     ]
    },
    {
     "data": {
      "text/plain": [
       "4-element Array{Int64,1}:\n",
       "  1\n",
       "  4\n",
       "  9\n",
       " 16"
      ]
     },
     "execution_count": 188,
     "metadata": {
      "tags": []
     },
     "output_type": "execute_result"
    }
   ],
   "source": [
    "map(1:4) do x\n",
    "  println(\"Number $x\")\n",
    "  x^2\n",
    "end"
   ]
  },
  {
   "cell_type": "markdown",
   "metadata": {
    "colab_type": "text",
    "id": "vtsXFsLTJTpD"
   },
   "source": [
    "This syntax lets you easily define constructs that feel like language extensions:"
   ]
  },
  {
   "cell_type": "code",
   "execution_count": 189,
   "metadata": {
    "colab": {
     "base_uri": "https://localhost:8080/",
     "height": 85
    },
    "colab_type": "code",
    "id": "03Hru6aqIIgY",
    "outputId": "ef9e2921-bac2-41c3-efa7-a3fda567100f"
   },
   "outputs": [
    {
     "name": "stdout",
     "output_type": "stream",
     "text": [
      "The square of 1 is 1\n",
      "The square of 2 is 4\n",
      "The square of 3 is 9\n",
      "The square of 4 is 16\n"
     ]
    }
   ],
   "source": [
    "function my_for(func, collection)\n",
    "    for i in collection\n",
    "        func(i)\n",
    "    end\n",
    "end\n",
    "\n",
    "my_for(1:4) do i\n",
    "    println(\"The square of $i is $(i^2)\")\n",
    "end"
   ]
  },
  {
   "cell_type": "markdown",
   "metadata": {
    "colab_type": "text",
    "id": "tFWXrW9z9q8f"
   },
   "source": [
    "In fact, Julia has a similar `foreach()` function."
   ]
  },
  {
   "cell_type": "markdown",
   "metadata": {
    "colab_type": "text",
    "id": "XXuNr-9iZJf4"
   },
   "source": [
    "The `do` syntax could be used to write a Domain Specific Language (DSL), for example an infrastructure automation DSL:"
   ]
  },
  {
   "cell_type": "code",
   "execution_count": 190,
   "metadata": {
    "colab": {
     "base_uri": "https://localhost:8080/",
     "height": 68
    },
    "colab_type": "code",
    "id": "sF1f2HsCZKoT",
    "outputId": "5eea1b83-4685-41c1-fd3f-8444ddd5c927"
   },
   "outputs": [
    {
     "name": "stdout",
     "output_type": "stream",
     "text": [
      "Starting web server\n",
      "Configuring server 1234...\n",
      "Creating HTML pages on server 1234...\n"
     ]
    }
   ],
   "source": [
    "function spawn_server(startup_func, server_type)\n",
    "    println(\"Starting $server_type server\")\n",
    "    server_id = 1234\n",
    "    println(\"Configuring server $server_id...\")\n",
    "    startup_func(server_id)\n",
    "end\n",
    "\n",
    "# This is the DSL part\n",
    "spawn_server(\"web\") do server_id\n",
    "    println(\"Creating HTML pages on server $server_id...\")\n",
    "end"
   ]
  },
  {
   "cell_type": "markdown",
   "metadata": {
    "colab_type": "text",
    "id": "9jRtJFU82wEO"
   },
   "source": [
    "It's also quite nice for event-driven code:"
   ]
  },
  {
   "cell_type": "code",
   "execution_count": 191,
   "metadata": {
    "colab": {
     "base_uri": "https://localhost:8080/",
     "height": 85
    },
    "colab_type": "code",
    "id": "lU-neWob2_As",
    "outputId": "fc63bf04-c752-48f0-c836-4bcebc4df21a"
   },
   "outputs": [
    {
     "name": "stdout",
     "output_type": "stream",
     "text": [
      "Mouse clicked at (x = 50, y = 20)\n",
      "Beep.\n",
      "Mouse clicked at (x = 120, y = 10)\n",
      "Beep.\n"
     ]
    }
   ],
   "source": [
    "handlers = []\n",
    "\n",
    "on_click(handler) = push!(handlers, handler)\n",
    "\n",
    "click(event) = foreach(handler->handler(event), handlers)\n",
    "\n",
    "on_click() do event\n",
    "    println(\"Mouse clicked at $event\")\n",
    "end\n",
    "\n",
    "on_click() do event\n",
    "    println(\"Beep.\")\n",
    "end\n",
    "\n",
    "click((x=50, y=20))\n",
    "click((x=120, y=10))"
   ]
  },
  {
   "cell_type": "markdown",
   "metadata": {
    "colab_type": "text",
    "id": "VclQwKNzajfP"
   },
   "source": [
    "It can also be used to create context managers, for example to automatically close an object after it has been used, even if an exception is raised:"
   ]
  },
  {
   "cell_type": "code",
   "execution_count": 192,
   "metadata": {
    "colab": {
     "base_uri": "https://localhost:8080/",
     "height": 68
    },
    "colab_type": "code",
    "id": "_fCFbtHJarew",
    "outputId": "a3ac7bc7-d301-474d-dd6f-3b89f9f8e881"
   },
   "outputs": [
    {
     "name": "stdout",
     "output_type": "stream",
     "text": [
      "Opening connection to database jobs\n",
      "I'm working with a db object for database jobs\n",
      "Closing connection to database jobs\n"
     ]
    }
   ],
   "source": [
    "function with_database(func, name)\n",
    "    println(\"Opening connection to database $name\")\n",
    "    db = \"a db object for database $name\"\n",
    "    try\n",
    "        func(db)\n",
    "    finally\n",
    "        println(\"Closing connection to database $name\")\n",
    "    end\n",
    "end\n",
    "\n",
    "with_database(\"jobs\") do db\n",
    "    println(\"I'm working with $db\")\n",
    "    #error(\"Oops\") # try uncommenting this line\n",
    "end"
   ]
  },
  {
   "cell_type": "markdown",
   "metadata": {
    "colab_type": "text",
    "id": "D17bqrJwbqS5"
   },
   "source": [
    "The equivalent code in Python would look like this:"
   ]
  },
  {
   "cell_type": "markdown",
   "metadata": {
    "colab_type": "text",
    "id": "YmCiwD0Ubslm"
   },
   "source": [
    "```python\n",
    "# PYTHON\n",
    "class Database:\n",
    "    def __init__(self, name):\n",
    "        self.name = name\n",
    "    def __enter__(self):\n",
    "        print(f\"Opening connection to database {self.name}\")\n",
    "        return f\"a db object for database {self.name}\"\n",
    "    def __exit__(self, type, value, traceback):\n",
    "        print(f\"Closing connection to database {self.name}\")\n",
    "\n",
    "with Database(\"jobs\") as db:\n",
    "    print(f\"I'm working with {db}\")\n",
    "    #raise Exception(\"Oops\") # try uncommenting this line\n",
    "```\n",
    "\n",
    "Or you could use `contextlib`:\n",
    "\n",
    "```python\n",
    "from contextlib import contextmanager\n",
    "\n",
    "@contextmanager\n",
    "def database(name):\n",
    "    print(f\"Opening connection to database {name}\")\n",
    "    db = f\"a db object for database {name}\"\n",
    "    try:\n",
    "        yield db\n",
    "    finally:\n",
    "        print(f\"Closing connection to database {name}\")\n",
    "\n",
    "with database(\"jobs\") as db:\n",
    "    print(f\"I'm working with {db}\")\n",
    "    #raise Exception(\"Oops\") # try uncommenting this line\n",
    "```"
   ]
  },
  {
   "cell_type": "code",
   "execution_count": 193,
   "metadata": {
    "colab": {},
    "colab_type": "code",
    "id": "NA9wxvDP444S"
   },
   "outputs": [],
   "source": []
  },
  {
   "cell_type": "markdown",
   "metadata": {
    "colab_type": "text",
    "id": "scEsYrSt2jpA"
   },
   "source": [
    "## Piping\n",
    "If you are used to the Object Oriented syntax `\"a b c\".upper().split()`, you may feel that writing `split(uppercase(\"a b c\"))` is a bit backwards. If so, the piping operation `|>` is for you:"
   ]
  },
  {
   "cell_type": "code",
   "execution_count": 194,
   "metadata": {
    "colab": {
     "base_uri": "https://localhost:8080/",
     "height": 85
    },
    "colab_type": "code",
    "id": "wRrmVEWG24_f",
    "outputId": "3656d9c2-e432-410d-84b5-a1c7bc05d740"
   },
   "outputs": [
    {
     "data": {
      "text/plain": [
       "3-element Array{SubString{String},1}:\n",
       " \"A\"\n",
       " \"B\"\n",
       " \"C\""
      ]
     },
     "execution_count": 194,
     "metadata": {
      "tags": []
     },
     "output_type": "execute_result"
    }
   ],
   "source": [
    "\"a b c\" |> uppercase |> split"
   ]
  },
  {
   "cell_type": "markdown",
   "metadata": {
    "colab_type": "text",
    "id": "c2Y1HRhG4S47"
   },
   "source": [
    "If you want to pass more than one argument to some of the functions, you can use anonymous functions:"
   ]
  },
  {
   "cell_type": "code",
   "execution_count": 195,
   "metadata": {
    "colab": {
     "base_uri": "https://localhost:8080/",
     "height": 34
    },
    "colab_type": "code",
    "id": "IzIFbaLQ4UCO",
    "outputId": "fef6b6c5-2bac-4de6-ffd3-8c6e7ca99312"
   },
   "outputs": [
    {
     "data": {
      "text/plain": [
       "\"A, B, C\""
      ]
     },
     "execution_count": 195,
     "metadata": {
      "tags": []
     },
     "output_type": "execute_result"
    }
   ],
   "source": [
    "\"a b c\" |> uppercase |> split |> tokens->join(tokens, \", \")"
   ]
  },
  {
   "cell_type": "markdown",
   "metadata": {
    "colab_type": "text",
    "id": "GcnKoRyHcGC6"
   },
   "source": [
    "The dotted version of the pipe operator works as you might expect, applying the _i_<sup>th</sup> function of the right array to the _i_<sup>th</sup> value in the left array:"
   ]
  },
  {
   "cell_type": "code",
   "execution_count": 196,
   "metadata": {
    "colab": {
     "base_uri": "https://localhost:8080/",
     "height": 85
    },
    "colab_type": "code",
    "id": "a7LytVDKbL_e",
    "outputId": "05e50ca3-b5c9-44eb-8d58-7d01c5d5896b"
   },
   "outputs": [
    {
     "data": {
      "text/plain": [
       "3-element Array{Real,1}:\n",
       "  1.0\n",
       "  5\n",
       " 16"
      ]
     },
     "execution_count": 196,
     "metadata": {
      "tags": []
     },
     "output_type": "execute_result"
    }
   ],
   "source": [
    "[π/2, \"hello\", 4] .|> [sin, length, x->x^2]"
   ]
  },
  {
   "cell_type": "markdown",
   "metadata": {
    "colab_type": "text",
    "id": "Czk5ZFOn3LDi"
   },
   "source": [
    "## Composition\n",
    "Julia also lets you compose functions like mathematicians do, using the composition operator ∘ (`\\circ<tab>` in the REPL or Jupyter, but not Colab):"
   ]
  },
  {
   "cell_type": "code",
   "execution_count": 197,
   "metadata": {
    "colab": {
     "base_uri": "https://localhost:8080/",
     "height": 34
    },
    "colab_type": "code",
    "id": "iK9UrlF2aU_y",
    "outputId": "ddc70e6c-2631-40e7-bec6-e77079b4cb04"
   },
   "outputs": [
    {
     "data": {
      "text/plain": [
       "true"
      ]
     },
     "execution_count": 197,
     "metadata": {
      "tags": []
     },
     "output_type": "execute_result"
    }
   ],
   "source": [
    "f = exp ∘ sin ∘ sqrt\n",
    "f(2.0) == exp(sin(sqrt(2.0)))"
   ]
  },
  {
   "cell_type": "markdown",
   "metadata": {
    "colab_type": "text",
    "id": "lQJKl9rD-BWj"
   },
   "source": [
    "# Methods\n",
    "Earlier, we discussed structs, which look a lot like Python classes, with instance variables and constructors, but they did not contain any methods (just the inner constructors). In Julia, methods are defined separately, like regular functions:"
   ]
  },
  {
   "cell_type": "code",
   "execution_count": 198,
   "metadata": {
    "colab": {
     "base_uri": "https://localhost:8080/",
     "height": 34
    },
    "colab_type": "code",
    "id": "axvF_XwJ-DJw",
    "outputId": "f98bf5d7-daf6-4584-fa43-6f8a05f35415"
   },
   "outputs": [
    {
     "name": "stdout",
     "output_type": "stream",
     "text": [
      "Hi, my name is Alice, I am 70 years old.\n"
     ]
    }
   ],
   "source": [
    "struct Person\n",
    "    name\n",
    "    age\n",
    "end\n",
    "\n",
    "function greetings(greeter)\n",
    "    println(\"Hi, my name is $(greeter.name), I am $(greeter.age) years old.\")\n",
    "end\n",
    "\n",
    "p = Person(\"Alice\", 70)\n",
    "greetings(p)"
   ]
  },
  {
   "cell_type": "markdown",
   "metadata": {
    "colab_type": "text",
    "id": "ylOha2mhCRgz"
   },
   "source": [
    "Since the `greetings()` method in Julia is not bound to any particular type, we can use it with any other type we want, as long as that type has a `name` and an `age` (i.e., if it quacks like a duck):"
   ]
  },
  {
   "cell_type": "code",
   "execution_count": 199,
   "metadata": {
    "colab": {
     "base_uri": "https://localhost:8080/",
     "height": 34
    },
    "colab_type": "code",
    "id": "vWkQqaEPCgeY",
    "outputId": "343b646f-c841-4e5c-d9ee-3d3acd46360f"
   },
   "outputs": [
    {
     "name": "stdout",
     "output_type": "stream",
     "text": [
      "Hi, my name is Auckland, I am 180 years old.\n"
     ]
    }
   ],
   "source": [
    "struct City\n",
    "    name\n",
    "    country\n",
    "    age\n",
    "end\n",
    "\n",
    "using Dates\n",
    "c = City(\"Auckland\", \"New Zealand\", year(now()) - 1840)\n",
    "\n",
    "greetings(c)"
   ]
  },
  {
   "cell_type": "markdown",
   "metadata": {
    "colab_type": "text",
    "id": "sRI9XAbrLA0t"
   },
   "source": [
    "You could code this the same way in Python if you wanted to:\n",
    "\n",
    "```python\n",
    "# PYTHON\n",
    "class Person:\n",
    "    def __init__(self, name, age):\n",
    "        self.name = name\n",
    "        self.age = age\n",
    "\n",
    "class City:\n",
    "    def __init__(self, name, country, age):\n",
    "        self.name = name\n",
    "        self.country = country\n",
    "        self.age = age\n",
    "\n",
    "def greetings(greeter):\n",
    "    print(f\"Hi there, my name is {greeter.name}, I am {greeter.age} years old.\")\n",
    "\n",
    "p = Person(\"Lucy\", 70)\n",
    "greetings(p)\n",
    " \n",
    "from datetime import date\n",
    "c = City(\"Auckland\", \"New Zealand\", date.today().year - 1840)\n",
    "greetings(c)\n",
    "```"
   ]
  },
  {
   "cell_type": "markdown",
   "metadata": {
    "colab_type": "text",
    "id": "qIcoroYhG5_Y"
   },
   "source": [
    "However, many Python programmers would use inheritance in this case:\n",
    "\n",
    "```python\n",
    "class Greeter:\n",
    "    def __init__(self, name, age):\n",
    "        self.name = name\n",
    "        self.age = age\n",
    "    def greetings(self):\n",
    "        print(f\"Hi there, my name is {self.name}, I am {self.age} years old.\")\n",
    "\n",
    "class Person(Greeter):\n",
    "    def __init__(self, name, age):\n",
    "        super().__init__(name, age)\n",
    "\n",
    "class City(Greeter):\n",
    "    def __init__(self, name, country, age):\n",
    "        super().__init__(name, age)\n",
    "        self.country = country\n",
    "\n",
    "p = Person(\"Lucy\", 70)\n",
    "p.greetings()\n",
    "\n",
    "from datetime import date\n",
    "c = City(\"Auckland\", \"New Zealand\", date.today().year - 1840)\n",
    "c.greetings()\n",
    "```\n"
   ]
  },
  {
   "cell_type": "markdown",
   "metadata": {
    "colab_type": "text",
    "id": "iRNLWOyURGGp"
   },
   "source": [
    "## Extending a Function\n",
    "One nice thing about having a class hierarchy is that you can override methods in subclasses to get specialized behavior for each class. For example, in Python you could override the `greetings()` method like this:\n",
    "\n",
    "```python\n",
    "# PYTHON\n",
    "class Developer(Person):\n",
    "    def __init__(self, name, age, language):\n",
    "        super().__init__(name, age)\n",
    "        self.language = language\n",
    "    def greetings(self):\n",
    "        print(f\"Hi there, my name is {self.name}, I am {self.age} years old.\")\n",
    "        print(f\"My favorite language is {self.language}.\")\n",
    "\n",
    "d = Developer(\"Amy\", 40, \"Julia\")\n",
    "d.greetings()\n",
    "```\n"
   ]
  },
  {
   "cell_type": "markdown",
   "metadata": {
    "colab_type": "text",
    "id": "srgbdxLxSWGG"
   },
   "source": [
    "Notice that the expression `d.greetings()` will call a different method if `d` is a `Person` or a `Developer`. This is called \"polymorphism\": the same method call behaves differently depending on the type of the object. The language chooses which actual method implementation to call, based on the type of `d`: this is called method \"dispatch\". More specifically, since it only depends on a single variable, it is called \"single dispatch\".\n",
    "\n",
    "The good news is that Julia can do single dispatch as well:"
   ]
  },
  {
   "cell_type": "code",
   "execution_count": 200,
   "metadata": {
    "colab": {
     "base_uri": "https://localhost:8080/",
     "height": 51
    },
    "colab_type": "code",
    "id": "j6fIldepUFA1",
    "outputId": "4efc855a-46e4-4108-bb67-e9f90ae52a70"
   },
   "outputs": [
    {
     "name": "stdout",
     "output_type": "stream",
     "text": [
      "Hi, my name is Amy, I am 40 years old.\n",
      "My favorite language is Julia.\n"
     ]
    }
   ],
   "source": [
    "struct Developer\n",
    "    name\n",
    "    age\n",
    "    language\n",
    "end\n",
    "\n",
    "function greetings(dev::Developer)\n",
    "    println(\"Hi, my name is $(dev.name), I am $(dev.age) years old.\")\n",
    "    println(\"My favorite language is $(dev.language).\")\n",
    "end\n",
    "\n",
    "d = Developer(\"Amy\", 40, \"Julia\")\n",
    "greetings(d)"
   ]
  },
  {
   "cell_type": "markdown",
   "metadata": {
    "colab_type": "text",
    "id": "2ji22KZNVHub"
   },
   "source": [
    "Notice that the `dev` argument is followed by `::Developer`, which means that this method will only be called if the argument has that type.\n",
    "\n",
    "We have **extended** the `greetings` **function**, so that it now has two different implementations, called **methods**, each for different argument types: namely, `greetings(dev::Developer)` for arguments of type `Developer`, and `greetings(greeter)` for values of any other type.\n",
    "\n",
    "You can easily get the list of all the methods of a given function:"
   ]
  },
  {
   "cell_type": "code",
   "execution_count": 201,
   "metadata": {
    "colab": {
     "base_uri": "https://localhost:8080/",
     "height": 80
    },
    "colab_type": "code",
    "id": "6yQgjmjST2xL",
    "outputId": "fa21698d-dc77-4d48-ba02-db355c68167b"
   },
   "outputs": [
    {
     "data": {
      "text/html": [
       "# 2 methods for generic function <b>greetings</b>:<ul><li> greetings(dev::<b>Developer</b>) in Main at In[200]:8</li> <li> greetings(greeter) in Main at In[198]:7</li> </ul>"
      ],
      "text/plain": [
       "# 2 methods for generic function \"greetings\":\n",
       "[1] greetings(dev::Developer) in Main at In[200]:8\n",
       "[2] greetings(greeter) in Main at In[198]:7"
      ]
     },
     "execution_count": 201,
     "metadata": {
      "tags": []
     },
     "output_type": "execute_result"
    }
   ],
   "source": [
    "methods(greetings)"
   ]
  },
  {
   "cell_type": "markdown",
   "metadata": {
    "colab_type": "text",
    "id": "iS7Byq8yd8uE"
   },
   "source": [
    "You can also get the list of all the methods which take a particular type as argument:"
   ]
  },
  {
   "cell_type": "code",
   "execution_count": 202,
   "metadata": {
    "colab": {
     "base_uri": "https://localhost:8080/",
     "height": 63
    },
    "colab_type": "code",
    "id": "ZxFaPzByd0qv",
    "outputId": "c7c6ddf6-8198-464f-e03d-bfaca514c19e"
   },
   "outputs": [
    {
     "data": {
      "text/html": [
       "1-element Array{Method,1}:<ul><li> greetings(dev::<b>Developer</b>) in Main at In[200]:8</ul>"
      ],
      "text/plain": [
       "[1] greetings(dev::Developer) in Main at In[200]:8"
      ]
     },
     "execution_count": 202,
     "metadata": {
      "tags": []
     },
     "output_type": "execute_result"
    }
   ],
   "source": [
    "methodswith(Developer)"
   ]
  },
  {
   "cell_type": "markdown",
   "metadata": {
    "colab_type": "text",
    "id": "ab4DP1-fT7dE"
   },
   "source": [
    "When you call the `greetings()` function, Julia automatically dispatches the call to the appropriate method, depending on the type of the argument. If Julia can determine at compile time what the type of the argument will be, then it optimizes the compiled code so that there's no choice to be made at runtime. This is called **static dispatch**, and it can significantly speed up the program. If the argument's type can't be determined at compile time, then Julia makes the choice at runtime, just like in Python: this is called **dynamic dispatch**."
   ]
  },
  {
   "cell_type": "markdown",
   "metadata": {
    "colab_type": "text",
    "id": "Y7U4rXr2GnFx"
   },
   "source": [
    "## Multiple Dispatch\n",
    "Julia actually looks at the types of _all_ the positional arguments, not just the first one. This is called **multiple dispatch**. For example:"
   ]
  },
  {
   "cell_type": "code",
   "execution_count": 203,
   "metadata": {
    "colab": {
     "base_uri": "https://localhost:8080/",
     "height": 34
    },
    "colab_type": "code",
    "id": "YE7pb7tHHEcb",
    "outputId": "6f9b264b-c471-4588-8c29-7beb45c6cc31"
   },
   "outputs": [
    {
     "data": {
      "text/plain": [
       "1"
      ]
     },
     "execution_count": 203,
     "metadata": {
      "tags": []
     },
     "output_type": "execute_result"
    }
   ],
   "source": [
    "multdisp(a::Int64, b::Int64) = 1\n",
    "multdisp(a::Int64, b::Float64) = 2\n",
    "multdisp(a::Float64, b::Int64) = 3\n",
    "multdisp(a::Float64, b::Float64) = 4\n",
    "\n",
    "multdisp(10, 20) # try changing the arguments to get each possible output"
   ]
  },
  {
   "cell_type": "markdown",
   "metadata": {
    "colab_type": "text",
    "id": "wJtjHEYGJr5B"
   },
   "source": [
    "Julia always chooses the most specific method it can, so the following method will only be called if the first argument is neither an `Int64` nor a `Float64`:"
   ]
  },
  {
   "cell_type": "code",
   "execution_count": 204,
   "metadata": {
    "colab": {
     "base_uri": "https://localhost:8080/",
     "height": 34
    },
    "colab_type": "code",
    "id": "SrZv6JZBKZGF",
    "outputId": "f0a03118-1981-4959-cfc0-b130245bade2"
   },
   "outputs": [
    {
     "data": {
      "text/plain": [
       "1"
      ]
     },
     "execution_count": 204,
     "metadata": {
      "tags": []
     },
     "output_type": "execute_result"
    }
   ],
   "source": [
    "multdisp(a::Any, b::Int64) = 5\n",
    "\n",
    "multdisp(10, 20)"
   ]
  },
  {
   "cell_type": "markdown",
   "metadata": {
    "colab_type": "text",
    "id": "BiwKlUcMKvbr"
   },
   "source": [
    "Julia will raise an exception if there is some ambiguity as to which method is the most specific:"
   ]
  },
  {
   "cell_type": "code",
   "execution_count": 205,
   "metadata": {
    "colab": {
     "base_uri": "https://localhost:8080/",
     "height": 34
    },
    "colab_type": "code",
    "id": "wnvxky-JJQxU",
    "outputId": "3f8cee18-f55b-4331-cd9d-70d35d3b0cf8"
   },
   "outputs": [
    {
     "data": {
      "text/plain": [
       "MethodError(ambig, (10, 20), 0x0000000000006a68)"
      ]
     },
     "execution_count": 205,
     "metadata": {
      "tags": []
     },
     "output_type": "execute_result"
    }
   ],
   "source": [
    "ambig(a::Int64, b) = 1\n",
    "ambig(a, b::Int64) = 2\n",
    "\n",
    "try\n",
    "    ambig(10, 20)\n",
    "catch ex\n",
    "    ex\n",
    "end"
   ]
  },
  {
   "cell_type": "markdown",
   "metadata": {
    "colab_type": "text",
    "id": "5Pb7CA7kK8UT"
   },
   "source": [
    "To solve this problem, you can explicitely define a method for the ambiguous case:"
   ]
  },
  {
   "cell_type": "code",
   "execution_count": 206,
   "metadata": {
    "colab": {
     "base_uri": "https://localhost:8080/",
     "height": 34
    },
    "colab_type": "code",
    "id": "mlr9q0GxLL-q",
    "outputId": "0ee54009-e527-4b6f-8aa7-c6f80f80d9d7"
   },
   "outputs": [
    {
     "data": {
      "text/plain": [
       "3"
      ]
     },
     "execution_count": 206,
     "metadata": {
      "tags": []
     },
     "output_type": "execute_result"
    }
   ],
   "source": [
    "ambig(a::Int64, b::Int64) = 3\n",
    "ambig(10, 20)"
   ]
  },
  {
   "cell_type": "markdown",
   "metadata": {
    "colab_type": "text",
    "id": "W19FsOf2GOcF"
   },
   "source": [
    "So you can have polymorphism in Julia, just like in Python. This means that you can write your algorithms in a generic way, without having to know the exact types of the values you are manipulating, and it will work fine, as long as these types act in the general way you expect (i.e., if they \"quack like ducks\"). For example:"
   ]
  },
  {
   "cell_type": "code",
   "execution_count": 207,
   "metadata": {
    "colab": {
     "base_uri": "https://localhost:8080/",
     "height": 102
    },
    "colab_type": "code",
    "id": "L_i8ksenUoz8",
    "outputId": "f375850f-5c2e-403f-a5a5-c287ea40a4c5"
   },
   "outputs": [
    {
     "name": "stdout",
     "output_type": "stream",
     "text": [
      "Hi, my name is Alice, I am 70 years old.\n",
      "How can I help?\n",
      "Hi, my name is Amy, I am 40 years old.\n",
      "My favorite language is Julia.\n",
      "How can I help?\n"
     ]
    }
   ],
   "source": [
    "function how_can_i_help(greeter)\n",
    "    greetings(greeter)\n",
    "    println(\"How can I help?\")\n",
    "end\n",
    "\n",
    "how_can_i_help(p) # called on a Person\n",
    "how_can_i_help(d) # called on a Developer"
   ]
  },
  {
   "cell_type": "markdown",
   "metadata": {
    "colab_type": "text",
    "id": "jZmax1CvVBKT"
   },
   "source": [
    "## Calling `super()`?\n",
    "You may have noticed that the `greetings(dev::Developer)` method could be improved, since it currently duplicates the implementation of the base method `greetings(greeter)`. In Python, you would get rid of this duplication by calling the base class's `greetings()` method, using `super()`:\n",
    "\n",
    "```python\n",
    "# PYTHON\n",
    "class Developer(Person):\n",
    "    def __init__(self, name, age, language):\n",
    "        super().__init__(name, age)\n",
    "        self.language = language\n",
    "    def greetings(self):\n",
    "        super().greetings() # <== THIS!\n",
    "        print(f\"My favorite language is {self.language}.\")\n",
    "\n",
    "d = Developer(\"Amy\", 40, \"Julia\")\n",
    "d.greetings()\n",
    "```\n",
    "\n",
    "In Julia, you can do something pretty similar, although you have to implement your own `super()` function, as it is not part of the language:"
   ]
  },
  {
   "cell_type": "code",
   "execution_count": 208,
   "metadata": {
    "colab": {
     "base_uri": "https://localhost:8080/",
     "height": 51
    },
    "colab_type": "code",
    "id": "8Oz-Xe4VmMRr",
    "outputId": "009132ab-6c34-4959-d844-437585ae7649"
   },
   "outputs": [
    {
     "name": "stdout",
     "output_type": "stream",
     "text": [
      "Hi, my name is Amy, I am 40 years old.\n",
      "My favorite language is Julia.\n"
     ]
    }
   ],
   "source": [
    "super(dev::Developer) = Person(dev.name, dev.age)\n",
    "\n",
    "function greetings(dev::Developer)\n",
    "    greetings(super(dev))\n",
    "    println(\"My favorite language is $(dev.language).\")\n",
    "end\n",
    "\n",
    "greetings(d)"
   ]
  },
  {
   "cell_type": "markdown",
   "metadata": {
    "colab_type": "text",
    "id": "WqtmgScLr3oz"
   },
   "source": [
    "However, this implementation creates a new `Person` instance when calling `super(dev)`, copying the `name` and `age` fields. That's okay for small objects, but it's not ideal for larger ones. Instead, you can explicitely call the specific method you want by using the `invoke()` function:"
   ]
  },
  {
   "cell_type": "code",
   "execution_count": 209,
   "metadata": {
    "colab": {
     "base_uri": "https://localhost:8080/",
     "height": 51
    },
    "colab_type": "code",
    "id": "XPlSZ5kaqz0l",
    "outputId": "5aa25818-d6b1-424c-d24c-b65234e1bea7"
   },
   "outputs": [
    {
     "name": "stdout",
     "output_type": "stream",
     "text": [
      "Hi, my name is Amy, I am 40 years old.\n",
      "My favorite language is Julia.\n"
     ]
    }
   ],
   "source": [
    "function greetings(dev::Developer)\n",
    "    invoke(greetings, Tuple{Any}, dev)\n",
    "    println(\"My favorite language is $(dev.language).\")\n",
    "end\n",
    "\n",
    "greetings(d)"
   ]
  },
  {
   "cell_type": "markdown",
   "metadata": {
    "colab_type": "text",
    "id": "Vrf7C_Cgsob2"
   },
   "source": [
    "The `invoke()` function expects the following arguments:\n",
    "* The first argument is the function to call.\n",
    "* The second argument is the type of the desired method's arguments tuple: `Tuple{TypeArg1, TypeArg2, etc.}`. In this case we want to call the base function, which takes a single `Any` argument (the `Any` type is implicit when no type is specified).\n",
    "* Lastly, it takes all the arguments to be passed to the method. In this case, there's just one: `dev`."
   ]
  },
  {
   "cell_type": "markdown",
   "metadata": {
    "colab_type": "text",
    "id": "emqToYz-ypOS"
   },
   "source": [
    "As you can see, we managed to get the same advantages Object-Oriented programming offers, without defining classes or using inheritance. This takes a bit of getting used to, but you might come to prefer this style of generic programming. Indeed, OO programming encourage you to bundle data and behavior together, but this is not always a good idea. Let's look at one example:\n",
    "\n",
    "```python\n",
    "# PYTHON\n",
    "class Rectangle:\n",
    "    def __init__(self, height, width):\n",
    "        self.height = height\n",
    "        self.width = width\n",
    "    def area(self):\n",
    "        return self.height * self.width\n",
    "\n",
    "class Square(Rectangle):\n",
    "    def __init__(self, length):\n",
    "        super().__init__(length, length)\n",
    "```\n",
    "\n",
    "It makes sense for the `Square` class to be a subclass of the `Rectangle` class, since a square **is a** special type of rectangle. It also makes sense for the `Square` class to inherit from all of the `Rectangle` class's behavior, such as the `area()` method. However, it does not really make sense for rectangles and squares to have the same memory representation: a `Rectangle` needs two numbers (`height` and `width`), while a `Square` only needs one (`length`).\n",
    "\n",
    "It's possible to work around this issue like this:\n",
    "\n",
    "```python\n",
    "# PYTHON\n",
    "class Rectangle:\n",
    "    def __init__(self, height, width):\n",
    "        self.height = height\n",
    "        self.width = width\n",
    "    def area(self):\n",
    "        return self.height * self.width\n",
    "\n",
    "class Square(Rectangle):\n",
    "    def __init__(self, length):\n",
    "        self.length = length\n",
    "    @property\n",
    "    def width(self):\n",
    "        return self.length\n",
    "    @property\n",
    "    def height(self):\n",
    "        return self.length\n",
    "```\n",
    "\n",
    "That's better: now, each square is only represented using a single number. We've inherited the behavior, but not the data.\n",
    "\n",
    "In Julia, you could code this like so:"
   ]
  },
  {
   "cell_type": "code",
   "execution_count": 210,
   "metadata": {
    "colab": {
     "base_uri": "https://localhost:8080/",
     "height": 34
    },
    "colab_type": "code",
    "id": "G7aHm-s_y92c",
    "outputId": "4479922f-ed16-4356-807b-26ba1bfe5640"
   },
   "outputs": [
    {
     "data": {
      "text/plain": [
       "height (generic function with 2 methods)"
      ]
     },
     "execution_count": 210,
     "metadata": {
      "tags": []
     },
     "output_type": "execute_result"
    }
   ],
   "source": [
    "struct Rectangle\n",
    "    width\n",
    "    height\n",
    "end\n",
    "\n",
    "width(rect::Rectangle) = rect.width\n",
    "height(rect::Rectangle) = rect.height\n",
    "\n",
    "area(rect) = width(rect) * height(rect)\n",
    "\n",
    "struct Square\n",
    "    length\n",
    "end\n",
    "\n",
    "width(sq::Square) = sq.length\n",
    "height(sq::Square) = sq.length"
   ]
  },
  {
   "cell_type": "code",
   "execution_count": 211,
   "metadata": {
    "colab": {
     "base_uri": "https://localhost:8080/",
     "height": 34
    },
    "colab_type": "code",
    "id": "1Ck-ML8CuOMm",
    "outputId": "8fee00cd-662a-4619-f5ff-e67a94defd07"
   },
   "outputs": [
    {
     "data": {
      "text/plain": [
       "25"
      ]
     },
     "execution_count": 211,
     "metadata": {
      "tags": []
     },
     "output_type": "execute_result"
    }
   ],
   "source": [
    "area(Square(5))"
   ]
  },
  {
   "cell_type": "markdown",
   "metadata": {
    "colab_type": "text",
    "id": "qUy8eU__-swA"
   },
   "source": [
    "Notice that the `area()` function relies on the getters `width()` and `height()`, rather than directly on the fields `width` and `height`. This way, the argument can be of any type at all, as long as it has these getters."
   ]
  },
  {
   "cell_type": "markdown",
   "metadata": {
    "colab_type": "text",
    "id": "iPtX04AJkXnI"
   },
   "source": [
    "## Abstract Types\n",
    "One nice thing about the class hierarchy we defined in Python is that it makes it clear that a square **is a** kind of rectangle. Any new function you define that takes a `Rectangle` as an argument will automatically accept a `Square` as well, but no other non-rectangle type. In contrast, our `area()` function currently accepts anything at all.\n",
    "\n",
    "In Julia, a concrete type like `Square` cannot extend another concrete type like `Rectangle`. However, any type can extend from an abstract type. Let's define some abstract types to create a type hierarchy for our `Square` and `Rectangle` types."
   ]
  },
  {
   "cell_type": "code",
   "execution_count": 212,
   "metadata": {
    "colab": {},
    "colab_type": "code",
    "id": "HgXYu8Y7kFf7"
   },
   "outputs": [],
   "source": [
    "abstract type AbstractShape end\n",
    "abstract type AbstractRectangle <: AbstractShape end  # <: means \"subtype of\"\n",
    "abstract type AbstractSquare <: AbstractRectangle end"
   ]
  },
  {
   "cell_type": "markdown",
   "metadata": {
    "colab_type": "text",
    "id": "s9jYhVkntUXo"
   },
   "source": [
    "The `<:` operator means \"subtype of\"."
   ]
  },
  {
   "cell_type": "markdown",
   "metadata": {
    "colab_type": "text",
    "id": "SFoq_2FUtjix"
   },
   "source": [
    "Now we can attach the `area()` function to the `AbstractRectangle` type, instead of any type at all:"
   ]
  },
  {
   "cell_type": "code",
   "execution_count": 213,
   "metadata": {
    "colab": {
     "base_uri": "https://localhost:8080/",
     "height": 34
    },
    "colab_type": "code",
    "id": "DpCEaRNytYNQ",
    "outputId": "6c788432-1cc2-439d-85a3-1c80c74eabef"
   },
   "outputs": [
    {
     "data": {
      "text/plain": [
       "area (generic function with 2 methods)"
      ]
     },
     "execution_count": 213,
     "metadata": {
      "tags": []
     },
     "output_type": "execute_result"
    }
   ],
   "source": [
    "area(rect::AbstractRectangle) = width(rect) * height(rect)"
   ]
  },
  {
   "cell_type": "markdown",
   "metadata": {
    "colab_type": "text",
    "id": "utwPa8jLt7bF"
   },
   "source": [
    "Now we can define the concrete types, as subtypes of `AbstractRectangle` and `AbstractSquare`:"
   ]
  },
  {
   "cell_type": "code",
   "execution_count": 214,
   "metadata": {
    "colab": {
     "base_uri": "https://localhost:8080/",
     "height": 34
    },
    "colab_type": "code",
    "id": "cHChkf1Mt0GN",
    "outputId": "c063caff-c730-4478-fdf5-a8c49498c3b1"
   },
   "outputs": [
    {
     "data": {
      "text/plain": [
       "height (generic function with 4 methods)"
      ]
     },
     "execution_count": 214,
     "metadata": {
      "tags": []
     },
     "output_type": "execute_result"
    }
   ],
   "source": [
    "struct Rectangle_v2 <: AbstractRectangle\n",
    "  width\n",
    "  height\n",
    "end\n",
    "\n",
    "width(rect::Rectangle_v2) = rect.width\n",
    "height(rect::Rectangle_v2) = rect.height\n",
    "\n",
    "struct Square_v2 <: AbstractSquare\n",
    "  length\n",
    "end\n",
    "\n",
    "width(sq::Square_v2) = sq.length\n",
    "height(sq::Square_v2) = sq.length"
   ]
  },
  {
   "cell_type": "markdown",
   "metadata": {
    "colab_type": "text",
    "id": "N6JklHCruNkP"
   },
   "source": [
    "In short, the Julian approach to type hierarchies looks like this:\n",
    "\n",
    "* Create a hierarchy of abstract types to represent the concepts you want to implement.\n",
    "* Write functions for these abstract types. Much of your implementation can be coded at that level, manipulating abstract concepts.\n",
    "* Lastly, create concrete types, and write the methods needed to give them the behavior that is expected by the generic algorithms you wrote."
   ]
  },
  {
   "cell_type": "markdown",
   "metadata": {
    "colab_type": "text",
    "id": "GZA6mB9hu3pg"
   },
   "source": [
    "This pattern is used everywhere in Julia's standard libraries. For example, here are the supertypes of `Float64` and `Int64`:"
   ]
  },
  {
   "cell_type": "code",
   "execution_count": 215,
   "metadata": {
    "colab": {
     "base_uri": "https://localhost:8080/",
     "height": 34
    },
    "colab_type": "code",
    "id": "No9X1dLtu-nj",
    "outputId": "07a0969d-e3f7-4890-ecfe-bfa0de14b298"
   },
   "outputs": [
    {
     "name": "stdout",
     "output_type": "stream",
     "text": [
      "Float64 <: AbstractFloat <: Real <: Number <: Any"
     ]
    }
   ],
   "source": [
    "Base.show_supertypes(Float64)"
   ]
  },
  {
   "cell_type": "code",
   "execution_count": 216,
   "metadata": {
    "colab": {
     "base_uri": "https://localhost:8080/",
     "height": 34
    },
    "colab_type": "code",
    "id": "RowhPCR_R-QG",
    "outputId": "7f898ce1-94e2-46e7-e18c-b7af2264ecf6"
   },
   "outputs": [
    {
     "name": "stdout",
     "output_type": "stream",
     "text": [
      "Int64 <: Signed <: Integer <: Real <: Number <: Any"
     ]
    }
   ],
   "source": [
    "Base.show_supertypes(Int64)"
   ]
  },
  {
   "cell_type": "markdown",
   "metadata": {
    "colab_type": "text",
    "id": "fTFddfq0CEyy"
   },
   "source": [
    "Note: Julia implicitly runs `using Core` and `using Base` when starting the REPL. However, the `show_supertypes()` function is not exported by the `Base` module, thus you cannot access it by just typing `show_supertypes(Float64)`. Instead, you have to specify the module name: `Base.show_supertypes(Float64)`."
   ]
  },
  {
   "cell_type": "markdown",
   "metadata": {
    "colab_type": "text",
    "id": "K-q4QCgI-rWI"
   },
   "source": [
    "And here is the whole hierarchy of `Number` types:"
   ]
  },
  {
   "cell_type": "code",
   "execution_count": 217,
   "metadata": {
    "colab": {
     "base_uri": "https://localhost:8080/",
     "height": 510
    },
    "colab_type": "code",
    "id": "6Gtn6IB0vQZv",
    "outputId": "45a8d743-ad97-48b7-d61f-0663aa10b75a"
   },
   "outputs": [
    {
     "name": "stdout",
     "output_type": "stream",
     "text": [
      "Number\n",
      "    Complex\n",
      "    Real\n",
      "        AbstractFloat\n",
      "            BigFloat\n",
      "            Float16\n",
      "            Float32\n",
      "            Float64\n",
      "        AbstractIrrational\n",
      "            Irrational\n",
      "        FixedPointNumbers.FixedPoint\n",
      "            FixedPointNumbers.Fixed\n",
      "            FixedPointNumbers.Normed\n",
      "        Integer\n",
      "            Bool\n",
      "            Signed\n",
      "                BigInt\n",
      "                Int128\n",
      "                Int16\n",
      "                Int32\n",
      "                Int64\n",
      "                Int8\n",
      "            Unsigned\n",
      "                UInt128\n",
      "                UInt16\n",
      "                UInt32\n",
      "                UInt64\n",
      "                UInt8\n",
      "        Rational\n"
     ]
    }
   ],
   "source": [
    "function show_hierarchy(root, indent=0)\n",
    "    println(repeat(\" \", indent * 4), root)\n",
    "    for subtype in subtypes(root)\n",
    "        show_hierarchy(subtype, indent + 1)\n",
    "    end\n",
    "end\n",
    "\n",
    "show_hierarchy(Number)"
   ]
  },
  {
   "cell_type": "markdown",
   "metadata": {
    "colab_type": "text",
    "id": "NdE0eLaKf_tM"
   },
   "source": [
    "## Iterator Interface\n",
    "You will sometimes want to provide a way to iterate over your custom types. In Python, this requires defining the `__iter__()` method which should return an object which implements the `__next__()` method. In Julia, you must define at least two functions:\n",
    "* `iterate(::YourIteratorType)`, which must return either `nothing` if there are no values in the sequence, or `(first_value, iterator_state)`.\n",
    "* `iterate(::YourIteratorType, state)`, which must return either `nothing` if there are no more values, or `(next_value, new_iterator_state)`.\n",
    "\n",
    "For example, let's create a simple iterator for the Fibonacci sequence:"
   ]
  },
  {
   "cell_type": "code",
   "execution_count": 218,
   "metadata": {
    "colab": {},
    "colab_type": "code",
    "id": "baemCHqZde4Y"
   },
   "outputs": [],
   "source": [
    "struct FibonacciIterator end"
   ]
  },
  {
   "cell_type": "code",
   "execution_count": 219,
   "metadata": {
    "colab": {
     "base_uri": "https://localhost:8080/",
     "height": 34
    },
    "colab_type": "code",
    "id": "yidgsJt9eBSk",
    "outputId": "70a596d3-cef3-4b07-da41-d68dce807284"
   },
   "outputs": [
    {
     "data": {
      "text/plain": [
       "iterate (generic function with 224 methods)"
      ]
     },
     "execution_count": 219,
     "metadata": {
      "tags": []
     },
     "output_type": "execute_result"
    }
   ],
   "source": [
    "import Base.iterate\n",
    "\n",
    "iterate(f::FibonacciIterator) = (1, (1, 1))\n",
    "\n",
    "function iterate(f::FibonacciIterator, state)\n",
    "    new_state = (state[2], state[1] + state[2])\n",
    "    (new_state[1], new_state)\n",
    "end"
   ]
  },
  {
   "cell_type": "markdown",
   "metadata": {
    "colab_type": "text",
    "id": "9CORRxR8hYrl"
   },
   "source": [
    "Now we can iterate over a `FibonacciIterator` instance:"
   ]
  },
  {
   "cell_type": "code",
   "execution_count": 220,
   "metadata": {
    "colab": {
     "base_uri": "https://localhost:8080/",
     "height": 136
    },
    "colab_type": "code",
    "id": "5W0QbY41fJGE",
    "outputId": "7cdc05b9-93e8-4308-99b6-116ea727c563"
   },
   "outputs": [
    {
     "name": "stdout",
     "output_type": "stream",
     "text": [
      "1\n",
      "1\n",
      "2\n",
      "3\n",
      "5\n",
      "8\n",
      "13\n"
     ]
    }
   ],
   "source": [
    "for f in FibonacciIterator()\n",
    "    println(f)\n",
    "    f > 10 && break\n",
    "end"
   ]
  },
  {
   "cell_type": "markdown",
   "metadata": {
    "colab_type": "text",
    "id": "RjEk9nRIhmwV"
   },
   "source": [
    "## Indexing Interface\n",
    "You can also create a type that will be indexable like an array (allowing syntax like `a[5] = 3`). In Python, this requires implementing the `__getitem__()` and `__setitem__()` methods. In Julia, you must implement the `getindex(A::YourType, i)`, `setindex!(A::YourType, v, i)`, `firstindex(A::YourType)` and `lastindex(A::YourType)` methods."
   ]
  },
  {
   "cell_type": "code",
   "execution_count": 221,
   "metadata": {
    "colab": {
     "base_uri": "https://localhost:8080/",
     "height": 34
    },
    "colab_type": "code",
    "id": "i-r1StLujBEL",
    "outputId": "0f1b3edb-f180-4802-a7cc-308201d319e3"
   },
   "outputs": [
    {
     "data": {
      "text/plain": [
       "100"
      ]
     },
     "execution_count": 221,
     "metadata": {
      "tags": []
     },
     "output_type": "execute_result"
    }
   ],
   "source": [
    "struct MySquares end\n",
    "\n",
    "import Base.getindex, Base.firstindex\n",
    "\n",
    "getindex(::MySquares, i) = i^2\n",
    "firstindex(::MySquares) = 0\n",
    "\n",
    "S = MySquares()\n",
    "S[10]"
   ]
  },
  {
   "cell_type": "code",
   "execution_count": 222,
   "metadata": {
    "colab": {
     "base_uri": "https://localhost:8080/",
     "height": 34
    },
    "colab_type": "code",
    "id": "p8zfJLvDjpSP",
    "outputId": "4220e2e1-8c2e-44e7-a9c2-6e7eb8889bce"
   },
   "outputs": [
    {
     "data": {
      "text/plain": [
       "0"
      ]
     },
     "execution_count": 222,
     "metadata": {
      "tags": []
     },
     "output_type": "execute_result"
    }
   ],
   "source": [
    "S[begin]"
   ]
  },
  {
   "cell_type": "code",
   "execution_count": 223,
   "metadata": {
    "colab": {
     "base_uri": "https://localhost:8080/",
     "height": 34
    },
    "colab_type": "code",
    "id": "n9y4Y2r2jzTG",
    "outputId": "b150c36d-1425-4c4c-8afe-e06b67cd2594"
   },
   "outputs": [
    {
     "data": {
      "text/plain": [
       "getindex (generic function with 228 methods)"
      ]
     },
     "execution_count": 223,
     "metadata": {
      "tags": []
     },
     "output_type": "execute_result"
    }
   ],
   "source": [
    "getindex(S::MySquares, r::UnitRange) = [S[i] for i in r]"
   ]
  },
  {
   "cell_type": "code",
   "execution_count": 224,
   "metadata": {
    "colab": {
     "base_uri": "https://localhost:8080/",
     "height": 102
    },
    "colab_type": "code",
    "id": "vk-gqI08jrQo",
    "outputId": "f1bec7fe-7114-41da-8b2b-8bcc517e4d47"
   },
   "outputs": [
    {
     "data": {
      "text/plain": [
       "4-element Array{Int64,1}:\n",
       "  1\n",
       "  4\n",
       "  9\n",
       " 16"
      ]
     },
     "execution_count": 224,
     "metadata": {
      "tags": []
     },
     "output_type": "execute_result"
    }
   ],
   "source": [
    "S[1:4]"
   ]
  },
  {
   "cell_type": "markdown",
   "metadata": {
    "colab_type": "text",
    "id": "1j3qxO4TkoVm"
   },
   "source": [
    "For more details on these interfaces, and to learn how to build full-blown array types with broadcasting and more, check out [this page](https://docs.julialang.org/en/v1/manual/interfaces/)."
   ]
  },
  {
   "cell_type": "markdown",
   "metadata": {
    "colab_type": "text",
    "id": "bD9gzH2XDlGL"
   },
   "source": [
    "## Creating a Number Type\n",
    "Let's create a `MyRational` struct and try to make it mimic the built-in `Rational` type:"
   ]
  },
  {
   "cell_type": "code",
   "execution_count": 225,
   "metadata": {
    "colab": {},
    "colab_type": "code",
    "id": "nwEtMyR1PB3C"
   },
   "outputs": [],
   "source": [
    "struct MyRational <: Real\n",
    "    num # numerator\n",
    "    den # denominator\n",
    "end"
   ]
  },
  {
   "cell_type": "code",
   "execution_count": 226,
   "metadata": {
    "colab": {
     "base_uri": "https://localhost:8080/",
     "height": 34
    },
    "colab_type": "code",
    "id": "cwCpLCW6PePs",
    "outputId": "b2d9f8da-f892-4407-fa5e-1b24a15197d4"
   },
   "outputs": [
    {
     "data": {
      "text/plain": [
       "MyRational(2, 3)"
      ]
     },
     "execution_count": 226,
     "metadata": {
      "tags": []
     },
     "output_type": "execute_result"
    }
   ],
   "source": [
    "MyRational(2, 3)"
   ]
  },
  {
   "cell_type": "markdown",
   "metadata": {
    "colab_type": "text",
    "id": "vbIz77VzST24"
   },
   "source": [
    "It would be more convenient and readable if we could type `2 ⨸ 3` to create a `MyRational`:"
   ]
  },
  {
   "cell_type": "code",
   "execution_count": 227,
   "metadata": {
    "colab": {
     "base_uri": "https://localhost:8080/",
     "height": 34
    },
    "colab_type": "code",
    "id": "VuitXq8eTL4G",
    "outputId": "7e812671-4ed8-4672-cb27-2f0ecd9594a9"
   },
   "outputs": [
    {
     "data": {
      "text/plain": [
       "⨸ (generic function with 1 method)"
      ]
     },
     "execution_count": 227,
     "metadata": {
      "tags": []
     },
     "output_type": "execute_result"
    }
   ],
   "source": [
    "function ⨸(num, den)\n",
    "    MyRational(num, den)\n",
    "end"
   ]
  },
  {
   "cell_type": "code",
   "execution_count": 228,
   "metadata": {
    "colab": {
     "base_uri": "https://localhost:8080/",
     "height": 34
    },
    "colab_type": "code",
    "id": "isQcJMAeTRi-",
    "outputId": "8ac2049a-7c6c-41cd-f9a2-610a86eb93aa"
   },
   "outputs": [
    {
     "data": {
      "text/plain": [
       "MyRational(2, 3)"
      ]
     },
     "execution_count": 228,
     "metadata": {
      "tags": []
     },
     "output_type": "execute_result"
    }
   ],
   "source": [
    "2 ⨸ 3"
   ]
  },
  {
   "cell_type": "markdown",
   "metadata": {
    "colab_type": "text",
    "id": "g594gvCpTTYB"
   },
   "source": [
    "I chose `⨸` because it's a symbol that Julia's parser treats as a binary operator, but which is otherwise not used by Julia (see the full [list of parsed symbols](https://github.com/JuliaLang/julia/blob/master/src/julia-parser.scm) and their priorities). This particular symbol will have the same priority as multiplication and division."
   ]
  },
  {
   "cell_type": "markdown",
   "metadata": {
    "colab_type": "text",
    "id": "3DKaUnqsUG0L"
   },
   "source": [
    "If you want to know how to type it and check that it is unused, type `?⨸` (copy/paste the symbol):"
   ]
  },
  {
   "cell_type": "code",
   "execution_count": 229,
   "metadata": {
    "colab": {
     "base_uri": "https://localhost:8080/",
     "height": 171
    },
    "colab_type": "code",
    "id": "km3KccbsUTnQ",
    "outputId": "17bc9bee-cd0e-4750-f084-87c3eca82cf6"
   },
   "outputs": [
    {
     "name": "stdout",
     "output_type": "stream",
     "text": [
      "\"\u001b[36m⨸\u001b[39m\" can be typed by \u001b[36m\\odiv<tab>\u001b[39m\n",
      "\n",
      "search: \u001b[0m\u001b[1m⨸\u001b[22m\n",
      "\n"
     ]
    },
    {
     "data": {
      "text/latex": [
       "No documentation found.\n",
       "\n",
       "\\texttt{⨸} is a \\texttt{Function}.\n",
       "\n",
       "\\begin{verbatim}\n",
       "# 1 method for generic function \"⨸\":\n",
       "[1] ⨸(num, den) in Main at In[227]:2\n",
       "\\end{verbatim}\n"
      ],
      "text/markdown": [
       "No documentation found.\n",
       "\n",
       "`⨸` is a `Function`.\n",
       "\n",
       "```\n",
       "# 1 method for generic function \"⨸\":\n",
       "[1] ⨸(num, den) in Main at In[227]:2\n",
       "```\n"
      ],
      "text/plain": [
       "  No documentation found.\n",
       "\n",
       "  \u001b[36m⨸\u001b[39m is a \u001b[36mFunction\u001b[39m.\n",
       "\n",
       "\u001b[36m  # 1 method for generic function \"⨸\":\u001b[39m\n",
       "\u001b[36m  [1] ⨸(num, den) in Main at In[227]:2\u001b[39m"
      ]
     },
     "execution_count": 229,
     "metadata": {
      "tags": []
     },
     "output_type": "execute_result"
    }
   ],
   "source": [
    "?⨸"
   ]
  },
  {
   "cell_type": "markdown",
   "metadata": {
    "colab_type": "text",
    "id": "eWzNstBqQckD"
   },
   "source": [
    "Now let's make it possible to add two `MyRational` values. We want it to be possible for our `MyRational` type to be used in existing algorithms which rely on `+`, so we must create a new method for the `Base.+` function:"
   ]
  },
  {
   "cell_type": "code",
   "execution_count": 230,
   "metadata": {
    "colab": {
     "base_uri": "https://localhost:8080/",
     "height": 34
    },
    "colab_type": "code",
    "id": "2T7MyjE2RhUW",
    "outputId": "39821e83-66d4-4d26-e02b-9bca538967b9"
   },
   "outputs": [
    {
     "data": {
      "text/plain": [
       "+ (generic function with 173 methods)"
      ]
     },
     "execution_count": 230,
     "metadata": {
      "tags": []
     },
     "output_type": "execute_result"
    }
   ],
   "source": [
    "import Base.+\n",
    "\n",
    "function +(r1::MyRational, r2::MyRational)\n",
    "    (r1.num * r2.den + r1.den * r2.num) ⨸ (r1.den * r2.den)\n",
    "end"
   ]
  },
  {
   "cell_type": "code",
   "execution_count": 231,
   "metadata": {
    "colab": {
     "base_uri": "https://localhost:8080/",
     "height": 34
    },
    "colab_type": "code",
    "id": "aFtoPHZRSNoU",
    "outputId": "3347bd2c-c3bb-42c8-bd83-88f1048fdafc"
   },
   "outputs": [
    {
     "data": {
      "text/plain": [
       "MyRational(19, 15)"
      ]
     },
     "execution_count": 231,
     "metadata": {
      "tags": []
     },
     "output_type": "execute_result"
    }
   ],
   "source": [
    "2 ⨸ 3 + 3 ⨸ 5"
   ]
  },
  {
   "cell_type": "markdown",
   "metadata": {
    "colab_type": "text",
    "id": "8--bQ8izR7_I"
   },
   "source": [
    "It's important to import `Base.+` first, or else you would just be defining a new `+` function in the current module (`Main`), which would not be called by existing algorithms."
   ]
  },
  {
   "cell_type": "markdown",
   "metadata": {
    "colab_type": "text",
    "id": "x79nFEHQYFfU"
   },
   "source": [
    "You can easily implement `*`, `^` and so on, in much the same way."
   ]
  },
  {
   "cell_type": "markdown",
   "metadata": {
    "colab_type": "text",
    "id": "GGTgc07sSR4w"
   },
   "source": [
    "Let's change the way `MyRational` values are printed, to make them look a bit nicer. For this, we must create a new method for the `Base.show(io::IO, x)` function:"
   ]
  },
  {
   "cell_type": "code",
   "execution_count": 232,
   "metadata": {
    "colab": {
     "base_uri": "https://localhost:8080/",
     "height": 34
    },
    "colab_type": "code",
    "id": "KQN5IqLxVzLF",
    "outputId": "09297302-3b04-4154-f239-331d47b55c9e"
   },
   "outputs": [
    {
     "data": {
      "text/plain": [
       "19 ⨸ 15"
      ]
     },
     "execution_count": 232,
     "metadata": {
      "tags": []
     },
     "output_type": "execute_result"
    }
   ],
   "source": [
    "import Base.show\n",
    "\n",
    "function show(io::IO, r::MyRational)\n",
    "    print(io, \"$(r.num) ⨸ $(r.den)\")\n",
    "end\n",
    "\n",
    "2 ⨸ 3 + 3 ⨸ 5"
   ]
  },
  {
   "cell_type": "markdown",
   "metadata": {
    "colab_type": "text",
    "id": "rJg_-ZYOXS4m"
   },
   "source": [
    "We can expand the `show()` function so it can provide an HTML representation for `MyRational` values. This will be called by the `display()` function in Jupyter or Colab:"
   ]
  },
  {
   "cell_type": "code",
   "execution_count": 233,
   "metadata": {
    "colab": {
     "base_uri": "https://localhost:8080/",
     "height": 40
    },
    "colab_type": "code",
    "id": "h6smoUzBWkNB",
    "outputId": "68d5cc1a-96fa-4c67-8cc8-102c91eefb1f"
   },
   "outputs": [
    {
     "data": {
      "text/html": [
       "<sup><b>19</b></sup>&frasl;<sub><b>15</b></sub>"
      ],
      "text/plain": [
       "19 ⨸ 15"
      ]
     },
     "execution_count": 233,
     "metadata": {
      "tags": []
     },
     "output_type": "execute_result"
    }
   ],
   "source": [
    "function show(io::IO, ::MIME\"text/html\", r::MyRational)\n",
    "    print(io, \"<sup><b>$(r.num)</b></sup>&frasl;<sub><b>$(r.den)</b></sub>\")\n",
    "end\n",
    "\n",
    "2 ⨸ 3 + 3 ⨸ 5"
   ]
  },
  {
   "cell_type": "markdown",
   "metadata": {
    "colab_type": "text",
    "id": "5bOKggSjX7hM"
   },
   "source": [
    "Next, we want to be able to perform any operation involving `MyRational` values and values of other `Number` types. For example, we may want to multiply integers and `MyRational` values. One option is to define a new method like this:"
   ]
  },
  {
   "cell_type": "code",
   "execution_count": 234,
   "metadata": {
    "colab": {
     "base_uri": "https://localhost:8080/",
     "height": 40
    },
    "colab_type": "code",
    "id": "dlW_pbUPZL_0",
    "outputId": "17cd6462-b547-4d0d-afe4-c759ad576d73"
   },
   "outputs": [
    {
     "data": {
      "text/html": [
       "<sup><b>10</b></sup>&frasl;<sub><b>3</b></sub>"
      ],
      "text/plain": [
       "10 ⨸ 3"
      ]
     },
     "execution_count": 234,
     "metadata": {
      "tags": []
     },
     "output_type": "execute_result"
    }
   ],
   "source": [
    "import Base.*\n",
    "\n",
    "function *(r::MyRational, i::Integer)\n",
    "    (r.num * i) ⨸ r.den\n",
    "end\n",
    "\n",
    "2 ⨸ 3 * 5"
   ]
  },
  {
   "cell_type": "markdown",
   "metadata": {
    "colab_type": "text",
    "id": "3Xr--hB-ZlDm"
   },
   "source": [
    "Since multiplication is commutative, we need the reverse method as well:"
   ]
  },
  {
   "cell_type": "code",
   "execution_count": 235,
   "metadata": {
    "colab": {
     "base_uri": "https://localhost:8080/",
     "height": 40
    },
    "colab_type": "code",
    "id": "3DkeVGqaZtNv",
    "outputId": "ba58fec5-be9e-4512-d256-c38a4bf3007a"
   },
   "outputs": [
    {
     "data": {
      "text/html": [
       "<sup><b>10</b></sup>&frasl;<sub><b>3</b></sub>"
      ],
      "text/plain": [
       "10 ⨸ 3"
      ]
     },
     "execution_count": 235,
     "metadata": {
      "tags": []
     },
     "output_type": "execute_result"
    }
   ],
   "source": [
    "function *(i::Integer, r::MyRational)\n",
    "    r * i # this will call the previous method\n",
    "end\n",
    "\n",
    "5 * (2 ⨸ 3) # we need the parentheses since * and ⨸ have the same priority"
   ]
  },
  {
   "cell_type": "markdown",
   "metadata": {
    "colab_type": "text",
    "id": "hzW07JkXggLo"
   },
   "source": [
    "It's cumbersome to have to define these methods for every operation. There's a better way, which we will explore in the next two sections."
   ]
  },
  {
   "cell_type": "markdown",
   "metadata": {
    "colab_type": "text",
    "id": "TWXZrND8N-nR"
   },
   "source": [
    "## Conversion\n",
    "It is possible to provide a way for integers to be automatically converted to `MyRational` values:"
   ]
  },
  {
   "cell_type": "code",
   "execution_count": 236,
   "metadata": {
    "colab": {
     "base_uri": "https://localhost:8080/",
     "height": 40
    },
    "colab_type": "code",
    "id": "SFIenX2Og0qY",
    "outputId": "8b8004d8-df1b-4526-ee73-801a2c2ce312"
   },
   "outputs": [
    {
     "data": {
      "text/html": [
       "<sup><b>42</b></sup>&frasl;<sub><b>1</b></sub>"
      ],
      "text/plain": [
       "42 ⨸ 1"
      ]
     },
     "execution_count": 236,
     "metadata": {
      "tags": []
     },
     "output_type": "execute_result"
    }
   ],
   "source": [
    "import Base.convert\n",
    "\n",
    "MyRational(x::Integer) = MyRational(x, 1)\n",
    "\n",
    "convert(::Type{MyRational}, x::Integer) = MyRational(x)\n",
    "\n",
    "convert(MyRational, 42)"
   ]
  },
  {
   "cell_type": "markdown",
   "metadata": {
    "colab_type": "text",
    "id": "n_gGRgRSwrkS"
   },
   "source": [
    "The `Type{MyRational}` type is a special type which has a single instance: the `MyRational` type itself. So this `convert()` method only accepts `MyRational` itself as its first argument (and we don't actually use the first argument, so we don't even need to give it a name in the function declaration)."
   ]
  },
  {
   "cell_type": "markdown",
   "metadata": {
    "colab_type": "text",
    "id": "5B9cNbV5lbHm"
   },
   "source": [
    "Now integers will be automatically converted to `MyRational` values when you assign them to an array whose element type if `MyRational`:"
   ]
  },
  {
   "cell_type": "code",
   "execution_count": 237,
   "metadata": {
    "colab": {
     "base_uri": "https://localhost:8080/",
     "height": 34
    },
    "colab_type": "code",
    "id": "YWdijh_2k7LU",
    "outputId": "f2c2ac2b-b966-4dca-8c2d-09fa4ece0ae8"
   },
   "outputs": [
    {
     "name": "stdout",
     "output_type": "stream",
     "text": [
      "MyRational[5 ⨸ 1, 6 ⨸ 1]\n"
     ]
    }
   ],
   "source": [
    "a = [2 ⨸ 3] # the element type is MyRational\n",
    "a[1] = 5    # convert(MyRational, 5) is called automatically\n",
    "push!(a, 6) # convert(MyRational, 6) is called automatically\n",
    "println(a)"
   ]
  },
  {
   "cell_type": "markdown",
   "metadata": {
    "colab_type": "text",
    "id": "ESWblH5olvOY"
   },
   "source": [
    "Conversion will also occur automatically in these cases:\n",
    "* `r::MyRational = 42`: assigning an integer to `r` where `r` is a local variable with a declared type of `MyRational`.\n",
    "* `s.b = 42` if `s` is a struct and `b` is a field of type `MyRational` (also when calling `new(42)` on that struct, assuming `b` is the first field).\n",
    "* `return 42` if the return type is declared as `MyRational` (e.g., `function f(x)::MyRational ... end`)."
   ]
  },
  {
   "cell_type": "markdown",
   "metadata": {
    "colab_type": "text",
    "id": "kIulkBomd5hy"
   },
   "source": [
    "However, there is no automatic conversion when calling functions:"
   ]
  },
  {
   "cell_type": "code",
   "execution_count": 238,
   "metadata": {
    "colab": {
     "base_uri": "https://localhost:8080/",
     "height": 34
    },
    "colab_type": "code",
    "id": "7Jf6rT8uhAtU",
    "outputId": "1ef6c1c2-b189-412e-b201-f0076d037c9d"
   },
   "outputs": [
    {
     "data": {
      "text/plain": [
       "MethodError(for_my_rationals_only, (42,), 0x0000000000006a8f)"
      ]
     },
     "execution_count": 238,
     "metadata": {
      "tags": []
     },
     "output_type": "execute_result"
    }
   ],
   "source": [
    "function for_my_rationals_only(x::MyRational)\n",
    "    println(\"It works:\", x)\n",
    "end\n",
    "\n",
    "try\n",
    "    for_my_rationals_only(42)\n",
    "catch ex\n",
    "    ex\n",
    "end"
   ]
  },
  {
   "cell_type": "markdown",
   "metadata": {
    "colab_type": "text",
    "id": "KhtxelSROzU_"
   },
   "source": [
    "## Promotion\n",
    "The `Base` functions `+`, `-`, `*`, `/`, `^`, etc. all use a \"promotion\" algorithm to convert the arguments to the appropriate type. For example, adding an integer and a float promotes the integer to a float before the addition takes place. These functions use the `promote()` function for this. For example, given several integers and a float, all integers get promoted to floats:"
   ]
  },
  {
   "cell_type": "code",
   "execution_count": 239,
   "metadata": {
    "colab": {
     "base_uri": "https://localhost:8080/",
     "height": 34
    },
    "colab_type": "code",
    "id": "BEa8TRPuokYN",
    "outputId": "757ea23a-2ff3-47ac-f078-e3dc19444b4c"
   },
   "outputs": [
    {
     "data": {
      "text/plain": [
       "(1.0, 2.0, 3.0, 4.0)"
      ]
     },
     "execution_count": 239,
     "metadata": {
      "tags": []
     },
     "output_type": "execute_result"
    }
   ],
   "source": [
    "promote(1, 2, 3, 4.0)"
   ]
  },
  {
   "cell_type": "markdown",
   "metadata": {
    "colab_type": "text",
    "id": "wDpLvwpMPP59"
   },
   "source": [
    "This is why a sum of integers and floats results in a float:"
   ]
  },
  {
   "cell_type": "code",
   "execution_count": 240,
   "metadata": {
    "colab": {
     "base_uri": "https://localhost:8080/",
     "height": 34
    },
    "colab_type": "code",
    "id": "grWU-hHHPI7v",
    "outputId": "f599c588-1656-4e92-cba5-2c121ad5d583"
   },
   "outputs": [
    {
     "data": {
      "text/plain": [
       "10.0"
      ]
     },
     "execution_count": 240,
     "metadata": {
      "tags": []
     },
     "output_type": "execute_result"
    }
   ],
   "source": [
    "1 + 2 + 3 + 4.0"
   ]
  },
  {
   "cell_type": "markdown",
   "metadata": {
    "colab_type": "text",
    "id": "pkrDanbRO7b2"
   },
   "source": [
    "The `promote()` function is also called when creating an array. For example, the following array is a `Float64` array:"
   ]
  },
  {
   "cell_type": "code",
   "execution_count": 241,
   "metadata": {
    "colab": {
     "base_uri": "https://localhost:8080/",
     "height": 102
    },
    "colab_type": "code",
    "id": "AeDsWTZjO-4d",
    "outputId": "17b3a01e-f162-48f6-dc22-791ac103b61b"
   },
   "outputs": [
    {
     "data": {
      "text/plain": [
       "4-element Array{Float64,1}:\n",
       " 1.0\n",
       " 2.0\n",
       " 3.0\n",
       " 4.0"
      ]
     },
     "execution_count": 241,
     "metadata": {
      "tags": []
     },
     "output_type": "execute_result"
    }
   ],
   "source": [
    "a = [1, 2, 3, 4.0]"
   ]
  },
  {
   "cell_type": "markdown",
   "metadata": {
    "colab_type": "text",
    "id": "JCdZ4NhMo505"
   },
   "source": [
    "What about the `MyRational` type? Rather than create new methods for the `promote()` function, the recommended approach is to create a new method for the `promote_rule()` function. It takes two types and returns the type to convert to:"
   ]
  },
  {
   "cell_type": "code",
   "execution_count": 242,
   "metadata": {
    "colab": {
     "base_uri": "https://localhost:8080/",
     "height": 34
    },
    "colab_type": "code",
    "id": "3xJTjr7XPgtx",
    "outputId": "102a8ee1-b785-44c8-be2e-f68ab1545e78"
   },
   "outputs": [
    {
     "data": {
      "text/plain": [
       "Float64"
      ]
     },
     "execution_count": 242,
     "metadata": {
      "tags": []
     },
     "output_type": "execute_result"
    }
   ],
   "source": [
    "promote_rule(Float64, Int64)"
   ]
  },
  {
   "cell_type": "markdown",
   "metadata": {
    "colab_type": "text",
    "id": "W68U2_SjPt_T"
   },
   "source": [
    "Let's implement a new method for this function, to make sure that any subtype of the `Integer` type will be promoted to `MyRational`:"
   ]
  },
  {
   "cell_type": "code",
   "execution_count": 243,
   "metadata": {
    "colab": {
     "base_uri": "https://localhost:8080/",
     "height": 34
    },
    "colab_type": "code",
    "id": "wjK9_3Bierna",
    "outputId": "02215c5f-c146-409e-884b-6183e7729752"
   },
   "outputs": [
    {
     "data": {
      "text/plain": [
       "promote_rule (generic function with 141 methods)"
      ]
     },
     "execution_count": 243,
     "metadata": {
      "tags": []
     },
     "output_type": "execute_result"
    }
   ],
   "source": [
    "import Base.promote_rule\n",
    "\n",
    "promote_rule(::Type{MyRational}, ::Type{T}) where {T <: Integer} = MyRational"
   ]
  },
  {
   "cell_type": "markdown",
   "metadata": {
    "colab_type": "text",
    "id": "OSXo1GaxwU9F"
   },
   "source": [
    "This method definition uses **parametric types**: the type `T` can be any type at all, as long as it is a subtype of the `Integer` abstract type. If you tried to define the method `promote_rule(::Type{MyRational}, ::Type{Integer})`, it would expect the type `Integer` itself as the second argument, which would not work, since the `promote_rule()` function will usually be called with concrete types like `Int64` as its arguments."
   ]
  },
  {
   "cell_type": "markdown",
   "metadata": {
    "colab_type": "text",
    "id": "Cn7m2aTTrC6X"
   },
   "source": [
    "Let's check that it works:"
   ]
  },
  {
   "cell_type": "code",
   "execution_count": 244,
   "metadata": {
    "colab": {
     "base_uri": "https://localhost:8080/",
     "height": 34
    },
    "colab_type": "code",
    "id": "bD7p0DHFfaCg",
    "outputId": "e5daf044-1e81-4e73-ad2d-315d4e08bed9"
   },
   "outputs": [
    {
     "data": {
      "text/plain": [
       "(5 ⨸ 1, 2 ⨸ 3)"
      ]
     },
     "execution_count": 244,
     "metadata": {
      "tags": []
     },
     "output_type": "execute_result"
    }
   ],
   "source": [
    "promote(5, 2 ⨸ 3)"
   ]
  },
  {
   "cell_type": "markdown",
   "metadata": {
    "colab_type": "text",
    "id": "WVRYV79ErH81"
   },
   "source": [
    "Yep! Now whenever we call `+`, `-`, etc., with an integer and a `MyRational` value, the integer will get automatically promoted to a `MyRational` value:"
   ]
  },
  {
   "cell_type": "code",
   "execution_count": 245,
   "metadata": {
    "colab": {
     "base_uri": "https://localhost:8080/",
     "height": 40
    },
    "colab_type": "code",
    "id": "lmjjo9lSegy9",
    "outputId": "425fb533-9bea-49da-c1b2-730a5df47d06"
   },
   "outputs": [
    {
     "data": {
      "text/html": [
       "<sup><b>17</b></sup>&frasl;<sub><b>3</b></sub>"
      ],
      "text/plain": [
       "17 ⨸ 3"
      ]
     },
     "execution_count": 245,
     "metadata": {
      "tags": []
     },
     "output_type": "execute_result"
    }
   ],
   "source": [
    "5 + 2 ⨸ 3"
   ]
  },
  {
   "cell_type": "markdown",
   "metadata": {
    "colab_type": "text",
    "id": "B6jVZiYXxuPJ"
   },
   "source": [
    "Under the hood:\n",
    "* this called `+(5, 2 ⨸ 3)`,\n",
    "  * which called the `+(::Number, ::Number)` method (thanks to multiple dispatch),\n",
    "    * which called `promote(5, 2 ⨸ 3)`,\n",
    "      * which called `promote_rule(Int64, MyRational)`,\n",
    "        * which called `promote_rule(::MyRational, ::T) where {T <: Integer}`,\n",
    "          * which returned `MyRational`,\n",
    "    * then the `+(::Number, ::Number)` method called `convert(MyRational, 5)`,\n",
    "      * which called `MyRational(5)`,\n",
    "        * which returned `MyRational(5, 1)`,\n",
    "    * and finally `+(::Number, ::Number)` called `+(MyRational(5, 1), MyRational(2, 3))`,\n",
    "      * which returned `MyRational(17, 3)`."
   ]
  },
  {
   "cell_type": "markdown",
   "metadata": {
    "colab_type": "text",
    "id": "d30Q7aANrik5"
   },
   "source": [
    "The benefit of this approach is that we only need to implement the `+`, `-`, etc. functions for pairs of `MyRational` values, not with all combinations of `MyRational` values and integers."
   ]
  },
  {
   "cell_type": "markdown",
   "metadata": {
    "colab_type": "text",
    "id": "GftnTFTyLchM"
   },
   "source": [
    "If your head hurts, it's perfectly normal. ;-) Writing a new type that is easy to use, flexible and plays nicely with existing types takes a bit of planning and work, but the point is that you will not write these every day, and once you have, they will make your life much easier."
   ]
  },
  {
   "cell_type": "markdown",
   "metadata": {
    "colab_type": "text",
    "id": "GSVv5YNisaxJ"
   },
   "source": [
    "Now let's handle the case where we want to execute operations with `MyRational` values and floats. In this case, we naturally want to promote the `MyRational` value to a float. We first need to define how to convert a `MyRational` value to any subtype of `AbstractFloat`:"
   ]
  },
  {
   "cell_type": "code",
   "execution_count": 246,
   "metadata": {
    "colab": {
     "base_uri": "https://localhost:8080/",
     "height": 34
    },
    "colab_type": "code",
    "id": "DZSFfORzrx4I",
    "outputId": "e58ea0ce-fc6a-4814-e460-bcea748e9f27"
   },
   "outputs": [
    {
     "data": {
      "text/plain": [
       "convert (generic function with 246 methods)"
      ]
     },
     "execution_count": 246,
     "metadata": {
      "tags": []
     },
     "output_type": "execute_result"
    }
   ],
   "source": [
    "convert(::Type{T}, x::MyRational) where {T <: AbstractFloat} = T(x.num / x.den)"
   ]
  },
  {
   "cell_type": "markdown",
   "metadata": {
    "colab_type": "text",
    "id": "XC5z7YxcMjJN"
   },
   "source": [
    "This `convert()` works with any type `T` which is a subtype of `AbstractFloat`. It just computes `x.num / x.den` and converts the result to type `T`. Let's try it:"
   ]
  },
  {
   "cell_type": "code",
   "execution_count": 247,
   "metadata": {
    "colab": {
     "base_uri": "https://localhost:8080/",
     "height": 34
    },
    "colab_type": "code",
    "id": "LxPjD04VMBXg",
    "outputId": "6d97bd75-63c7-4bac-bedf-587c47df1889"
   },
   "outputs": [
    {
     "data": {
      "text/plain": [
       "1.5"
      ]
     },
     "execution_count": 247,
     "metadata": {
      "tags": []
     },
     "output_type": "execute_result"
    }
   ],
   "source": [
    "convert(Float64, 3 ⨸ 2)"
   ]
  },
  {
   "cell_type": "markdown",
   "metadata": {
    "colab_type": "text",
    "id": "Iity08_TMyLa"
   },
   "source": [
    "Now let's define a `promote_rule()` method which will work for any type `T` which is a subtype of `AbstractFloat`, and which will give priority to `T` over `MyRational`:"
   ]
  },
  {
   "cell_type": "code",
   "execution_count": 248,
   "metadata": {
    "colab": {
     "base_uri": "https://localhost:8080/",
     "height": 34
    },
    "colab_type": "code",
    "id": "S2xlgBf8MGa8",
    "outputId": "56e8593d-a8f8-4e12-e499-41732b88f627"
   },
   "outputs": [
    {
     "data": {
      "text/plain": [
       "promote_rule (generic function with 142 methods)"
      ]
     },
     "execution_count": 248,
     "metadata": {
      "tags": []
     },
     "output_type": "execute_result"
    }
   ],
   "source": [
    "promote_rule(::Type{MyRational}, ::Type{T}) where {T <: AbstractFloat} = T"
   ]
  },
  {
   "cell_type": "code",
   "execution_count": 249,
   "metadata": {
    "colab": {
     "base_uri": "https://localhost:8080/",
     "height": 34
    },
    "colab_type": "code",
    "id": "5Xe9_k_GQZw0",
    "outputId": "d639f96e-ef73-4849-d040-39b05ed08118"
   },
   "outputs": [
    {
     "data": {
      "text/plain": [
       "(0.5, 4.0)"
      ]
     },
     "execution_count": 249,
     "metadata": {
      "tags": []
     },
     "output_type": "execute_result"
    }
   ],
   "source": [
    "promote(1 ⨸ 2, 4.0)"
   ]
  },
  {
   "cell_type": "markdown",
   "metadata": {
    "colab_type": "text",
    "id": "ZRQrziIuNONH"
   },
   "source": [
    "Now we can combine floats and `MyRational` values easily:"
   ]
  },
  {
   "cell_type": "code",
   "execution_count": 250,
   "metadata": {
    "colab": {
     "base_uri": "https://localhost:8080/",
     "height": 34
    },
    "colab_type": "code",
    "id": "ncZJSLjTsMsG",
    "outputId": "be4f7891-c455-440a-dfaa-46dd7f757222"
   },
   "outputs": [
    {
     "data": {
      "text/plain": [
       "1.5"
      ]
     },
     "execution_count": 250,
     "metadata": {
      "tags": []
     },
     "output_type": "execute_result"
    }
   ],
   "source": [
    "2.25 ^ (1 ⨸ 2)"
   ]
  },
  {
   "cell_type": "markdown",
   "metadata": {
    "colab_type": "text",
    "id": "p6msWOnrRwTO"
   },
   "source": [
    "## Parametric Types and Functions"
   ]
  },
  {
   "cell_type": "markdown",
   "metadata": {
    "colab_type": "text",
    "id": "6aNBefNARChe"
   },
   "source": [
    "Julia's `Rational` type is actually a **parametric type** which ensures that the numerator and denominator have the same type `T`, subtype of `Integer`. Here's a new version of our rational struct which enforces the same constraint:"
   ]
  },
  {
   "cell_type": "code",
   "execution_count": 251,
   "metadata": {
    "colab": {},
    "colab_type": "code",
    "id": "I0Vyf_ogRdy0"
   },
   "outputs": [],
   "source": [
    "struct MyRational2{T <: Integer}\n",
    "    num::T\n",
    "    den::T\n",
    "end"
   ]
  },
  {
   "cell_type": "markdown",
   "metadata": {
    "colab_type": "text",
    "id": "SHdhiFdlSwOd"
   },
   "source": [
    "To instantiate this type, we can specify the type `T`:"
   ]
  },
  {
   "cell_type": "code",
   "execution_count": 252,
   "metadata": {
    "colab": {
     "base_uri": "https://localhost:8080/",
     "height": 34
    },
    "colab_type": "code",
    "id": "FTfSXjQ4RseZ",
    "outputId": "5a8ceea0-2973-4926-c972-8c550e650883"
   },
   "outputs": [
    {
     "data": {
      "text/plain": [
       "MyRational2{BigInt}(2, 3)"
      ]
     },
     "execution_count": 252,
     "metadata": {
      "tags": []
     },
     "output_type": "execute_result"
    }
   ],
   "source": [
    "MyRational2{BigInt}(2, 3)"
   ]
  },
  {
   "cell_type": "markdown",
   "metadata": {
    "colab_type": "text",
    "id": "_dFuAINiTboo"
   },
   "source": [
    "Alternatively, we can use the `MyRational2` type's default constructor, with two integers of the same type:"
   ]
  },
  {
   "cell_type": "code",
   "execution_count": 253,
   "metadata": {
    "colab": {
     "base_uri": "https://localhost:8080/",
     "height": 34
    },
    "colab_type": "code",
    "id": "8Q8RWIB8Toq7",
    "outputId": "a57d9d62-5d86-485e-83f3-543de35aa568"
   },
   "outputs": [
    {
     "data": {
      "text/plain": [
       "MyRational2{Int64}(2, 3)"
      ]
     },
     "execution_count": 253,
     "metadata": {
      "tags": []
     },
     "output_type": "execute_result"
    }
   ],
   "source": [
    "MyRational2(2, 3)"
   ]
  },
  {
   "cell_type": "markdown",
   "metadata": {
    "colab_type": "text",
    "id": "8hhYRFcWXKkG"
   },
   "source": [
    "If we want to be able to construct a `MyRational2` with integers of different types, we must write an appropriate constructor which handles the promotion rule:"
   ]
  },
  {
   "cell_type": "code",
   "execution_count": 254,
   "metadata": {
    "colab": {
     "base_uri": "https://localhost:8080/",
     "height": 34
    },
    "colab_type": "code",
    "id": "BdRaOp44XS-I",
    "outputId": "f154cd7d-1cb0-41fc-8df8-cde2ffeff0e2"
   },
   "outputs": [
    {
     "data": {
      "text/plain": [
       "MyRational2"
      ]
     },
     "execution_count": 254,
     "metadata": {
      "tags": []
     },
     "output_type": "execute_result"
    }
   ],
   "source": [
    "function MyRational2(num::Integer, den::Integer)\n",
    "    MyRational2(promote(num, den)...)\n",
    "end"
   ]
  },
  {
   "cell_type": "markdown",
   "metadata": {
    "colab_type": "text",
    "id": "F1-HWooSXwRj"
   },
   "source": [
    "This constructor accepts two integers of potentially different types, and promotes them to the same type. Then it calls the default `MyRational2` constructor which expects two arguments of the same type. The syntax `f(args...)` is analog to Python's `f(*args)`."
   ]
  },
  {
   "cell_type": "markdown",
   "metadata": {
    "colab_type": "text",
    "id": "ui3Oe7CHYhKs"
   },
   "source": [
    "Let's see if this works:"
   ]
  },
  {
   "cell_type": "code",
   "execution_count": 255,
   "metadata": {
    "colab": {
     "base_uri": "https://localhost:8080/",
     "height": 34
    },
    "colab_type": "code",
    "id": "55PS-B4kXsMv",
    "outputId": "14e129bc-73a1-4170-e06c-c12b7428f546"
   },
   "outputs": [
    {
     "data": {
      "text/plain": [
       "MyRational2{BigInt}(2, 3)"
      ]
     },
     "execution_count": 255,
     "metadata": {
      "tags": []
     },
     "output_type": "execute_result"
    }
   ],
   "source": [
    "MyRational2(2, BigInt(3))"
   ]
  },
  {
   "cell_type": "markdown",
   "metadata": {
    "colab_type": "text",
    "id": "FYBh3sMgXvIy"
   },
   "source": [
    "Great!"
   ]
  },
  {
   "cell_type": "markdown",
   "metadata": {
    "colab_type": "text",
    "id": "TFB6iS8cYuwk"
   },
   "source": [
    "Note that all parametrized types such as `MyRational2{Int64}` or `MyRational2{BigInt}` are subtypes of `MyRational2`. So if a function accepts a `MyRational2` argument, you can pass it an instance of any specific, parametrized type:"
   ]
  },
  {
   "cell_type": "code",
   "execution_count": 256,
   "metadata": {
    "colab": {
     "base_uri": "https://localhost:8080/",
     "height": 51
    },
    "colab_type": "code",
    "id": "Xoe56vbfZXr8",
    "outputId": "b29faf99-5326-480f-c0b2-21f5bd933efb"
   },
   "outputs": [
    {
     "name": "stdout",
     "output_type": "stream",
     "text": [
      "MyRational2{BigInt}(1, 2)\n",
      "MyRational2{Int64}(1, 2)\n"
     ]
    }
   ],
   "source": [
    "function for_any_my_rational2(x::MyRational2)\n",
    "    println(x)\n",
    "end\n",
    "\n",
    "for_any_my_rational2(MyRational2{BigInt}(1, 2))\n",
    "for_any_my_rational2(MyRational2{Int64}(1, 2))"
   ]
  },
  {
   "cell_type": "markdown",
   "metadata": {
    "colab_type": "text",
    "id": "KK02R7mAazjo"
   },
   "source": [
    "A more explicit (but verbose) syntax for this function is:"
   ]
  },
  {
   "cell_type": "code",
   "execution_count": 257,
   "metadata": {
    "colab": {
     "base_uri": "https://localhost:8080/",
     "height": 34
    },
    "colab_type": "code",
    "id": "w9wLF0uYa377",
    "outputId": "4a3efe97-616d-40b2-a0d7-7278301933a8"
   },
   "outputs": [
    {
     "data": {
      "text/plain": [
       "for_any_my_rational2 (generic function with 1 method)"
      ]
     },
     "execution_count": 257,
     "metadata": {
      "tags": []
     },
     "output_type": "execute_result"
    }
   ],
   "source": [
    "function for_any_my_rational2(x::MyRational2{T}) where {T <: Integer}\n",
    "    println(x)\n",
    "end"
   ]
  },
  {
   "cell_type": "markdown",
   "metadata": {
    "colab_type": "text",
    "id": "HzrkuhIMT3rq"
   },
   "source": [
    "It's useful to think of types as sets. For example, the `Int64` type represents the set of all 64-bit integer values, so `42 isa Int64`:\n",
    "* When `x` is an instance of some type `T`, it is an element of the set `T` represents, and `x isa T`.\n",
    "* When `U` is a subtype of `V`, `U` is a subset of `V`, and `U <: V`.\n",
    "\n",
    "The `MyRational2` type itself (without any parameter) represents the set of all values of `MyRational2{T}` for all subtypes `T` of `Integer`. In other words, it is the union of all the `MyRational2{T}` types. This is called a `UnionAll` type, and indeed the type `MyRational2` itself is an instance of the `UnionAll` type:"
   ]
  },
  {
   "cell_type": "code",
   "execution_count": 258,
   "metadata": {
    "colab": {},
    "colab_type": "code",
    "id": "hGKucwR4Z78q"
   },
   "outputs": [],
   "source": [
    "@assert MyRational2{BigInt}(2, 3) isa MyRational2{BigInt}\n",
    "@assert MyRational2{BigInt}(2, 3) isa MyRational2\n",
    "@assert MyRational2 === (MyRational2{T} where {T <: Integer})\n",
    "@assert MyRational2{BigInt} <: MyRational2\n",
    "@assert MyRational2 isa UnionAll"
   ]
  },
  {
   "cell_type": "markdown",
   "metadata": {
    "colab_type": "text",
    "id": "Tv483WelU4It"
   },
   "source": [
    "If we dump the `MyRational2` type, we can see that it is a `UnionAll` instance, with a parameter type `T`, constrained to a subtype of the `Integer` type (since the upper bound `ub` is `Integer`):"
   ]
  },
  {
   "cell_type": "code",
   "execution_count": 259,
   "metadata": {
    "colab": {
     "base_uri": "https://localhost:8080/",
     "height": 153
    },
    "colab_type": "code",
    "id": "6Xzox_pwU1AA",
    "outputId": "d50d8b07-bf3f-4c11-f565-d69ea7197103"
   },
   "outputs": [
    {
     "name": "stdout",
     "output_type": "stream",
     "text": [
      "UnionAll\n",
      "  var: TypeVar\n",
      "    name: Symbol T\n",
      "    lb: Union{}\n",
      "    ub: Integer <: Real\n",
      "  body: MyRational2{T<:Integer} <: Any\n",
      "    num::T\n",
      "    den::T\n"
     ]
    }
   ],
   "source": [
    "dump(MyRational2)"
   ]
  },
  {
   "cell_type": "markdown",
   "metadata": {
    "colab_type": "text",
    "id": "eEpPNFJBcoag"
   },
   "source": [
    "There's a lot more to learn about Julia types. When you feel ready to explore this in more depth, check out [this page](https://docs.julialang.org/en/v1.4/manual/types/). You can also take a look at the [source code of Julia's rationals](https://github.com/JuliaLang/julia/blob/master/base/rational.jl)."
   ]
  },
  {
   "cell_type": "markdown",
   "metadata": {
    "colab_type": "text",
    "id": "KmT7ZJEMJ2Vv"
   },
   "source": [
    "# Writing/Reading Files\n",
    "The `do` syntax we saw earlier is helpful when using the `open()` function:\n"
   ]
  },
  {
   "cell_type": "code",
   "execution_count": 260,
   "metadata": {
    "colab": {
     "base_uri": "https://localhost:8080/",
     "height": 51
    },
    "colab_type": "code",
    "id": "oGW3LMvkJ6JM",
    "outputId": "214a9b64-f3d7-4e6a-ee09-24842bf981d7"
   },
   "outputs": [
    {
     "name": "stdout",
     "output_type": "stream",
     "text": [
      "[This is a test.]\n",
      "[I repeat, this is a test.]\n"
     ]
    }
   ],
   "source": [
    "open(\"test.txt\", \"w\") do f\n",
    "    write(f, \"This is a test.\\n\")\n",
    "    write(f, \"I repeat, this is a test.\\n\")\n",
    "end\n",
    "\n",
    "open(\"test.txt\") do f\n",
    "    for line in eachline(f)\n",
    "        println(\"[$line]\")\n",
    "    end\n",
    "end"
   ]
  },
  {
   "cell_type": "markdown",
   "metadata": {
    "colab_type": "text",
    "id": "f6XIenvgKdzR"
   },
   "source": [
    "The `open()` function automatically closes the file at the end of the block. Notice that the line feeds `\\n` at the end of each line are not returned by the `eachline()` function. So the equivalent Python code is:\n",
    "\n",
    "```python\n",
    "# PYTHON\n",
    "with open(\"test.txt\", \"w\") as f:\n",
    "    f.write(\"This is a test.\\n\")\n",
    "    f.write(\"I repeat, this is a test.\\n\")\n",
    "\n",
    "with open(\"test.txt\") as f:\n",
    "    for line in f.readlines():\n",
    "        line = line.rstrip(\"\\n\")\n",
    "        print(f\"[{line}]\")\n",
    "```"
   ]
  },
  {
   "cell_type": "markdown",
   "metadata": {
    "colab_type": "text",
    "id": "SQg2lDpRW_2R"
   },
   "source": [
    "Alternatively, you can read the whole file into a string:"
   ]
  },
  {
   "cell_type": "code",
   "execution_count": 261,
   "metadata": {
    "colab": {
     "base_uri": "https://localhost:8080/",
     "height": 34
    },
    "colab_type": "code",
    "id": "FKRtde6dXDpe",
    "outputId": "942eca55-240e-408c-a6f7-042237376d14"
   },
   "outputs": [
    {
     "data": {
      "text/plain": [
       "\"This is a test.\\nI repeat, this is a test.\\n\""
      ]
     },
     "execution_count": 261,
     "metadata": {
      "tags": []
     },
     "output_type": "execute_result"
    }
   ],
   "source": [
    "open(\"test.txt\") do f\n",
    "    s = read(f, String)\n",
    "end"
   ]
  },
  {
   "cell_type": "markdown",
   "metadata": {
    "colab_type": "text",
    "id": "5vxOQnwucbIW"
   },
   "source": [
    "Or more concisely:"
   ]
  },
  {
   "cell_type": "code",
   "execution_count": 262,
   "metadata": {
    "colab": {
     "base_uri": "https://localhost:8080/",
     "height": 34
    },
    "colab_type": "code",
    "id": "2s-SRVw7cc5G",
    "outputId": "61cf6d91-2bb3-4a02-b254-b578f36a4bb7"
   },
   "outputs": [
    {
     "data": {
      "text/plain": [
       "\"This is a test.\\nI repeat, this is a test.\\n\""
      ]
     },
     "execution_count": 262,
     "metadata": {
      "tags": []
     },
     "output_type": "execute_result"
    }
   ],
   "source": [
    "s = read(\"test.txt\", String)"
   ]
  },
  {
   "cell_type": "markdown",
   "metadata": {
    "colab_type": "text",
    "id": "dHb_f2lWXM0Z"
   },
   "source": [
    "The Python equivalent is:\n",
    "\n",
    "```python\n",
    "# PYTHON\n",
    "with open(\"test.txt\") as f:\n",
    "    s = f.read()\n",
    "```"
   ]
  },
  {
   "cell_type": "markdown",
   "metadata": {
    "colab_type": "text",
    "id": "EmBI1zY8DAvT"
   },
   "source": [
    "# Exceptions\n",
    "\n",
    "Julia's exceptions behave very much like in Python:"
   ]
  },
  {
   "cell_type": "code",
   "execution_count": 263,
   "metadata": {
    "colab": {
     "base_uri": "https://localhost:8080/",
     "height": 34
    },
    "colab_type": "code",
    "id": "z-dXwra9cvYD",
    "outputId": "8d2f4d10-c214-4e4d-8aae-695c1c0f800a"
   },
   "outputs": [
    {
     "name": "stdout",
     "output_type": "stream",
     "text": [
      "[1, 2, 3, 5]\n"
     ]
    }
   ],
   "source": [
    "a = [1]\n",
    "try\n",
    "    push!(a, 2)\n",
    "    #throw(\"Oops\") # try uncommenting this line\n",
    "    push!(a, 3)\n",
    "catch ex\n",
    "    println(ex)\n",
    "    push!(a, 4)\n",
    "finally\n",
    "    push!(a, 5)\n",
    "end\n",
    "println(a)"
   ]
  },
  {
   "cell_type": "markdown",
   "metadata": {
    "colab_type": "text",
    "id": "kt2mWkKFfd8I"
   },
   "source": [
    "The equivalent Python code is:\n",
    "\n",
    "```python\n",
    "# PYTHON\n",
    "a = [1]\n",
    "try:\n",
    "    a.append(2)\n",
    "    #raise Exception(\"Oops\") # try uncommenting this line\n",
    "    a.append(3)\n",
    "except Exception as ex:\n",
    "    print(ex)\n",
    "    a.append(4)\n",
    "finally:\n",
    "    a.append(5)\n",
    "\n",
    "print(a)\n",
    "```"
   ]
  },
  {
   "cell_type": "markdown",
   "metadata": {
    "colab_type": "text",
    "id": "19zE5t7nhtCJ"
   },
   "source": [
    "There is a whole hierarchy of standard exceptions which can be thrown, just like in Python. For example:"
   ]
  },
  {
   "cell_type": "code",
   "execution_count": 264,
   "metadata": {
    "colab": {
     "base_uri": "https://localhost:8080/",
     "height": 34
    },
    "colab_type": "code",
    "id": "71J-OuM5h9cr",
    "outputId": "cdbd922d-fdac-442f-ab06-696e47865559"
   },
   "outputs": [
    {
     "name": "stdout",
     "output_type": "stream",
     "text": [
      "Oops. System error #2 (opening file \"/foo/bar/i_dont_exist.txt\")\n"
     ]
    }
   ],
   "source": [
    "choice = 1 # try changing this value (from 1 to 4)\n",
    "try\n",
    "    choice == 1 && open(\"/foo/bar/i_dont_exist.txt\")\n",
    "    choice == 2 && sqrt(-1)\n",
    "    choice == 3 && push!(a, \"Oops\")\n",
    "    println(\"Everything worked like a charm\")\n",
    "catch ex\n",
    "    if ex isa SystemError\n",
    "        println(\"Oops. System error #$(ex.errnum) ($(ex.prefix))\")\n",
    "    elseif ex isa DomainError\n",
    "        println(\"Oh no, I could not compute sqrt(-1)\")\n",
    "    else\n",
    "        println(\"I got an unexpected error: $ex\")\n",
    "    end\n",
    "end"
   ]
  },
  {
   "cell_type": "markdown",
   "metadata": {
    "colab_type": "text",
    "id": "0IegY5XckWET"
   },
   "source": [
    "Compare this with Python's equivalent code:\n",
    "\n",
    "```python\n",
    "# PYTHON\n",
    "choice = 3 # try changing this value (from 1 to 4)\n",
    "try:\n",
    "  if choice == 1:\n",
    "      open(\"/foo/bar/i_dont_exist.txt\")\n",
    "  if choice == 2:\n",
    "      math.sqrt(-1)\n",
    "  if choice == 3:\n",
    "      #a.append(\"Ok\") # this would actually work\n",
    "      raise TypeError(\"Oops\") # so let's fail manually\n",
    "  print(\"Everything worked like a charm\")\n",
    "except OSError as ex:\n",
    "    print(f\"Oops. OS error (#{ex.errno} ({ex.strerror})\")\n",
    "except ValueError:\n",
    "    print(\"Oh no, I could not compute sqrt(-1)\")\n",
    "except Exception as ex:\n",
    "    print(f\"I got an unexpected error: {ex}\")\n",
    "```\n"
   ]
  },
  {
   "cell_type": "markdown",
   "metadata": {
    "colab_type": "text",
    "id": "jD6j5HsCHXzo"
   },
   "source": [
    "A few things to note here:\n",
    "\n",
    "* Julia only allows a single `catch` block which handles all possible exceptions.\n",
    "* `obj isa SomeClass` is a shorthand for `isa(obj, SomeClass)` which is equivalent to Python's `isinstance(obj, SomeClass)`.\n",
    "\n",
    "|Julia|Python\n",
    "|-----|------\n",
    "|`try`<br />&nbsp;&nbsp;&nbsp;&nbsp;`...`<br />`catch ex`<br />&nbsp;&nbsp;&nbsp;&nbsp;`if ex isa SomeError`<br />&nbsp;&nbsp;&nbsp;&nbsp;&nbsp;&nbsp;&nbsp;&nbsp;`...`<br />&nbsp;&nbsp;&nbsp;&nbsp;`else`<br />&nbsp;&nbsp;&nbsp;&nbsp;&nbsp;&nbsp;&nbsp;&nbsp;`...`<br />&nbsp;&nbsp;&nbsp;&nbsp;`end`<br />`finally`<br />&nbsp;&nbsp;&nbsp;&nbsp;`...`<br />`end` | `try:`<br />&nbsp;&nbsp;&nbsp;&nbsp;`...`<br />`except SomeException as ex:`<br />&nbsp;&nbsp;&nbsp;&nbsp;`...`<br />`except Exception as ex:`<br />&nbsp;&nbsp;&nbsp;&nbsp;`...`<br />`finally:`<br />&nbsp;&nbsp;&nbsp;&nbsp;`...`\n",
    "|`throw any_value` | `raise SomeException(...)`\n",
    "| `obj isa SomeType`<br />or<br /> `isa(obj, SomeType`) | `isinstance(obj, SomeType)`"
   ]
  },
  {
   "cell_type": "markdown",
   "metadata": {
    "colab_type": "text",
    "id": "lFGQZmkfQg6K"
   },
   "source": [
    "Note that Julia does not support the equivalent of Python's `try / catch / else` construct. You need to write something like this:"
   ]
  },
  {
   "cell_type": "code",
   "execution_count": 265,
   "metadata": {
    "colab": {
     "base_uri": "https://localhost:8080/",
     "height": 85
    },
    "colab_type": "code",
    "id": "P2qPhf-EQ4WW",
    "outputId": "52bf12b1-e0eb-4d62-9218-14dfc0242af2"
   },
   "outputs": [
    {
     "name": "stdout",
     "output_type": "stream",
     "text": [
      "Try something\n",
      "No error occurred\n",
      "The end\n",
      "After the end\n"
     ]
    }
   ],
   "source": [
    "catch_exception = true\n",
    "try\n",
    "    println(\"Try something\")\n",
    "    #error(\"ERROR: Catch me!\") # try uncommenting this line\n",
    "    catch_exception = false\n",
    "    #error(\"ERROR: Don't catch me!\") # try uncommenting this line\n",
    "    println(\"No error occurred\")\n",
    "catch ex\n",
    "    if catch_exception\n",
    "        println(\"I caught this exception: $ex\")\n",
    "    else\n",
    "        throw(ex)\n",
    "    end\n",
    "finally\n",
    "    println(\"The end\")\n",
    "end\n",
    "println(\"After the end\")"
   ]
  },
  {
   "cell_type": "markdown",
   "metadata": {
    "colab_type": "text",
    "id": "XNyuFEVER7-p"
   },
   "source": [
    "The equivalent Python code is shorter, but it's fairly uncommon:\n",
    "\n",
    "```python\n",
    "# PYTHON\n",
    "try:\n",
    "    print(\"Try something\")\n",
    "    raise Exception(\"Catch me!\") # try uncommenting this line\n",
    "except Exception as ex:\n",
    "    print(f\"I caught this exception: {ex}\")\n",
    "else:\n",
    "    raise Exception(\"Don't catch me!\") # try uncommenting this line\n",
    "    print(\"No error occured\")\n",
    "finally:\n",
    "    print(\"The end\")\n",
    "\n",
    "print(\"After the end\")\n",
    "```"
   ]
  },
  {
   "cell_type": "markdown",
   "metadata": {
    "colab_type": "text",
    "id": "Ieqz4vrxEAQb"
   },
   "source": [
    "# Docstrings\n",
    "It's good practice to add docstrings to every function you export. The docstring is placed just _before_ the definition of the function:"
   ]
  },
  {
   "cell_type": "code",
   "execution_count": 266,
   "metadata": {
    "colab": {
     "base_uri": "https://localhost:8080/",
     "height": 34
    },
    "colab_type": "code",
    "id": "OgwehsQjNj8Y",
    "outputId": "5349c1fc-aacd-4686-a1de-88e601b6de0d"
   },
   "outputs": [
    {
     "data": {
      "text/plain": [
       "square"
      ]
     },
     "execution_count": 266,
     "metadata": {
      "tags": []
     },
     "output_type": "execute_result"
    }
   ],
   "source": [
    "\"Compute the square of number x\"\n",
    "square(x::Number) = x^2"
   ]
  },
  {
   "cell_type": "markdown",
   "metadata": {
    "colab_type": "text",
    "id": "B9vmLpLpO6ix"
   },
   "source": [
    "You can retrieve a function's docstring using the `@doc` macro:"
   ]
  },
  {
   "cell_type": "code",
   "execution_count": 267,
   "metadata": {
    "colab": {
     "base_uri": "https://localhost:8080/",
     "height": 46
    },
    "colab_type": "code",
    "id": "rYR63pL1NsWU",
    "outputId": "ace0c6ee-c670-4d87-8bb3-8246975e265d"
   },
   "outputs": [
    {
     "data": {
      "text/latex": [
       "Compute the square of number x\n",
       "\n"
      ],
      "text/markdown": [
       "Compute the square of number x\n"
      ],
      "text/plain": [
       "  Compute the square of number x"
      ]
     },
     "execution_count": 267,
     "metadata": {
      "tags": []
     },
     "output_type": "execute_result"
    }
   ],
   "source": [
    "@doc square"
   ]
  },
  {
   "cell_type": "markdown",
   "metadata": {
    "colab_type": "text",
    "id": "HcKzENGnO-8z"
   },
   "source": [
    "The docstring is displayed when asking for help:"
   ]
  },
  {
   "cell_type": "code",
   "execution_count": 268,
   "metadata": {
    "colab": {
     "base_uri": "https://localhost:8080/",
     "height": 80
    },
    "colab_type": "code",
    "id": "O9xkw7uvNw9A",
    "outputId": "210e08e5-6f9b-4836-8eab-94f32a9ba133"
   },
   "outputs": [
    {
     "name": "stdout",
     "output_type": "stream",
     "text": [
      "search: \u001b[0m\u001b[1ms\u001b[22m\u001b[0m\u001b[1mq\u001b[22m\u001b[0m\u001b[1mu\u001b[22m\u001b[0m\u001b[1ma\u001b[22m\u001b[0m\u001b[1mr\u001b[22m\u001b[0m\u001b[1me\u001b[22m \u001b[0m\u001b[1mS\u001b[22m\u001b[0m\u001b[1mq\u001b[22m\u001b[0m\u001b[1mu\u001b[22m\u001b[0m\u001b[1ma\u001b[22m\u001b[0m\u001b[1mr\u001b[22m\u001b[0m\u001b[1me\u001b[22m \u001b[0m\u001b[1mS\u001b[22m\u001b[0m\u001b[1mq\u001b[22m\u001b[0m\u001b[1mu\u001b[22m\u001b[0m\u001b[1ma\u001b[22m\u001b[0m\u001b[1mr\u001b[22m\u001b[0m\u001b[1me\u001b[22m_v2 My\u001b[0m\u001b[1mS\u001b[22m\u001b[0m\u001b[1mq\u001b[22m\u001b[0m\u001b[1mu\u001b[22m\u001b[0m\u001b[1ma\u001b[22m\u001b[0m\u001b[1mr\u001b[22m\u001b[0m\u001b[1me\u001b[22ms Ab\u001b[0m\u001b[1ms\u001b[22mtractS\u001b[0m\u001b[1mq\u001b[22m\u001b[0m\u001b[1mu\u001b[22m\u001b[0m\u001b[1ma\u001b[22m\u001b[0m\u001b[1mr\u001b[22m\u001b[0m\u001b[1me\u001b[22m la\u001b[0m\u001b[1ms\u001b[22mtdayof\u001b[0m\u001b[1mq\u001b[22m\u001b[0m\u001b[1mu\u001b[22m\u001b[0m\u001b[1ma\u001b[22m\u001b[0m\u001b[1mr\u001b[22mt\u001b[0m\u001b[1me\u001b[22mr\n",
      "\n"
     ]
    },
    {
     "data": {
      "text/latex": [
       "Compute the square of number x\n",
       "\n"
      ],
      "text/markdown": [
       "Compute the square of number x\n"
      ],
      "text/plain": [
       "  Compute the square of number x"
      ]
     },
     "execution_count": 268,
     "metadata": {
      "tags": []
     },
     "output_type": "execute_result"
    }
   ],
   "source": [
    "?square"
   ]
  },
  {
   "cell_type": "markdown",
   "metadata": {
    "colab_type": "text",
    "id": "wte1Y76jPKpd"
   },
   "source": [
    "Docstrings follow the [Markdown format](https://en.wikipedia.org/wiki/Markdown#:~:text=Markdown%20is%20a%20lightweight%20markup,using%20a%20plain%20text%20editor.).\n",
    "A typical docstring starts with the signature of the function, indented by 4 spaces, so it will get syntax highlighted as Julia code.\n",
    "It also includes an `Examples` section with Julia REPL outputs:"
   ]
  },
  {
   "cell_type": "code",
   "execution_count": 269,
   "metadata": {
    "colab": {
     "base_uri": "https://localhost:8080/",
     "height": 34
    },
    "colab_type": "code",
    "id": "xucdR5ywNzTf",
    "outputId": "67f1a5e1-9d41-459e-ee2e-31ca5f90993f"
   },
   "outputs": [
    {
     "data": {
      "text/plain": [
       "cube"
      ]
     },
     "execution_count": 269,
     "metadata": {
      "tags": []
     },
     "output_type": "execute_result"
    }
   ],
   "source": [
    "\"\"\"\n",
    "    cube(x::Number)\n",
    "\n",
    "Compute the cube of `x`.\n",
    "\n",
    "# Examples\n",
    "```julia-repl\n",
    "julia> cube(5)\n",
    "125\n",
    "julia> cube(im)\n",
    "0 - 1im\n",
    "```\n",
    "\"\"\"\n",
    "cube(x) = x^3"
   ]
  },
  {
   "cell_type": "markdown",
   "metadata": {
    "colab_type": "text",
    "id": "b2aSKGYkaN7D"
   },
   "source": [
    "Instead of using `julia-repl` code blocks for the examples, you can use `jldoctest` to mark these examples as doctests (similar to Python's doctests)."
   ]
  },
  {
   "cell_type": "markdown",
   "metadata": {
    "colab_type": "text",
    "id": "gJt_pU7oQFzT"
   },
   "source": [
    "The help gets nicely formatted:"
   ]
  },
  {
   "cell_type": "code",
   "execution_count": 270,
   "metadata": {
    "colab": {
     "base_uri": "https://localhost:8080/",
     "height": 216
    },
    "colab_type": "code",
    "id": "FolAC9NdOYlH",
    "outputId": "3795d4f9-532a-40a3-d3ef-4fd9f002b182"
   },
   "outputs": [
    {
     "name": "stdout",
     "output_type": "stream",
     "text": [
      "search: \u001b[0m\u001b[1mc\u001b[22m\u001b[0m\u001b[1mu\u001b[22m\u001b[0m\u001b[1mb\u001b[22m\u001b[0m\u001b[1me\u001b[22m \u001b[0m\u001b[1mC\u001b[22mdo\u001b[0m\u001b[1mu\u001b[22m\u001b[0m\u001b[1mb\u001b[22ml\u001b[0m\u001b[1me\u001b[22m\n",
      "\n"
     ]
    },
    {
     "data": {
      "text/latex": [
       "\\begin{verbatim}\n",
       "cube(x::Number)\n",
       "\\end{verbatim}\n",
       "Compute the cube of \\texttt{x}.\n",
       "\n",
       "\\section{Examples}\n",
       "\\begin{verbatim}\n",
       "julia> cube(5)\n",
       "125\n",
       "julia> cube(im)\n",
       "0 - 1im\n",
       "\\end{verbatim}\n"
      ],
      "text/markdown": [
       "```\n",
       "cube(x::Number)\n",
       "```\n",
       "\n",
       "Compute the cube of `x`.\n",
       "\n",
       "# Examples\n",
       "\n",
       "```julia-repl\n",
       "julia> cube(5)\n",
       "125\n",
       "julia> cube(im)\n",
       "0 - 1im\n",
       "```\n"
      ],
      "text/plain": [
       "\u001b[36m  cube(x::Number)\u001b[39m\n",
       "\n",
       "  Compute the cube of \u001b[36mx\u001b[39m.\n",
       "\n",
       "\u001b[1m  Examples\u001b[22m\n",
       "\u001b[1m  ≡≡≡≡≡≡≡≡≡≡\u001b[22m\n",
       "\n",
       "\u001b[36m  julia> cube(5)\u001b[39m\n",
       "\u001b[36m  125\u001b[39m\n",
       "\u001b[36m  julia> cube(im)\u001b[39m\n",
       "\u001b[36m  0 - 1im\u001b[39m"
      ]
     },
     "execution_count": 270,
     "metadata": {
      "tags": []
     },
     "output_type": "execute_result"
    }
   ],
   "source": [
    "?cube"
   ]
  },
  {
   "cell_type": "markdown",
   "metadata": {
    "colab_type": "text",
    "id": "bT28xCa9QMcq"
   },
   "source": [
    "When there are several methods for a given function, it is common to give general information about the function in the first method (usually the most generic), and only add docstrings to other methods if they add useful information (without repeating the general info).\n",
    "\n",
    "Alternatively, you may attach the general information to the function itself:"
   ]
  },
  {
   "cell_type": "code",
   "execution_count": 271,
   "metadata": {
    "colab": {
     "base_uri": "https://localhost:8080/",
     "height": 34
    },
    "colab_type": "code",
    "id": "mi3rw1dYQmkT",
    "outputId": "76e38aee-a63a-4f21-bcec-d1fee9d4b5b1"
   },
   "outputs": [
    {
     "data": {
      "text/plain": [
       "foo"
      ]
     },
     "execution_count": 271,
     "metadata": {
      "tags": []
     },
     "output_type": "execute_result"
    }
   ],
   "source": [
    "\"\"\"\n",
    "    foo(x)\n",
    "\n",
    "Compute the foo of the bar\n",
    "\"\"\"\n",
    "function foo end  # declares the foo function\n",
    "\n",
    "# foo(x::Number) behaves normally, no need for a docstring\n",
    "foo(x::Number) = \"baz\"\n",
    "\n",
    "\"\"\"\n",
    "    foo(x::String)\n",
    "\n",
    "For strings, compute the qux of the bar instead.\n",
    "\"\"\"\n",
    "foo(x::String) = \"qux\""
   ]
  },
  {
   "cell_type": "code",
   "execution_count": 272,
   "metadata": {
    "colab": {
     "base_uri": "https://localhost:8080/",
     "height": 153
    },
    "colab_type": "code",
    "id": "ffQK0fnPTXsH",
    "outputId": "d965f686-f6fd-4b7a-8be1-328b79095d71"
   },
   "outputs": [
    {
     "name": "stdout",
     "output_type": "stream",
     "text": [
      "search: \u001b[0m\u001b[1mf\u001b[22m\u001b[0m\u001b[1mo\u001b[22m\u001b[0m\u001b[1mo\u001b[22m \u001b[0m\u001b[1mf\u001b[22ml\u001b[0m\u001b[1mo\u001b[22m\u001b[0m\u001b[1mo\u001b[22mr pointer_\u001b[0m\u001b[1mf\u001b[22mr\u001b[0m\u001b[1mo\u001b[22mm_\u001b[0m\u001b[1mo\u001b[22mbjref wait\u001b[0m\u001b[1mf\u001b[22m\u001b[0m\u001b[1mo\u001b[22mrbutt\u001b[0m\u001b[1mo\u001b[22mnpress Over\u001b[0m\u001b[1mf\u001b[22ml\u001b[0m\u001b[1mo\u001b[22mwErr\u001b[0m\u001b[1mo\u001b[22mr\n",
      "\n"
     ]
    },
    {
     "data": {
      "text/latex": [
       "\\begin{verbatim}\n",
       "foo(x)\n",
       "\\end{verbatim}\n",
       "Compute the foo of the bar\n",
       "\n",
       "\\rule{\\textwidth}{1pt}\n",
       "\\begin{verbatim}\n",
       "foo(x::String)\n",
       "\\end{verbatim}\n",
       "For strings, compute the qux of the bar instead.\n",
       "\n"
      ],
      "text/markdown": [
       "```\n",
       "foo(x)\n",
       "```\n",
       "\n",
       "Compute the foo of the bar\n",
       "\n",
       "---\n",
       "\n",
       "```\n",
       "foo(x::String)\n",
       "```\n",
       "\n",
       "For strings, compute the qux of the bar instead.\n"
      ],
      "text/plain": [
       "\u001b[36m  foo(x)\u001b[39m\n",
       "\n",
       "  Compute the foo of the bar\n",
       "\n",
       "  ────────────────────────────────────────────────────────────────────────────\n",
       "\n",
       "\u001b[36m  foo(x::String)\u001b[39m\n",
       "\n",
       "  For strings, compute the qux of the bar instead."
      ]
     },
     "execution_count": 272,
     "metadata": {
      "tags": []
     },
     "output_type": "execute_result"
    }
   ],
   "source": [
    "?foo"
   ]
  },
  {
   "cell_type": "markdown",
   "metadata": {
    "colab_type": "text",
    "id": "K80HBr5oGzo7"
   },
   "source": [
    "# Macros"
   ]
  },
  {
   "cell_type": "markdown",
   "metadata": {
    "colab_type": "text",
    "id": "QObp7sGRu6UJ"
   },
   "source": [
    "We have seen a few macros already: `@which`, `@assert`, `@time`, `@benchmark`, `@btime` and `@doc`. You guessed it: all macros start with an `@` sign.\n",
    "\n",
    "What is a macro? It is a function which can fully inspect the expression that follows it, and apply any transformation to that code at parse time, before compilation.\n",
    "\n",
    "This makes it possible for anyone to effectively extend the language in any way they please. Whereas C/C++ macros just do simple text replacement, **Julia macros are powerful meta-programming tools**.\n",
    "\n",
    "On the flip side, this also means that **each macro has its own syntax and behavior**.\n",
    "\n",
    "**A personal opinion**: in my experience, languages that provide great flexibility typically attract a community of programmers with a tinkering mindset, who will _love_ to experiment with all the fun features the language has to offer. This is great for creativity, but it can also be a nuisance if the community ends up producing too much experimental code, without much care for code reliability, API stability, or even for simplicity. By all means, let's be creative, let's experiment, but _with great power comes great responsibility_: let's also value reliability, stability and simplicity.\n",
    "\n",
    "That said, to give you an idea of what macro definitions look like in Julia, here's a simple toy macro that replaces `a + b` expressions with `a - b`, and leaves other expressions alone."
   ]
  },
  {
   "cell_type": "code",
   "execution_count": 273,
   "metadata": {
    "colab": {
     "base_uri": "https://localhost:8080/",
     "height": 34
    },
    "colab_type": "code",
    "id": "piHUqhKBZGqu",
    "outputId": "09931592-399f-42d2-ec4d-6441e5e0efe8"
   },
   "outputs": [
    {
     "data": {
      "text/plain": [
       "8"
      ]
     },
     "execution_count": 273,
     "metadata": {
      "tags": []
     },
     "output_type": "execute_result"
    }
   ],
   "source": [
    "macro addtosub(x)\n",
    "  if x.head == :call && x.args[1] == :+ && length(x.args) == 3\n",
    "    Expr(:call, :-, x.args[2], x.args[3])\n",
    "  else\n",
    "    x\n",
    "  end\n",
    "end\n",
    "\n",
    "@addtosub 10 + 2"
   ]
  },
  {
   "cell_type": "markdown",
   "metadata": {
    "colab_type": "text",
    "id": "7rJOpjunbOFk"
   },
   "source": [
    "In this macro definition, `:call`, `:+` and `:-` are **symbols**. These are similar to strings, only more efficient and less flexible. They are typically used as identifiers, such as keys in dictionaries."
   ]
  },
  {
   "cell_type": "markdown",
   "metadata": {
    "colab_type": "text",
    "id": "MaXNB30jZ0o9"
   },
   "source": [
    "If you're curious, the macro works because the parser converts `10 + 2` to `Expr(:call, :+, 10, 2)` and passes this expression to the macro (before compilation). The `if` statement checks that the expression is a function call, where the called function is the `+` function, with two arguments. If so, then the macro returns a new expression, corresponding to a call to the `-` function, with the same arguments. So `a + b` becomes `a - b`."
   ]
  },
  {
   "cell_type": "markdown",
   "metadata": {
    "colab_type": "text",
    "id": "tDEx5z5thmJG"
   },
   "source": [
    "For more info, check out [this page](https://docs.julialang.org/en/v1/manual/metaprogramming/)."
   ]
  },
  {
   "cell_type": "markdown",
   "metadata": {
    "colab_type": "text",
    "id": "MKMAu-SPGaEp"
   },
   "source": [
    "## Special Prefixed Strings"
   ]
  },
  {
   "cell_type": "markdown",
   "metadata": {
    "colab_type": "text",
    "id": "RiczKNd3Evgz"
   },
   "source": [
    "`py\"...\"` strings are defined by the `PyCall` module. Writing `py\"something\"` is equivalent to writing `@py_str \"something\"`. In other words, anyone can write a macro that defines a new kind of prefixed string. For example, if you write the `@ok_str` macro, it will be called when you write `ok\"something\"`.\n",
    "\n",
    "Another example is the `Pkg` module which defines the `@pkg_str` macro: this is why you can use `pkg\"...\"` to interact with the `Pkg` module. This is how `pkg\"add PyCall; precompile;\"` worked (at the end of the very first cell). This downloaded, installed and precompiled the `PyCall` module."
   ]
  },
  {
   "cell_type": "markdown",
   "metadata": {
    "colab_type": "text",
    "id": "V2DqnxfIS47B"
   },
   "source": [
    "# Modules\n",
    "In Python, a module must be defined in a dedicated file. In Julia, modules are independent from the file system. You can define several modules per file, or define one module across multiple files, it's up to you. Let's create a simple module containing two submodules, each containing a variable and a function:"
   ]
  },
  {
   "cell_type": "code",
   "execution_count": 274,
   "metadata": {
    "colab": {
     "base_uri": "https://localhost:8080/",
     "height": 34
    },
    "colab_type": "code",
    "id": "u9tQpD0JS_gm",
    "outputId": "e1106b20-10c7-455a-b566-82d42c361166"
   },
   "outputs": [
    {
     "data": {
      "text/plain": [
       "Main.ModA"
      ]
     },
     "execution_count": 274,
     "metadata": {
      "tags": []
     },
     "output_type": "execute_result"
    }
   ],
   "source": [
    "module ModA\n",
    "    pi = 3.14\n",
    "    square(x) = x^2\n",
    "\n",
    "    module ModB\n",
    "        e = 2.718\n",
    "        cube(x) = x^3\n",
    "    end\n",
    "\n",
    "    module ModC\n",
    "        root2 = √2\n",
    "        relu(x) = max(0, x)\n",
    "    end\n",
    "end"
   ]
  },
  {
   "cell_type": "markdown",
   "metadata": {
    "colab_type": "text",
    "id": "olgUIIbvYBQq"
   },
   "source": [
    "The default module is `Main`, so whatever we define is put in this module (except when defining a package, as we will see). This is why the `ModA`'s full name is `Main.ModA`."
   ]
  },
  {
   "cell_type": "markdown",
   "metadata": {
    "colab_type": "text",
    "id": "bnP_rALhVlw3"
   },
   "source": [
    "We can now access the contents of these modules by providing the full paths:"
   ]
  },
  {
   "cell_type": "code",
   "execution_count": 275,
   "metadata": {
    "colab": {
     "base_uri": "https://localhost:8080/",
     "height": 34
    },
    "colab_type": "code",
    "id": "IFOTvRKXXVNr",
    "outputId": "0194dada-f2f6-46a4-b087-4901019e99cd"
   },
   "outputs": [
    {
     "data": {
      "text/plain": [
       "1.4142135623730951"
      ]
     },
     "execution_count": 275,
     "metadata": {
      "tags": []
     },
     "output_type": "execute_result"
    }
   ],
   "source": [
    "Main.ModA.ModC.root2"
   ]
  },
  {
   "cell_type": "markdown",
   "metadata": {
    "colab_type": "text",
    "id": "Z-ooQk9zYY1N"
   },
   "source": [
    "Since our code runs in the `Main` module, we can leave out the `Main.` part:"
   ]
  },
  {
   "cell_type": "code",
   "execution_count": 276,
   "metadata": {
    "colab": {
     "base_uri": "https://localhost:8080/",
     "height": 34
    },
    "colab_type": "code",
    "id": "JnnhVg1eYhLz",
    "outputId": "f1cbd512-b738-4956-dde6-6bfbd8a36c66"
   },
   "outputs": [
    {
     "data": {
      "text/plain": [
       "1.4142135623730951"
      ]
     },
     "execution_count": 276,
     "metadata": {
      "tags": []
     },
     "output_type": "execute_result"
    }
   ],
   "source": [
    "ModA.ModC.root2"
   ]
  },
  {
   "cell_type": "markdown",
   "metadata": {
    "colab_type": "text",
    "id": "7liRTwI2Xd5e"
   },
   "source": [
    "Alternatively, you can use `import`:"
   ]
  },
  {
   "cell_type": "code",
   "execution_count": 277,
   "metadata": {
    "colab": {
     "base_uri": "https://localhost:8080/",
     "height": 34
    },
    "colab_type": "code",
    "id": "DxT44ZvnXoGN",
    "outputId": "54a982de-807e-42c6-abaa-e40a9e6e91e7"
   },
   "outputs": [
    {
     "data": {
      "text/plain": [
       "1.4142135623730951"
      ]
     },
     "execution_count": 277,
     "metadata": {
      "tags": []
     },
     "output_type": "execute_result"
    }
   ],
   "source": [
    "import Main.ModA.ModC.root2\n",
    "\n",
    "root2"
   ]
  },
  {
   "cell_type": "markdown",
   "metadata": {
    "colab_type": "text",
    "id": "TpOjKGi8Ymmu"
   },
   "source": [
    "Or we can use `import` with a relative path. In this case, we need to prefix `ModA` with a dot `.` to indicate that we want the module `ModA` located in the current module:"
   ]
  },
  {
   "cell_type": "code",
   "execution_count": 278,
   "metadata": {
    "colab": {
     "base_uri": "https://localhost:8080/",
     "height": 34
    },
    "colab_type": "code",
    "id": "9kqmiNNTYpQY",
    "outputId": "688dcfaa-213e-44bc-db30-f57aa1297b2a"
   },
   "outputs": [
    {
     "data": {
      "text/plain": [
       "1.4142135623730951"
      ]
     },
     "execution_count": 278,
     "metadata": {
      "tags": []
     },
     "output_type": "execute_result"
    }
   ],
   "source": [
    "import .ModA.ModC.root2\n",
    "\n",
    "root2"
   ]
  },
  {
   "cell_type": "markdown",
   "metadata": {
    "colab_type": "text",
    "id": "U1jBsBSyYshg"
   },
   "source": [
    "Alternatively, we can `import` the submodule:"
   ]
  },
  {
   "cell_type": "code",
   "execution_count": 279,
   "metadata": {
    "colab": {
     "base_uri": "https://localhost:8080/",
     "height": 34
    },
    "colab_type": "code",
    "id": "5Xui2RQEZROC",
    "outputId": "26799e98-bd8d-4918-d51c-b79a86cd9ed2"
   },
   "outputs": [
    {
     "data": {
      "text/plain": [
       "1.4142135623730951"
      ]
     },
     "execution_count": 279,
     "metadata": {
      "tags": []
     },
     "output_type": "execute_result"
    }
   ],
   "source": [
    "import .ModA.ModC\n",
    "\n",
    "ModC.root2"
   ]
  },
  {
   "cell_type": "markdown",
   "metadata": {
    "colab_type": "text",
    "id": "8mz_KKlAZXPH"
   },
   "source": [
    "When you want to import more than one name from a module, you can use this syntax:"
   ]
  },
  {
   "cell_type": "code",
   "execution_count": 280,
   "metadata": {
    "colab": {},
    "colab_type": "code",
    "id": "qtmDevYgZh5I"
   },
   "outputs": [],
   "source": [
    "import .ModA.ModC: root2, relu"
   ]
  },
  {
   "cell_type": "markdown",
   "metadata": {
    "colab_type": "text",
    "id": "T1nyVSefZotn"
   },
   "source": [
    "This is equivalent to this more verbose syntax:"
   ]
  },
  {
   "cell_type": "code",
   "execution_count": 281,
   "metadata": {
    "colab": {},
    "colab_type": "code",
    "id": "s-i-7QIGZrQn"
   },
   "outputs": [],
   "source": [
    "import .ModA.ModC.root2, .ModA.ModC.relu"
   ]
  },
  {
   "cell_type": "markdown",
   "metadata": {
    "colab_type": "text",
    "id": "rJSA9aljZ3BN"
   },
   "source": [
    "Nested modules do <u>not</u> automatically have access to names in enclosing modules. To import names from a parent module, use `..x`. From a grand-parent module, use `...x`, and so on."
   ]
  },
  {
   "cell_type": "code",
   "execution_count": 282,
   "metadata": {
    "colab": {
     "base_uri": "https://localhost:8080/",
     "height": 85
    },
    "colab_type": "code",
    "id": "NvRtf5SWZ_Wk",
    "outputId": "16ae8e50-882e-4e5e-e891-32be64d2aed5"
   },
   "outputs": [
    {
     "name": "stdout",
     "output_type": "stream",
     "text": [
      "UndefVarError(:d)\n",
      "2\n",
      "1\n"
     ]
    },
    {
     "data": {
      "text/plain": [
       "Main.ModD"
      ]
     },
     "execution_count": 282,
     "metadata": {
      "tags": []
     },
     "output_type": "execute_result"
    }
   ],
   "source": [
    "module ModD\n",
    "    d = 1\n",
    "    module ModE\n",
    "        try\n",
    "            println(d)\n",
    "        catch ex\n",
    "            println(ex)\n",
    "        end\n",
    "    end\n",
    "    module ModF\n",
    "        f = 2\n",
    "        module ModG\n",
    "            import ..f\n",
    "            import ...d\n",
    "            println(f)\n",
    "            println(d)\n",
    "        end\n",
    "    end\n",
    "end"
   ]
  },
  {
   "cell_type": "markdown",
   "metadata": {
    "colab_type": "text",
    "id": "y_YxkO1ebZEb"
   },
   "source": [
    "Instead of `import`, you can use `using`. It is analog to Python's `from foo import *`. It only gives access to names which were explicitly exported using `export` (similar to the way `from foo import *` in Python only imports names listed in the module's `__all__` list):"
   ]
  },
  {
   "cell_type": "code",
   "execution_count": 283,
   "metadata": {
    "colab": {
     "base_uri": "https://localhost:8080/",
     "height": 34
    },
    "colab_type": "code",
    "id": "CNDHFWv2blSk",
    "outputId": "b7194f79-c367-4da5-dff3-7a34634738bf"
   },
   "outputs": [
    {
     "data": {
      "text/plain": [
       "Main.ModH"
      ]
     },
     "execution_count": 283,
     "metadata": {
      "tags": []
     },
     "output_type": "execute_result"
    }
   ],
   "source": [
    "module ModH\n",
    "    h1 = 1\n",
    "    h2 = 2\n",
    "    export h1\n",
    "end"
   ]
  },
  {
   "cell_type": "code",
   "execution_count": 284,
   "metadata": {
    "colab": {
     "base_uri": "https://localhost:8080/",
     "height": 51
    },
    "colab_type": "code",
    "id": "TrlkNAZjcDpv",
    "outputId": "5ead6b73-e64e-4ab9-e540-4fa9d4936781"
   },
   "outputs": [
    {
     "name": "stdout",
     "output_type": "stream",
     "text": [
      "1\n"
     ]
    },
    {
     "data": {
      "text/plain": [
       "UndefVarError(:h2)"
      ]
     },
     "execution_count": 284,
     "metadata": {
      "tags": []
     },
     "output_type": "execute_result"
    }
   ],
   "source": [
    "using .ModH\n",
    "\n",
    "println(h1)\n",
    "\n",
    "try\n",
    "    println(h2)\n",
    "catch ex\n",
    "    ex\n",
    "end"
   ]
  },
  {
   "cell_type": "markdown",
   "metadata": {
    "colab_type": "text",
    "id": "XA-8xz9XBkFr"
   },
   "source": [
    "Note that `using Foo` not only imports all exported names (like Python's `from foo import *`), it also imports `Foo` itself (similarly, `using Foo.Bar` imports `Bar` itself):\n"
   ]
  },
  {
   "cell_type": "code",
   "execution_count": 285,
   "metadata": {
    "colab": {
     "base_uri": "https://localhost:8080/",
     "height": 34
    },
    "colab_type": "code",
    "id": "b2j0lGheB4DK",
    "outputId": "4a679c87-c9fe-4c4c-ef15-d770baae456e"
   },
   "outputs": [
    {
     "data": {
      "text/plain": [
       "Main.ModH"
      ]
     },
     "execution_count": 285,
     "metadata": {
      "tags": []
     },
     "output_type": "execute_result"
    }
   ],
   "source": [
    "ModH"
   ]
  },
  {
   "cell_type": "markdown",
   "metadata": {
    "colab_type": "text",
    "id": "ZJr74QBRzuEo"
   },
   "source": [
    "Even if a name is not exported, you can always access it using its full path, or using `import`:"
   ]
  },
  {
   "cell_type": "code",
   "execution_count": 286,
   "metadata": {
    "colab": {
     "base_uri": "https://localhost:8080/",
     "height": 34
    },
    "colab_type": "code",
    "id": "yjCkh4voz44p",
    "outputId": "03910d94-bbb5-4736-b796-fd305d5dcd08"
   },
   "outputs": [
    {
     "data": {
      "text/plain": [
       "2"
      ]
     },
     "execution_count": 286,
     "metadata": {
      "tags": []
     },
     "output_type": "execute_result"
    }
   ],
   "source": [
    "ModH.h2"
   ]
  },
  {
   "cell_type": "code",
   "execution_count": 287,
   "metadata": {
    "colab": {
     "base_uri": "https://localhost:8080/",
     "height": 34
    },
    "colab_type": "code",
    "id": "SAL1D1dRz7oy",
    "outputId": "e1273670-5827-4035-e7dd-fc78c52fbca0"
   },
   "outputs": [
    {
     "data": {
      "text/plain": [
       "2"
      ]
     },
     "execution_count": 287,
     "metadata": {
      "tags": []
     },
     "output_type": "execute_result"
    }
   ],
   "source": [
    "import .ModH.h2\n",
    "\n",
    "h2"
   ]
  },
  {
   "cell_type": "markdown",
   "metadata": {
    "colab_type": "text",
    "id": "1UfcZp6fcNdT"
   },
   "source": [
    "You can also import individual names like this:"
   ]
  },
  {
   "cell_type": "code",
   "execution_count": 288,
   "metadata": {
    "colab": {
     "base_uri": "https://localhost:8080/",
     "height": 51
    },
    "colab_type": "code",
    "id": "fQPAWJMRzOmj",
    "outputId": "a9c9c21a-89af-45ee-a63c-11dfbface9d7"
   },
   "outputs": [
    {
     "name": "stdout",
     "output_type": "stream",
     "text": [
      "1\n",
      "2\n"
     ]
    }
   ],
   "source": [
    "module ModG\n",
    "    g1 = 1\n",
    "    g2 = 2\n",
    "    export g2\n",
    "end\n",
    "\n",
    "using .ModG: g1, g2\n",
    "\n",
    "println(g1)\n",
    "println(g2)"
   ]
  },
  {
   "cell_type": "markdown",
   "metadata": {
    "colab_type": "text",
    "id": "Y5ToJpN_0RMa"
   },
   "source": [
    "Notice that this syntax gives you access to any name you want, whether or not it was exported. In other words, whether a name is exported or not only affects the `using Foo` syntax."
   ]
  },
  {
   "cell_type": "markdown",
   "metadata": {
    "colab_type": "text",
    "id": "yzXfmlAg0diH"
   },
   "source": [
    "Importantly, when you want to expand a function which is defined in a module, you must import the function using `import`, or you must specify the function's path:"
   ]
  },
  {
   "cell_type": "code",
   "execution_count": 289,
   "metadata": {
    "colab": {
     "base_uri": "https://localhost:8080/",
     "height": 102
    },
    "colab_type": "code",
    "id": "BfOgteoF0m4X",
    "outputId": "63381892-8b35-4b50-f2fa-2f029ebad3f7"
   },
   "outputs": [
    {
     "name": "stdout",
     "output_type": "stream",
     "text": [
      "4\n",
      "TwoTwo\n",
      "9\n",
      "ThreeThreeThree\n"
     ]
    },
    {
     "name": "stderr",
     "output_type": "stream",
     "text": [
      "WARNING: replacing module ModH.\n"
     ]
    }
   ],
   "source": [
    "module ModH\n",
    "    double(x) = x * 2\n",
    "    triple(x) = x * 3\n",
    "end\n",
    "\n",
    "import .ModH: double\n",
    "double(x::AbstractString) = repeat(x, 2)\n",
    "\n",
    "ModH.triple(x::AbstractString) = repeat(x, 3)\n",
    "\n",
    "println(double(2))\n",
    "println(double(\"Two\"))\n",
    "\n",
    "println(ModH.triple(3))\n",
    "println(ModH.triple(\"Three\"))"
   ]
  },
  {
   "cell_type": "markdown",
   "metadata": {
    "colab_type": "text",
    "id": "c4c2yTaS7fvj"
   },
   "source": [
    "You must never extend a function imported with `using`, unless you provide the function's path:"
   ]
  },
  {
   "cell_type": "code",
   "execution_count": 290,
   "metadata": {
    "colab": {
     "base_uri": "https://localhost:8080/",
     "height": 51
    },
    "colab_type": "code",
    "id": "18mmhRsP18o_",
    "outputId": "6530b3f2-ecbd-4406-d2ca-36f704d9f253"
   },
   "outputs": [
    {
     "name": "stdout",
     "output_type": "stream",
     "text": [
      "16\n",
      "FourFourFourFour\n"
     ]
    }
   ],
   "source": [
    "module ModI\n",
    "    quadruple(x) = x * 4\n",
    "    export quadruple\n",
    "end\n",
    "\n",
    "using .ModI\n",
    "ModI.quadruple(x::AbstractString) = repeat(x, 4) # OK\n",
    "println(quadruple(4))\n",
    "println(quadruple(\"Four\"))\n",
    "\n",
    "#quadruple(x::AbstractString) = repeat(x, 4) # uncomment to see the error"
   ]
  },
  {
   "cell_type": "markdown",
   "metadata": {
    "colab_type": "text",
    "id": "0gwWiNqfD-Pp"
   },
   "source": [
    "There is no equivalent of Python's `import foo as x` ([yet](https://github.com/JuliaLang/julia/issues/1255)), but you can do something like this:"
   ]
  },
  {
   "cell_type": "code",
   "execution_count": 291,
   "metadata": {
    "colab": {
     "base_uri": "https://localhost:8080/",
     "height": 34
    },
    "colab_type": "code",
    "id": "2eGsfHqkEViW",
    "outputId": "1a1bcc2d-4e56-4fc2-c7dd-5ceebd57742f"
   },
   "outputs": [
    {
     "data": {
      "text/plain": [
       "quadruple (generic function with 2 methods)"
      ]
     },
     "execution_count": 291,
     "metadata": {
      "tags": []
     },
     "output_type": "execute_result"
    }
   ],
   "source": [
    "import .ModI: quadruple\n",
    "x = quadruple"
   ]
  },
  {
   "cell_type": "markdown",
   "metadata": {
    "colab_type": "text",
    "id": "pB4HxazHyNiF"
   },
   "source": [
    "In general, a module named `Foo` will be defined in a file named `Foo.jl` (along with its submodules). However, if the module becomes too big for a single file, you can split it into multiple files and include these files in `Foo.jl` using the `include()` function.\n",
    "\n",
    "For example, let's create three files: `Awesome.jl`, `great.jl` and `amazing/Fantastic.jl`, where:\n",
    "* `Awesome.jl` defines the `Awesome` module and includes the other two files\n",
    "* `great.jl` just defines a function\n",
    "* `amazing/Fantastic.jl` defines the `Fantastic` submodule"
   ]
  },
  {
   "cell_type": "code",
   "execution_count": 292,
   "metadata": {
    "colab": {
     "base_uri": "https://localhost:8080/",
     "height": 34
    },
    "colab_type": "code",
    "id": "A9iOU4XWundK",
    "outputId": "30f28135-d90d-44ea-b3bd-937c9aa59f96"
   },
   "outputs": [
    {
     "data": {
      "text/plain": [
       "38"
      ]
     },
     "execution_count": 292,
     "metadata": {
      "tags": []
     },
     "output_type": "execute_result"
    }
   ],
   "source": [
    "code_awesome = \"\"\"\n",
    "module Awesome\n",
    "include(\"great.jl\")\n",
    "include(\"amazing/Fantastic.jl\")\n",
    "end\n",
    "\"\"\"\n",
    "\n",
    "code_great = \"\"\"\n",
    "great() = \"This is great!\"\n",
    "\"\"\"\n",
    "\n",
    "code_fantastic = \"\"\"\n",
    "module Fantastic\n",
    "fantastic = true\n",
    "end\n",
    "\"\"\"\n",
    "\n",
    "open(f->write(f, code_awesome), \"Awesome.jl\", \"w\")\n",
    "open(f->write(f, code_great), \"great.jl\", \"w\")\n",
    "mkdir(\"amazing\")\n",
    "open(f->write(f, code_fantastic), \"amazing/Fantastic.jl\", \"w\")"
   ]
  },
  {
   "cell_type": "markdown",
   "metadata": {
    "colab_type": "text",
    "id": "3OYEv-P-xGHg"
   },
   "source": [
    "If we try to execute `import Awesome` now, it won't work since Julia does not search in the current directory by default. Let's change this:"
   ]
  },
  {
   "cell_type": "code",
   "execution_count": 293,
   "metadata": {
    "colab": {
     "base_uri": "https://localhost:8080/",
     "height": 102
    },
    "colab_type": "code",
    "id": "Zz-JHOzXxZj5",
    "outputId": "4220de9f-7bcc-4f30-8fed-5a4755b5408e"
   },
   "outputs": [
    {
     "data": {
      "text/plain": [
       "4-element Array{String,1}:\n",
       " \".\"\n",
       " \"@\"\n",
       " \"@v#.#\"\n",
       " \"@stdlib\""
      ]
     },
     "execution_count": 293,
     "metadata": {
      "tags": []
     },
     "output_type": "execute_result"
    }
   ],
   "source": [
    "pushfirst!(LOAD_PATH, \".\")"
   ]
  },
  {
   "cell_type": "markdown",
   "metadata": {
    "colab_type": "text",
    "id": "L8H2XLMAww7g"
   },
   "source": [
    "Now when we import the `Awesome` module, Julia will look for a file named `Awesome.jl` in the current directory, or for `Awesome/src/Awesome.jl`, or for `Awesome.jl/src/Awesome.jl`. If it does not find any of these, it will look in the other places listed in the `LOAD_PATH` array (we will discuss this in more details in the \"Package Management\" section)."
   ]
  },
  {
   "cell_type": "code",
   "execution_count": 294,
   "metadata": {
    "colab": {
     "base_uri": "https://localhost:8080/",
     "height": 85
    },
    "colab_type": "code",
    "id": "V4crjErQvuYf",
    "outputId": "62e8cfbe-5445-43b1-8c7a-8ea5853892bd"
   },
   "outputs": [
    {
     "name": "stderr",
     "output_type": "stream",
     "text": [
      "┌ Info: Precompiling Awesome [top-level]\n",
      "└ @ Base loading.jl:1260\n"
     ]
    },
    {
     "name": "stdout",
     "output_type": "stream",
     "text": [
      "This is great!\n",
      "Is fantastic? true\n"
     ]
    }
   ],
   "source": [
    "import Awesome\n",
    "println(Awesome.great())\n",
    "println(\"Is fantastic? \", Awesome.Fantastic.fantastic)"
   ]
  },
  {
   "cell_type": "markdown",
   "metadata": {
    "colab_type": "text",
    "id": "zpLsSNQbttj1"
   },
   "source": [
    "Let's restore the original `LOAD_PATH`:"
   ]
  },
  {
   "cell_type": "code",
   "execution_count": 295,
   "metadata": {
    "colab": {
     "base_uri": "https://localhost:8080/",
     "height": 34
    },
    "colab_type": "code",
    "id": "zV4wd4Natxw7",
    "outputId": "3a8a67c3-a839-4bc2-9101-84cbac482d27"
   },
   "outputs": [
    {
     "data": {
      "text/plain": [
       "\".\""
      ]
     },
     "execution_count": 295,
     "metadata": {
      "tags": []
     },
     "output_type": "execute_result"
    }
   ],
   "source": [
    "popfirst!(LOAD_PATH)"
   ]
  },
  {
   "cell_type": "markdown",
   "metadata": {
    "colab_type": "text",
    "id": "Jz7_FaJcaZn-"
   },
   "source": [
    "In short:\n",
    "\n",
    "|Julia | Python\n",
    "|------|-------\n",
    "|`import Foo` | `import foo`\n",
    "|`import Foo.Bar` | `from foo import bar`\n",
    "|`import Foo.Bar: a, b` | `from foo.bar import a, b`\n",
    "|`import Foo.Bar.a, Foo.Bar.b` | `from foo.bar import a, b`\n",
    "|`import .Foo` | `import .foo`\n",
    "|`import ..Foo.Bar` | `from ..foo import bar`\n",
    "|`import ...Foo.Bar` | `from ...foo import bar`\n",
    "|`import .Foo: a, b` | `from .foo import a, b`\n",
    "||\n",
    "|`using Foo` | `from foo import *; import foo`\n",
    "|`using Foo.Bar` | `from foo.bar import *; from foo import bar `\n",
    "|`using Foo.Bar: a, b` | `from foo.bar import a, b`\n",
    "\n",
    "|Extending function `Foo.f()` | Result\n",
    "|-----------------------------|--------\n",
    "|`import Foo.f  # or Foo: f` <br />`f(x::Int64) = ...`  | OK\n",
    "|`import Foo`<br />`Foo.f(x::Int64) = ...` | OK\n",
    "|`using Foo`<br />`Foo.f(x::Int64) = ...` | OK\n",
    "|`import Foo.f # or Foo: f`<br />`Foo.f(x::Int64) = ...` | `ERROR: Foo not defined`\n",
    "|`using Foo`<br />`f(x::Int64) = ...` | `ERROR: Foo.f must be explicitly imported`\n",
    "|`using Foo: f`<br />`f(x::Int64) = ...` | `ERROR: Foo.f must be explicitly imported`"
   ]
  },
  {
   "cell_type": "markdown",
   "metadata": {
    "colab_type": "text",
    "id": "Inpk8qS3HL_u"
   },
   "source": [
    "# Scopes\n",
    "Julia has two types of scopes: global and local.\n",
    "\n",
    "Every module has its own global scope, independent from all other global scopes. There is no overarching global scope.\n",
    "\n",
    "Modules, macros and types (including structs) can only be defined in a global scope.\n",
    "\n",
    "Most code blocks, including `function`, `struct`, `for`, `while`, etc., have their own local scope. For example:"
   ]
  },
  {
   "cell_type": "code",
   "execution_count": 296,
   "metadata": {
    "colab": {
     "base_uri": "https://localhost:8080/",
     "height": 85
    },
    "colab_type": "code",
    "id": "q3Lm3T1DG6St",
    "outputId": "a3b4f4c0-05e5-4106-ac55-61febecae8d8"
   },
   "outputs": [
    {
     "name": "stdout",
     "output_type": "stream",
     "text": [
      "1\n",
      "2\n",
      "3\n"
     ]
    },
    {
     "data": {
      "text/plain": [
       "UndefVarError(:q)"
      ]
     },
     "execution_count": 296,
     "metadata": {
      "tags": []
     },
     "output_type": "execute_result"
    }
   ],
   "source": [
    "for q in 1:3\n",
    "    println(q)\n",
    "end\n",
    "\n",
    "try\n",
    "    println(q) # q is not available here\n",
    "catch ex\n",
    "    ex\n",
    "end"
   ]
  },
  {
   "cell_type": "markdown",
   "metadata": {
    "colab_type": "text",
    "id": "Wh6xa4fyJLYY"
   },
   "source": [
    "A local scope inherits from its parent scope:"
   ]
  },
  {
   "cell_type": "code",
   "execution_count": 297,
   "metadata": {
    "colab": {
     "base_uri": "https://localhost:8080/",
     "height": 68
    },
    "colab_type": "code",
    "id": "IeLfjf4ZJQ41",
    "outputId": "42f67475-7b56-41c0-b8b0-e571744f3761"
   },
   "outputs": [
    {
     "name": "stdout",
     "output_type": "stream",
     "text": [
      "50\n",
      "100\n",
      "150\n"
     ]
    }
   ],
   "source": [
    "z = 5\n",
    "for i in 1:3\n",
    "    w = 10\n",
    "    println(i * w * z) # i and w are local, z is from the parent scope\n",
    "end"
   ]
  },
  {
   "cell_type": "markdown",
   "metadata": {
    "colab_type": "text",
    "id": "OQLfwoD3NoC_"
   },
   "source": [
    "An inner scope can assign to a variable in the parent scope, if the parent scope is not global:"
   ]
  },
  {
   "cell_type": "code",
   "execution_count": 298,
   "metadata": {
    "colab": {
     "base_uri": "https://localhost:8080/",
     "height": 68
    },
    "colab_type": "code",
    "id": "fwN1C2BhNxyZ",
    "outputId": "ac857f21-52f6-438b-f1cc-913f14656200"
   },
   "outputs": [
    {
     "name": "stdout",
     "output_type": "stream",
     "text": [
      "5\n",
      "5\n",
      "5\n"
     ]
    }
   ],
   "source": [
    "for i in 1:3\n",
    "    s = 0\n",
    "    for j in 1:5\n",
    "        s = j # variable s is from the parent scope\n",
    "    end\n",
    "    println(s)\n",
    "end"
   ]
  },
  {
   "cell_type": "markdown",
   "metadata": {
    "colab_type": "text",
    "id": "0m3aoj8UKxS4"
   },
   "source": [
    "You can force a variable to be local by using the `local` keyword:"
   ]
  },
  {
   "cell_type": "code",
   "execution_count": 299,
   "metadata": {
    "colab": {
     "base_uri": "https://localhost:8080/",
     "height": 68
    },
    "colab_type": "code",
    "id": "hlireAo6K3eS",
    "outputId": "ce809c18-28c7-41c4-aa8c-7caf19fd37c6"
   },
   "outputs": [
    {
     "name": "stdout",
     "output_type": "stream",
     "text": [
      "0\n",
      "0\n",
      "0\n"
     ]
    }
   ],
   "source": [
    "for i in 1:3\n",
    "    s = 0\n",
    "    for j in 1:5\n",
    "        local s = j # variable s is local now\n",
    "    end\n",
    "    println(s)\n",
    "end"
   ]
  },
  {
   "cell_type": "markdown",
   "metadata": {
    "colab_type": "text",
    "id": "qwo2DWNIN8oR"
   },
   "source": [
    "To assign to a global variable, you must declare the variable as `global` in the local scope:"
   ]
  },
  {
   "cell_type": "code",
   "execution_count": 300,
   "metadata": {
    "colab": {
     "base_uri": "https://localhost:8080/",
     "height": 34
    },
    "colab_type": "code",
    "id": "rPnibZjLOFHv",
    "outputId": "3eef23d4-e01a-4478-dd25-74337c690ee4"
   },
   "outputs": [
    {
     "data": {
      "text/plain": [
       "3"
      ]
     },
     "execution_count": 300,
     "metadata": {
      "tags": []
     },
     "output_type": "execute_result"
    }
   ],
   "source": [
    "for i in 1:3\n",
    "    global p\n",
    "    p = i\n",
    "end\n",
    "p"
   ]
  },
  {
   "cell_type": "markdown",
   "metadata": {
    "colab_type": "text",
    "id": "tL5AgzVjOKuo"
   },
   "source": [
    "There is one exception to this rule: when executing code directly in the REPL (since Julia 1.5) or in IJulia, you do not need to declare a variable as `global` if the global variable already exists:"
   ]
  },
  {
   "cell_type": "code",
   "execution_count": 301,
   "metadata": {
    "colab": {
     "base_uri": "https://localhost:8080/",
     "height": 34
    },
    "colab_type": "code",
    "id": "PKZPY8XOOlT9",
    "outputId": "94fd1821-1915-4a3b-a95c-bf7d512f4ebf"
   },
   "outputs": [
    {
     "data": {
      "text/plain": [
       "3"
      ]
     },
     "execution_count": 301,
     "metadata": {
      "tags": []
     },
     "output_type": "execute_result"
    }
   ],
   "source": [
    "s = 0\n",
    "for i in 1:3\n",
    "    s = i # implicitly global s: only in REPL Julia 1.5+ or IJulia\n",
    "end\n",
    "s"
   ]
  },
  {
   "cell_type": "markdown",
   "metadata": {
    "colab_type": "text",
    "id": "Ne7zn3qgPo6M"
   },
   "source": [
    "In functions, assigning to a variable which is not explicitly declared as global always makes it local (even in the REPL and IJulia):"
   ]
  },
  {
   "cell_type": "code",
   "execution_count": 302,
   "metadata": {
    "colab": {
     "base_uri": "https://localhost:8080/",
     "height": 51
    },
    "colab_type": "code",
    "id": "RJgKv_6oPhH2",
    "outputId": "45ce3760-16b6-490f-87bb-45b0d8c4cbac"
   },
   "outputs": [
    {
     "name": "stdout",
     "output_type": "stream",
     "text": [
      "20\n",
      "1\n"
     ]
    }
   ],
   "source": [
    "s, t = 1, 2 # globals\n",
    "\n",
    "function foo()\n",
    "   s = 10 * t # s is local, t is global\n",
    "end\n",
    "\n",
    "println(foo())\n",
    "println(s)"
   ]
  },
  {
   "cell_type": "markdown",
   "metadata": {
    "colab_type": "text",
    "id": "DhnbEml6SiTG"
   },
   "source": [
    "Just like in Python, functions can capture variables from the enclosing scope (not from the scope the function is called from):"
   ]
  },
  {
   "cell_type": "code",
   "execution_count": 303,
   "metadata": {
    "colab": {
     "base_uri": "https://localhost:8080/",
     "height": 34
    },
    "colab_type": "code",
    "id": "B1lAq94XS6yX",
    "outputId": "1575ff87-d051-429a-dfe8-7e577d2b681e"
   },
   "outputs": [
    {
     "name": "stdout",
     "output_type": "stream",
     "text": [
      "1\n"
     ]
    }
   ],
   "source": [
    "t = 1\n",
    "\n",
    "foo() = t # foo() captures t from the global scope\n",
    "\n",
    "function bar()\n",
    "    t = 5 # this is a new local variable\n",
    "    println(foo()) # foo() still uses t from the global scope\n",
    "end\n",
    "\n",
    "bar()"
   ]
  },
  {
   "cell_type": "code",
   "execution_count": 304,
   "metadata": {
    "colab": {
     "base_uri": "https://localhost:8080/",
     "height": 34
    },
    "colab_type": "code",
    "id": "a460UCKFTXt7",
    "outputId": "cc99ed02-d064-4436-deaf-cac4cc16d7ca"
   },
   "outputs": [
    {
     "name": "stdout",
     "output_type": "stream",
     "text": [
      "5\n"
     ]
    }
   ],
   "source": [
    "function quz()\n",
    "    global t\n",
    "    t = 5 # we change the global t\n",
    "    println(foo()) # and this affects foo()\n",
    "end\n",
    "\n",
    "quz()"
   ]
  },
  {
   "cell_type": "markdown",
   "metadata": {
    "colab_type": "text",
    "id": "MKsqCB48UxiU"
   },
   "source": [
    "Closures work much like in Python:"
   ]
  },
  {
   "cell_type": "code",
   "execution_count": 305,
   "metadata": {
    "colab": {
     "base_uri": "https://localhost:8080/",
     "height": 34
    },
    "colab_type": "code",
    "id": "CvyNc-ksT22C",
    "outputId": "0f6c7325-32e8-43a9-e5c6-00b001e553a7"
   },
   "outputs": [
    {
     "data": {
      "text/plain": [
       "10"
      ]
     },
     "execution_count": 305,
     "metadata": {
      "tags": []
     },
     "output_type": "execute_result"
    }
   ],
   "source": [
    "function create_multiplier(n)\n",
    "    function mul(x)\n",
    "        x * n # variable n is captured from the parent scope\n",
    "    end\n",
    "end\n",
    "\n",
    "mul2 = create_multiplier(2)\n",
    "mul2(5)"
   ]
  },
  {
   "cell_type": "markdown",
   "metadata": {
    "colab_type": "text",
    "id": "5qAMInDsUtJN"
   },
   "source": [
    "An inner function can modify variables from its parent scope:"
   ]
  },
  {
   "cell_type": "code",
   "execution_count": 306,
   "metadata": {
    "colab": {
     "base_uri": "https://localhost:8080/",
     "height": 51
    },
    "colab_type": "code",
    "id": "s0JpWoqcU9-P",
    "outputId": "791fef4f-5b9e-45db-8246-fc585f55dbcc"
   },
   "outputs": [
    {
     "name": "stdout",
     "output_type": "stream",
     "text": [
      "1\n",
      "2\n"
     ]
    }
   ],
   "source": [
    "function create_counter()\n",
    "    c = 0\n",
    "    inc() = c += 1 # this inner function modifies the c from the outer function\n",
    "end\n",
    "\n",
    "cnt = create_counter()\n",
    "println(cnt())\n",
    "println(cnt())"
   ]
  },
  {
   "cell_type": "markdown",
   "metadata": {
    "colab_type": "text",
    "id": "4ai7b0ZAlrjT"
   },
   "source": [
    "Consider the following code, and see if you can figure out why it prints the same result multiple times:"
   ]
  },
  {
   "cell_type": "code",
   "execution_count": 307,
   "metadata": {
    "colab": {
     "base_uri": "https://localhost:8080/",
     "height": 102
    },
    "colab_type": "code",
    "id": "eEe2LtvSl0Ea",
    "outputId": "7b0b09c6-46ed-49cb-cf23-0f2e28d54f76"
   },
   "outputs": [
    {
     "name": "stdout",
     "output_type": "stream",
     "text": [
      "36\n",
      "36\n",
      "36\n",
      "36\n",
      "36\n"
     ]
    }
   ],
   "source": [
    "funcs = []\n",
    "i = 1\n",
    "while i ≤ 5\n",
    "    push!(funcs, ()->i^2)\n",
    "    global i += 1\n",
    "end\n",
    "for fn in funcs\n",
    "    println(fn())\n",
    "end"
   ]
  },
  {
   "cell_type": "markdown",
   "metadata": {
    "colab_type": "text",
    "id": "ryvtm8pImQlB"
   },
   "source": [
    "The answer is that there is a single variable `i`, which is captured by all 5 closures. By the time these closures are executed, the value of `i` is 6, so the square is 36, for every closure."
   ]
  },
  {
   "cell_type": "markdown",
   "metadata": {
    "colab_type": "text",
    "id": "PWkRl2Yfm4A8"
   },
   "source": [
    "If we use a `for` loop, we don't have this problem, since a new local variable is created at every iteration:"
   ]
  },
  {
   "cell_type": "code",
   "execution_count": 308,
   "metadata": {
    "colab": {
     "base_uri": "https://localhost:8080/",
     "height": 102
    },
    "colab_type": "code",
    "id": "zRrKzMHjnBD_",
    "outputId": "89ef2aee-5968-45f0-9b74-f1e36609ce55"
   },
   "outputs": [
    {
     "name": "stdout",
     "output_type": "stream",
     "text": [
      "1\n",
      "4\n",
      "9\n",
      "16\n",
      "25\n"
     ]
    }
   ],
   "source": [
    "funcs = []\n",
    "for i in 1:5\n",
    "    push!(funcs, ()->i^2)\n",
    "end\n",
    "for fn in funcs\n",
    "    println(fn())\n",
    "end"
   ]
  },
  {
   "cell_type": "markdown",
   "metadata": {
    "colab_type": "text",
    "id": "URV8meLypzMG"
   },
   "source": [
    "Any local variable created within a `for` loop, a `while` loop or a comprehension also get a new copy at each iteration. So we could code the above example like this:"
   ]
  },
  {
   "cell_type": "code",
   "execution_count": 309,
   "metadata": {
    "colab": {
     "base_uri": "https://localhost:8080/",
     "height": 102
    },
    "colab_type": "code",
    "id": "xjXXASVEqBim",
    "outputId": "c9600ed5-fdfc-4aaa-b783-e5fe4f700e69"
   },
   "outputs": [
    {
     "name": "stdout",
     "output_type": "stream",
     "text": [
      "1\n",
      "4\n",
      "9\n",
      "16\n",
      "25\n"
     ]
    }
   ],
   "source": [
    "funcs = []\n",
    "i = 1\n",
    "while i ≤ 5  # since we are in a while loop...\n",
    "    global i\n",
    "    local j = i # ...and j is created here, it's a new `j` at each iteration\n",
    "    push!(funcs, ()->j^2)\n",
    "    i += 1\n",
    "end\n",
    "for fn in funcs\n",
    "    println(fn())\n",
    "end"
   ]
  },
  {
   "cell_type": "markdown",
   "metadata": {
    "colab_type": "text",
    "id": "Vazl0dRDnLpk"
   },
   "source": [
    "Another way to get the same result is to use a `let` block, which also creates a new local variable every time it is executed:"
   ]
  },
  {
   "cell_type": "code",
   "execution_count": 310,
   "metadata": {
    "colab": {
     "base_uri": "https://localhost:8080/",
     "height": 102
    },
    "colab_type": "code",
    "id": "X-HuxLIdnSgB",
    "outputId": "79ebe39c-80e4-4c9a-9366-1ca3609eb83b"
   },
   "outputs": [
    {
     "name": "stdout",
     "output_type": "stream",
     "text": [
      "0\n",
      "1\n",
      "4\n",
      "9\n",
      "16\n"
     ]
    }
   ],
   "source": [
    "funcs = []\n",
    "i = 0\n",
    "while i < 5\n",
    "    let i=i\n",
    "        push!(funcs, ()->i^2)\n",
    "    end\n",
    "    global i += 1\n",
    "end\n",
    "for fn in funcs\n",
    "    println(fn())\n",
    "end"
   ]
  },
  {
   "cell_type": "markdown",
   "metadata": {
    "colab_type": "text",
    "id": "fXEf0zs0no--"
   },
   "source": [
    "This `let i=i` block defines a new local variable `i` at every iteration, and initializes it with the value of `i` from the parent scope. Therefore each closure captures a different local variable `i`."
   ]
  },
  {
   "cell_type": "markdown",
   "metadata": {
    "colab_type": "text",
    "id": "TKWWfJacoDU0"
   },
   "source": [
    "Variables in a `let` block are initialized from left to right, so they can access variables on their left:"
   ]
  },
  {
   "cell_type": "code",
   "execution_count": 311,
   "metadata": {
    "colab": {
     "base_uri": "https://localhost:8080/",
     "height": 34
    },
    "colab_type": "code",
    "id": "HPXugdyUoH6R",
    "outputId": "504dde14-cfdb-4a51-c470-4d69111ad700"
   },
   "outputs": [
    {
     "name": "stdout",
     "output_type": "stream",
     "text": [
      "a=2, b=2\n"
     ]
    }
   ],
   "source": [
    "a = 1\n",
    "let a=a+1, b=a\n",
    "    println(\"a=$a, b=$b\")\n",
    "end"
   ]
  },
  {
   "cell_type": "markdown",
   "metadata": {
    "colab_type": "text",
    "id": "S9-frzGloRln"
   },
   "source": [
    "In this example, the local variable `a` is initialized with the value of `a + 1`, where `a` comes from the parent scope (i.e., it's the global `a` in this case). However, `b` is initialized with the value of the local `a`, since it now hides the variable `a` from the parent scope."
   ]
  },
  {
   "cell_type": "markdown",
   "metadata": {
    "colab_type": "text",
    "id": "SEI5E2xbgYHl"
   },
   "source": [
    "Default values in function arguments also have this left-to-right scoping logic:"
   ]
  },
  {
   "cell_type": "code",
   "execution_count": 312,
   "metadata": {
    "colab": {
     "base_uri": "https://localhost:8080/",
     "height": 34
    },
    "colab_type": "code",
    "id": "S-E8aGtPgBCx",
    "outputId": "b63d16dc-bd39-451d-ba15-e6789018e6fa"
   },
   "outputs": [
    {
     "data": {
      "text/plain": [
       "a=2, b=2\n",
       "a=5, b=5"
      ]
     },
     "execution_count": 312,
     "metadata": {
      "tags": []
     },
     "output_type": "execute_result"
    }
   ],
   "source": [
    "a = 1\n",
    "foobar(a=a+1, b=a) = println(\"a=$a, b=$b\")\n",
    "foobar()\n",
    "foobar(5)"
   ]
  },
  {
   "cell_type": "markdown",
   "metadata": {
    "colab_type": "text",
    "id": "PzqwY5FngkML"
   },
   "source": [
    "In this example, the first argument's default value is `a + 1`, where `a` comes from the parent scope (i.e., the global `a` in this case). However, the second argument's default value is `a`, where `a` in this case is the value of the first argument (<u>not</u> the parent scope's `a`)."
   ]
  },
  {
   "cell_type": "markdown",
   "metadata": {
    "colab_type": "text",
    "id": "Au3RUzMsHWw8"
   },
   "source": [
    "Note that `if` blocks and `begin` blocks do <u>not</u> have their own local scope, they just use the parent scope:"
   ]
  },
  {
   "cell_type": "code",
   "execution_count": 313,
   "metadata": {
    "colab": {
     "base_uri": "https://localhost:8080/",
     "height": 34
    },
    "colab_type": "code",
    "id": "iARzIFgtpOfB",
    "outputId": "6bac95a0-afba-4718-d571-a8655b3256ed"
   },
   "outputs": [
    {
     "data": {
      "text/plain": [
       "2"
      ]
     },
     "execution_count": 313,
     "metadata": {
      "tags": []
     },
     "output_type": "execute_result"
    }
   ],
   "source": [
    "a = 1\n",
    "if true\n",
    "    a = 2 # same `a` as above\n",
    "end\n",
    "a"
   ]
  },
  {
   "cell_type": "code",
   "execution_count": 314,
   "metadata": {
    "colab": {
     "base_uri": "https://localhost:8080/",
     "height": 34
    },
    "colab_type": "code",
    "id": "kO5v8sfCHogx",
    "outputId": "429f8249-d067-4568-f39f-8feb0daaca24"
   },
   "outputs": [
    {
     "data": {
      "text/plain": [
       "2"
      ]
     },
     "execution_count": 314,
     "metadata": {
      "tags": []
     },
     "output_type": "execute_result"
    }
   ],
   "source": [
    "a = 1\n",
    "begin\n",
    "    a = 2  # same `a` as above\n",
    "end\n",
    "a"
   ]
  },
  {
   "cell_type": "markdown",
   "metadata": {
    "colab_type": "text",
    "id": "2ME2_ryels7L"
   },
   "source": [
    "# Package Management\n"
   ]
  },
  {
   "cell_type": "markdown",
   "metadata": {
    "colab_type": "text",
    "id": "hsT_nU1gB6-r"
   },
   "source": [
    "## Basic Workflow\n",
    "The simplest way to write a Julia program is to create a `.jl` file somewhere and run it using `julia`. You would usually do this with your favorite editor, but in this notebook we must do this programmatically. For example:"
   ]
  },
  {
   "cell_type": "code",
   "execution_count": 315,
   "metadata": {
    "colab": {
     "base_uri": "https://localhost:8080/",
     "height": 34
    },
    "colab_type": "code",
    "id": "sRL8oZDaC0PX",
    "outputId": "2576e9a6-37ab-4208-ce71-98089f4a671b"
   },
   "outputs": [
    {
     "data": {
      "text/plain": [
       "23"
      ]
     },
     "execution_count": 315,
     "metadata": {
      "tags": []
     },
     "output_type": "execute_result"
    }
   ],
   "source": [
    "code = \"\"\"\n",
    "println(\"Hello world\")\n",
    "\"\"\"\n",
    "\n",
    "open(f->write(f, code), \"my_program1.jl\", \"w\")"
   ]
  },
  {
   "cell_type": "markdown",
   "metadata": {
    "colab_type": "text",
    "id": "I3LsIKh47R99"
   },
   "source": [
    "Then let's run the program using a shell command:"
   ]
  },
  {
   "cell_type": "code",
   "execution_count": 316,
   "metadata": {
    "colab": {
     "base_uri": "https://localhost:8080/",
     "height": 34
    },
    "colab_type": "code",
    "id": "UvfGZxERDv6c",
    "outputId": "370bae01-5114-4d5f-f71e-a7d498f9bbdb"
   },
   "outputs": [
    {
     "name": "stdout",
     "output_type": "stream",
     "text": [
      "Hello world\n"
     ]
    }
   ],
   "source": [
    ";julia my_program1.jl"
   ]
  },
  {
   "cell_type": "markdown",
   "metadata": {
    "colab_type": "text",
    "id": "KmDPtknrD0Al"
   },
   "source": [
    "If you need to use a package which is not part of the standard library, such as `PyCall`, you first need to install it using Julia's package manager `Pkg`:"
   ]
  },
  {
   "cell_type": "code",
   "execution_count": 317,
   "metadata": {
    "colab": {
     "base_uri": "https://localhost:8080/",
     "height": 136
    },
    "colab_type": "code",
    "id": "doKyY1qWEMZV",
    "outputId": "8548893b-dd0c-40ee-c915-f6bb9219ee64"
   },
   "outputs": [
    {
     "name": "stderr",
     "output_type": "stream",
     "text": [
      "\u001b[32m\u001b[1m   Updating\u001b[22m\u001b[39m registry at `~/.julia/registries/General`\n"
     ]
    },
    {
     "name": "stdout",
     "output_type": "stream",
     "text": [
      "\u001b[?25l\u001b[2K"
     ]
    },
    {
     "name": "stderr",
     "output_type": "stream",
     "text": [
      "\u001b[32m\u001b[1m   Updating\u001b[22m\u001b[39m git-repo `https://github.com/JuliaRegistries/General.git`\n"
     ]
    },
    {
     "name": "stdout",
     "output_type": "stream",
     "text": [
      "\u001b[?25h"
     ]
    },
    {
     "name": "stderr",
     "output_type": "stream",
     "text": [
      "\u001b[32m\u001b[1m  Resolving\u001b[22m\u001b[39m package versions...\n",
      "\u001b[32m\u001b[1m   Updating\u001b[22m\u001b[39m `~/.julia/environments/v1.4/Project.toml`\n",
      "\u001b[90m [no changes]\u001b[39m\n",
      "\u001b[32m\u001b[1m   Updating\u001b[22m\u001b[39m `~/.julia/environments/v1.4/Manifest.toml`\n",
      "\u001b[90m [no changes]\u001b[39m\n"
     ]
    }
   ],
   "source": [
    "using Pkg\n",
    "Pkg.add(\"PyCall\")"
   ]
  },
  {
   "cell_type": "markdown",
   "metadata": {
    "colab_type": "text",
    "id": "iQj8OgUKERBz"
   },
   "source": [
    "Alternatively, in interactive mode, you can enter the `Pkg` mode by typing `]`, then type a command:"
   ]
  },
  {
   "cell_type": "code",
   "execution_count": 318,
   "metadata": {
    "colab": {
     "base_uri": "https://localhost:8080/",
     "height": 102
    },
    "colab_type": "code",
    "id": "KGyakk8GEf84",
    "outputId": "0b0dd9f6-827c-4784-fcda-af476aa14d61"
   },
   "outputs": [
    {
     "name": "stderr",
     "output_type": "stream",
     "text": [
      "\u001b[32m\u001b[1m  Resolving\u001b[22m\u001b[39m package versions...\n",
      "\u001b[32m\u001b[1m   Updating\u001b[22m\u001b[39m `~/.julia/environments/v1.4/Project.toml`\n",
      "\u001b[90m [no changes]\u001b[39m\n",
      "\u001b[32m\u001b[1m   Updating\u001b[22m\u001b[39m `~/.julia/environments/v1.4/Manifest.toml`\n",
      "\u001b[90m [no changes]\u001b[39m\n"
     ]
    }
   ],
   "source": [
    "]add PyCall"
   ]
  },
  {
   "cell_type": "markdown",
   "metadata": {
    "colab_type": "text",
    "id": "AsGGVOPzEkj9"
   },
   "source": [
    "You can also precompile the new package to avoid the compilation delay when the package is first used:"
   ]
  },
  {
   "cell_type": "code",
   "execution_count": 319,
   "metadata": {
    "colab": {
     "base_uri": "https://localhost:8080/",
     "height": 119
    },
    "colab_type": "code",
    "id": "GqYovSwVEihb",
    "outputId": "bf601d8f-18d5-4fe4-8171-051751acc833"
   },
   "outputs": [
    {
     "name": "stderr",
     "output_type": "stream",
     "text": [
      "\u001b[32m\u001b[1m  Resolving\u001b[22m\u001b[39m package versions...\n",
      "\u001b[32m\u001b[1m   Updating\u001b[22m\u001b[39m `~/.julia/environments/v1.4/Project.toml`\n",
      "\u001b[90m [no changes]\u001b[39m\n",
      "\u001b[32m\u001b[1m   Updating\u001b[22m\u001b[39m `~/.julia/environments/v1.4/Manifest.toml`\n",
      "\u001b[90m [no changes]\u001b[39m\n",
      "\u001b[32m\u001b[1mPrecompiling\u001b[22m\u001b[39m project...\n"
     ]
    }
   ],
   "source": [
    "]add PyCall; precompile;"
   ]
  },
  {
   "cell_type": "markdown",
   "metadata": {
    "colab_type": "text",
    "id": "JMwXNbzGExCn"
   },
   "source": [
    "One last alternative is to use `pkg\"...\"` strings to run commands in your programs:"
   ]
  },
  {
   "cell_type": "code",
   "execution_count": 320,
   "metadata": {
    "colab": {
     "base_uri": "https://localhost:8080/",
     "height": 119
    },
    "colab_type": "code",
    "id": "tx5hdeO9E71F",
    "outputId": "f13fa111-68bc-4374-b068-4c8457abcfe5"
   },
   "outputs": [
    {
     "name": "stderr",
     "output_type": "stream",
     "text": [
      "\u001b[32m\u001b[1m  Resolving\u001b[22m\u001b[39m package versions...\n",
      "\u001b[32m\u001b[1m   Updating\u001b[22m\u001b[39m `~/.julia/environments/v1.4/Project.toml`\n",
      "\u001b[90m [no changes]\u001b[39m\n",
      "\u001b[32m\u001b[1m   Updating\u001b[22m\u001b[39m `~/.julia/environments/v1.4/Manifest.toml`\n",
      "\u001b[90m [no changes]\u001b[39m\n",
      "\u001b[32m\u001b[1mPrecompiling\u001b[22m\u001b[39m project...\n"
     ]
    }
   ],
   "source": [
    "pkg\"add PyCall; precompile;\""
   ]
  },
  {
   "cell_type": "markdown",
   "metadata": {
    "colab_type": "text",
    "id": "fEIWFBgnFC6c"
   },
   "source": [
    "Now you can import `PyCall` in any of your Julia programs:"
   ]
  },
  {
   "cell_type": "code",
   "execution_count": 321,
   "metadata": {
    "colab": {
     "base_uri": "https://localhost:8080/",
     "height": 34
    },
    "colab_type": "code",
    "id": "9kTp497AFJuT",
    "outputId": "65610125-ecae-4be5-cc93-96d50c2ab203"
   },
   "outputs": [
    {
     "data": {
      "text/plain": [
       "41"
      ]
     },
     "execution_count": 321,
     "metadata": {
      "tags": []
     },
     "output_type": "execute_result"
    }
   ],
   "source": [
    "code = \"\"\"\n",
    "using PyCall\n",
    "py\"print('1 + 2 =', 1 + 2)\"\n",
    "\"\"\"\n",
    "\n",
    "open(f->write(f, code), \"my_program2.jl\", \"w\")"
   ]
  },
  {
   "cell_type": "code",
   "execution_count": 322,
   "metadata": {
    "colab": {
     "base_uri": "https://localhost:8080/",
     "height": 34
    },
    "colab_type": "code",
    "id": "unfHQR31FVf1",
    "outputId": "4b147b47-cf3e-43a3-ec79-4ff062e8b59e"
   },
   "outputs": [
    {
     "name": "stdout",
     "output_type": "stream",
     "text": [
      "1 + 2 = 3\n"
     ]
    }
   ],
   "source": [
    ";julia my_program2.jl"
   ]
  },
  {
   "cell_type": "markdown",
   "metadata": {
    "colab_type": "text",
    "id": "7Cd3wPG9PH-p"
   },
   "source": [
    "You can also add packages by providing their URL (typically on github). This is useful when you want to use a package which is not in the [official Julia Package registry](https://github.com/JuliaRegistries/General), or when you want the very latest version of a package:"
   ]
  },
  {
   "cell_type": "code",
   "execution_count": 323,
   "metadata": {
    "colab": {
     "base_uri": "https://localhost:8080/",
     "height": 136
    },
    "colab_type": "code",
    "id": "cW6k8F91PT23",
    "outputId": "b5ce446f-43a0-4b09-f19c-cdbc03a9a113"
   },
   "outputs": [
    {
     "name": "stdout",
     "output_type": "stream",
     "text": [
      "\u001b[?25l    "
     ]
    },
    {
     "name": "stderr",
     "output_type": "stream",
     "text": [
      "\u001b[32m\u001b[1m    Cloning\u001b[22m\u001b[39m git-repo `https://github.com/JuliaLang/Example.jl`\n"
     ]
    },
    {
     "name": "stdout",
     "output_type": "stream",
     "text": [
      "\u001b[2K\u001b[?25h\u001b[?25l    "
     ]
    },
    {
     "name": "stderr",
     "output_type": "stream",
     "text": [
      "\u001b[32m\u001b[1m   Updating\u001b[22m\u001b[39m git-repo `https://github.com/JuliaLang/Example.jl`\n"
     ]
    },
    {
     "name": "stdout",
     "output_type": "stream",
     "text": [
      "\u001b[2K\u001b[?25h"
     ]
    },
    {
     "name": "stderr",
     "output_type": "stream",
     "text": [
      "\u001b[32m\u001b[1m  Resolving\u001b[22m\u001b[39m package versions...\n",
      "\u001b[32m\u001b[1m   Updating\u001b[22m\u001b[39m `~/.julia/environments/v1.4/Project.toml`\n",
      " \u001b[90m [7876af07]\u001b[39m\u001b[92m + Example v0.5.4 #master (https://github.com/JuliaLang/Example.jl)\u001b[39m\n",
      "\u001b[32m\u001b[1m   Updating\u001b[22m\u001b[39m `~/.julia/environments/v1.4/Manifest.toml`\n",
      " \u001b[90m [7876af07]\u001b[39m\u001b[92m + Example v0.5.4 #master (https://github.com/JuliaLang/Example.jl)\u001b[39m\n"
     ]
    }
   ],
   "source": [
    "]add https://github.com/JuliaLang/Example.jl"
   ]
  },
  {
   "cell_type": "markdown",
   "metadata": {
    "colab_type": "text",
    "id": "HtRAtwWkD3Ao"
   },
   "source": [
    "You can install a specific package version like this:"
   ]
  },
  {
   "cell_type": "code",
   "execution_count": 324,
   "metadata": {
    "colab": {
     "base_uri": "https://localhost:8080/",
     "height": 136
    },
    "colab_type": "code",
    "id": "CceFEwcTCAWG",
    "outputId": "75678658-ea0b-460a-8b30-7642aff97288"
   },
   "outputs": [
    {
     "name": "stderr",
     "output_type": "stream",
     "text": [
      "\u001b[32m\u001b[1m  Resolving\u001b[22m\u001b[39m package versions...\n",
      "\u001b[32m\u001b[1m  Installed\u001b[22m\u001b[39m PyCall ─ v1.91.3\n",
      "\u001b[32m\u001b[1m   Updating\u001b[22m\u001b[39m `~/.julia/environments/v1.4/Project.toml`\n",
      " \u001b[90m [438e738f]\u001b[39m\u001b[95m ↓ PyCall v1.91.4 ⇒ v1.91.3\u001b[39m\n",
      "\u001b[32m\u001b[1m   Updating\u001b[22m\u001b[39m `~/.julia/environments/v1.4/Manifest.toml`\n",
      " \u001b[90m [438e738f]\u001b[39m\u001b[95m ↓ PyCall v1.91.4 ⇒ v1.91.3\u001b[39m\n",
      "\u001b[32m\u001b[1m   Building\u001b[22m\u001b[39m PyCall → `~/.julia/packages/PyCall/kAhnQ/deps/build.log`\n"
     ]
    }
   ],
   "source": [
    "]add PyCall@1.91.3"
   ]
  },
  {
   "cell_type": "markdown",
   "metadata": {
    "colab_type": "text",
    "id": "AlN_f9jpGPO1"
   },
   "source": [
    "If you only specify version `1` or version `1.91`, Julia will get the latest version with that prefix. For example, `]add PyCall@0.91` would install the latest version `0.91.x`."
   ]
  },
  {
   "cell_type": "markdown",
   "metadata": {
    "colab_type": "text",
    "id": "TDixUMn7DDri"
   },
   "source": [
    "You can also update a package to its latest version:"
   ]
  },
  {
   "cell_type": "code",
   "execution_count": 325,
   "metadata": {
    "colab": {
     "base_uri": "https://localhost:8080/",
     "height": 119
    },
    "colab_type": "code",
    "id": "0EQofpkzD4xq",
    "outputId": "59075dfb-d549-4323-cf58-a2311c546266"
   },
   "outputs": [
    {
     "name": "stderr",
     "output_type": "stream",
     "text": [
      "\u001b[32m\u001b[1m   Updating\u001b[22m\u001b[39m registry at `~/.julia/registries/General`\n"
     ]
    },
    {
     "name": "stdout",
     "output_type": "stream",
     "text": [
      "\u001b[?25l\u001b[2K"
     ]
    },
    {
     "name": "stderr",
     "output_type": "stream",
     "text": [
      "\u001b[32m\u001b[1m   Updating\u001b[22m\u001b[39m git-repo `https://github.com/JuliaRegistries/General.git`\n"
     ]
    },
    {
     "name": "stdout",
     "output_type": "stream",
     "text": [
      "\u001b[?25h"
     ]
    },
    {
     "name": "stderr",
     "output_type": "stream",
     "text": [
      "\u001b[32m\u001b[1m   Updating\u001b[22m\u001b[39m `~/.julia/environments/v1.4/Project.toml`\n",
      " \u001b[90m [438e738f]\u001b[39m\u001b[93m ↑ PyCall v1.91.3 ⇒ v1.91.4\u001b[39m\n",
      "\u001b[32m\u001b[1m   Updating\u001b[22m\u001b[39m `~/.julia/environments/v1.4/Manifest.toml`\n",
      " \u001b[90m [438e738f]\u001b[39m\u001b[93m ↑ PyCall v1.91.3 ⇒ v1.91.4\u001b[39m\n"
     ]
    }
   ],
   "source": [
    "]update PyCall"
   ]
  },
  {
   "cell_type": "markdown",
   "metadata": {
    "colab_type": "text",
    "id": "lgeDVp26DI7_"
   },
   "source": [
    "You can update all packages to their latest versions:"
   ]
  },
  {
   "cell_type": "code",
   "execution_count": 326,
   "metadata": {
    "colab": {
     "base_uri": "https://localhost:8080/",
     "height": 136
    },
    "colab_type": "code",
    "id": "S3Mi-zgLDOVw",
    "outputId": "56b9f42b-5005-483f-dd06-8b3bb69e9904"
   },
   "outputs": [
    {
     "name": "stderr",
     "output_type": "stream",
     "text": [
      "\u001b[32m\u001b[1m   Updating\u001b[22m\u001b[39m registry at `~/.julia/registries/General`\n"
     ]
    },
    {
     "name": "stdout",
     "output_type": "stream",
     "text": [
      "\u001b[?25l\u001b[2K"
     ]
    },
    {
     "name": "stderr",
     "output_type": "stream",
     "text": [
      "\u001b[32m\u001b[1m   Updating\u001b[22m\u001b[39m git-repo `https://github.com/JuliaRegistries/General.git`\n"
     ]
    },
    {
     "name": "stdout",
     "output_type": "stream",
     "text": [
      "\u001b[?25h\u001b[?25l\u001b[2K"
     ]
    },
    {
     "name": "stderr",
     "output_type": "stream",
     "text": [
      "\u001b[32m\u001b[1m   Updating\u001b[22m\u001b[39m git-repo `https://github.com/JuliaLang/Example.jl`\n"
     ]
    },
    {
     "name": "stdout",
     "output_type": "stream",
     "text": [
      "\u001b[?25h"
     ]
    },
    {
     "name": "stderr",
     "output_type": "stream",
     "text": [
      "\u001b[32m\u001b[1m   Updating\u001b[22m\u001b[39m `~/.julia/environments/v1.4/Project.toml`\n",
      "\u001b[90m [no changes]\u001b[39m\n",
      "\u001b[32m\u001b[1m   Updating\u001b[22m\u001b[39m `~/.julia/environments/v1.4/Manifest.toml`\n",
      "\u001b[90m [no changes]\u001b[39m\n"
     ]
    }
   ],
   "source": [
    "]update"
   ]
  },
  {
   "cell_type": "markdown",
   "metadata": {
    "colab_type": "text",
    "id": "1C6nNERsDa_M"
   },
   "source": [
    "If you don't want a particular package to be updated the next time you call `]update`, you can pin it:"
   ]
  },
  {
   "cell_type": "code",
   "execution_count": 327,
   "metadata": {
    "colab": {
     "base_uri": "https://localhost:8080/",
     "height": 85
    },
    "colab_type": "code",
    "id": "Nht6o2uCDiiL",
    "outputId": "b5b859c1-c753-48db-cdc1-4145bf4a00b9"
   },
   "outputs": [
    {
     "name": "stderr",
     "output_type": "stream",
     "text": [
      "\u001b[32m\u001b[1m   Updating\u001b[22m\u001b[39m `~/.julia/environments/v1.4/Project.toml`\n",
      " \u001b[90m [438e738f]\u001b[39m\u001b[93m ~ PyCall v1.91.4 ⇒ v1.91.4 ⚲\u001b[39m\n",
      "\u001b[32m\u001b[1m   Updating\u001b[22m\u001b[39m `~/.julia/environments/v1.4/Manifest.toml`\n",
      " \u001b[90m [438e738f]\u001b[39m\u001b[93m ~ PyCall v1.91.4 ⇒ v1.91.4 ⚲\u001b[39m\n"
     ]
    }
   ],
   "source": [
    "]pin PyCall"
   ]
  },
  {
   "cell_type": "markdown",
   "metadata": {
    "colab_type": "text",
    "id": "Qp9v2d7tDxjH"
   },
   "source": [
    "To unpin the package:"
   ]
  },
  {
   "cell_type": "code",
   "execution_count": 328,
   "metadata": {
    "colab": {
     "base_uri": "https://localhost:8080/",
     "height": 85
    },
    "colab_type": "code",
    "id": "3i9JoQimDl7I",
    "outputId": "3684dacf-3105-49df-a84f-8dcfe11310ae"
   },
   "outputs": [
    {
     "name": "stderr",
     "output_type": "stream",
     "text": [
      "\u001b[32m\u001b[1m   Updating\u001b[22m\u001b[39m `~/.julia/environments/v1.4/Project.toml`\n",
      " \u001b[90m [438e738f]\u001b[39m\u001b[93m ~ PyCall v1.91.4 ⚲ ⇒ v1.91.4\u001b[39m\n",
      "\u001b[32m\u001b[1m   Updating\u001b[22m\u001b[39m `~/.julia/environments/v1.4/Manifest.toml`\n",
      " \u001b[90m [438e738f]\u001b[39m\u001b[93m ~ PyCall v1.91.4 ⚲ ⇒ v1.91.4\u001b[39m\n"
     ]
    }
   ],
   "source": [
    "]free PyCall"
   ]
  },
  {
   "cell_type": "markdown",
   "metadata": {
    "colab_type": "text",
    "id": "Asr1snFp609f"
   },
   "source": [
    "You can also run the tests defined in a package:"
   ]
  },
  {
   "cell_type": "code",
   "execution_count": 329,
   "metadata": {
    "colab": {
     "base_uri": "https://localhost:8080/",
     "height": 238
    },
    "colab_type": "code",
    "id": "XlmKnEvf67zi",
    "outputId": "2eaedf96-f0b6-4841-d46a-620aae16ecd9"
   },
   "outputs": [
    {
     "name": "stderr",
     "output_type": "stream",
     "text": [
      "\u001b[32m\u001b[1m    Testing\u001b[22m\u001b[39m Example\n",
      "\u001b[32m\u001b[1mStatus\u001b[22m\u001b[39m `/tmp/jl_2kZjcq/Manifest.toml`\n",
      " \u001b[90m [7876af07]\u001b[39m\u001b[37m Example v0.5.4 #master (https://github.com/JuliaLang/Example.jl)\u001b[39m\n",
      " \u001b[90m [2a0f44e3]\u001b[39m\u001b[37m Base64 \u001b[39m\n",
      " \u001b[90m [8ba89e20]\u001b[39m\u001b[37m Distributed \u001b[39m\n",
      " \u001b[90m [b77e0a4c]\u001b[39m\u001b[37m InteractiveUtils \u001b[39m\n",
      " \u001b[90m [56ddb016]\u001b[39m\u001b[37m Logging \u001b[39m\n",
      " \u001b[90m [d6f4376e]\u001b[39m\u001b[37m Markdown \u001b[39m\n",
      " \u001b[90m [9a3f8284]\u001b[39m\u001b[37m Random \u001b[39m\n",
      " \u001b[90m [9e88b42a]\u001b[39m\u001b[37m Serialization \u001b[39m\n",
      " \u001b[90m [6462fe0b]\u001b[39m\u001b[37m Sockets \u001b[39m\n",
      " \u001b[90m [8dfed614]\u001b[39m\u001b[37m Test \u001b[39m\n",
      "\u001b[32m\u001b[1m    Testing\u001b[22m\u001b[39m Example tests passed \n"
     ]
    }
   ],
   "source": [
    "]test Example"
   ]
  },
  {
   "cell_type": "markdown",
   "metadata": {
    "colab_type": "text",
    "id": "lHAXzij6ZPPs"
   },
   "source": [
    "Of course, you can remove a package:"
   ]
  },
  {
   "cell_type": "code",
   "execution_count": 330,
   "metadata": {
    "colab": {
     "base_uri": "https://localhost:8080/",
     "height": 85
    },
    "colab_type": "code",
    "id": "2fuEjhjzZROg",
    "outputId": "8b10f6ba-994d-47d9-ab50-1284ca582ea4"
   },
   "outputs": [
    {
     "name": "stderr",
     "output_type": "stream",
     "text": [
      "\u001b[32m\u001b[1m   Updating\u001b[22m\u001b[39m `~/.julia/environments/v1.4/Project.toml`\n",
      " \u001b[90m [7876af07]\u001b[39m\u001b[91m - Example v0.5.4 #master (https://github.com/JuliaLang/Example.jl)\u001b[39m\n",
      "\u001b[32m\u001b[1m   Updating\u001b[22m\u001b[39m `~/.julia/environments/v1.4/Manifest.toml`\n",
      " \u001b[90m [7876af07]\u001b[39m\u001b[91m - Example v0.5.4 #master (https://github.com/JuliaLang/Example.jl)\u001b[39m\n"
     ]
    }
   ],
   "source": [
    "]rm Example"
   ]
  },
  {
   "cell_type": "markdown",
   "metadata": {
    "colab_type": "text",
    "id": "eeTA6D33CHTv"
   },
   "source": [
    "Lastly, you can check which packages are installed using `]status` (or `]st` for short):"
   ]
  },
  {
   "cell_type": "code",
   "execution_count": 331,
   "metadata": {
    "colab": {
     "base_uri": "https://localhost:8080/",
     "height": 119
    },
    "colab_type": "code",
    "id": "lSqzm_yECL6Y",
    "outputId": "329baf41-b7c2-4ed5-de58-a326a969a2dc"
   },
   "outputs": [
    {
     "name": "stdout",
     "output_type": "stream",
     "text": [
      "\u001b[32m\u001b[1mStatus\u001b[22m\u001b[39m `~/.julia/environments/v1.4/Project.toml`\n",
      " \u001b[90m [6e4b80f9]\u001b[39m\u001b[37m BenchmarkTools v0.5.0\u001b[39m\n",
      " \u001b[90m [052768ef]\u001b[39m\u001b[37m CUDA v1.0.2\u001b[39m\n",
      " \u001b[90m [7073ff75]\u001b[39m\u001b[37m IJulia v1.21.2\u001b[39m\n",
      " \u001b[90m [438e738f]\u001b[39m\u001b[37m PyCall v1.91.4\u001b[39m\n",
      " \u001b[90m [d330b81b]\u001b[39m\u001b[37m PyPlot v2.9.0\u001b[39m\n"
     ]
    }
   ],
   "source": [
    "]st"
   ]
  },
  {
   "cell_type": "markdown",
   "metadata": {
    "colab_type": "text",
    "id": "VVwtyjNJlL5j"
   },
   "source": [
    "For more `Pkg` commands, type `]help`."
   ]
  },
  {
   "cell_type": "markdown",
   "metadata": {
    "colab_type": "text",
    "id": "rQY6BRiBvdbU"
   },
   "source": [
    "|Julia (in interactive mode) | Python (in a terminal)\n",
    "|-----|------\n",
    "|`]status` | `pip freeze`<br />or<br />`conda list`\n",
    "|`]add Foo` | `pip install foo`<br />or<br />`conda install foo`\n",
    "|`]add Foo@1.2` | `pip install foo==1.2`<br />or<br />`conda install foo=1.2`\n",
    "|`]update Foo` | `pip install --upgrade foo`<br />or<br />`conda update foo`\n",
    "|`]pin Foo` | `foo==<version>` in `requirements.txt`<br /> or<br />`foo=<version>` in `environment.yml`\n",
    "|`]free Foo` | `foo` in `requirements.txt`<br />or<br />`foo` in `environment.yml`\n",
    "|`]test Foo` | `python -m unittest foo`\n",
    "|`]rm Foo` | `pip uninstall foo`<br />or<br />`conda remove foo`\n",
    "|`]help` | `pip --help`\n"
   ]
  },
  {
   "cell_type": "markdown",
   "metadata": {
    "colab_type": "text",
    "id": "o6KvuaMcFx2N"
   },
   "source": [
    "This workflow is fairly simple, but it means that all of your programs will be using the same version of each package. This is analog to installing packages using `pip install` without using virtual environments."
   ]
  },
  {
   "cell_type": "markdown",
   "metadata": {
    "colab_type": "text",
    "id": "CaJvX0RcqukU"
   },
   "source": [
    "\n",
    "## Projects\n",
    "\n",
    "If you want to have multiple projects, each with different libraries and library versions, you should define **projects**. These are analog to Python virtual environments.\n",
    "\n",
    "A project is just a directory containing a `Project.toml` file and a `Manifest.toml` file:\n",
    "\n",
    "```\n",
    "my_project/\n",
    "    Project.toml\n",
    "    Manifest.toml\n",
    "```\n",
    "\n",
    "* `Project.toml` is similar to a `requirements.txt` file (for pip) or `environment.yml` (for conda): it lists the dependencies of the project, and compatibility constraints (e.g., `SomeDependency = 2.5`).\n",
    "* `Manifest.toml` is an automatically generated file which lists the exact versions and unique IDs (UUIDs) of all the packages that Julia found, based on `Project.toml`. It includes all the implicit dependencies of the project's packages. This is useful to reproduce an environment precisely. Analog to the output of `pip --freeze`.\n",
    "\n",
    "By default, the active project is located in `~/.julia/environments/v#.#` (where `#.#` is the Julia version you are using, such as 1.4). You can set a different project when starting Julia:\n",
    "\n",
    "```bash\n",
    "# BASH\n",
    "julia --project=/path/to/my_project\n",
    "```\n",
    "\n",
    "Or you can set the `JULIA_PROJECT` environment variable:\n",
    "\n",
    "```bash\n",
    "# BASH\n",
    "export JULIA_PROJECT=/path/to/my_project\n",
    "julia\n",
    "```"
   ]
  },
  {
   "cell_type": "markdown",
   "metadata": {
    "colab_type": "text",
    "id": "84iGO38zM3Cz"
   },
   "source": [
    "Or you can just activate a project directly in Julia (this is analog to running `source my_project/env/bin/activate` when using virtualenv):"
   ]
  },
  {
   "cell_type": "code",
   "execution_count": 332,
   "metadata": {
    "colab": {
     "base_uri": "https://localhost:8080/",
     "height": 34
    },
    "colab_type": "code",
    "id": "tuXofzisM-bW",
    "outputId": "9bf468ff-da50-4cfd-96c3-12343e16a107"
   },
   "outputs": [
    {
     "name": "stderr",
     "output_type": "stream",
     "text": [
      "\u001b[32m\u001b[1m Activating\u001b[22m\u001b[39m new environment at `/content/my_project/Project.toml`\n"
     ]
    }
   ],
   "source": [
    "Pkg.activate(\"my_project\")"
   ]
  },
  {
   "cell_type": "markdown",
   "metadata": {
    "colab_type": "text",
    "id": "wOPtEC3UNTsh"
   },
   "source": [
    "The `my_project` directory does not exist yet, but it gets created automatically, along with the `Project.toml` and `Manifest.toml` files, when you first add a package:"
   ]
  },
  {
   "cell_type": "code",
   "execution_count": 333,
   "metadata": {
    "colab": {
     "base_uri": "https://localhost:8080/",
     "height": 442
    },
    "colab_type": "code",
    "id": "yLuWH7U8g84W",
    "outputId": "de641ac5-5502-4095-cf86-48b64414ecbd"
   },
   "outputs": [
    {
     "name": "stderr",
     "output_type": "stream",
     "text": [
      "\u001b[32m\u001b[1m  Resolving\u001b[22m\u001b[39m package versions...\n",
      "\u001b[32m\u001b[1m   Updating\u001b[22m\u001b[39m `/content/my_project/Project.toml`\n",
      " \u001b[90m [438e738f]\u001b[39m\u001b[92m + PyCall v1.91.4\u001b[39m\n",
      "\u001b[32m\u001b[1m   Updating\u001b[22m\u001b[39m `/content/my_project/Manifest.toml`\n",
      " \u001b[90m [8f4d0f93]\u001b[39m\u001b[92m + Conda v1.4.1\u001b[39m\n",
      " \u001b[90m [682c06a0]\u001b[39m\u001b[92m + JSON v0.21.0\u001b[39m\n",
      " \u001b[90m [1914dd2f]\u001b[39m\u001b[92m + MacroTools v0.5.5\u001b[39m\n",
      " \u001b[90m [69de0a69]\u001b[39m\u001b[92m + Parsers v1.0.6\u001b[39m\n",
      " \u001b[90m [438e738f]\u001b[39m\u001b[92m + PyCall v1.91.4\u001b[39m\n",
      " \u001b[90m [81def892]\u001b[39m\u001b[92m + VersionParsing v1.2.0\u001b[39m\n",
      " \u001b[90m [2a0f44e3]\u001b[39m\u001b[92m + Base64 \u001b[39m\n",
      " \u001b[90m [ade2ca70]\u001b[39m\u001b[92m + Dates \u001b[39m\n",
      " \u001b[90m [8ba89e20]\u001b[39m\u001b[92m + Distributed \u001b[39m\n",
      " \u001b[90m [b77e0a4c]\u001b[39m\u001b[92m + InteractiveUtils \u001b[39m\n",
      " \u001b[90m [8f399da3]\u001b[39m\u001b[92m + Libdl \u001b[39m\n",
      " \u001b[90m [37e2e46d]\u001b[39m\u001b[92m + LinearAlgebra \u001b[39m\n",
      " \u001b[90m [56ddb016]\u001b[39m\u001b[92m + Logging \u001b[39m\n",
      " \u001b[90m [d6f4376e]\u001b[39m\u001b[92m + Markdown \u001b[39m\n",
      " \u001b[90m [a63ad114]\u001b[39m\u001b[92m + Mmap \u001b[39m\n",
      " \u001b[90m [de0858da]\u001b[39m\u001b[92m + Printf \u001b[39m\n",
      " \u001b[90m [9a3f8284]\u001b[39m\u001b[92m + Random \u001b[39m\n",
      " \u001b[90m [9e88b42a]\u001b[39m\u001b[92m + Serialization \u001b[39m\n",
      " \u001b[90m [6462fe0b]\u001b[39m\u001b[92m + Sockets \u001b[39m\n",
      " \u001b[90m [8dfed614]\u001b[39m\u001b[92m + Test \u001b[39m\n",
      " \u001b[90m [4ec0a83e]\u001b[39m\u001b[92m + Unicode \u001b[39m\n"
     ]
    }
   ],
   "source": [
    "]add PyCall"
   ]
  },
  {
   "cell_type": "markdown",
   "metadata": {
    "colab_type": "text",
    "id": "KS6OJjVpTcKX"
   },
   "source": [
    "You can also add a package via its URL:"
   ]
  },
  {
   "cell_type": "code",
   "execution_count": 334,
   "metadata": {
    "colab": {
     "base_uri": "https://localhost:8080/",
     "height": 119
    },
    "colab_type": "code",
    "id": "ydZSoyULOlwV",
    "outputId": "2923c9fd-bac0-4f4f-b17b-bb915874f56a"
   },
   "outputs": [
    {
     "name": "stdout",
     "output_type": "stream",
     "text": [
      "\u001b[?25l\u001b[2K"
     ]
    },
    {
     "name": "stderr",
     "output_type": "stream",
     "text": [
      "\u001b[32m\u001b[1m   Updating\u001b[22m\u001b[39m git-repo `https://github.com/JuliaLang/Example.jl`\n"
     ]
    },
    {
     "name": "stdout",
     "output_type": "stream",
     "text": [
      "\u001b[?25h"
     ]
    },
    {
     "name": "stderr",
     "output_type": "stream",
     "text": [
      "\u001b[32m\u001b[1m  Resolving\u001b[22m\u001b[39m package versions...\n",
      "\u001b[32m\u001b[1m   Updating\u001b[22m\u001b[39m `/content/my_project/Project.toml`\n",
      " \u001b[90m [7876af07]\u001b[39m\u001b[92m + Example v0.5.4 #master (https://github.com/JuliaLang/Example.jl)\u001b[39m\n",
      "\u001b[32m\u001b[1m   Updating\u001b[22m\u001b[39m `/content/my_project/Manifest.toml`\n",
      " \u001b[90m [7876af07]\u001b[39m\u001b[92m + Example v0.5.4 #master (https://github.com/JuliaLang/Example.jl)\u001b[39m\n"
     ]
    }
   ],
   "source": [
    "]add https://github.com/JuliaLang/Example.jl"
   ]
  },
  {
   "cell_type": "markdown",
   "metadata": {
    "colab_type": "text",
    "id": "JKr9G4fDGGLv"
   },
   "source": [
    "Let's also add a package with a specific version:"
   ]
  },
  {
   "cell_type": "code",
   "execution_count": 335,
   "metadata": {
    "colab": {
     "base_uri": "https://localhost:8080/",
     "height": 119
    },
    "colab_type": "code",
    "id": "xM8l4uR2GJsM",
    "outputId": "7ebb9997-153b-4fbb-98d1-773d74a32f12"
   },
   "outputs": [
    {
     "name": "stderr",
     "output_type": "stream",
     "text": [
      "\u001b[32m\u001b[1m  Resolving\u001b[22m\u001b[39m package versions...\n",
      "\u001b[32m\u001b[1m  Installed\u001b[22m\u001b[39m Example ─ v0.3.3\n",
      "\u001b[32m\u001b[1m   Updating\u001b[22m\u001b[39m `/content/my_project/Project.toml`\n",
      " \u001b[90m [7876af07]\u001b[39m\u001b[95m ↓ Example v0.5.4 #master (https://github.com/JuliaLang/Example.jl) ⇒ v0.3.3\u001b[39m\n",
      "\u001b[32m\u001b[1m   Updating\u001b[22m\u001b[39m `/content/my_project/Manifest.toml`\n",
      " \u001b[90m [7876af07]\u001b[39m\u001b[95m ↓ Example v0.5.4 #master (https://github.com/JuliaLang/Example.jl) ⇒ v0.3.3\u001b[39m\n"
     ]
    }
   ],
   "source": [
    "]add Example@0.3"
   ]
  },
  {
   "cell_type": "markdown",
   "metadata": {
    "colab_type": "text",
    "id": "RCZ-eWicTmVx"
   },
   "source": [
    "Now the `Project.toml` and `Manifest.toml` files were created:"
   ]
  },
  {
   "cell_type": "code",
   "execution_count": 336,
   "metadata": {
    "colab": {
     "base_uri": "https://localhost:8080/",
     "height": 68
    },
    "colab_type": "code",
    "id": "CPbncHi09yFJ",
    "outputId": "8f9d4bb4-e3f1-42bc-88e8-b5af5c34f0bd"
   },
   "outputs": [
    {
     "name": "stdout",
     "output_type": "stream",
     "text": [
      "my_project\n",
      "my_project/Manifest.toml\n",
      "my_project/Project.toml\n"
     ]
    }
   ],
   "source": [
    ";find my_project"
   ]
  },
  {
   "cell_type": "markdown",
   "metadata": {
    "colab_type": "text",
    "id": "Jw-VCU41Ua7A"
   },
   "source": [
    "Notice that the packages we added to the project were _not_ placed in the `my_project` directory itself. They were saved in the `~/.julia/packages` directory, the compiled files were placed in `~/.julia/compiled` director, logs were written to `~/.julia/logs` and so on.\n",
    "\n",
    "If several projects use the same package, it will only be downloaded and built once (well, once per version). The `~/.julia/packages` directory can hold multiple versions of the same package, so it's fine if different projects use different versions of the same package. There will be no conflict, no \"dependency hell\".\n"
   ]
  },
  {
   "cell_type": "markdown",
   "metadata": {
    "colab_type": "text",
    "id": "o9yjyihUisIK"
   },
   "source": [
    "The `Project.toml` just says that the project depends on `PyCall` and `Example`, and it specifies the UUID of this package:"
   ]
  },
  {
   "cell_type": "code",
   "execution_count": 337,
   "metadata": {
    "colab": {
     "base_uri": "https://localhost:8080/",
     "height": 68
    },
    "colab_type": "code",
    "id": "Gz8KscpIhIX4",
    "outputId": "db96f24f-931b-483c-eb7f-cdfead0195d5"
   },
   "outputs": [
    {
     "name": "stdout",
     "output_type": "stream",
     "text": [
      "[deps]\n",
      "Example = \"7876af07-990d-54b4-ab0e-23690620f79a\"\n",
      "PyCall = \"438e738f-606a-5dbb-bf0a-cddfbfd45ab0\"\n"
     ]
    }
   ],
   "source": [
    "print(read(\"my_project/Project.toml\", String))"
   ]
  },
  {
   "cell_type": "markdown",
   "metadata": {
    "colab_type": "text",
    "id": "IpxulMt32SFf"
   },
   "source": [
    "UUIDs are useful to avoid name conflicts. If several people name their package `CoolStuff`, then the UUID will clarify which one we are referring to."
   ]
  },
  {
   "cell_type": "markdown",
   "metadata": {
    "colab_type": "text",
    "id": "-_mbX8HUi7Qg"
   },
   "source": [
    "The `Manifest.toml` file is much longer, since it contains all the packages which `PyCall` and `Example` depend on, along with their versions (except for the standard library packages), and the dependency graph. This file should never be modified manually:\n"
   ]
  },
  {
   "cell_type": "code",
   "execution_count": 338,
   "metadata": {
    "colab": {
     "base_uri": "https://localhost:8080/",
     "height": 1000
    },
    "colab_type": "code",
    "id": "28qXSoSwhOgm",
    "outputId": "7ee5c474-9d2e-432d-95c1-5a09023de43e"
   },
   "outputs": [
    {
     "name": "stdout",
     "output_type": "stream",
     "text": [
      "# This file is machine-generated - editing it directly is not advised\n",
      "\n",
      "[[Base64]]\n",
      "uuid = \"2a0f44e3-6c83-55bd-87e4-b1978d98bd5f\"\n",
      "\n",
      "[[Conda]]\n",
      "deps = [\"JSON\", \"VersionParsing\"]\n",
      "git-tree-sha1 = \"7a58bb32ce5d85f8bf7559aa7c2842f9aecf52fc\"\n",
      "uuid = \"8f4d0f93-b110-5947-807f-2305c1781a2d\"\n",
      "version = \"1.4.1\"\n",
      "\n",
      "[[Dates]]\n",
      "deps = [\"Printf\"]\n",
      "uuid = \"ade2ca70-3891-5945-98fb-dc099432e06a\"\n",
      "\n",
      "[[Distributed]]\n",
      "deps = [\"Random\", \"Serialization\", \"Sockets\"]\n",
      "uuid = \"8ba89e20-285c-5b6f-9357-94700520ee1b\"\n",
      "\n",
      "[[Example]]\n",
      "git-tree-sha1 = \"276fa06109ac5c80035cff711b0a18ad5b3117cc\"\n",
      "uuid = \"7876af07-990d-54b4-ab0e-23690620f79a\"\n",
      "version = \"0.3.3\"\n",
      "\n",
      "[[InteractiveUtils]]\n",
      "deps = [\"Markdown\"]\n",
      "uuid = \"b77e0a4c-d291-57a0-90e8-8db25a27a240\"\n",
      "\n",
      "[[JSON]]\n",
      "deps = [\"Dates\", \"Mmap\", \"Parsers\", \"Unicode\"]\n",
      "git-tree-sha1 = \"b34d7cef7b337321e97d22242c3c2b91f476748e\"\n",
      "uuid = \"682c06a0-de6a-54ab-a142-c8b1cf79cde6\"\n",
      "version = \"0.21.0\"\n",
      "\n",
      "[[Libdl]]\n",
      "uuid = \"8f399da3-3557-5675-b5ff-fb832c97cbdb\"\n",
      "\n",
      "[[LinearAlgebra]]\n",
      "deps = [\"Libdl\"]\n",
      "uuid = \"37e2e46d-f89d-539d-b4ee-838fcccc9c8e\"\n",
      "\n",
      "[[Logging]]\n",
      "uuid = \"56ddb016-857b-54e1-b83d-db4d58db5568\"\n",
      "\n",
      "[[MacroTools]]\n",
      "deps = [\"Markdown\", \"Random\"]\n",
      "git-tree-sha1 = \"f7d2e3f654af75f01ec49be82c231c382214223a\"\n",
      "uuid = \"1914dd2f-81c6-5fcd-8719-6d5c9610ff09\"\n",
      "version = \"0.5.5\"\n",
      "\n",
      "[[Markdown]]\n",
      "deps = [\"Base64\"]\n",
      "uuid = \"d6f4376e-aef5-505a-96c1-9c027394607a\"\n",
      "\n",
      "[[Mmap]]\n",
      "uuid = \"a63ad114-7e13-5084-954f-fe012c677804\"\n",
      "\n",
      "[[Parsers]]\n",
      "deps = [\"Dates\", \"Test\"]\n",
      "git-tree-sha1 = \"20ef902ea02f7000756a4bc19f7b9c24867c6211\"\n",
      "uuid = \"69de0a69-1ddd-5017-9359-2bf0b02dc9f0\"\n",
      "version = \"1.0.6\"\n",
      "\n",
      "[[Printf]]\n",
      "deps = [\"Unicode\"]\n",
      "uuid = \"de0858da-6303-5e67-8744-51eddeeeb8d7\"\n",
      "\n",
      "[[PyCall]]\n",
      "deps = [\"Conda\", \"Dates\", \"Libdl\", \"LinearAlgebra\", \"MacroTools\", \"Serialization\", \"VersionParsing\"]\n",
      "git-tree-sha1 = \"3a3fdb9000d35958c9ba2323ca7c4958901f115d\"\n",
      "uuid = \"438e738f-606a-5dbb-bf0a-cddfbfd45ab0\"\n",
      "version = \"1.91.4\"\n",
      "\n",
      "[[Random]]\n",
      "deps = [\"Serialization\"]\n",
      "uuid = \"9a3f8284-a2c9-5f02-9a11-845980a1fd5c\"\n",
      "\n",
      "[[Serialization]]\n",
      "uuid = \"9e88b42a-f829-5b0c-bbe9-9e923198166b\"\n",
      "\n",
      "[[Sockets]]\n",
      "uuid = \"6462fe0b-24de-5631-8697-dd941f90decc\"\n",
      "\n",
      "[[Test]]\n",
      "deps = [\"Distributed\", \"InteractiveUtils\", \"Logging\", \"Random\"]\n",
      "uuid = \"8dfed614-e22c-5e08-85e1-65c5234f0b40\"\n",
      "\n",
      "[[Unicode]]\n",
      "uuid = \"4ec0a83e-493e-50e2-b9ac-8f72acf5a8f5\"\n",
      "\n",
      "[[VersionParsing]]\n",
      "git-tree-sha1 = \"80229be1f670524750d905f8fc8148e5a8c4537f\"\n",
      "uuid = \"81def892-9a0e-5fdd-b105-ffc91e053289\"\n",
      "version = \"1.2.0\"\n"
     ]
    }
   ],
   "source": [
    "print(read(\"my_project/Manifest.toml\", String))"
   ]
  },
  {
   "cell_type": "markdown",
   "metadata": {
    "colab_type": "text",
    "id": "P1JJXmuz1LPl"
   },
   "source": [
    "Note that `Manifest.toml` contains the precise version of the `Example` package that was installed, but the `Project.toml` file does not specify that version `0.3` is required. That's because Julia cannot know whether your project is supposed to work only with any version `0.3.x`, or whether it could work with other versions as well. So if you want to specify a version constraint for the `Example` package, you must add it manually in `Project.toml`. You would normally use your favorite editor to do this, but in this notebook we'll update `Project.toml` programmatically:"
   ]
  },
  {
   "cell_type": "code",
   "execution_count": 339,
   "metadata": {
    "colab": {
     "base_uri": "https://localhost:8080/",
     "height": 34
    },
    "colab_type": "code",
    "id": "tgddc3M_1iyG",
    "outputId": "b5b5fd32-facb-4cbd-def6-5d6161c7ca44"
   },
   "outputs": [
    {
     "data": {
      "text/plain": [
       "26"
      ]
     },
     "execution_count": 339,
     "metadata": {
      "tags": []
     },
     "output_type": "execute_result"
    }
   ],
   "source": [
    "append_config = \"\"\"\n",
    "\n",
    "[compat]\n",
    "Example = \"0.3\"\n",
    "\"\"\"\n",
    "\n",
    "open(f->write(f, append_config), \"my_project/Project.toml\", \"a\")"
   ]
  },
  {
   "cell_type": "markdown",
   "metadata": {
    "colab_type": "text",
    "id": "BD4rgzAT2GGs"
   },
   "source": [
    "Here is the updated `Project.toml` file:"
   ]
  },
  {
   "cell_type": "code",
   "execution_count": 340,
   "metadata": {
    "colab": {
     "base_uri": "https://localhost:8080/",
     "height": 119
    },
    "colab_type": "code",
    "id": "XNAC8q0H17mI",
    "outputId": "85e08912-3818-4498-dfd7-d44ec9a74b13"
   },
   "outputs": [
    {
     "name": "stdout",
     "output_type": "stream",
     "text": [
      "[deps]\n",
      "Example = \"7876af07-990d-54b4-ab0e-23690620f79a\"\n",
      "PyCall = \"438e738f-606a-5dbb-bf0a-cddfbfd45ab0\"\n",
      "\n",
      "[compat]\n",
      "Example = \"0.3\"\n"
     ]
    }
   ],
   "source": [
    "print(read(\"my_project/Project.toml\", String))"
   ]
  },
  {
   "cell_type": "markdown",
   "metadata": {
    "colab_type": "text",
    "id": "VyWAJoEq6GZs"
   },
   "source": [
    "Now if we try to replace `Example` 0.3 with version 0.2, we get an error:"
   ]
  },
  {
   "cell_type": "code",
   "execution_count": 341,
   "metadata": {
    "colab": {
     "base_uri": "https://localhost:8080/",
     "height": 51
    },
    "colab_type": "code",
    "id": "qgBa7Y0x6NUm",
    "outputId": "b4e03b71-d3e3-4d6f-8bfa-544ec23920ab"
   },
   "outputs": [
    {
     "name": "stderr",
     "output_type": "stream",
     "text": [
      "\u001b[32m\u001b[1m  Resolving\u001b[22m\u001b[39m package versions...\n"
     ]
    },
    {
     "data": {
      "text/plain": [
       "Pkg.Resolve.ResolverError(\"empty intersection between Example@0.2 and project compatibility 0.3\", nothing)"
      ]
     },
     "execution_count": 341,
     "metadata": {
      "tags": []
     },
     "output_type": "execute_result"
    }
   ],
   "source": [
    "try\n",
    "    pkg\"add Example@0.2\"\n",
    "catch ex\n",
    "    ex\n",
    "end"
   ]
  },
  {
   "cell_type": "markdown",
   "metadata": {
    "colab_type": "text",
    "id": "R3zvTUWSH4Sa"
   },
   "source": [
    "Now you can run a program based on this project, and it will have the possibility to use all the packages which have been added to this project, with their specific versions. If you import a package which was not explicitly added to this project, Julia will fallback to the default project:"
   ]
  },
  {
   "cell_type": "code",
   "execution_count": 342,
   "metadata": {
    "colab": {
     "base_uri": "https://localhost:8080/",
     "height": 34
    },
    "colab_type": "code",
    "id": "XnSjhJSyISzT",
    "outputId": "b2676e79-f354-4908-f9f1-6e41a81d7351"
   },
   "outputs": [
    {
     "data": {
      "text/plain": [
       "117"
      ]
     },
     "execution_count": 342,
     "metadata": {
      "tags": []
     },
     "output_type": "execute_result"
    }
   ],
   "source": [
    "code = \"\"\"\n",
    "import PyCall # found in the project\n",
    "import PyPlot # not found, so falls back to default project\n",
    "println(\"Success!\")\n",
    "\"\"\"\n",
    "\n",
    "open(f->write(f, code), \"my_program3.jl\", \"w\")"
   ]
  },
  {
   "cell_type": "code",
   "execution_count": 343,
   "metadata": {
    "colab": {
     "base_uri": "https://localhost:8080/",
     "height": 34
    },
    "colab_type": "code",
    "id": "eM4yXtogIc5d",
    "outputId": "172e5e76-59c5-4898-fca6-d1858082bc33"
   },
   "outputs": [
    {
     "name": "stdout",
     "output_type": "stream",
     "text": [
      "Success!\n"
     ]
    }
   ],
   "source": [
    ";julia --project=my_project my_program3.jl"
   ]
  },
  {
   "cell_type": "markdown",
   "metadata": {
    "colab_type": "text",
    "id": "U3C_z11CDXzJ"
   },
   "source": [
    "## Packages\n",
    "Falling back to the default project is fine, as long as you run the code on your own machine, but if you want to share your code with other people, it would be brittle to count on packages installed in _their_ default project. Instead, if you plan to share your code, you should clearly specify which packages it depends on, and use only these packages. Such a shareable project is called a **package**."
   ]
  },
  {
   "cell_type": "markdown",
   "metadata": {
    "colab_type": "text",
    "id": "7cLqsDTlMRM9"
   },
   "source": [
    "A package is a regular project (as defined above), but with a few extras:\n",
    "* the `Project.toml` file must specify a `name`, a `version` and a `uuid`.\n",
    "* there must be a `src/PackageName.jl` file containing a module named `PackageName`.\n",
    "* you generally want to specify the `authors` and `description`, and maybe also the `license`, `repository` (e.g., the package's github URL), and some `keywords`, but all of these are optional.\n",
    "\n",
    "It is very easy to create a new package using the `]generate` command. To define the `authors` field, `Pkg` will look up the `user.name` and `user.email` git config entries, so let's define them before we generate the package:"
   ]
  },
  {
   "cell_type": "code",
   "execution_count": 344,
   "metadata": {
    "colab": {},
    "colab_type": "code",
    "id": "-lrw9Diey5Jw"
   },
   "outputs": [],
   "source": [
    ";git config --global user.name \"Alice Bob\""
   ]
  },
  {
   "cell_type": "code",
   "execution_count": 345,
   "metadata": {
    "colab": {},
    "colab_type": "code",
    "id": "jHImoacOzHyR"
   },
   "outputs": [],
   "source": [
    ";git config --global user.email \"alice.bob@example.com\""
   ]
  },
  {
   "cell_type": "code",
   "execution_count": 346,
   "metadata": {
    "colab": {
     "base_uri": "https://localhost:8080/",
     "height": 68
    },
    "colab_type": "code",
    "id": "bTw_L-4-ls4H",
    "outputId": "c13f7a4a-9cad-4212-c9bc-b59c6088fc86"
   },
   "outputs": [
    {
     "name": "stderr",
     "output_type": "stream",
     "text": [
      "\u001b[32m\u001b[1m Generating\u001b[22m\u001b[39m  project Hello:\n",
      "    MyPackages/Hello/Project.toml\n",
      "    MyPackages/Hello/src/Hello.jl\n"
     ]
    }
   ],
   "source": [
    "]generate MyPackages/Hello"
   ]
  },
  {
   "cell_type": "markdown",
   "metadata": {
    "colab_type": "text",
    "id": "_OvnM3tBpW9X"
   },
   "source": [
    "This generated the `MyPackages/Hello/Project.toml` file (along with the enclosing directories) and the `MyPackages/Hello/src/Hello.jl` file. Let's take a look at the `Project.toml` file:"
   ]
  },
  {
   "cell_type": "code",
   "execution_count": 347,
   "metadata": {
    "colab": {
     "base_uri": "https://localhost:8080/",
     "height": 85
    },
    "colab_type": "code",
    "id": "wQqVtTh5qkhm",
    "outputId": "49fe342c-0d1e-483b-e2fe-dc5db18310b4"
   },
   "outputs": [
    {
     "name": "stdout",
     "output_type": "stream",
     "text": [
      "name = \"Hello\"\n",
      "uuid = \"b1200148-98bf-43d1-9bb1-85f7b4552217\"\n",
      "authors = [\"Alice Bob <alice.bob@example.com>\"]\n",
      "version = \"0.1.0\"\n"
     ]
    }
   ],
   "source": [
    "print(read(\"MyPackages/Hello/Project.toml\", String))"
   ]
  },
  {
   "cell_type": "markdown",
   "metadata": {
    "colab_type": "text",
    "id": "j1IL7fuyiAtb"
   },
   "source": [
    "Notice that the project has no dependencies yet, but it has a name, a unique UUID, and a version (plus an author)."
   ]
  },
  {
   "cell_type": "markdown",
   "metadata": {
    "colab_type": "text",
    "id": "Pgs4xop1qr1z"
   },
   "source": [
    "Note: if `Pkg` does not find a your name or email in the git config, it falls back to environment variables (`GIT_AUTHOR_NAME`, `GIT_COMMITTER_NAME`, `USER`, `USERNAME`, `NAME` and `GIT_AUTHOR_EMAIL`, `GIT_COMMITTER_EMAIL`, `EMAIL`)."
   ]
  },
  {
   "cell_type": "markdown",
   "metadata": {
    "colab_type": "text",
    "id": "VSyvL2-I0S_t"
   },
   "source": [
    "And let's look at the `src/Hello.jl` file:"
   ]
  },
  {
   "cell_type": "code",
   "execution_count": 348,
   "metadata": {
    "colab": {
     "base_uri": "https://localhost:8080/",
     "height": 102
    },
    "colab_type": "code",
    "id": "Y4DvJfrC0W_u",
    "outputId": "d8a7a483-2d15-4e89-b3f3-91bef30c2d89"
   },
   "outputs": [
    {
     "name": "stdout",
     "output_type": "stream",
     "text": [
      "module Hello\n",
      "\n",
      "greet() = print(\"Hello World!\")\n",
      "\n",
      "end # module\n"
     ]
    }
   ],
   "source": [
    "print(read(\"MyPackages/Hello/src/Hello.jl\", String))"
   ]
  },
  {
   "cell_type": "markdown",
   "metadata": {
    "colab_type": "text",
    "id": "6orcK-WH1dv8"
   },
   "source": [
    "Let's try to use the `greet()` function from the `Hello` package:"
   ]
  },
  {
   "cell_type": "code",
   "execution_count": 349,
   "metadata": {
    "colab": {
     "base_uri": "https://localhost:8080/",
     "height": 54
    },
    "colab_type": "code",
    "id": "9ASQUXed1jR9",
    "outputId": "759e1526-6d65-450b-d88f-bb7ce29588ea"
   },
   "outputs": [
    {
     "data": {
      "text/plain": [
       "ArgumentError(\"Package Hello not found in current path:\\n- Run `import Pkg; Pkg.add(\\\"Hello\\\")` to install the Hello package.\\n\")"
      ]
     },
     "execution_count": 349,
     "metadata": {
      "tags": []
     },
     "output_type": "execute_result"
    }
   ],
   "source": [
    "try\n",
    "    import Hello\n",
    "    Hello.greet()\n",
    "catch ex\n",
    "    ex\n",
    "end"
   ]
  },
  {
   "cell_type": "markdown",
   "metadata": {
    "colab_type": "text",
    "id": "Ehdlz0d51pRY"
   },
   "source": [
    "Julia could not find the `Hello` package. When you're working on a package, don't forget to activate it first!"
   ]
  },
  {
   "cell_type": "code",
   "execution_count": 350,
   "metadata": {
    "colab": {
     "base_uri": "https://localhost:8080/",
     "height": 34
    },
    "colab_type": "code",
    "id": "geOkTHsh10es",
    "outputId": "91dfa66e-2235-4eb0-a334-acb5124d1cf8"
   },
   "outputs": [
    {
     "name": "stderr",
     "output_type": "stream",
     "text": [
      "\u001b[32m\u001b[1m Activating\u001b[22m\u001b[39m environment at `/content/MyPackages/Hello/Project.toml`\n"
     ]
    }
   ],
   "source": [
    "]activate MyPackages/Hello"
   ]
  },
  {
   "cell_type": "code",
   "execution_count": 351,
   "metadata": {
    "colab": {
     "base_uri": "https://localhost:8080/",
     "height": 68
    },
    "colab_type": "code",
    "id": "aN3bg65b137-",
    "outputId": "8b9e5264-cd19-48d3-ab46-7b497163ae23"
   },
   "outputs": [
    {
     "name": "stderr",
     "output_type": "stream",
     "text": [
      "┌ Info: Precompiling Hello [b1200148-98bf-43d1-9bb1-85f7b4552217]\n",
      "└ @ Base loading.jl:1260\n"
     ]
    },
    {
     "name": "stdout",
     "output_type": "stream",
     "text": [
      "Hello World!"
     ]
    }
   ],
   "source": [
    "import Hello\n",
    "Hello.greet()"
   ]
  },
  {
   "cell_type": "markdown",
   "metadata": {
    "colab_type": "text",
    "id": "WxXCSYwIE9Eo"
   },
   "source": [
    "It works!\n",
    "\n",
    "If the `Hello` package depends on other packages, we must add them:"
   ]
  },
  {
   "cell_type": "code",
   "execution_count": 352,
   "metadata": {
    "colab": {
     "base_uri": "https://localhost:8080/",
     "height": 493
    },
    "colab_type": "code",
    "id": "cZfLcJO3-m9D",
    "outputId": "31c7a045-67ca-431a-fe50-012f29e05835"
   },
   "outputs": [
    {
     "name": "stderr",
     "output_type": "stream",
     "text": [
      "\u001b[32m\u001b[1m  Resolving\u001b[22m\u001b[39m package versions...\n",
      "\u001b[32m\u001b[1m  Installed\u001b[22m\u001b[39m Example ─ v0.5.3\n",
      "\u001b[32m\u001b[1m   Updating\u001b[22m\u001b[39m `/content/MyPackages/Hello/Project.toml`\n",
      " \u001b[90m [7876af07]\u001b[39m\u001b[92m + Example v0.5.3\u001b[39m\n",
      " \u001b[90m [438e738f]\u001b[39m\u001b[92m + PyCall v1.91.4\u001b[39m\n",
      "\u001b[32m\u001b[1m   Updating\u001b[22m\u001b[39m `/content/MyPackages/Hello/Manifest.toml`\n",
      " \u001b[90m [8f4d0f93]\u001b[39m\u001b[92m + Conda v1.4.1\u001b[39m\n",
      " \u001b[90m [7876af07]\u001b[39m\u001b[92m + Example v0.5.3\u001b[39m\n",
      " \u001b[90m [682c06a0]\u001b[39m\u001b[92m + JSON v0.21.0\u001b[39m\n",
      " \u001b[90m [1914dd2f]\u001b[39m\u001b[92m + MacroTools v0.5.5\u001b[39m\n",
      " \u001b[90m [69de0a69]\u001b[39m\u001b[92m + Parsers v1.0.6\u001b[39m\n",
      " \u001b[90m [438e738f]\u001b[39m\u001b[92m + PyCall v1.91.4\u001b[39m\n",
      " \u001b[90m [81def892]\u001b[39m\u001b[92m + VersionParsing v1.2.0\u001b[39m\n",
      " \u001b[90m [2a0f44e3]\u001b[39m\u001b[92m + Base64 \u001b[39m\n",
      " \u001b[90m [ade2ca70]\u001b[39m\u001b[92m + Dates \u001b[39m\n",
      " \u001b[90m [8ba89e20]\u001b[39m\u001b[92m + Distributed \u001b[39m\n",
      " \u001b[90m [b77e0a4c]\u001b[39m\u001b[92m + InteractiveUtils \u001b[39m\n",
      " \u001b[90m [8f399da3]\u001b[39m\u001b[92m + Libdl \u001b[39m\n",
      " \u001b[90m [37e2e46d]\u001b[39m\u001b[92m + LinearAlgebra \u001b[39m\n",
      " \u001b[90m [56ddb016]\u001b[39m\u001b[92m + Logging \u001b[39m\n",
      " \u001b[90m [d6f4376e]\u001b[39m\u001b[92m + Markdown \u001b[39m\n",
      " \u001b[90m [a63ad114]\u001b[39m\u001b[92m + Mmap \u001b[39m\n",
      " \u001b[90m [de0858da]\u001b[39m\u001b[92m + Printf \u001b[39m\n",
      " \u001b[90m [9a3f8284]\u001b[39m\u001b[92m + Random \u001b[39m\n",
      " \u001b[90m [9e88b42a]\u001b[39m\u001b[92m + Serialization \u001b[39m\n",
      " \u001b[90m [6462fe0b]\u001b[39m\u001b[92m + Sockets \u001b[39m\n",
      " \u001b[90m [8dfed614]\u001b[39m\u001b[92m + Test \u001b[39m\n",
      " \u001b[90m [4ec0a83e]\u001b[39m\u001b[92m + Unicode \u001b[39m\n"
     ]
    }
   ],
   "source": [
    "]add PyCall Example"
   ]
  },
  {
   "cell_type": "markdown",
   "metadata": {
    "colab_type": "text",
    "id": "IcipxHQW91lp"
   },
   "source": [
    "You must not use any package which has not been added to the project. If you do, you will get a warning."
   ]
  },
  {
   "cell_type": "markdown",
   "metadata": {
    "colab_type": "text",
    "id": "9MyUldzLAFZn"
   },
   "source": [
    "Once you are happy with your package, you can deploy it to github (or anywhere else). Then you can add it to your own projects just like any other package.\n",
    "\n",
    "If you want to make your package available to the world via the official Julia registry, you just need to send a Pull Request to https://github.com/JuliaRegistries/General. However, it's highly recommended to automate this using the [Registrator.jl](https://github.com/JuliaRegistries/Registrator.jl) github app.\n",
    "\n",
    "If you want to use other registries (including private registries), check out [this page](https://julialang.github.io/Pkg.jl/v1.4/registries/#)."
   ]
  },
  {
   "cell_type": "markdown",
   "metadata": {
    "colab_type": "text",
    "id": "nNd3-22NIkfB"
   },
   "source": [
    "Also check out the [`PkgTemplate`](https://github.com/invenia/PkgTemplates.jl) package, which provides more sophisticated templates for creating new packages, for example with continuous integration, code coverage tests, etc."
   ]
  },
  {
   "cell_type": "markdown",
   "metadata": {
    "colab_type": "text",
    "id": "NeVc0WCoJ_yl"
   },
   "source": [
    "## Fixing Issues in a Dependency\n",
    "Sometimes you may run into an issue inside one of the packages your project depends on. When this happens, you can use `Pkg`'s `dev` command to fix the issue. For example, let's pretend the `Example` package has a bug:"
   ]
  },
  {
   "cell_type": "code",
   "execution_count": 353,
   "metadata": {
    "colab": {
     "base_uri": "https://localhost:8080/",
     "height": 119
    },
    "colab_type": "code",
    "id": "HwIRORxQKcxn",
    "outputId": "13b7ff24-6d98-482a-d864-8586ade4d55c"
   },
   "outputs": [
    {
     "name": "stdout",
     "output_type": "stream",
     "text": [
      "\u001b[?25l    "
     ]
    },
    {
     "name": "stderr",
     "output_type": "stream",
     "text": [
      "\u001b[32m\u001b[1m    Cloning\u001b[22m\u001b[39m git-repo `https://github.com/JuliaLang/Example.jl.git`\n"
     ]
    },
    {
     "name": "stdout",
     "output_type": "stream",
     "text": [
      "\u001b[2K\u001b[?25h"
     ]
    },
    {
     "name": "stderr",
     "output_type": "stream",
     "text": [
      "\u001b[32m\u001b[1m  Resolving\u001b[22m\u001b[39m package versions...\n",
      "\u001b[32m\u001b[1m   Updating\u001b[22m\u001b[39m `/content/MyPackages/Hello/Project.toml`\n",
      " \u001b[90m [7876af07]\u001b[39m\u001b[93m ↑ Example v0.5.3 ⇒ v0.5.4 [`~/.julia/dev/Example`]\u001b[39m\n",
      "\u001b[32m\u001b[1m   Updating\u001b[22m\u001b[39m `/content/MyPackages/Hello/Manifest.toml`\n",
      " \u001b[90m [7876af07]\u001b[39m\u001b[93m ↑ Example v0.5.3 ⇒ v0.5.4 [`~/.julia/dev/Example`]\u001b[39m\n"
     ]
    }
   ],
   "source": [
    "]dev Example"
   ]
  },
  {
   "cell_type": "markdown",
   "metadata": {
    "colab_type": "text",
    "id": "7e63oY5HKgVD"
   },
   "source": [
    "This command cloned the repo into `~/.julia/dev/Example`:"
   ]
  },
  {
   "cell_type": "code",
   "execution_count": 354,
   "metadata": {
    "colab": {
     "base_uri": "https://localhost:8080/",
     "height": 51
    },
    "colab_type": "code",
    "id": "WV77BYAPK-ff",
    "outputId": "30c24d7a-8d2e-44d1-9e58-ebb3cce523cc"
   },
   "outputs": [
    {
     "name": "stdout",
     "output_type": "stream",
     "text": [
      "total 4\n",
      "drwxr-xr-x 7 root root 4096 Jul  2 00:06 Example\n"
     ]
    }
   ],
   "source": [
    ";ls -l \"~/.julia/dev\""
   ]
  },
  {
   "cell_type": "markdown",
   "metadata": {
    "colab_type": "text",
    "id": "pB4nAoM2MmlI"
   },
   "source": [
    "It also updated the `Hello` package's `Manifest.toml` file to ensure the package now uses the `Example` clone. You can see this using `]status`:"
   ]
  },
  {
   "cell_type": "code",
   "execution_count": 355,
   "metadata": {
    "colab": {
     "base_uri": "https://localhost:8080/",
     "height": 85
    },
    "colab_type": "code",
    "id": "UldZNewDMYaf",
    "outputId": "af7efd7a-61b0-4ce4-986b-f770d81016c0"
   },
   "outputs": [
    {
     "name": "stdout",
     "output_type": "stream",
     "text": [
      "\u001b[36m\u001b[1mProject \u001b[22m\u001b[39mHello v0.1.0\n",
      "\u001b[32m\u001b[1mStatus\u001b[22m\u001b[39m `/content/MyPackages/Hello/Project.toml`\n",
      " \u001b[90m [7876af07]\u001b[39m\u001b[37m Example v0.5.4 [`~/.julia/dev/Example`]\u001b[39m\n",
      " \u001b[90m [438e738f]\u001b[39m\u001b[37m PyCall v1.91.4\u001b[39m\n"
     ]
    }
   ],
   "source": [
    "]st"
   ]
  },
  {
   "cell_type": "markdown",
   "metadata": {
    "colab_type": "text",
    "id": "OY080wXKK85W"
   },
   "source": [
    "So you would now go ahead and edit the clone and fix the bug. Of course, you would also want to send a PR to the package's owners so the source package gets fixed. Once that happens, you can go back to the official `Example` package easily:"
   ]
  },
  {
   "cell_type": "code",
   "execution_count": 356,
   "metadata": {
    "colab": {
     "base_uri": "https://localhost:8080/",
     "height": 85
    },
    "colab_type": "code",
    "id": "6Ju_ehk6K4fi",
    "outputId": "51bc760e-8583-4897-a32a-b61abbdc6427"
   },
   "outputs": [
    {
     "name": "stderr",
     "output_type": "stream",
     "text": [
      "\u001b[32m\u001b[1m   Updating\u001b[22m\u001b[39m `/content/MyPackages/Hello/Project.toml`\n",
      " \u001b[90m [7876af07]\u001b[39m\u001b[95m ↓ Example v0.5.4 [`~/.julia/dev/Example`] ⇒ v0.5.3\u001b[39m\n",
      "\u001b[32m\u001b[1m   Updating\u001b[22m\u001b[39m `/content/MyPackages/Hello/Manifest.toml`\n",
      " \u001b[90m [7876af07]\u001b[39m\u001b[95m ↓ Example v0.5.4 [`~/.julia/dev/Example`] ⇒ v0.5.3\u001b[39m\n"
     ]
    }
   ],
   "source": [
    "]free Example"
   ]
  },
  {
   "cell_type": "code",
   "execution_count": 357,
   "metadata": {
    "colab": {
     "base_uri": "https://localhost:8080/",
     "height": 85
    },
    "colab_type": "code",
    "id": "gZNtvkp0NdQt",
    "outputId": "aebe4d82-7ca0-4b23-d80a-c7f482ee86f2"
   },
   "outputs": [
    {
     "name": "stdout",
     "output_type": "stream",
     "text": [
      "\u001b[36m\u001b[1mProject \u001b[22m\u001b[39mHello v0.1.0\n",
      "\u001b[32m\u001b[1mStatus\u001b[22m\u001b[39m `/content/MyPackages/Hello/Project.toml`\n",
      " \u001b[90m [7876af07]\u001b[39m\u001b[37m Example v0.5.3\u001b[39m\n",
      " \u001b[90m [438e738f]\u001b[39m\u001b[37m PyCall v1.91.4\u001b[39m\n"
     ]
    }
   ],
   "source": [
    "]st"
   ]
  },
  {
   "cell_type": "markdown",
   "metadata": {
    "colab_type": "text",
    "id": "bjk0y4x4X3OC"
   },
   "source": [
    "## Instantiating a Project\n",
    "If you want to run someone else's project and you want to make sure you are using the exact same package versions, you can clone the project, and assuming it has a `Manifest.toml` file, you can activate the project and run `]instantiate` to install all the appropriate packages. For example, let's instantiate the `Registrator.jl` project:"
   ]
  },
  {
   "cell_type": "code",
   "execution_count": 358,
   "metadata": {
    "colab": {
     "base_uri": "https://localhost:8080/",
     "height": 34
    },
    "colab_type": "code",
    "id": "ukq2x0oKYUzv",
    "outputId": "e1da02e2-81d4-4703-9859-aa7547cc3ffc"
   },
   "outputs": [
    {
     "name": "stderr",
     "output_type": "stream",
     "text": [
      "Cloning into 'Registrator.jl'...\n"
     ]
    }
   ],
   "source": [
    ";git clone https://github.com/JuliaRegistries/Registrator.jl"
   ]
  },
  {
   "cell_type": "code",
   "execution_count": 359,
   "metadata": {
    "colab": {
     "base_uri": "https://localhost:8080/",
     "height": 34
    },
    "colab_type": "code",
    "id": "eP8xWq-lYqIe",
    "outputId": "44d501cc-1fcf-48b9-f926-9097278fbfe1"
   },
   "outputs": [
    {
     "name": "stderr",
     "output_type": "stream",
     "text": [
      "\u001b[32m\u001b[1m Activating\u001b[22m\u001b[39m environment at `/content/Registrator.jl/Project.toml`\n"
     ]
    }
   ],
   "source": [
    "]activate Registrator.jl"
   ]
  },
  {
   "cell_type": "code",
   "execution_count": 360,
   "metadata": {
    "colab": {
     "base_uri": "https://localhost:8080/",
     "height": 459
    },
    "colab_type": "code",
    "id": "mWTuYYjPYtRV",
    "outputId": "bf51d7bd-4f9d-4bac-fa99-7269d84e9e35"
   },
   "outputs": [
    {
     "name": "stderr",
     "output_type": "stream",
     "text": [
      "\u001b[32m\u001b[1m  Installed\u001b[22m\u001b[39m TableTraits ───────────────── v1.0.0\n",
      "\u001b[32m\u001b[1m  Installed\u001b[22m\u001b[39m AutoHashEquals ────────────── v0.2.0\n",
      "\u001b[32m\u001b[1m  Installed\u001b[22m\u001b[39m Hiccup ────────────────────── v0.2.2\n",
      "\u001b[32m\u001b[1m  Installed\u001b[22m\u001b[39m DataAPI ───────────────────── v1.2.0\n",
      "\u001b[32m\u001b[1m  Installed\u001b[22m\u001b[39m Lazy ──────────────────────── v0.14.0\n",
      "\u001b[32m\u001b[1m  Installed\u001b[22m\u001b[39m WebSockets ────────────────── v1.5.2\n",
      "\u001b[32m\u001b[1m  Installed\u001b[22m\u001b[39m JSON2 ─────────────────────── v0.3.1\n",
      "\u001b[32m\u001b[1m  Installed\u001b[22m\u001b[39m HTTP ──────────────────────── v0.8.14\n",
      "\u001b[32m\u001b[1m  Installed\u001b[22m\u001b[39m IniFile ───────────────────── v0.5.0\n",
      "\u001b[32m\u001b[1m  Installed\u001b[22m\u001b[39m ZMQ ───────────────────────── v1.2.0\n",
      "\u001b[32m\u001b[1m  Installed\u001b[22m\u001b[39m GitForge ──────────────────── v0.1.5\n",
      "\u001b[32m\u001b[1m  Installed\u001b[22m\u001b[39m AssetRegistry ─────────────── v0.1.0\n",
      "\u001b[32m\u001b[1m  Installed\u001b[22m\u001b[39m TimeToLive ────────────────── v0.3.0\n",
      "\u001b[32m\u001b[1m  Installed\u001b[22m\u001b[39m DataValueInterfaces ───────── v1.0.0\n",
      "\u001b[32m\u001b[1m  Installed\u001b[22m\u001b[39m IteratorInterfaceExtensions ─ v1.0.0\n",
      "\u001b[32m\u001b[1m  Installed\u001b[22m\u001b[39m ZeroMQ_jll ────────────────── v4.3.2+2\n",
      "\u001b[32m\u001b[1m  Installed\u001b[22m\u001b[39m Tables ────────────────────── v1.0.4\n",
      "\u001b[32m\u001b[1m  Installed\u001b[22m\u001b[39m Mux ───────────────────────── v0.7.1\n",
      "\u001b[32m\u001b[1m  Installed\u001b[22m\u001b[39m Parsers ───────────────────── v1.0.2\n",
      "\u001b[32m\u001b[1m  Installed\u001b[22m\u001b[39m MbedTLS_jll ───────────────── v2.16.0+2\n",
      "\u001b[32m\u001b[1m  Installed\u001b[22m\u001b[39m Mustache ──────────────────── v1.0.2\n",
      "\u001b[32m\u001b[1m  Installed\u001b[22m\u001b[39m Pidfile ───────────────────── v1.1.0\n",
      "\u001b[32m\u001b[1m  Installed\u001b[22m\u001b[39m GitHub ────────────────────── v5.1.5\n",
      "\u001b[32m\u001b[1m  Installed\u001b[22m\u001b[39m RegistryTools ─────────────── v1.5.0\n",
      "######################################################################### 100.0%\n",
      "######################################################################### 100.0%\n"
     ]
    }
   ],
   "source": [
    "]instantiate"
   ]
  },
  {
   "cell_type": "markdown",
   "metadata": {
    "colab_type": "text",
    "id": "UoMg99bTtFDp"
   },
   "source": [
    "Usually, that's all you need to know about projects and packages, but let's look at bit under the hood, so you can handle less common cases."
   ]
  },
  {
   "cell_type": "markdown",
   "metadata": {
    "colab_type": "text",
    "id": "V8Y6A_IuepPI"
   },
   "source": [
    "## Load Path\n",
    "When you import a package, Julia searches for it in the environments listed in the `LOAD_PATH` array. An **environment** can be a project or a directory containing a bunch of packages directly. By default, the `LOAD_PATH` array contains three elements:"
   ]
  },
  {
   "cell_type": "code",
   "execution_count": 361,
   "metadata": {
    "colab": {
     "base_uri": "https://localhost:8080/",
     "height": 85
    },
    "colab_type": "code",
    "id": "wpSWi2epgdpk",
    "outputId": "a49e47d2-2c00-4ea4-9ccf-906848f171c8"
   },
   "outputs": [
    {
     "data": {
      "text/plain": [
       "3-element Array{String,1}:\n",
       " \"@\"\n",
       " \"@v#.#\"\n",
       " \"@stdlib\""
      ]
     },
     "execution_count": 361,
     "metadata": {
      "tags": []
     },
     "output_type": "execute_result"
    }
   ],
   "source": [
    "LOAD_PATH"
   ]
  },
  {
   "cell_type": "markdown",
   "metadata": {
    "colab_type": "text",
    "id": "hH-S7BL9iuN4"
   },
   "source": [
    "Here's what these elements mean:\n",
    "* `\"@\"` represents the active project, if any: that's the project activated via `--project`, `JULIA_PROJECT`, `]activate` or `Pkg.activate()`.\n",
    "* `\"@v#.#\"` represents the default shared project for the version of Julia we are running. That's why it is used by default when there is no active project.\n",
    "* `\"@stdlib\"` represents the standard library. This is not a project: it's a directory containing many packages."
   ]
  },
  {
   "cell_type": "markdown",
   "metadata": {
    "colab_type": "text",
    "id": "QHbG_HsOP8O7"
   },
   "source": [
    "If you want to see the actual paths, you can call `Base.load_path()`:"
   ]
  },
  {
   "cell_type": "code",
   "execution_count": 362,
   "metadata": {
    "colab": {
     "base_uri": "https://localhost:8080/",
     "height": 85
    },
    "colab_type": "code",
    "id": "oGya8XxwQDJz",
    "outputId": "4920e872-0a7f-44d6-f033-c8ef06ab03ee"
   },
   "outputs": [
    {
     "data": {
      "text/plain": [
       "3-element Array{String,1}:\n",
       " \"/content/Registrator.jl/Project.toml\"\n",
       " \"/root/.julia/environments/v1.4/Project.toml\"\n",
       " \"/usr/local/share/julia/stdlib/v1.4\""
      ]
     },
     "execution_count": 362,
     "metadata": {
      "tags": []
     },
     "output_type": "execute_result"
    }
   ],
   "source": [
    "Base.load_path()"
   ]
  },
  {
   "cell_type": "markdown",
   "metadata": {
    "colab_type": "text",
    "id": "ZaIw9vRxLVVt"
   },
   "source": [
    "You can change the load path if you want to. For example, if you want Julia to look only in the active project and in the standard library, without looking in the default project, then you can set the `JULIA_LOAD_PATH` environment variable to `\"@:@stdlib\"`."
   ]
  },
  {
   "cell_type": "markdown",
   "metadata": {
    "colab_type": "text",
    "id": "8EScSOrdb3ha"
   },
   "source": [
    "If you try to run `my_program3.jl` this way, it will successfully import `PyCall`, but it will fail to import `PyPlot`, since it is not listed in `Project.toml` (however, it would successfully import any package from the standard library):"
   ]
  },
  {
   "cell_type": "code",
   "execution_count": 363,
   "metadata": {
    "colab": {
     "base_uri": "https://localhost:8080/",
     "height": 187
    },
    "colab_type": "code",
    "id": "sN2NunpdLgKR",
    "outputId": "ed0993d7-2459-4ed3-9ef4-34776cbc33ed"
   },
   "outputs": [
    {
     "name": "stderr",
     "output_type": "stream",
     "text": [
      "ERROR: LoadError: ArgumentError: Package PyPlot not found in current path:\n",
      "- Run `import Pkg; Pkg.add(\"PyPlot\")` to install the PyPlot package.\n",
      "\n",
      "Stacktrace:\n",
      " [1] require(::Module, ::Symbol) at ./loading.jl:892\n",
      " [2] include(::Module, ::String) at ./Base.jl:377\n",
      " [3] exec_options(::Base.JLOptions) at ./client.jl:288\n",
      " [4] _start() at ./client.jl:484\n",
      "in expression starting at /content/my_program3.jl:2\n"
     ]
    },
    {
     "data": {
      "text/plain": [
       "ProcessFailedException(Base.Process[Process(`\u001b[4mjulia\u001b[24m \u001b[4m--project=my_project\u001b[24m \u001b[4mmy_program3.jl\u001b[24m`, ProcessExited(1))])"
      ]
     },
     "execution_count": 363,
     "metadata": {
      "tags": []
     },
     "output_type": "execute_result"
    }
   ],
   "source": [
    "try\n",
    "    withenv(\"JULIA_LOAD_PATH\"=>\"@:@stdlib\") do\n",
    "        run(`julia --project=my_project my_program3.jl`)\n",
    "    end\n",
    "catch ex\n",
    "    ex\n",
    "end"
   ]
  },
  {
   "cell_type": "markdown",
   "metadata": {
    "colab_type": "text",
    "id": "FrLpiVS2UG9S"
   },
   "source": [
    "You can also modify the `LOAD_PATH` array programmatically, for example to make all the packages in the `my_packages/` directory available to the project:"
   ]
  },
  {
   "cell_type": "code",
   "execution_count": 364,
   "metadata": {
    "colab": {
     "base_uri": "https://localhost:8080/",
     "height": 102
    },
    "colab_type": "code",
    "id": "8kGSkqsVULfC",
    "outputId": "46a6184a-8cd7-49c6-99bc-2544e8e63a1c"
   },
   "outputs": [
    {
     "data": {
      "text/plain": [
       "4-element Array{String,1}:\n",
       " \"@\"\n",
       " \"@v#.#\"\n",
       " \"@stdlib\"\n",
       " \"my_packages\""
      ]
     },
     "execution_count": 364,
     "metadata": {
      "tags": []
     },
     "output_type": "execute_result"
    }
   ],
   "source": [
    "push!(LOAD_PATH, \"my_packages\")"
   ]
  },
  {
   "cell_type": "markdown",
   "metadata": {
    "colab_type": "text",
    "id": "1_fpeCNoRARJ"
   },
   "source": [
    "Now any package added to this directory will be directly available to us:"
   ]
  },
  {
   "cell_type": "code",
   "execution_count": 365,
   "metadata": {
    "colab": {
     "base_uri": "https://localhost:8080/",
     "height": 68
    },
    "colab_type": "code",
    "id": "3C42rrfKQ01y",
    "outputId": "d9454fb2-aa21-461d-fc3d-73073dfb8ec5"
   },
   "outputs": [
    {
     "name": "stderr",
     "output_type": "stream",
     "text": [
      "\u001b[32m\u001b[1m Generating\u001b[22m\u001b[39m  project Hello2:\n",
      "    my_packages/Hello2/Project.toml\n",
      "    my_packages/Hello2/src/Hello2.jl\n"
     ]
    }
   ],
   "source": [
    "]generate my_packages/Hello2"
   ]
  },
  {
   "cell_type": "code",
   "execution_count": 366,
   "metadata": {
    "colab": {
     "base_uri": "https://localhost:8080/",
     "height": 68
    },
    "colab_type": "code",
    "id": "ClgC-rhWQ9XP",
    "outputId": "8a52d053-3168-4e99-d804-1e724df99618"
   },
   "outputs": [
    {
     "name": "stderr",
     "output_type": "stream",
     "text": [
      "┌ Info: Precompiling Hello2 [b76a3422-75bc-4a82-ad3b-dff89fdf93f4]\n",
      "└ @ Base loading.jl:1260\n"
     ]
    },
    {
     "name": "stdout",
     "output_type": "stream",
     "text": [
      "Hello World!"
     ]
    }
   ],
   "source": [
    "using Hello2\n",
    "Hello2.greet()"
   ]
  },
  {
   "cell_type": "markdown",
   "metadata": {
    "colab_type": "text",
    "id": "-kkX-WKARP0l"
   },
   "source": [
    "This is a convenience for development, as we didn't have to push this package to a repository or even add it to the project. However, it's just for development: once you're happy with your package, make sure to push it to a repo, and add it to the project normally."
   ]
  },
  {
   "cell_type": "markdown",
   "metadata": {
    "colab_type": "text",
    "id": "C1V5pYziAzWG"
   },
   "source": [
    "## Depots\n",
    "As we saw earlier, new packages you add to a project are placed in the `~/.julia/packages` directory, logs are placed in `~/.julia/logs`, and so on.\n",
    "\n",
    "A directory like `~/.julia` which contains `Pkg` related content is called a **depot**. Julia installs all new packages in the default depot, which is the first directory in the `DEPOT_PATH` array (this array can be modified manually in Julia, or set via the `JULIA_DEPOT_PATH` environment variable):"
   ]
  },
  {
   "cell_type": "code",
   "execution_count": 367,
   "metadata": {
    "colab": {
     "base_uri": "https://localhost:8080/",
     "height": 85
    },
    "colab_type": "code",
    "id": "r4y3Uarp-VXi",
    "outputId": "bc820ca0-9126-4423-c1a6-d05ddf04b858"
   },
   "outputs": [
    {
     "data": {
      "text/plain": [
       "3-element Array{String,1}:\n",
       " \"/root/.julia\"\n",
       " \"/usr/local/local/share/julia\"\n",
       " \"/usr/local/share/julia\""
      ]
     },
     "execution_count": 367,
     "metadata": {
      "tags": []
     },
     "output_type": "execute_result"
    }
   ],
   "source": [
    "DEPOT_PATH"
   ]
  },
  {
   "cell_type": "markdown",
   "metadata": {
    "colab_type": "text",
    "id": "pg_JLf9R-geB"
   },
   "source": [
    "The default depot needs to be writeable for the current user, since that's where new packages will be written to (as well as logs and other stuff). The other depots can be read-only: they're typically used for private package registries."
   ]
  },
  {
   "cell_type": "markdown",
   "metadata": {
    "colab_type": "text",
    "id": "lAJBZg_RXUqj"
   },
   "source": [
    "You can occasionally run the `]gc` command, which will remove all unused package versions (`Pkg` will use the logs to located existing projects)."
   ]
  },
  {
   "cell_type": "markdown",
   "metadata": {
    "colab_type": "text",
    "id": "1uhHgsN2WUG_"
   },
   "source": [
    "In summary: when some code runs `using Foo` or `import Foo`, the `LOAD_PATH` is used to determine _which_ specific package `Foo` refers to, while the `DEPOT_PATH` is used to determine _where_ it is. The exception is when the `LOAD_PATH` contains directories which directly contain packages: for these packages, the `DEPOT_PATH` is not used."
   ]
  },
  {
   "cell_type": "markdown",
   "metadata": {
    "colab_type": "text",
    "id": "jgeH4A06IIX4"
   },
   "source": [
    "# Parallel Computing\n",
    "Julia supports coroutines (aka green threads), multithreading (without a [GIL](https://en.wikipedia.org/wiki/Global_interpreter_lock#:~:text=A%20global%20interpreter%20lock%20(GIL,on%20a%20multi%2Dcore%20processor.) like CPython!), multiprocessing and distributed computing."
   ]
  },
  {
   "cell_type": "markdown",
   "metadata": {
    "colab_type": "text",
    "id": "oVCHhzbYFUv5"
   },
   "source": [
    "## Coroutines\n",
    "Let's go back to the `fibonacci()` generator function:"
   ]
  },
  {
   "cell_type": "code",
   "execution_count": 368,
   "metadata": {
    "colab": {
     "base_uri": "https://localhost:8080/",
     "height": 187
    },
    "colab_type": "code",
    "id": "LHQ6czbxItEw",
    "outputId": "d2570925-32ed-486c-ccb7-53fd06b6ee2c"
   },
   "outputs": [
    {
     "name": "stdout",
     "output_type": "stream",
     "text": [
      "1\n",
      "1\n",
      "2\n",
      "3\n",
      "5\n",
      "8\n",
      "13\n",
      "21\n",
      "34\n",
      "55\n"
     ]
    }
   ],
   "source": [
    "function fibonacci(n)\n",
    "    Channel() do ch\n",
    "        a, b = 1, 1\n",
    "        for i in 1:n\n",
    "            put!(ch, a)\n",
    "            a, b = b, a + b\n",
    "        end\n",
    "    end\n",
    "end\n",
    "\n",
    "for f in fibonacci(10)\n",
    "    println(f)\n",
    "end"
   ]
  },
  {
   "cell_type": "markdown",
   "metadata": {
    "colab_type": "text",
    "id": "mgDS2AjiVljr"
   },
   "source": [
    "Under the hood, `Channel() do ... end` creates a `Channel` object, and spawns an asynchronous `Task` to execute the code in the `do ... end` block. The task is scheduled to execute immediately, but when it calls the `put!()` function on the channel to yield a value, it blocks until another task calls the `take!()` function to grab that value. You do not see the `take!()` function explicitly in this code example, since it is executed automatically in the `for` loop, in the main task. To demonstrate this, we can just call the `take!()` function 10 times to get all the items from the channel:"
   ]
  },
  {
   "cell_type": "code",
   "execution_count": 369,
   "metadata": {
    "colab": {
     "base_uri": "https://localhost:8080/",
     "height": 187
    },
    "colab_type": "code",
    "id": "-tff7DpqbK-J",
    "outputId": "cc371eca-0c65-4501-e84f-ab9b3e55c737"
   },
   "outputs": [
    {
     "name": "stdout",
     "output_type": "stream",
     "text": [
      "1\n",
      "1\n",
      "2\n",
      "3\n",
      "5\n",
      "8\n",
      "13\n",
      "21\n",
      "34\n",
      "55\n"
     ]
    }
   ],
   "source": [
    "ch = fibonacci(10)\n",
    "for i in 1:10\n",
    "    println(take!(ch))\n",
    "end"
   ]
  },
  {
   "cell_type": "markdown",
   "metadata": {
    "colab_type": "text",
    "id": "pUZjr1wHdc5y"
   },
   "source": [
    "This channel is bound to the task, therefore it is automatically closed when the task ends. So if we try to get one more element, we will get an exception:"
   ]
  },
  {
   "cell_type": "code",
   "execution_count": 370,
   "metadata": {
    "colab": {
     "base_uri": "https://localhost:8080/",
     "height": 34
    },
    "colab_type": "code",
    "id": "9eJjrbrHdU33",
    "outputId": "7c9de9c3-a345-4ef1-bc19-417d3798a92f"
   },
   "outputs": [
    {
     "data": {
      "text/plain": [
       "InvalidStateException(\"Channel is closed.\", :closed)"
      ]
     },
     "execution_count": 370,
     "metadata": {
      "tags": []
     },
     "output_type": "execute_result"
    }
   ],
   "source": [
    "try\n",
    "    take!(ch)\n",
    "catch ex\n",
    "    ex\n",
    "end"
   ]
  },
  {
   "cell_type": "markdown",
   "metadata": {
    "colab_type": "text",
    "id": "VLvvfxZznXps"
   },
   "source": [
    "Here is a more explicit version of the `fibonacci()` function:"
   ]
  },
  {
   "cell_type": "code",
   "execution_count": 371,
   "metadata": {
    "colab": {
     "base_uri": "https://localhost:8080/",
     "height": 34
    },
    "colab_type": "code",
    "id": "FSP1vZjheZDJ",
    "outputId": "1969105f-4b28-4d3d-df88-b1b4ff4fbffa"
   },
   "outputs": [
    {
     "data": {
      "text/plain": [
       "fibonacci (generic function with 1 method)"
      ]
     },
     "execution_count": 371,
     "metadata": {
      "tags": []
     },
     "output_type": "execute_result"
    }
   ],
   "source": [
    "function fibonacci(n)\n",
    "  function generator_func(ch, n)\n",
    "    a, b = 1, 1\n",
    "    for i in 1:n\n",
    "        put!(ch, a)\n",
    "        a, b = b, a + b\n",
    "    end\n",
    "  end\n",
    "  ch = Channel()\n",
    "  task = @task generator_func(ch, n) # creates a task without starting it\n",
    "  bind(ch, task) # the channel will be closed when the task ends\n",
    "  schedule(task) # start running the task asynchronously\n",
    "  ch\n",
    "end"
   ]
  },
  {
   "cell_type": "markdown",
   "metadata": {
    "colab_type": "text",
    "id": "-KnzQbUGonIJ"
   },
   "source": [
    "And here is a more explicit version of the `for` loop:"
   ]
  },
  {
   "cell_type": "code",
   "execution_count": 372,
   "metadata": {
    "colab": {
     "base_uri": "https://localhost:8080/",
     "height": 187
    },
    "colab_type": "code",
    "id": "ir3FUJAEoD5j",
    "outputId": "3e862089-d9a0-40b8-bb82-91a24480c88c"
   },
   "outputs": [
    {
     "name": "stdout",
     "output_type": "stream",
     "text": [
      "1\n",
      "1\n",
      "2\n",
      "3\n",
      "5\n",
      "8\n",
      "13\n",
      "21\n",
      "34\n",
      "55\n"
     ]
    }
   ],
   "source": [
    "ch = fibonacci(10)\n",
    "while isopen(ch)\n",
    "  value = take!(ch)\n",
    "  println(value)\n",
    "end"
   ]
  },
  {
   "cell_type": "markdown",
   "metadata": {
    "colab_type": "text",
    "id": "YTwMO7gxpCSa"
   },
   "source": [
    "Note that asynchronous tasks (also called \"coroutines\" or \"green threads\") are not actually run in parallel: they cooperate to alternate execution. Some functions, such as `put!()`, `take!()`, and many I/O functions, interrupt the current task's execution, at which point it lets Julia's scheduler decide which task should resume its execution. This is just like Python's coroutines."
   ]
  },
  {
   "cell_type": "markdown",
   "metadata": {
    "colab_type": "text",
    "id": "yTiiI6ZfbKKQ"
   },
   "source": [
    "For more details on coroutines and tasks, see [the manual](https://docs.julialang.org/en/v1/manual/control-flow/#man-tasks-1)."
   ]
  },
  {
   "cell_type": "markdown",
   "metadata": {
    "colab_type": "text",
    "id": "N9dzuKC2qFRL"
   },
   "source": [
    "## Multithreading\n",
    "Julia also supports multithreading. Currently, you need to specify the number of O.S. threads upon startup, by setting the `JULIA_NUM_THREADS` environment variable (or setting the `-t` argument in Julia 1.5+). In the first cell, we configured the IJulia kernel so that set environment variable is set:"
   ]
  },
  {
   "cell_type": "code",
   "execution_count": 373,
   "metadata": {
    "colab": {
     "base_uri": "https://localhost:8080/",
     "height": 34
    },
    "colab_type": "code",
    "id": "mBYUWpQpDBzS",
    "outputId": "4b93ccaf-a04c-43d1-d32f-f0558fc9fc91"
   },
   "outputs": [
    {
     "data": {
      "text/plain": [
       "\"4\""
      ]
     },
     "execution_count": 373,
     "metadata": {
      "tags": []
     },
     "output_type": "execute_result"
    }
   ],
   "source": [
    "ENV[\"JULIA_NUM_THREADS\"]"
   ]
  },
  {
   "cell_type": "markdown",
   "metadata": {
    "colab_type": "text",
    "id": "8AK8aRLqEhJt"
   },
   "source": [
    "The actual number of threads started by Julia may be lower than that, as it is limited to the number of available cores on the machine (thanks to hyperthreading, each physical core may run two threads). Here is the number of threads that were actually started:"
   ]
  },
  {
   "cell_type": "code",
   "execution_count": 374,
   "metadata": {
    "colab": {
     "base_uri": "https://localhost:8080/",
     "height": 34
    },
    "colab_type": "code",
    "id": "KjEv4FOwEQhl",
    "outputId": "8c14d637-f9fd-43b6-85b0-a8667cf2bece"
   },
   "outputs": [
    {
     "data": {
      "text/plain": [
       "2"
      ]
     },
     "execution_count": 374,
     "metadata": {
      "tags": []
     },
     "output_type": "execute_result"
    }
   ],
   "source": [
    "using Base.Threads\n",
    "nthreads()"
   ]
  },
  {
   "cell_type": "markdown",
   "metadata": {
    "colab_type": "text",
    "id": "tc3bXp57DINZ"
   },
   "source": [
    "Now let's run 10 tasks across these threads:"
   ]
  },
  {
   "cell_type": "code",
   "execution_count": 375,
   "metadata": {
    "colab": {
     "base_uri": "https://localhost:8080/",
     "height": 357
    },
    "colab_type": "code",
    "id": "ic1ecJ-1qatN",
    "outputId": "55fd971f-c402-4f49-ad4e-0909723fc04c"
   },
   "outputs": [
    {
     "name": "stdout",
     "output_type": "stream",
     "text": [
      "thread #1 is starting task #1\n",
      "thread #2 is starting task #6\n",
      "thread #2 is finished\n",
      "thread #2 is starting task #7\n",
      "thread #1 is finished\n",
      "thread #1 is starting task #2\n",
      "thread #2 is finished\n",
      "thread #2 is starting task #8\n",
      "thread #1 is finished\n",
      "thread #1 is starting task #3\n",
      "thread #1 is finished\n",
      "thread #1 is starting task #4\n",
      "thread #2 is finished\n",
      "thread #2 is starting task #9\n",
      "thread #1 is finished\n",
      "thread #1 is starting task #5\n",
      "thread #1 is finished\n",
      "thread #2 is finished\n",
      "thread #2 is starting task #10\n",
      "thread #2 is finished\n"
     ]
    }
   ],
   "source": [
    "@threads for i in 1:10\n",
    "    println(\"thread #\", threadid(), \" is starting task #$i\")\n",
    "    sleep(rand()) # pretend we're actually working\n",
    "    println(\"thread #\", threadid(), \" is finished\")\n",
    "end"
   ]
  },
  {
   "cell_type": "markdown",
   "metadata": {
    "colab_type": "text",
    "id": "SHpLG3h7LVMm"
   },
   "source": [
    "Here is a multithreaded version of the `estimate_pi()` function. Each thread computes part of the sum, and the parts are added at the end:"
   ]
  },
  {
   "cell_type": "code",
   "execution_count": 376,
   "metadata": {
    "colab": {
     "base_uri": "https://localhost:8080/",
     "height": 51
    },
    "colab_type": "code",
    "id": "mDHzyNqdJswG",
    "outputId": "40f3533e-59ad-4796-dde7-e71e771f72a3"
   },
   "outputs": [
    {
     "name": "stdout",
     "output_type": "stream",
     "text": [
      "  128.853 ms (16 allocations: 1.63 KiB)\n"
     ]
    },
    {
     "data": {
      "text/plain": [
       "3.1415926635894196"
      ]
     },
     "execution_count": 376,
     "metadata": {
      "tags": []
     },
     "output_type": "execute_result"
    }
   ],
   "source": [
    "function parallel_estimate_pi(n)\n",
    "    s = zeros(nthreads())\n",
    "    nt = n ÷ nthreads()\n",
    "    @threads for t in 1:nthreads()\n",
    "        for i in (1:nt) .+ nt*(t - 1)\n",
    "          @inbounds s[t] += (isodd(i) ? -1 : 1) / (2i + 1)\n",
    "        end\n",
    "    end\n",
    "    return 4.0 * (1.0 + sum(s))\n",
    "end\n",
    "\n",
    "@btime parallel_estimate_pi(100_000_000)"
   ]
  },
  {
   "cell_type": "markdown",
   "metadata": {
    "colab_type": "text",
    "id": "3Ql0KLRNSqNg"
   },
   "source": [
    "The `@inbounds` macro is an optimization: it tells the Julia compiler not to add any bounds check when accessing the array. It's safe in this case since the `s` array has one element per thread, and `t` varies from `1` to `nthreads()`, so there is no risk for `s[t]` to be out of bounds."
   ]
  },
  {
   "cell_type": "markdown",
   "metadata": {
    "colab_type": "text",
    "id": "tVftN7gXQCOh"
   },
   "source": [
    "Let's compare this with the single-threaded implementation:"
   ]
  },
  {
   "cell_type": "code",
   "execution_count": 377,
   "metadata": {
    "colab": {
     "base_uri": "https://localhost:8080/",
     "height": 51
    },
    "colab_type": "code",
    "id": "F2Yfz67kK2xX",
    "outputId": "f1dee2aa-984b-48e7-cd8a-eebd2e8e224e"
   },
   "outputs": [
    {
     "name": "stdout",
     "output_type": "stream",
     "text": [
      "  134.263 ms (0 allocations: 0 bytes)\n"
     ]
    },
    {
     "data": {
      "text/plain": [
       "3.141592663589326"
      ]
     },
     "execution_count": 377,
     "metadata": {
      "tags": []
     },
     "output_type": "execute_result"
    }
   ],
   "source": [
    "@btime estimate_pi(100_000_000)"
   ]
  },
  {
   "cell_type": "markdown",
   "metadata": {
    "colab_type": "text",
    "id": "BnOKCxlNQX01"
   },
   "source": [
    "If you are running this notebook on Colab, the parallel implementation is probably no faster than the single-threaded one. That's because the Colab Runtime only has a single CPU, so there is no benefit from multithreading (plus there is a bit of overhead for managing threads). However, on my 8-core machine, using 16 threads, the parallel implementation is about 6 times faster than the single-threaded one."
   ]
  },
  {
   "cell_type": "markdown",
   "metadata": {
    "colab_type": "text",
    "id": "nOUeRI6DRbmo"
   },
   "source": [
    "Julia has a `mapreduce()` function which makes it easy to implement functions like `parallel_estimate_pi()`:"
   ]
  },
  {
   "cell_type": "code",
   "execution_count": 378,
   "metadata": {
    "colab": {
     "base_uri": "https://localhost:8080/",
     "height": 34
    },
    "colab_type": "code",
    "id": "c04i5fsvO5m5",
    "outputId": "6058add9-2f60-4408-f951-6a2bbe613687"
   },
   "outputs": [
    {
     "data": {
      "text/plain": [
       "parallel_estimate_pi2 (generic function with 1 method)"
      ]
     },
     "execution_count": 378,
     "metadata": {
      "tags": []
     },
     "output_type": "execute_result"
    }
   ],
   "source": [
    "function parallel_estimate_pi2(n)\n",
    "    4.0 * mapreduce(i -> (isodd(i) ? -1 : 1) / (2i + 1), +, 0:n)\n",
    "end"
   ]
  },
  {
   "cell_type": "code",
   "execution_count": 379,
   "metadata": {
    "colab": {
     "base_uri": "https://localhost:8080/",
     "height": 51
    },
    "colab_type": "code",
    "id": "ZHKduTA-PW5T",
    "outputId": "6276a5dd-8855-4383-d47e-cd942eac79b5"
   },
   "outputs": [
    {
     "name": "stdout",
     "output_type": "stream",
     "text": [
      "  106.664 ms (0 allocations: 0 bytes)\n"
     ]
    },
    {
     "data": {
      "text/plain": [
       "3.1415926635897917"
      ]
     },
     "execution_count": 379,
     "metadata": {
      "tags": []
     },
     "output_type": "execute_result"
    }
   ],
   "source": [
    "@btime parallel_estimate_pi2(100_000_000)"
   ]
  },
  {
   "cell_type": "markdown",
   "metadata": {
    "colab_type": "text",
    "id": "1Lwb_H7vTeCg"
   },
   "source": [
    "The `mapreduce()` function is well optimized, so it's about twice faster than `parallel_estimate_pi()`."
   ]
  },
  {
   "cell_type": "markdown",
   "metadata": {
    "colab_type": "text",
    "id": "g0PXPosbamtW"
   },
   "source": [
    "You can also spawn a task using `Threads.@spawn`. It will get executed on any one of the running threads (it will not start a new thread):"
   ]
  },
  {
   "cell_type": "code",
   "execution_count": 380,
   "metadata": {
    "colab": {
     "base_uri": "https://localhost:8080/",
     "height": 85
    },
    "colab_type": "code",
    "id": "w2YYrw3IYX4v",
    "outputId": "fef92ece-9ee0-40b2-a1c0-5b11d7d0d8c3"
   },
   "outputs": [
    {
     "name": "stdout",
     "output_type": "stream",
     "text": [
      "Hello!\n",
      "Thread starting\n",
      "Thread stopping\n",
      "The result is: 42\n"
     ]
    }
   ],
   "source": [
    "task = Threads.@spawn begin\n",
    "    println(\"Thread starting\")\n",
    "    sleep(1)\n",
    "    println(\"Thread stopping\")\n",
    "    42 # result\n",
    "end\n",
    "\n",
    "println(\"Hello!\")\n",
    "\n",
    "println(\"The result is: \", fetch(task))\n"
   ]
  },
  {
   "cell_type": "markdown",
   "metadata": {
    "colab_type": "text",
    "id": "pbv40Ib7bF7v"
   },
   "source": [
    "The `fetch()` function waits for the thread to finish, and fetches the result. You can also just call `wait()` if you don't need the result."
   ]
  },
  {
   "cell_type": "markdown",
   "metadata": {
    "colab_type": "text",
    "id": "OsK9bt-Hb2IS"
   },
   "source": [
    "Last but not least, you can use channels to synchronize and communicate across tasks, even if they are running across separate threads:"
   ]
  },
  {
   "cell_type": "code",
   "execution_count": 381,
   "metadata": {
    "colab": {
     "base_uri": "https://localhost:8080/",
     "height": 136
    },
    "colab_type": "code",
    "id": "sgdNzgkaceEz",
    "outputId": "370dea30-fb7e-4d53-df11-d2a94658101f"
   },
   "outputs": [
    {
     "name": "stdout",
     "output_type": "stream",
     "text": [
      "Received 1\n",
      "Received 4\n",
      "Received 9\n",
      "Received 16\n",
      "Finished sending!\n",
      "Received 25\n",
      "Finished receiving!\n"
     ]
    }
   ],
   "source": [
    "ch = Channel()\n",
    "task1 = Threads.@spawn begin\n",
    "    for i in 1:5\n",
    "        sleep(rand())\n",
    "        put!(ch, i^2)\n",
    "    end\n",
    "    println(\"Finished sending!\")\n",
    "    close(ch)\n",
    "end\n",
    "\n",
    "task2 = Threads.@spawn begin\n",
    "    foreach(v->println(\"Received $v\"), ch)\n",
    "    println(\"Finished receiving!\")\n",
    "end\n",
    "\n",
    "wait(task2)"
   ]
  },
  {
   "cell_type": "markdown",
   "metadata": {
    "colab_type": "text",
    "id": "eLOdUrTcV1Lh"
   },
   "source": [
    "For more details about multithreading, check out [this page](https://docs.julialang.org/en/v1/manual/parallel-computing/#man-multithreading-1)."
   ]
  },
  {
   "cell_type": "markdown",
   "metadata": {
    "colab_type": "text",
    "id": "0JfyJjTXX1AM"
   },
   "source": [
    "## Multiprocessing & Distributed Programming\n",
    "Julia can spawn multiple Julia processes upon startup if you specify the number of processes via the `-p` argument. You can also spawn extra processes from Julia itself:"
   ]
  },
  {
   "cell_type": "code",
   "execution_count": 382,
   "metadata": {
    "colab": {
     "base_uri": "https://localhost:8080/",
     "height": 102
    },
    "colab_type": "code",
    "id": "JtqG4qIhX5Sw",
    "outputId": "9c68c284-3dcf-4f85-f7fe-6023015eac56"
   },
   "outputs": [
    {
     "data": {
      "text/plain": [
       "4-element Array{Int64,1}:\n",
       " 2\n",
       " 3\n",
       " 4\n",
       " 5"
      ]
     },
     "execution_count": 382,
     "metadata": {
      "tags": []
     },
     "output_type": "execute_result"
    }
   ],
   "source": [
    "using Distributed\n",
    "addprocs(4)\n",
    "workers() # array of worker process ids"
   ]
  },
  {
   "cell_type": "markdown",
   "metadata": {
    "colab_type": "text",
    "id": "WD9hcmhGfraw"
   },
   "source": [
    "The main process has id 1:"
   ]
  },
  {
   "cell_type": "code",
   "execution_count": 383,
   "metadata": {
    "colab": {
     "base_uri": "https://localhost:8080/",
     "height": 34
    },
    "colab_type": "code",
    "id": "TlsjSMFZe3Ae",
    "outputId": "61f1816e-079c-4113-ff93-d349ed13f792"
   },
   "outputs": [
    {
     "data": {
      "text/plain": [
       "1"
      ]
     },
     "execution_count": 383,
     "metadata": {
      "tags": []
     },
     "output_type": "execute_result"
    }
   ],
   "source": [
    "myid()"
   ]
  },
  {
   "cell_type": "markdown",
   "metadata": {
    "colab_type": "text",
    "id": "lAS3Q8ohfvwg"
   },
   "source": [
    "The `@everywhere` macro lets you run any code on all workers:"
   ]
  },
  {
   "cell_type": "code",
   "execution_count": 384,
   "metadata": {
    "colab": {
     "base_uri": "https://localhost:8080/",
     "height": 102
    },
    "colab_type": "code",
    "id": "lmhHLhtbenY5",
    "outputId": "90f1d535-9a9e-4856-98a6-d2fa9245809a"
   },
   "outputs": [
    {
     "name": "stdout",
     "output_type": "stream",
     "text": [
      "Hi! I'm worker 1\n",
      "      From worker 4:\tHi! I'm worker 4\n",
      "      From worker 3:\tHi! I'm worker 3\n",
      "      From worker 2:\tHi! I'm worker 2\n",
      "      From worker 5:\tHi! I'm worker 5\n"
     ]
    }
   ],
   "source": [
    "@everywhere println(\"Hi! I'm worker $(myid())\")"
   ]
  },
  {
   "cell_type": "markdown",
   "metadata": {
    "colab_type": "text",
    "id": "cyQQ0Td2hAuQ"
   },
   "source": [
    "You can also execute code on a particular worker by using `@spawnat <worker id> <statement>`:"
   ]
  },
  {
   "cell_type": "code",
   "execution_count": 385,
   "metadata": {
    "colab": {
     "base_uri": "https://localhost:8080/",
     "height": 34
    },
    "colab_type": "code",
    "id": "Mmc1-zfBgsur",
    "outputId": "4b2a4b2b-f060-40ea-b86e-ce54835dc80a"
   },
   "outputs": [
    {
     "data": {
      "text/plain": [
       "Future(3, 1, 14, nothing)"
      ]
     },
     "execution_count": 385,
     "metadata": {
      "tags": []
     },
     "output_type": "execute_result"
    }
   ],
   "source": [
    "@spawnat 3 println(\"Hi! I'm worker $(myid())\")"
   ]
  },
  {
   "cell_type": "markdown",
   "metadata": {
    "colab_type": "text",
    "id": "nZaV4ptbk4sB"
   },
   "source": [
    "If you specify `:any` instead of a worker id, Julia chooses the worker for you:"
   ]
  },
  {
   "cell_type": "code",
   "execution_count": 386,
   "metadata": {
    "colab": {
     "base_uri": "https://localhost:8080/",
     "height": 51
    },
    "colab_type": "code",
    "id": "i6C7ydoBkyln",
    "outputId": "bdce4dc3-fbec-42f8-a270-6676e69ed3c0"
   },
   "outputs": [
    {
     "name": "stdout",
     "output_type": "stream",
     "text": [
      "      From worker 3:\tHi! I'm worker 3\n"
     ]
    },
    {
     "data": {
      "text/plain": [
       "Future(2, 1, 15, nothing)"
      ]
     },
     "execution_count": 386,
     "metadata": {
      "tags": []
     },
     "output_type": "execute_result"
    }
   ],
   "source": [
    "@spawnat :any println(\"Hi! I'm worker $(myid())\")"
   ]
  },
  {
   "cell_type": "markdown",
   "metadata": {
    "colab_type": "text",
    "id": "fZMDIATZg9Ug"
   },
   "source": [
    "Both `@everywhere` and `@spawnat` return immediately. The output of `@spawnat` is a `Future` object. You can call `fetch()` on this object to wait for the result:"
   ]
  },
  {
   "cell_type": "code",
   "execution_count": 387,
   "metadata": {
    "colab": {
     "base_uri": "https://localhost:8080/",
     "height": 34
    },
    "colab_type": "code",
    "id": "Ml5TBZLQf2oY",
    "outputId": "91af772e-3491-44d4-9146-9b81a13ebac0"
   },
   "outputs": [
    {
     "data": {
      "text/plain": [
       "10"
      ]
     },
     "execution_count": 387,
     "metadata": {
      "tags": []
     },
     "output_type": "execute_result"
    }
   ],
   "source": [
    "result = @spawnat 3 1+2+3+4\n",
    "fetch(result)"
   ]
  },
  {
   "cell_type": "markdown",
   "metadata": {
    "colab_type": "text",
    "id": "f8rR6jBdhuvT"
   },
   "source": [
    "If you import some package in the main process, it is <u>not</u> automatically imported in the workers. For example, the following code fails because the worker does not know what `pyimport` is:"
   ]
  },
  {
   "cell_type": "code",
   "execution_count": 388,
   "metadata": {
    "colab": {
     "base_uri": "https://localhost:8080/",
     "height": 71
    },
    "colab_type": "code",
    "id": "s89GQtv5iNfP",
    "outputId": "361aa179-938b-4c80-bce3-f9ddd01f35dd"
   },
   "outputs": [
    {
     "name": "stdout",
     "output_type": "stream",
     "text": [
      "      From worker 2:\tHi! I'm worker 2\n"
     ]
    },
    {
     "data": {
      "text/plain": [
       "RemoteException(4, CapturedException(UndefVarError(:pyimport), Any[(#121 at macros.jl:87, 1), (#101 at process_messages.jl:290, 1), (run_work_thunk at process_messages.jl:79, 1), (run_work_thunk at process_messages.jl:88, 1), (#94 at task.jl:358, 1)]))"
      ]
     },
     "execution_count": 388,
     "metadata": {
      "tags": []
     },
     "output_type": "execute_result"
    }
   ],
   "source": [
    "using PyCall\n",
    "\n",
    "result = @spawnat 4 (np = pyimport(\"numpy\"); np.log(10))\n",
    "\n",
    "try\n",
    "    fetch(result)\n",
    "catch ex\n",
    "    ex\n",
    "end"
   ]
  },
  {
   "cell_type": "markdown",
   "metadata": {
    "colab_type": "text",
    "id": "N-wFnpu7inDg"
   },
   "source": [
    "You must use `@everywhere` or `@spawnat` to import the packages you need in each worker:"
   ]
  },
  {
   "cell_type": "code",
   "execution_count": 389,
   "metadata": {
    "colab": {
     "base_uri": "https://localhost:8080/",
     "height": 34
    },
    "colab_type": "code",
    "id": "eseDsHvzna1R",
    "outputId": "3c9d9bad-d2d5-465e-f2b5-bd68e35f7b3e"
   },
   "outputs": [
    {
     "data": {
      "text/plain": [
       "2.302585092994046"
      ]
     },
     "execution_count": 389,
     "metadata": {
      "tags": []
     },
     "output_type": "execute_result"
    }
   ],
   "source": [
    "@everywhere using PyCall\n",
    "\n",
    "result = @spawnat 4 (np = pyimport(\"numpy\"); np.log(10))\n",
    "\n",
    "fetch(result)"
   ]
  },
  {
   "cell_type": "markdown",
   "metadata": {
    "colab_type": "text",
    "id": "Nzk3gbLOnqTx"
   },
   "source": [
    "Similarly, if you define a function in the main process, it is <u>not</u> automatically available in the workers. You must define the function in every worker:"
   ]
  },
  {
   "cell_type": "code",
   "execution_count": 390,
   "metadata": {
    "colab": {
     "base_uri": "https://localhost:8080/",
     "height": 34
    },
    "colab_type": "code",
    "id": "vrvbWhDMnzdX",
    "outputId": "8f7103d8-4095-4f66-88d7-06854b21cc3e"
   },
   "outputs": [
    {
     "data": {
      "text/plain": [
       "42"
      ]
     },
     "execution_count": 390,
     "metadata": {
      "tags": []
     },
     "output_type": "execute_result"
    }
   ],
   "source": [
    "@everywhere addtwo(n) = n + 2\n",
    "result = @spawnat 4 addtwo(40)\n",
    "fetch(result)"
   ]
  },
  {
   "cell_type": "markdown",
   "metadata": {
    "colab_type": "text",
    "id": "9skIo6pnoikr"
   },
   "source": [
    "You can pass a `Future` to `@everywhere` or `@spawnat`, as long as you wrap it in a `fetch()` function:"
   ]
  },
  {
   "cell_type": "code",
   "execution_count": 391,
   "metadata": {
    "colab": {
     "base_uri": "https://localhost:8080/",
     "height": 119
    },
    "colab_type": "code",
    "id": "IjovCqk7n_cu",
    "outputId": "8c28e447-69cf-4b5b-aa73-ea57e8ec57cd"
   },
   "outputs": [
    {
     "data": {
      "text/plain": [
       "5-element Array{Float64,1}:\n",
       " 4.475589942138973\n",
       " 3.7844448153428067\n",
       " 6.199227766558075\n",
       " 8.66410018066203\n",
       " 3.364462310811107"
      ]
     },
     "execution_count": 391,
     "metadata": {
      "tags": []
     },
     "output_type": "execute_result"
    }
   ],
   "source": [
    "M = @spawnat 2 rand(5)\n",
    "result = @spawnat 3 fetch(M) .* 10.0\n",
    "fetch(result)"
   ]
  },
  {
   "cell_type": "markdown",
   "metadata": {
    "colab_type": "text",
    "id": "H4YeovYto60s"
   },
   "source": [
    "In this example, worker 2 creates a random array, then worker 3 fetches this array and multiplies each element by 10, then the main process fetches the result and displays it."
   ]
  },
  {
   "cell_type": "markdown",
   "metadata": {
    "colab_type": "text",
    "id": "nUl0Nj9dV-IW"
   },
   "source": [
    "## GPU\n",
    "Julia has excellent GPU support. As you may know, GPUs are devices which can run thousands of threads in parallel. Each thread is slower and more limited than on a CPU, but there are so many of them that plenty of tasks can be executed much faster on a GPU than on a CPU, provided these tasks can be parallelized.\n",
    "\n",
    "Let's check which GPU device is installed:"
   ]
  },
  {
   "cell_type": "code",
   "execution_count": 392,
   "metadata": {
    "colab": {
     "base_uri": "https://localhost:8080/",
     "height": 357
    },
    "colab_type": "code",
    "id": "DTKc9IFB-eum",
    "outputId": "f6c373d7-9597-4c6f-dca5-d869af5a1f31"
   },
   "outputs": [
    {
     "name": "stdout",
     "output_type": "stream",
     "text": [
      "Thu Jul  2 00:08:11 2020       \n",
      "+-----------------------------------------------------------------------------+\n",
      "| NVIDIA-SMI 450.36.06    Driver Version: 418.67       CUDA Version: 10.1     |\n",
      "|-------------------------------+----------------------+----------------------+\n",
      "| GPU  Name        Persistence-M| Bus-Id        Disp.A | Volatile Uncorr. ECC |\n",
      "| Fan  Temp  Perf  Pwr:Usage/Cap|         Memory-Usage | GPU-Util  Compute M. |\n",
      "|                               |                      |               MIG M. |\n",
      "|===============================+======================+======================|\n",
      "|   0  Tesla P100-PCIE...  Off  | 00000000:00:04.0 Off |                    0 |\n",
      "| N/A   33C    P0    26W / 250W |      0MiB / 16280MiB |      0%      Default |\n",
      "|                               |                      |                 ERR! |\n",
      "+-------------------------------+----------------------+----------------------+\n",
      "                                                                               \n",
      "+-----------------------------------------------------------------------------+\n",
      "| Processes:                                                                  |\n",
      "|  GPU   GI   CI        PID   Type   Process name                  GPU Memory |\n",
      "|        ID   ID                                                   Usage      |\n",
      "|=============================================================================|\n",
      "|  No running processes found                                                 |\n",
      "+-----------------------------------------------------------------------------+\n"
     ]
    }
   ],
   "source": [
    ";nvidia-smi"
   ]
  },
  {
   "cell_type": "markdown",
   "metadata": {
    "colab_type": "text",
    "id": "ULS7Jn6vws2-"
   },
   "source": [
    "If you're running on Colab, your runtime will generally have an Nvidia Tesla K80 GPU with 12GB of RAM installed, but sometimes other GPUs like Nvidia Tesla T4 16GB, or Nvidia Tesla P100).\n",
    "\n",
    "If no GPU is detected, go to _Runtime_ > _Change runtime type_, set _Hardware accelerator_ to _GPU_, then go to _Runtime_ > _Factory reset runtime_, then reinstall Julia by running the first cell again, then reload the page and come back here). If you're running on your own machine, make sure you have a compatible GPU card installed, with the appropriate drivers."
   ]
  },
  {
   "cell_type": "markdown",
   "metadata": {
    "colab_type": "text",
    "id": "HzVnsDN--gRr"
   },
   "source": [
    "Now let's create a large matrix and time how long it takes to square it on the CPU:"
   ]
  },
  {
   "cell_type": "code",
   "execution_count": 393,
   "metadata": {
    "colab": {
     "base_uri": "https://localhost:8080/",
     "height": 34
    },
    "colab_type": "code",
    "id": "-rbfON6gWYwe",
    "outputId": "8fd49f1d-187d-48f8-b642-dbb9fbc69371"
   },
   "outputs": [
    {
     "name": "stdout",
     "output_type": "stream",
     "text": [
      "  436.690 ms (2 allocations: 32.00 MiB)\n"
     ]
    }
   ],
   "source": [
    "using BenchmarkTools\n",
    "\n",
    "M = rand(2^11, 2^11)\n",
    "\n",
    "function benchmark_matmul_cpu(M)\n",
    "    M * M\n",
    "    return\n",
    "end\n",
    "\n",
    "benchmark_matmul_cpu(M) # warm up\n",
    "@btime benchmark_matmul_cpu($M)"
   ]
  },
  {
   "cell_type": "markdown",
   "metadata": {
    "colab_type": "text",
    "id": "LRO3dOh1lnVg"
   },
   "source": [
    "Notes:\n",
    "* For benchmarking, we wrapped the operation in a function which returns `nothing`.\n",
    "* Why do we have a \"warm up\" line? Well, since Julia compiles code on the fly the first time it is executed, it's good practice to execute the operation we want to benchmark at least once before starting the benchmark, or else the benchmark will include the compilation time.\n",
    "* We used `$M` instead of `M` on the last line. This is a feature of the `@btime` macro: it evaluates `M` before benchmarking takes place, to avoid the extra delay that is incurred when [benchmarking with global variables](https://docs.julialang.org/en/latest/manual/performance-tips/#Avoid-global-variables-1)."
   ]
  },
  {
   "cell_type": "markdown",
   "metadata": {
    "colab_type": "text",
    "id": "x-nbiuYDtGlb"
   },
   "source": [
    "Now let's benchmark this same operation on the GPU: "
   ]
  },
  {
   "cell_type": "code",
   "execution_count": 394,
   "metadata": {
    "colab": {
     "base_uri": "https://localhost:8080/",
     "height": 187
    },
    "colab_type": "code",
    "id": "3hIWY1O_WE6a",
    "outputId": "0f953737-6706-4338-b508-38bff61587c0"
   },
   "outputs": [
    {
     "name": "stdout",
     "output_type": "stream",
     "text": [
      "\u001b[32m\u001b[1mDownloading\u001b[22m\u001b[39m artifact: CUDA10.1\n",
      "\u001b[?25l"
     ]
    },
    {
     "name": "stderr",
     "output_type": "stream",
     "text": [
      "######################################################################### 100.0%\n"
     ]
    },
    {
     "name": "stdout",
     "output_type": "stream",
     "text": [
      "\u001b[1A\u001b[2K\u001b[?25h\u001b[32m\u001b[1mDownloading\u001b[22m\u001b[39m artifact: CUDNN+CUDA10.1\n",
      "\u001b[?25l"
     ]
    },
    {
     "name": "stderr",
     "output_type": "stream",
     "text": [
      "######################################################################### 100.0%\n"
     ]
    },
    {
     "name": "stdout",
     "output_type": "stream",
     "text": [
      "\u001b[1A\u001b[2K\u001b[?25h\u001b[32m\u001b[1mDownloading\u001b[22m\u001b[39m artifact: CUTENSOR+CUDA10.1\n",
      "\u001b[?25l"
     ]
    },
    {
     "name": "stderr",
     "output_type": "stream",
     "text": [
      "######################################################################### 100.0%\n"
     ]
    },
    {
     "name": "stdout",
     "output_type": "stream",
     "text": [
      "\u001b[1A\u001b[2K\u001b[?25h"
     ]
    },
    {
     "name": "stderr",
     "output_type": "stream",
     "text": [
      "┌ Warning: `haskey(::TargetIterator, name::String)` is deprecated, use `Target(; name = name) !== nothing` instead.\n",
      "│   caller = llvm_compat(::VersionNumber) at compatibility.jl:181\n",
      "└ @ CUDA /root/.julia/packages/CUDA/42B9G/deps/compatibility.jl:181\n"
     ]
    },
    {
     "name": "stdout",
     "output_type": "stream",
     "text": [
      "  2.360 ms (9 allocations: 368 bytes)\n"
     ]
    }
   ],
   "source": [
    "using CUDA\n",
    "\n",
    "# Copy the data to the GPU. Creates a CuArray:\n",
    "M_on_gpu = cu(M)\n",
    "\n",
    "# Alternatively, create a new random matrix directly on the GPU:\n",
    "#M_on_gpu = CUDA.CURAND.rand(2^11, 2^11)\n",
    "\n",
    "function benchmark_matmul_gpu(M)\n",
    "    CUDA.@sync M * M\n",
    "    return\n",
    "end\n",
    "\n",
    "benchmark_matmul_gpu(M_on_gpu) # warm up\n",
    "@btime benchmark_matmul_gpu($M_on_gpu)"
   ]
  },
  {
   "cell_type": "markdown",
   "metadata": {
    "colab_type": "text",
    "id": "jFEBz1hkZ6Ox"
   },
   "source": [
    "That's _much_ faster (185x faster in my test on Colab with an NVidia Tesla P100 GPU)."
   ]
  },
  {
   "cell_type": "markdown",
   "metadata": {
    "colab_type": "text",
    "id": "EbjxRKWc1-nR"
   },
   "source": [
    "Importantly:\n",
    "* Before the GPU can work on some data, it needs to be copied to the GPU (or generated there directly).\n",
    "* the `CUDA.@sync` macro waits for the GPU operation to complete. Without it, the operation would happen in parallel on the GPU, while execution would continue on the CPU. So we would just be timing how long it takes to _start_ the operation, not how long it takes to complete.\n",
    "* In general, you don't need `CUDA.@sync`, since many operations (including `cu()`) call it implicitly, and it's usually a good idea to let the CPU and GPU work in parallel. Typically, the GPU will be working on the current batch of data while the CPU works on preparing the next batch."
   ]
  },
  {
   "cell_type": "markdown",
   "metadata": {
    "colab_type": "text",
    "id": "lja576nUWXLU"
   },
   "source": [
    "Of course, the speed up will vary depending on the matrix size and the GPU type. Moreover, copying the data from the CPU to the GPU is often the slowest part of the operation, but we only benchmarked the matrix multiplication itself. Let's see what we get if we include the data transfer in the benchmark:"
   ]
  },
  {
   "cell_type": "markdown",
   "metadata": {
    "colab_type": "text",
    "id": "LMegVhMzBtPz"
   },
   "source": [
    "That's still much faster than on the CPU."
   ]
  },
  {
   "cell_type": "markdown",
   "metadata": {
    "colab_type": "text",
    "id": "WdvtwJAu3aOU"
   },
   "source": [
    "Let's check how much RAM we have left on the GPU:"
   ]
  },
  {
   "cell_type": "code",
   "execution_count": 395,
   "metadata": {
    "colab": {
     "base_uri": "https://localhost:8080/",
     "height": 68
    },
    "colab_type": "code",
    "id": "599aiP0s3c4y",
    "outputId": "e3297190-a7c6-49d4-d460-8f14a5133185"
   },
   "outputs": [
    {
     "name": "stdout",
     "output_type": "stream",
     "text": [
      "Effective GPU memory usage: 99.93% (15.888 GiB/15.899 GiB)\n",
      "CUDA allocator usage: 15.594 GiB\n",
      "BinnedPool usage: 15.594 GiB (16.000 MiB allocated, 15.578 GiB cached)\n"
     ]
    }
   ],
   "source": [
    "CUDA.memory_status()"
   ]
  },
  {
   "cell_type": "markdown",
   "metadata": {
    "colab_type": "text",
    "id": "86XHVDDrDJjp"
   },
   "source": [
    "Julia's Garbage Collector will free CUDA arrays like any other object, when there's no more reference to it. However, `CUDA.jl` uses a memory pool to make allocations faster on the GPU, so don't be surprised if the allocated memory on the GPU does not go down immediately. Moreover, IJulia keeps a reference to the output of each cell, so if you let any cell output a `CuArray`, it will only be released when you execute `Out[<cell number>]=0`. If you want to force the Garbage Collector to run, you an run `GC.gc()`. To reclaim memory from the memory pool, use `CUDA.reclaim()`:"
   ]
  },
  {
   "cell_type": "code",
   "execution_count": 396,
   "metadata": {
    "colab": {
     "base_uri": "https://localhost:8080/",
     "height": 34
    },
    "colab_type": "code",
    "id": "VPoO6-h_tVBE",
    "outputId": "ca8e192e-2d45-4dbd-c60f-cdfbdc31018a"
   },
   "outputs": [
    {
     "data": {
      "text/plain": [
       "16726884352"
      ]
     },
     "execution_count": 396,
     "metadata": {
      "tags": []
     },
     "output_type": "execute_result"
    }
   ],
   "source": [
    "GC.gc()\n",
    "CUDA.reclaim()"
   ]
  },
  {
   "cell_type": "markdown",
   "metadata": {
    "colab_type": "text",
    "id": "ndcNywPSE0D9"
   },
   "source": [
    "Many other operations are implemented for `CuArray` (`+`,  `-`, etc.) and dotted operations (`.+`, `exp.()`, etc). Importantly, loop fusion also works on the GPU. For example, if we want to compute `M .* M .+ M`, without loop fusion the GPU would first compute `M .* M` and create a temporary array, then it would add `M` to that array, like this:"
   ]
  },
  {
   "cell_type": "code",
   "execution_count": 397,
   "metadata": {
    "colab": {
     "base_uri": "https://localhost:8080/",
     "height": 34
    },
    "colab_type": "code",
    "id": "psC2K-M_F0w9",
    "outputId": "2831edea-a646-43d8-d272-35fa13b92093"
   },
   "outputs": [
    {
     "name": "stdout",
     "output_type": "stream",
     "text": [
      "  676.534 μs (140 allocations: 4.30 KiB)\n"
     ]
    }
   ],
   "source": [
    "function benchmark_without_fusion(M)\n",
    "    P = M .* M\n",
    "    CUDA.@sync P .+ M\n",
    "    return\n",
    "end\n",
    "\n",
    "benchmark_without_fusion(M_on_gpu) # warm up\n",
    "@btime benchmark_without_fusion($M_on_gpu)"
   ]
  },
  {
   "cell_type": "markdown",
   "metadata": {
    "colab_type": "text",
    "id": "DTbDFRdJIO9M"
   },
   "source": [
    "Instead, loop fusion ensures that the array is only traversed once, without the need for a temporary array:"
   ]
  },
  {
   "cell_type": "code",
   "execution_count": 398,
   "metadata": {
    "colab": {
     "base_uri": "https://localhost:8080/",
     "height": 34
    },
    "colab_type": "code",
    "id": "zHQI4nkHGkLx",
    "outputId": "1ea3c80d-f87b-44f7-b19a-b00b32c8c201"
   },
   "outputs": [
    {
     "name": "stdout",
     "output_type": "stream",
     "text": [
      "  387.141 μs (87 allocations: 3.36 KiB)\n"
     ]
    }
   ],
   "source": [
    "function benchmark_with_fusion(M)\n",
    "    CUDA.@sync M .* M .+ M\n",
    "    return\n",
    "end\n",
    "\n",
    "benchmark_with_fusion(M_on_gpu) # warm up\n",
    "@btime benchmark_with_fusion($M_on_gpu)"
   ]
  },
  {
   "cell_type": "markdown",
   "metadata": {
    "colab_type": "text",
    "id": "ln5b2NykQCsD"
   },
   "source": [
    "That's _much_ faster (75% faster in my test on Colab). 😃"
   ]
  },
  {
   "cell_type": "markdown",
   "metadata": {
    "colab_type": "text",
    "id": "9HAHfceIa3U5"
   },
   "source": [
    "Lastly, you can actually **write your own GPU kernels in Julia**! In other words, rather than using GPU operations implemented in the `CUDA.jl` package (or others), you can write Julia code that will be compiled for the GPU, and executed there. This can occasionally be useful to speed up some algorithms where the standard kernels don't suffice. For example, here's a GPU kernel which implements `u .+= v`, where `u` and `v` are two (large) vectors:"
   ]
  },
  {
   "cell_type": "code",
   "execution_count": 399,
   "metadata": {
    "colab": {
     "base_uri": "https://localhost:8080/",
     "height": 34
    },
    "colab_type": "code",
    "id": "lnbRTzgWX0gx",
    "outputId": "40701458-9b62-4947-8f59-f7a86e1270c1"
   },
   "outputs": [
    {
     "data": {
      "text/plain": [
       "gpu_add! (generic function with 1 method)"
      ]
     },
     "execution_count": 399,
     "metadata": {
      "tags": []
     },
     "output_type": "execute_result"
    }
   ],
   "source": [
    "function worker_gpu_add!(u, v)\n",
    "    index = (blockIdx().x - 1) * blockDim().x + threadIdx().x\n",
    "    index ≤ length(u) && (@inbounds u[index] += v[index])\n",
    "    return\n",
    "end\n",
    "\n",
    "function gpu_add!(u, v)\n",
    "    numblocks = ceil(Int, length(u) / 256)\n",
    "    @cuda threads=256 blocks=numblocks worker_gpu_add!(u, v)\n",
    "    return u\n",
    "end"
   ]
  },
  {
   "cell_type": "markdown",
   "metadata": {
    "colab_type": "text",
    "id": "WEnX1i4ooQiN"
   },
   "source": [
    "This code example is adapted from the [`CUDA.jl` package's documentation](https://juliagpu.gitlab.io/CUDA.jl/tutorials/introduction/), which I highly encourage you to check out if you're interested in writing your own kernels. Here are the key parts to understand this example, starting from the end:\n",
    "* The `gpu_add!()` function first calculates `numblocks`, the number of blocks of threads to start, then it uses the `@cuda` macro to spawn `numblocks` blocks of GPU threads, each with 256 threads, and each thread runs `worker_gpu_add!(u, v)`.\n",
    "* The `worker_gpu_add!()` function computes `u[index] += v[index]` for a single value of `index`: in other words, each thread will just update a single value in the vector! Let's see how the index is computed:\n",
    "  * The `@cuda` macro spawned many blocks of 256 threads each. These blocks are organized in a grid, which is one-dimensional by default, but it can be up to three-dimensional. Therefore each thread and each block have an `(x, y, z)` coordinate in this grid. See this diagram from the [Nvidia blog post](https://developer.nvidia.com/blog/even-easier-introduction-cuda/):<br />\n",
    "<img src=\"https://juliagpu.gitlab.io/CUDA.jl/tutorials/intro1.png\" width=\"600\"/>.\n",
    "  * `threadIdx().x` returns the current GPU thread's `x` coordinate within its block (one difference with the diagram is that Julia is 1-indexed).\n",
    "  * `blockIdx().x` returns the current block's `x` coordinate in the grid.\n",
    "  * `blockDim().x` returns the block size along the `x` axis (in this example, it's 256).\n",
    "  * `gridDim().x` returns the number of blocks in the grid, along the `x` axis (in this example it's `numblocks`).\n",
    "  * So the `index` that each thread must update in the array is `(blockIdx().x - 1) * blockDim().x + threadIdx().x`.\n",
    "* As explained earlier, the `@inbounds` macro is an optimization that tells Julia that the index is guaranteed to be inbounds, so there's no need for it to check.\n",
    "\n",
    "Now writing your own GPU kernel won't seem like something only top experts with advanced C++ skills can do: you can do it too!"
   ]
  },
  {
   "cell_type": "markdown",
   "metadata": {
    "colab_type": "text",
    "id": "gf6-5tJXRCm0"
   },
   "source": [
    "Let's check that the kernel works as expected:"
   ]
  },
  {
   "cell_type": "code",
   "execution_count": 400,
   "metadata": {
    "colab": {},
    "colab_type": "code",
    "id": "l7mGsSWYL2iW"
   },
   "outputs": [],
   "source": [
    "u = rand(2^20)\n",
    "v = rand(2^20)\n",
    "\n",
    "u_on_gpu = cu(u)\n",
    "v_on_gpu = cu(v)\n",
    "\n",
    "u .+= v\n",
    "gpu_add!(u_on_gpu, v_on_gpu)\n",
    "\n",
    "@assert Array(u_on_gpu) ≈ u"
   ]
  },
  {
   "cell_type": "markdown",
   "metadata": {
    "colab_type": "text",
    "id": "GCZyhpbwNeLQ"
   },
   "source": [
    "Yes, it works well!\n",
    "\n",
    "Note: the `≈` operator checks whether the operands are approximately equal within the float precision limit."
   ]
  },
  {
   "cell_type": "markdown",
   "metadata": {
    "colab_type": "text",
    "id": "Koqs9GrqRHeW"
   },
   "source": [
    "Let's benchmark our custom kernel:"
   ]
  },
  {
   "cell_type": "code",
   "execution_count": 401,
   "metadata": {
    "colab": {
     "base_uri": "https://localhost:8080/",
     "height": 34
    },
    "colab_type": "code",
    "id": "g2_7SawNR4Jb",
    "outputId": "c33eb08e-4eb3-493a-f0bb-e2b4bf4e8717"
   },
   "outputs": [
    {
     "name": "stdout",
     "output_type": "stream",
     "text": [
      "  98.689 μs (52 allocations: 1.31 KiB)\n"
     ]
    }
   ],
   "source": [
    "function benchmark_custom_assign_add!(u, v)\n",
    "    CUDA.@sync gpu_add!(u, v)\n",
    "    return\n",
    "end\n",
    "\n",
    "benchmark_custom_assign_add!(u_on_gpu, v_on_gpu)\n",
    "@btime benchmark_custom_assign_add!($u_on_gpu, $v_on_gpu)"
   ]
  },
  {
   "cell_type": "markdown",
   "metadata": {
    "colab_type": "text",
    "id": "hl0_1Km9SyD7"
   },
   "source": [
    "Let's see how this compares to `CUDA.jl`'s implementation:"
   ]
  },
  {
   "cell_type": "code",
   "execution_count": 402,
   "metadata": {
    "colab": {
     "base_uri": "https://localhost:8080/",
     "height": 34
    },
    "colab_type": "code",
    "id": "vogLKdtEO9l6",
    "outputId": "fc8d07e3-1499-4a11-c2a6-b65cf08f22b9"
   },
   "outputs": [
    {
     "name": "stdout",
     "output_type": "stream",
     "text": [
      "  137.072 μs (70 allocations: 1.89 KiB)\n"
     ]
    }
   ],
   "source": [
    "function benchmark_assign_add!(u, v)\n",
    "    CUDA.@sync u .+= v\n",
    "    return\n",
    "end\n",
    "\n",
    "benchmark_assign_add!(u_on_gpu, v_on_gpu)\n",
    "@btime benchmark_assign_add!($u_on_gpu, $v_on_gpu)"
   ]
  },
  {
   "cell_type": "markdown",
   "metadata": {
    "colab_type": "text",
    "id": "IKRNLPIRcbCd"
   },
   "source": [
    "How about that? Our custom kernel is faster than `CUDA.jl`'s kernel! But to be fair, our kernel would not work with huge vectors, since there's a limit to the number of blocks & threads you can spawn (see [Table 15](https://docs.nvidia.com/cuda/cuda-c-programming-guide/index.html#features-and-technical-specifications) in CUDA's documentation). To support such huge vectors, we need each worker to run a loop like this:"
   ]
  },
  {
   "cell_type": "code",
   "execution_count": 403,
   "metadata": {
    "colab": {
     "base_uri": "https://localhost:8080/",
     "height": 34
    },
    "colab_type": "code",
    "id": "Zi8-UvGocWOK",
    "outputId": "367b633c-7a83-4f4a-b379-c35c095ca698"
   },
   "outputs": [
    {
     "data": {
      "text/plain": [
       "worker_gpu_add! (generic function with 1 method)"
      ]
     },
     "execution_count": 403,
     "metadata": {
      "tags": []
     },
     "output_type": "execute_result"
    }
   ],
   "source": [
    "function worker_gpu_add!(u, v)\n",
    "    index = (blockIdx().x - 1) * blockDim().x + threadIdx().x\n",
    "    stride = blockDim().x * gridDim().x\n",
    "    for i = index:stride:length(u)\n",
    "        @inbounds u[i] += v[i]\n",
    "    end\n",
    "    return\n",
    "end"
   ]
  },
  {
   "cell_type": "markdown",
   "metadata": {
    "colab_type": "text",
    "id": "YtQNhlw1c3zo"
   },
   "source": [
    "This way, if `@cuda` is executed with a smaller number of blocks than needed to have one thread per array item, the workers will loop appropriately.\n",
    "\n",
    "This should get you started! For more info, check out [`CUDA.jl`'s documentation](https://juliagpu.gitlab.io/CUDA.jl/)."
   ]
  },
  {
   "cell_type": "markdown",
   "metadata": {
    "colab_type": "text",
    "id": "FA9DFoEuiGib"
   },
   "source": [
    "# Command Line Arguments"
   ]
  },
  {
   "cell_type": "markdown",
   "metadata": {
    "colab_type": "text",
    "id": "I1nlKvCZhVo7"
   },
   "source": [
    "Command line arguments are available via `ARGS`:\n",
    "\n"
   ]
  },
  {
   "cell_type": "code",
   "execution_count": 404,
   "metadata": {
    "colab": {
     "base_uri": "https://localhost:8080/",
     "height": 51
    },
    "colab_type": "code",
    "id": "Ysg_6WElhY7-",
    "outputId": "3a6206a7-c577-4a59-e118-650ea75bcdcd"
   },
   "outputs": [
    {
     "data": {
      "text/plain": [
       "1-element Array{String,1}:\n",
       " \"/root/.local/share/jupyter/runtime/kernel-4b7aa9c6-4581-4d7b-acea-4e4dfaf036c8.json\""
      ]
     },
     "execution_count": 404,
     "metadata": {
      "tags": []
     },
     "output_type": "execute_result"
    }
   ],
   "source": [
    "ARGS"
   ]
  },
  {
   "cell_type": "markdown",
   "metadata": {
    "colab_type": "text",
    "id": "jRe_1ovZhdqh"
   },
   "source": [
    "Unlike Python's `sys.argv`, the first element of this array is <u>not</u> the program name. If you need the program name, use `PROGRAM_FILE` instead:"
   ]
  },
  {
   "cell_type": "code",
   "execution_count": 405,
   "metadata": {
    "colab": {
     "base_uri": "https://localhost:8080/",
     "height": 34
    },
    "colab_type": "code",
    "id": "2z3obYZghrHL",
    "outputId": "5bf9f50f-f126-4f72-b9e9-8dfbbdb258d5"
   },
   "outputs": [
    {
     "data": {
      "text/plain": [
       "\"/root/.julia/packages/IJulia/DrVMH/src/kernel.jl\""
      ]
     },
     "execution_count": 405,
     "metadata": {
      "tags": []
     },
     "output_type": "execute_result"
    }
   ],
   "source": [
    "PROGRAM_FILE"
   ]
  },
  {
   "cell_type": "markdown",
   "metadata": {
    "colab_type": "text",
    "id": "UnKMaPm8r1XC"
   },
   "source": [
    "You can get the current module, directory, file or line number:"
   ]
  },
  {
   "cell_type": "code",
   "execution_count": 406,
   "metadata": {
    "colab": {
     "base_uri": "https://localhost:8080/",
     "height": 34
    },
    "colab_type": "code",
    "id": "ZIou0Kgbr5mu",
    "outputId": "2367725b-00d2-4f7e-dbd4-ed6657474b0e"
   },
   "outputs": [
    {
     "data": {
      "text/plain": [
       "(Main, \"/content\", \"In[406]\", 1)"
      ]
     },
     "execution_count": 406,
     "metadata": {
      "tags": []
     },
     "output_type": "execute_result"
    }
   ],
   "source": [
    "@__MODULE__, @__DIR__, @__FILE__, @__LINE__"
   ]
  },
  {
   "cell_type": "markdown",
   "metadata": {
    "colab_type": "text",
    "id": "ahpsLiV_hBLi"
   },
   "source": [
    "The equivalent of Python's `if __name__ == \"__main__\"` is:"
   ]
  },
  {
   "cell_type": "code",
   "execution_count": 407,
   "metadata": {
    "colab": {},
    "colab_type": "code",
    "id": "hPUUlZG6g_A5"
   },
   "outputs": [],
   "source": [
    "if abspath(PROGRAM_FILE) == @__FILE__\n",
    "    println(\"Starting of the program\")\n",
    "end"
   ]
  },
  {
   "cell_type": "markdown",
   "metadata": {
    "colab_type": "text",
    "id": "8g43x6YYiKLf"
   },
   "source": [
    "# Memory Management"
   ]
  },
  {
   "cell_type": "markdown",
   "metadata": {
    "colab_type": "text",
    "id": "o-YehjM8iMmn"
   },
   "source": [
    "Let's check how many megabytes of RAM are available:"
   ]
  },
  {
   "cell_type": "code",
   "execution_count": 408,
   "metadata": {
    "colab": {
     "base_uri": "https://localhost:8080/",
     "height": 34
    },
    "colab_type": "code",
    "id": "O80YQtSciPvV",
    "outputId": "d8466741-c6b3-4cb6-ba7f-381e9bae51be"
   },
   "outputs": [
    {
     "name": "stdout",
     "output_type": "stream",
     "text": [
      "Available RAM: 3120 MB\n"
     ]
    }
   ],
   "source": [
    "free() = println(\"Available RAM: \", Sys.free_memory() ÷ 10^6, \" MB\")\n",
    "\n",
    "free()"
   ]
  },
  {
   "cell_type": "markdown",
   "metadata": {
    "colab_type": "text",
    "id": "bxKvaTpfdO5j"
   },
   "source": [
    "If a variable holds a large object that you don't need anymore, you can either wait until the variable falls out of scope, or set it to `nothing`. Either way, the memory will only be freed when the Garbage Collector does its magic, which may not be immediate. In general, you don't have to worry about that, but if you want, you can always call the GC directly:"
   ]
  },
  {
   "cell_type": "code",
   "execution_count": 409,
   "metadata": {
    "colab": {
     "base_uri": "https://localhost:8080/",
     "height": 51
    },
    "colab_type": "code",
    "id": "j0M8Oka3fod6",
    "outputId": "83f7da65-406c-4a0e-fb79-5627e81f2b44"
   },
   "outputs": [
    {
     "name": "stdout",
     "output_type": "stream",
     "text": [
      "sum(M)=4.9997184380985916e7\n",
      "sum(M)=5.000422876376158e7\n"
     ]
    }
   ],
   "source": [
    "function use_ram()\n",
    "    M = rand(10000, 10000) # use 400+MB of RAM\n",
    "    println(\"sum(M)=$(sum(M))\")\n",
    "end # M will be freed by the GC eventually after this\n",
    "\n",
    "use_ram()\n",
    "\n",
    "M = rand(10000, 10000) # use 400+MB of RAM\n",
    "println(\"sum(M)=$(sum(M))\")\n",
    "M = nothing\n",
    "\n",
    "GC.gc() # rarely needed"
   ]
  },
  {
   "cell_type": "code",
   "execution_count": 410,
   "metadata": {
    "colab": {
     "base_uri": "https://localhost:8080/",
     "height": 34
    },
    "colab_type": "code",
    "id": "O8Fbip9OpRyD",
    "outputId": "1879a5e1-1209-4752-b86f-66a085ec64b8"
   },
   "outputs": [
    {
     "name": "stdout",
     "output_type": "stream",
     "text": [
      "Available RAM: 1528 MB\n"
     ]
    }
   ],
   "source": [
    "free()"
   ]
  },
  {
   "cell_type": "markdown",
   "metadata": {
    "colab_type": "text",
    "id": "EsYZBLwwpqEG"
   },
   "source": [
    "# Thanks!"
   ]
  },
  {
   "cell_type": "markdown",
   "metadata": {
    "colab_type": "text",
    "id": "0QOVcDKLptgh"
   },
   "source": [
    "I hope you enjoyed this introduction to Julia! I recommend you join the friendly and helpful Julia community on Slack or Discourse.\n",
    "\n",
    "Cheers!\n",
    "\n",
    "Aurélien Geron"
   ]
  },
  {
   "cell_type": "code",
   "execution_count": 411,
   "metadata": {
    "colab": {},
    "colab_type": "code",
    "id": "Z3IpBJjap9Sm"
   },
   "outputs": [],
   "source": []
  }
 ],
 "metadata": {
  "accelerator": "GPU",
  "colab": {
   "collapsed_sections": [],
   "name": "Julia_for_Pythonistas.ipynb",
   "provenance": [],
   "toc_visible": true
  },
  "kernelspec": {
   "display_name": "Julia 1.5.2",
   "language": "julia",
   "name": "julia-1.5"
  },
  "language_info": {
   "file_extension": ".jl",
   "mimetype": "application/julia",
   "name": "julia",
   "version": "1.5.2"
  }
 },
 "nbformat": 4,
 "nbformat_minor": 1
}
